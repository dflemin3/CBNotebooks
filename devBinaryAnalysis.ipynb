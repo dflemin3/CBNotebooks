{
 "cells": [
  {
   "cell_type": "markdown",
   "metadata": {
    "collapsed": false
   },
   "source": [
    "David Fleming \n",
    "\n",
    "University of Washington\n",
    "\n",
    "# Basic Circumbinary Snapshot Analysis"
   ]
  },
  {
   "cell_type": "code",
   "execution_count": 30,
   "metadata": {
    "collapsed": false,
    "scrolled": true
   },
   "outputs": [],
   "source": [
    "%matplotlib inline\n",
    "#Imports required to run\n",
    "\n",
    "import pynbody\n",
    "SimArray = pynbody.array.SimArray\n",
    "from matplotlib.pylab import *\n",
    "import matplotlib.pylab as plt\n",
    "import pynbody.plot.sph as sph\n",
    "import numpy as np\n",
    "from scipy import interpolate\n",
    "\n",
    "#Tell code where my diskpy distribution is\n",
    "import os\n",
    "\n",
    "#Import diskpy and my modules from ICgen submodule\n",
    "import diskpy\n",
    "from diskpy.ICgen import *\n",
    "from diskplot import *\n",
    "\n",
    "from __future__ import division\n",
    "\n",
    "#Typical plot parameters that make for pretty plots\n",
    "plt.rcParams['figure.figsize'] = (10,8)\n",
    "from astroML.plotting import setup_text_plots\n",
    "setup_text_plots(fontsize=20, usetex=True)\n",
    "\n",
    "rc('font', **{'family': 'serif', 'serif': ['Computer Modern']})\n",
    "mpl.rcParams['font.size'] = 20.0"
   ]
  },
  {
   "cell_type": "markdown",
   "metadata": {},
   "source": [
    "# Tell code where data is, load using pynbody"
   ]
  },
  {
   "cell_type": "code",
   "execution_count": 31,
   "metadata": {
    "collapsed": false
   },
   "outputs": [],
   "source": [
    "#Change directory to where the data is\n",
    "cwd = '/astro/users/dflemin3/Desktop'\n",
    "os.chdir(cwd)"
   ]
  },
  {
   "cell_type": "code",
   "execution_count": 32,
   "metadata": {
    "collapsed": false
   },
   "outputs": [],
   "source": [
    "#Load Snapshot \n",
    "s = pynbody.load('k38_planet.std')\n",
    "\n",
    "#Center on barycenter\n",
    "diskCom = binaryUtils.computeCOM(s.stars,s.gas,starFlag=True,gasFlag=True)\n",
    "s['pos'] -= diskCom"
   ]
  },
  {
   "cell_type": "markdown",
   "metadata": {},
   "source": [
    "# Look at general binary parameters"
   ]
  },
  {
   "cell_type": "code",
   "execution_count": 33,
   "metadata": {
    "collapsed": false,
    "scrolled": true
   },
   "outputs": [
    {
     "name": "stdout",
     "output_type": "stream",
     "text": [
      "[[  2.73758989e-02  -2.16263919e-06  -4.13120405e-07]]\n",
      "[[ -1.04364015e-01  -2.16263919e-06  -4.13120405e-07]]\n",
      "[[-0.        0.658243  0.      ]]\n",
      "[[ 0.        -2.5087254 -0.       ]]\n",
      "[ 0.949]\n",
      "[ 0.249]\n",
      "4.85e-09 kpc\n",
      "2.98e+01 km s**-1\n"
     ]
    }
   ],
   "source": [
    "#Make sure I have 2 stars in there with correct pos/vel:\n",
    "print s.stars[0]['pos']\n",
    "print s.stars[1]['pos']\n",
    "\n",
    "print s.stars[0]['vel']\n",
    "print s.stars[1]['vel']\n",
    "\n",
    "print s.stars[0]['mass']\n",
    "print s.stars[1]['mass']\n",
    "\n",
    "#Print current units\n",
    "print s.stars[0]['pos'].units\n",
    "print s.stars[0]['vel'].units"
   ]
  },
  {
   "cell_type": "markdown",
   "metadata": {},
   "source": [
    "# Check out disk mass, particle number"
   ]
  },
  {
   "cell_type": "code",
   "execution_count": 36,
   "metadata": {
    "collapsed": false
   },
   "outputs": [
    {
     "name": "stdout",
     "output_type": "stream",
     "text": [
      "0.00383060303477\n",
      "3.83060303477e-08 Msol\n",
      "[ 0.00034449]\n"
     ]
    }
   ],
   "source": [
    "print np.sum(s.gas['mass'])\n",
    "print s.gas['mass'][0], s.gas['mass'].units\n",
    "print s.dm['mass']\n",
    "\n",
    "# Other bench mark masses\n",
    "# 0.00191530151739 q_min = 3 = 0.5x M\n",
    "# 0.00766120606954 2x M\n",
    "# 0.00383060303477 normal"
   ]
  },
  {
   "cell_type": "code",
   "execution_count": 20,
   "metadata": {
    "collapsed": false
   },
   "outputs": [
    {
     "name": "stdout",
     "output_type": "stream",
     "text": [
      "2\n",
      "94429\n"
     ]
    }
   ],
   "source": [
    "print len(s.stars)\n",
    "print len(s.gas)"
   ]
  },
  {
   "cell_type": "markdown",
   "metadata": {},
   "source": [
    "# Binary orbital parameters, center of mass calculations"
   ]
  },
  {
   "cell_type": "code",
   "execution_count": 37,
   "metadata": {
    "collapsed": false
   },
   "outputs": [
    {
     "name": "stdout",
     "output_type": "stream",
     "text": [
      "eccentricity = [ 0.10324991]\n",
      "semimajor axis = [ 0.14690817]\n",
      "Inclination = [ 0.]\n",
      "mass = [ 0.949  0.249]\n",
      "gas particles = 100000\n"
     ]
    }
   ],
   "source": [
    "#Calculate system parameters\n",
    "x1 = s.stars[0]['pos']\n",
    "x2 = s.stars[1]['pos']\n",
    "v1 = s.stars[0]['vel']\n",
    "v2 = s.stars[1]['vel']\n",
    "m1 = s.stars[0]['mass']\n",
    "m2 = s.stars[1]['mass']\n",
    "\n",
    "ef = AddBinary.calcEcc(x1, x2, v1, v2, m1, m2)\n",
    "af = AddBinary.calcSemi(x1, x2, v1, v2, m1, m2)\n",
    "ifin = AddBinary.calcInc(x1, x2, v1, v2)\n",
    "gf = len(s.g)\n",
    "mf = s.stars['mass']\n",
    "\n",
    "print \"eccentricity =\",ef\n",
    "print \"semimajor axis =\",af\n",
    "print \"Inclination =\", ifin\n",
    "print \"mass =\",mf\n",
    "print \"gas particles =\",gf"
   ]
  },
  {
   "cell_type": "markdown",
   "metadata": {},
   "source": [
    "# Compute average disk quantities, radial profiles of disk orbital elements (specifically eccentricity vs radius)"
   ]
  },
  {
   "cell_type": "code",
   "execution_count": 38,
   "metadata": {
    "collapsed": false
   },
   "outputs": [
    {
     "name": "stderr",
     "output_type": "stream",
     "text": [
      "/astro/users/dflemin3/.local/lib/python2.7/site-packages/diskpy/diskpy/ICgen/AddBinary.py:720: RuntimeWarning: invalid value encountered in arccos\n",
      "  nu = SimArray(np.arccos(dotProduct(e, r) / (magE * magR)),'1')\n"
     ]
    }
   ],
   "source": [
    "r, rBinEdges = binaryUtils.calcDiskRadialBins(s,0.25,3.0,50)\n",
    "orbElems = binaryUtils.orbElemsVsRadius(s,rBinEdges,average=True)"
   ]
  },
  {
   "cell_type": "code",
   "execution_count": 39,
   "metadata": {
    "collapsed": false
   },
   "outputs": [
    {
     "name": "stdout",
     "output_type": "stream",
     "text": [
      "Average disk orbital elements:  [  5.76629016e-03   1.66280412e+00   1.79979171e+00   1.79745411e+02\n",
      "   1.80214585e+02              nan]\n"
     ]
    }
   ],
   "source": [
    "print \"Average disk orbital elements: \",binaryUtils.diskAverage(s,r_out=3.0,bins=50,avgFlag=True)"
   ]
  },
  {
   "cell_type": "code",
   "execution_count": 54,
   "metadata": {
    "collapsed": false
   },
   "outputs": [
    {
     "name": "stdout",
     "output_type": "stream",
     "text": [
      "(0.10324991296,[ 0.14690817],0.0,0.0,0.0,0.0), mass: ([ 0.949],[ 0.249])\n"
     ]
    }
   ],
   "source": [
    "x1, x2 = s.stars['pos']\n",
    "m1, m2 = s.stars[0]['mass'], s.stars[1]['mass']\n",
    "v1, v2 = s.stars['vel']\n",
    "m_disk = np.sum(s.gas['mass'])\n",
    "x = x1-x2\n",
    "v = v1-v2\n",
    "X = [x,v]\n",
    "test = binary.Binary(X,m1,m2,'cartesian')\n",
    "print test"
   ]
  },
  {
   "cell_type": "markdown",
   "metadata": {},
   "source": [
    "# Examine planet orbital elements"
   ]
  },
  {
   "cell_type": "code",
   "execution_count": 53,
   "metadata": {
    "collapsed": false
   },
   "outputs": [
    {
     "name": "stdout",
     "output_type": "stream",
     "text": [
      "(0.00040276065551,[ 1.50017351],0.0,360.0,0.0,3.0783246592e-06), mass: ([ 0.00034449],1.19800080335)\n"
     ]
    },
    {
     "name": "stderr",
     "output_type": "stream",
     "text": [
      "/astro/apps6/opt/anaconda2.4/lib/python2.7/site-packages/ipykernel/__main__.py:6: VisibleDeprecationWarning: boolean index did not match indexed array along dimension 0; dimension is 100000 but corresponding boolean dimension is 500\n"
     ]
    }
   ],
   "source": [
    "x1 = s.dm['pos']\n",
    "x2 = SimArray(np.zeros(len(x1)),x1.units)\n",
    "m1, m2 = s.dm['mass'], np.sum(s.stars['mass'])\n",
    "v1 = s.dm['vel']\n",
    "v2 = SimArray(np.zeros(len(v1)),v1.units)\n",
    "m_disk = np.sum(s.gas['mass'][mask])\n",
    "x = x1-x2\n",
    "v = v1-v2\n",
    "X = [x,v]\n",
    "planet = binary.Binary(X,m1,m2+m_disk,'cartesian')\n",
    "print planet"
   ]
  },
  {
   "cell_type": "markdown",
   "metadata": {},
   "source": [
    "# Examine disk orbital element radial profiles"
   ]
  },
  {
   "cell_type": "code",
   "execution_count": 41,
   "metadata": {
    "collapsed": false
   },
   "outputs": [
    {
     "data": {
      "text/plain": [
       "<matplotlib.legend.Legend at 0x7f6f5f8e7f50>"
      ]
     },
     "execution_count": 41,
     "metadata": {},
     "output_type": "execute_result"
    },
    {
     "data": {
      "image/png": "[encoded data removed]",
      "text/plain": [
       "<matplotlib.figure.Figure at 0x7f6f5f9ab350>"
      ]
     },
     "metadata": {},
     "output_type": "display_data"
    }
   ],
   "source": [
    "plt.plot(r,orbElems[0,:],linewidth=2)\n",
    "plt.xlabel('r [AU]')\n",
    "plt.ylabel('Eccentricity')\n",
    "plt.title(\"Kepler 38 Low Ecc Ecc vs Radius (Averaged)\")\n",
    "\n",
    "#Plot lines of interest\n",
    "loc = 2.08*0.1469\n",
    "ecc_f = binaryUtils.forcedEccentricity(test,r)*2\n",
    "plt.axvline(x=loc, ymin=-1, ymax = 1, linewidth=2, color='black',label=\"1:3 EOLR\")\n",
    "plt.plot(r,ecc_f,color='green',linewidth=2,label=\"$e_{forced}$ [Moriwaki 2004]\")\n",
    "\n",
    "plt.legend()\n",
    "#plt.savefig(\"k38EccVsRadius.pdf\")"
   ]
  },
  {
   "cell_type": "markdown",
   "metadata": {},
   "source": [
    "# Find inner disk edge\n",
    "Following the prescription of Artymowics+1994, define the gap radius for a circumbinary disk to be at the disk edge position where the surface density is half of the maximum value in the disk.  In that paper, the gap size was studied for various binary eccentricities and mass ratios.  For Kepler 38, the mass ratio is 0.263 ~ 0.3 and the eccentricity is ~0.1.  These values correspond to a gap size of $r = 2.35 \\pm 0.15$ times the binary semimajor axis.  For Kepler 38 whose a = 0.1469, one would expect to find after ~ 100 binary orbits a gap radius of ~0.34 au.  This gap formation occurs due to the tidal action of the binary system on the disk (and accretion where applicable).\n",
    "\n",
    "The initial conditions of Artymowics+1994:\n",
    "\n",
    "N_gas: ~ $10^4$\n",
    "Disk Properties: axisymmetric; initialized with Keplerian velocities; $\\Sigma \\sim 1/r$; introduced binary into initially smooth disk (similar to my initialization).  For a binary with mass parameter $\\mu = 0.3$ and eccentricity = 0.1, they found a gap at $r \\approx 2.3a$ which is outside the 3:1 orbital period commensurability (Arty+1994 pg. 662).  "
   ]
  },
  {
   "cell_type": "code",
   "execution_count": 42,
   "metadata": {
    "collapsed": false
   },
   "outputs": [
    {
     "name": "stdout",
     "output_type": "stream",
     "text": [
      "Inner gap edge radius = 0.240700170303\n"
     ]
    }
   ],
   "source": [
    "#Create profile.  Note: Choose nbins to be the same number of n points ICgen-Binary used to initial generate disk\n",
    "bins = 500\n",
    "\n",
    "p = pynbody.analysis.profile.Profile(s,max=' au',min='0.01 au',type='log',nbins=bins)\n",
    "pg = pynbody.analysis.profile.Profile(s.gas,nbins=bins,max='6 au')\n",
    "\n",
    "#Get arrays for surface density sigma, radius r\n",
    "sigma = pg['density']\n",
    "radius = pg['rbins']\n",
    "\n",
    "#Select subset of radial points within radius at which sigma = sigmaMax/2 (inner edge of disk)\n",
    "max_index = np.argmax(sigma)\n",
    "mask = (radius < radius[max_index])\n",
    "sigma = sigma[mask]\n",
    "radius = radius[mask]\n",
    "\n",
    "#Find location of surface density maximum and look at radius r < r_max to find radius where surface density = max/2.0\n",
    "halfMax = pg['density'].max()/2.0\n",
    "#print \"Half Max Surface Density = {0} {1}\".format(halfMax,pg['density'].units)\n",
    "    \n",
    "crit_r = binaryUtils.find_crit_radius(radius,sigma,halfMax,bins)\n",
    "    \n",
    "print \"Inner gap edge radius = {0}\".format(crit_r)"
   ]
  },
  {
   "cell_type": "markdown",
   "metadata": {},
   "source": [
    "# Plot disk radial profiles"
   ]
  },
  {
   "cell_type": "code",
   "execution_count": 43,
   "metadata": {
    "collapsed": false,
    "scrolled": true
   },
   "outputs": [
    {
     "data": {
      "text/plain": [
       "<matplotlib.legend.Legend at 0x7f6f5f588f50>"
      ]
     },
     "execution_count": 43,
     "metadata": {},
     "output_type": "execute_result"
    },
    {
     "data": {
      "image/png": "[encoded data removed]",
      "text/plain": [
       "<matplotlib.figure.Figure at 0x7f6f5f912cd0>"
      ]
     },
     "metadata": {},
     "output_type": "display_data"
    }
   ],
   "source": [
    "#Try plotting stuff\n",
    "#Plot the gas surface density as a function of radius for test disk\n",
    "\n",
    "#Now do the plotting with data derived from gas profile, pg\n",
    "#In this case, tangential velocity vs. radius\n",
    "plt.plot(pg['rbins'], pg['density'].in_units(\"g cm**-2\"),'k',linewidth=2)\n",
    "\n",
    "plt.xlabel(\"$R$ [AU]\")\n",
    "plt.ylabel(r'$\\Sigma$ [g cm$^{-2}$]')\n",
    "plt.yscale('log')\n",
    "plt.title('Disk Surface Density Profile',y=1.06)\n",
    "#plt.xscale('log') #confirm radius powerlaw relation\n",
    "plt.xlim([0,6])\n",
    "\n",
    "#Plot lines of interest\n",
    "#loc = 0.4644 #Radius of Kepler-38b\n",
    "loc = 2.08*test.a\n",
    "loc2 = 1.6*test.a\n",
    "#print float(rCrit)\n",
    "plt.axvline(x=loc, ymin=-1, ymax = 1, linewidth=2, color='red',label=\"3:1\")\n",
    "plt.axvline(x=loc2, ymin=-1, ymax = 1, linewidth=2, color='green',label=\"2:1\")\n",
    "\n",
    "plt.legend(loc='upper right')\n",
    "\n",
    "#Print units to confirm\n",
    "#print repr(pg['rbins'].in_units('au'))\n",
    "#print repr(pg['density'].in_units('g cm**-2'))\n",
    "\n",
    "#plt.savefig(\"sigmaVsR.png\")"
   ]
  },
  {
   "cell_type": "code",
   "execution_count": 44,
   "metadata": {
    "collapsed": false
   },
   "outputs": [
    {
     "data": {
      "image/png": "[encoded data removed]",
      "text/plain": [
       "<matplotlib.figure.Figure at 0x7f6f5f7dedd0>"
      ]
     },
     "metadata": {},
     "output_type": "display_data"
    }
   ],
   "source": [
    "#Try plotting temperature profile of gas in plane of disk\n",
    "#T vs. radius\n",
    "plt.plot(pg['rbins'], pg['temp'],'k', label = '$Gas$')\n",
    "plt.legend()\n",
    "#plt.semilogy()\n",
    "#plt.semilogx()\n",
    "plt.xlabel(\"$R$ [AU]\")\n",
    "plt.ylabel(\"$T$ [K]\")\n",
    "plt.show()"
   ]
  },
  {
   "cell_type": "code",
   "execution_count": 45,
   "metadata": {
    "collapsed": false
   },
   "outputs": [
    {
     "data": {
      "image/png": "[encoded data removed]",
      "text/plain": [
       "<matplotlib.figure.Figure at 0x7f6f5f65e110>"
      ]
     },
     "metadata": {},
     "output_type": "display_data"
    }
   ],
   "source": [
    "H, H_r = binaryUtils.disk_scale_height(s,bins=len(pg['rbins']),gamma=1)\n",
    "h = H/H_r\n",
    "\n",
    "#Try plotting temperature profile of gas in plane of disk\n",
    "#T vs. radius\n",
    "plt.plot(pg['rbins'],h,'k', label = '$Gas$')\n",
    "plt.xlabel(\"$R$ [AU]\")\n",
    "plt.ylabel(\"H/R\")\n",
    "plt.show()"
   ]
  },
  {
   "cell_type": "markdown",
   "metadata": {},
   "source": [
    "# Plot 2D Heatmaps (Histograms) of Density, temperature, and pressure"
   ]
  },
  {
   "cell_type": "code",
   "execution_count": 16,
   "metadata": {
    "collapsed": false
   },
   "outputs": [
    {
     "name": "stderr",
     "output_type": "stream",
     "text": [
      "/astro/users/dflemin3/.local/lib/python2.7/site-packages/pynbody/plot/generic.py:119: RuntimeWarning: divide by zero encountered in log10\n",
      "  x_range = [np.log10(np.min(xo)), np.log10(np.max(xo))]\n",
      "/astro/users/dflemin3/.local/lib/python2.7/site-packages/pynbody/plot/generic.py:125: RuntimeWarning: divide by zero encountered in log10\n",
      "  x = np.log10(xo)\n",
      "/astro/apps6/opt/anaconda2.4/lib/python2.7/site-packages/numpy/core/function_base.py:100: RuntimeWarning: invalid value encountered in double_scalars\n",
      "  delta = stop - start\n",
      "/astro/apps6/opt/anaconda2.4/lib/python2.7/site-packages/numpy/lib/function_base.py:414: RuntimeWarning: invalid value encountered in less_equal\n",
      "  if np.any(np.asarray(dedges[i]) <= 0):\n"
     ]
    },
    {
     "ename": "ValueError",
     "evalue": "zero-size array to reduction operation minimum which has no identity",
     "output_type": "error",
     "traceback": [
      "\u001b[1;31m---------------------------------------------------------------------------\u001b[0m",
      "\u001b[1;31mValueError\u001b[0m                                Traceback (most recent call last)",
      "\u001b[1;32m<ipython-input-16-307200a69dbe>\u001b[0m in \u001b[0;36m<module>\u001b[1;34m()\u001b[0m\n\u001b[1;32m----> 1\u001b[1;33m \u001b[0mpynbody\u001b[0m\u001b[1;33m.\u001b[0m\u001b[0mplot\u001b[0m\u001b[1;33m.\u001b[0m\u001b[0mgas\u001b[0m\u001b[1;33m.\u001b[0m\u001b[0mrho_T\u001b[0m\u001b[1;33m(\u001b[0m\u001b[0ms\u001b[0m\u001b[1;33m,\u001b[0m \u001b[0mrho_units\u001b[0m\u001b[1;33m=\u001b[0m\u001b[1;34m'g cm**-3'\u001b[0m\u001b[1;33m)\u001b[0m\u001b[1;33m\u001b[0m\u001b[0m\n\u001b[0m\u001b[0;32m      2\u001b[0m \u001b[0mplt\u001b[0m\u001b[1;33m.\u001b[0m\u001b[0mtitle\u001b[0m\u001b[1;33m(\u001b[0m\u001b[1;34m'2D Histogram of Density vs Temperature'\u001b[0m\u001b[1;33m,\u001b[0m\u001b[0my\u001b[0m\u001b[1;33m=\u001b[0m\u001b[1;36m1.02\u001b[0m\u001b[1;33m)\u001b[0m\u001b[1;33m\u001b[0m\u001b[0m\n",
      "\u001b[1;32m/astro/users/dflemin3/.local/lib/python2.7/site-packages/pynbody/plot/gas.pyc\u001b[0m in \u001b[0;36mrho_T\u001b[1;34m(sim, rho_units, rho_range, t_range, **kwargs)\u001b[0m\n\u001b[0;32m     64\u001b[0m     return hist2d(sim.gas['rho'].in_units(rho_units),sim.gas['temp'],\n\u001b[0;32m     65\u001b[0m                   \u001b[0mxlogrange\u001b[0m\u001b[1;33m=\u001b[0m\u001b[0mTrue\u001b[0m\u001b[1;33m,\u001b[0m\u001b[0mylogrange\u001b[0m\u001b[1;33m=\u001b[0m\u001b[0mTrue\u001b[0m\u001b[1;33m,\u001b[0m\u001b[0mxlabel\u001b[0m\u001b[1;33m=\u001b[0m\u001b[0mxlabel\u001b[0m\u001b[1;33m,\u001b[0m\u001b[1;33m\u001b[0m\u001b[0m\n\u001b[1;32m---> 66\u001b[1;33m                   ylabel=ylabel, **kwargs)\n\u001b[0m\u001b[0;32m     67\u001b[0m \u001b[1;33m\u001b[0m\u001b[0m\n\u001b[0;32m     68\u001b[0m \u001b[1;33m\u001b[0m\u001b[0m\n",
      "\u001b[1;32m/astro/users/dflemin3/.local/lib/python2.7/site-packages/pynbody/plot/generic.pyc\u001b[0m in \u001b[0;36mhist2d\u001b[1;34m(xo, yo, weights, mass, gridsize, nbins, make_plot, **kwargs)\u001b[0m\n\u001b[0;32m    183\u001b[0m \u001b[1;33m\u001b[0m\u001b[0m\n\u001b[0;32m    184\u001b[0m     \u001b[1;32mif\u001b[0m \u001b[0mmake_plot\u001b[0m\u001b[1;33m:\u001b[0m\u001b[1;33m\u001b[0m\u001b[0m\n\u001b[1;32m--> 185\u001b[1;33m         \u001b[0mmake_contour_plot\u001b[0m\u001b[1;33m(\u001b[0m\u001b[0mhist\u001b[0m\u001b[1;33m,\u001b[0m \u001b[0mxs\u001b[0m\u001b[1;33m,\u001b[0m \u001b[0mys\u001b[0m\u001b[1;33m,\u001b[0m \u001b[1;33m**\u001b[0m\u001b[0mkwargs\u001b[0m\u001b[1;33m)\u001b[0m\u001b[1;33m\u001b[0m\u001b[0m\n\u001b[0m\u001b[0;32m    186\u001b[0m         \u001b[1;32mif\u001b[0m \u001b[0mdraw_contours\u001b[0m\u001b[1;33m:\u001b[0m\u001b[1;33m\u001b[0m\u001b[0m\n\u001b[0;32m    187\u001b[0m             make_contour_plot(SimArray(density_mass, mass.units), xs, ys, filled=False,\n",
      "\u001b[1;32m/astro/users/dflemin3/.local/lib/python2.7/site-packages/pynbody/plot/generic.pyc\u001b[0m in \u001b[0;36mmake_contour_plot\u001b[1;34m(arr, xs, ys, x_range, y_range, nlevels, logscale, xlogrange, ylogrange, subplot, colorbar, ret_im, cmap, clear, legend, scalemin, levels, scalemax, filename, **kwargs)\u001b[0m\n\u001b[0;32m    444\u001b[0m \u001b[1;33m\u001b[0m\u001b[0m\n\u001b[0;32m    445\u001b[0m     \u001b[1;32mif\u001b[0m \u001b[0mscalemin\u001b[0m \u001b[1;32mis\u001b[0m \u001b[0mNone\u001b[0m\u001b[1;33m:\u001b[0m\u001b[1;33m\u001b[0m\u001b[0m\n\u001b[1;32m--> 446\u001b[1;33m         \u001b[0mscalemin\u001b[0m \u001b[1;33m=\u001b[0m \u001b[0mnp\u001b[0m\u001b[1;33m.\u001b[0m\u001b[0mmin\u001b[0m\u001b[1;33m(\u001b[0m\u001b[0marr\u001b[0m\u001b[1;33m[\u001b[0m\u001b[0marr\u001b[0m \u001b[1;33m>\u001b[0m \u001b[1;36m0\u001b[0m\u001b[1;33m]\u001b[0m\u001b[1;33m)\u001b[0m\u001b[1;33m\u001b[0m\u001b[0m\n\u001b[0m\u001b[0;32m    447\u001b[0m     \u001b[1;32mif\u001b[0m \u001b[0mscalemax\u001b[0m \u001b[1;32mis\u001b[0m \u001b[0mNone\u001b[0m\u001b[1;33m:\u001b[0m\u001b[1;33m\u001b[0m\u001b[0m\n\u001b[0;32m    448\u001b[0m         \u001b[0mscalemax\u001b[0m \u001b[1;33m=\u001b[0m \u001b[0mnp\u001b[0m\u001b[1;33m.\u001b[0m\u001b[0mmax\u001b[0m\u001b[1;33m(\u001b[0m\u001b[0marr\u001b[0m\u001b[1;33m[\u001b[0m\u001b[0marr\u001b[0m \u001b[1;33m>\u001b[0m \u001b[1;36m0\u001b[0m\u001b[1;33m]\u001b[0m\u001b[1;33m)\u001b[0m\u001b[1;33m\u001b[0m\u001b[0m\n",
      "\u001b[1;32m/astro/apps6/opt/anaconda2.4/lib/python2.7/site-packages/numpy/core/fromnumeric.pyc\u001b[0m in \u001b[0;36mamin\u001b[1;34m(a, axis, out, keepdims)\u001b[0m\n\u001b[0;32m   2345\u001b[0m                                   out=out, keepdims=keepdims)\n\u001b[0;32m   2346\u001b[0m         \u001b[1;31m# NOTE: Dropping the keepdims parameter\u001b[0m\u001b[1;33m\u001b[0m\u001b[1;33m\u001b[0m\u001b[0m\n\u001b[1;32m-> 2347\u001b[1;33m         \u001b[1;32mreturn\u001b[0m \u001b[0mamin\u001b[0m\u001b[1;33m(\u001b[0m\u001b[0maxis\u001b[0m\u001b[1;33m=\u001b[0m\u001b[0maxis\u001b[0m\u001b[1;33m,\u001b[0m \u001b[0mout\u001b[0m\u001b[1;33m=\u001b[0m\u001b[0mout\u001b[0m\u001b[1;33m)\u001b[0m\u001b[1;33m\u001b[0m\u001b[0m\n\u001b[0m\u001b[0;32m   2348\u001b[0m     \u001b[1;32melse\u001b[0m\u001b[1;33m:\u001b[0m\u001b[1;33m\u001b[0m\u001b[0m\n\u001b[0;32m   2349\u001b[0m         return _methods._amin(a, axis=axis,\n",
      "\u001b[1;32m/astro/users/dflemin3/.local/lib/python2.7/site-packages/pynbody/array.pyc\u001b[0m in \u001b[0;36mmin\u001b[1;34m(self, *args, **kwargs)\u001b[0m\n\u001b[0;32m    536\u001b[0m \u001b[1;33m\u001b[0m\u001b[0m\n\u001b[0;32m    537\u001b[0m     \u001b[1;32mdef\u001b[0m \u001b[0mmin\u001b[0m\u001b[1;33m(\u001b[0m\u001b[0mself\u001b[0m\u001b[1;33m,\u001b[0m \u001b[1;33m*\u001b[0m\u001b[0margs\u001b[0m\u001b[1;33m,\u001b[0m \u001b[1;33m**\u001b[0m\u001b[0mkwargs\u001b[0m\u001b[1;33m)\u001b[0m\u001b[1;33m:\u001b[0m\u001b[1;33m\u001b[0m\u001b[0m\n\u001b[1;32m--> 538\u001b[1;33m         \u001b[0mx\u001b[0m \u001b[1;33m=\u001b[0m \u001b[0mnp\u001b[0m\u001b[1;33m.\u001b[0m\u001b[0mndarray\u001b[0m\u001b[1;33m.\u001b[0m\u001b[0mmin\u001b[0m\u001b[1;33m(\u001b[0m\u001b[0mself\u001b[0m\u001b[1;33m,\u001b[0m \u001b[1;33m*\u001b[0m\u001b[0margs\u001b[0m\u001b[1;33m,\u001b[0m \u001b[1;33m**\u001b[0m\u001b[0mkwargs\u001b[0m\u001b[1;33m)\u001b[0m\u001b[1;33m\u001b[0m\u001b[0m\n\u001b[0m\u001b[0;32m    539\u001b[0m         \u001b[1;32mif\u001b[0m \u001b[0mhasattr\u001b[0m\u001b[1;33m(\u001b[0m\u001b[0mx\u001b[0m\u001b[1;33m,\u001b[0m \u001b[1;34m'units'\u001b[0m\u001b[1;33m)\u001b[0m \u001b[1;32mand\u001b[0m \u001b[0mself\u001b[0m\u001b[1;33m.\u001b[0m\u001b[0munits\u001b[0m \u001b[1;32mis\u001b[0m \u001b[1;32mnot\u001b[0m \u001b[0mNone\u001b[0m\u001b[1;33m:\u001b[0m\u001b[1;33m\u001b[0m\u001b[0m\n\u001b[0;32m    540\u001b[0m             \u001b[0mx\u001b[0m\u001b[1;33m.\u001b[0m\u001b[0munits\u001b[0m \u001b[1;33m=\u001b[0m \u001b[0mself\u001b[0m\u001b[1;33m.\u001b[0m\u001b[0munits\u001b[0m\u001b[1;33m\u001b[0m\u001b[0m\n",
      "\u001b[1;32m/astro/apps6/opt/anaconda2.4/lib/python2.7/site-packages/numpy/core/_methods.pyc\u001b[0m in \u001b[0;36m_amin\u001b[1;34m(a, axis, out, keepdims)\u001b[0m\n\u001b[0;32m     27\u001b[0m \u001b[1;33m\u001b[0m\u001b[0m\n\u001b[0;32m     28\u001b[0m \u001b[1;32mdef\u001b[0m \u001b[0m_amin\u001b[0m\u001b[1;33m(\u001b[0m\u001b[0ma\u001b[0m\u001b[1;33m,\u001b[0m \u001b[0maxis\u001b[0m\u001b[1;33m=\u001b[0m\u001b[0mNone\u001b[0m\u001b[1;33m,\u001b[0m \u001b[0mout\u001b[0m\u001b[1;33m=\u001b[0m\u001b[0mNone\u001b[0m\u001b[1;33m,\u001b[0m \u001b[0mkeepdims\u001b[0m\u001b[1;33m=\u001b[0m\u001b[0mFalse\u001b[0m\u001b[1;33m)\u001b[0m\u001b[1;33m:\u001b[0m\u001b[1;33m\u001b[0m\u001b[0m\n\u001b[1;32m---> 29\u001b[1;33m     \u001b[1;32mreturn\u001b[0m \u001b[0mumr_minimum\u001b[0m\u001b[1;33m(\u001b[0m\u001b[0ma\u001b[0m\u001b[1;33m,\u001b[0m \u001b[0maxis\u001b[0m\u001b[1;33m,\u001b[0m \u001b[0mNone\u001b[0m\u001b[1;33m,\u001b[0m \u001b[0mout\u001b[0m\u001b[1;33m,\u001b[0m \u001b[0mkeepdims\u001b[0m\u001b[1;33m)\u001b[0m\u001b[1;33m\u001b[0m\u001b[0m\n\u001b[0m\u001b[0;32m     30\u001b[0m \u001b[1;33m\u001b[0m\u001b[0m\n\u001b[0;32m     31\u001b[0m \u001b[1;32mdef\u001b[0m \u001b[0m_sum\u001b[0m\u001b[1;33m(\u001b[0m\u001b[0ma\u001b[0m\u001b[1;33m,\u001b[0m \u001b[0maxis\u001b[0m\u001b[1;33m=\u001b[0m\u001b[0mNone\u001b[0m\u001b[1;33m,\u001b[0m \u001b[0mdtype\u001b[0m\u001b[1;33m=\u001b[0m\u001b[0mNone\u001b[0m\u001b[1;33m,\u001b[0m \u001b[0mout\u001b[0m\u001b[1;33m=\u001b[0m\u001b[0mNone\u001b[0m\u001b[1;33m,\u001b[0m \u001b[0mkeepdims\u001b[0m\u001b[1;33m=\u001b[0m\u001b[0mFalse\u001b[0m\u001b[1;33m)\u001b[0m\u001b[1;33m:\u001b[0m\u001b[1;33m\u001b[0m\u001b[0m\n",
      "\u001b[1;31mValueError\u001b[0m: zero-size array to reduction operation minimum which has no identity"
     ]
    }
   ],
   "source": [
    "pynbody.plot.gas.rho_T(s, rho_units='g cm**-3')\n",
    "plt.title('2D Histogram of Density vs Temperature',y=1.02)"
   ]
  },
  {
   "cell_type": "code",
   "execution_count": null,
   "metadata": {
    "collapsed": false
   },
   "outputs": [],
   "source": [
    "pynbody.plot.generic.hist2d(s.gas['temp'],s.gas['p'].in_units('Pa'),xlogrange=True,ylogrange=True,\n",
    "                           x_range=(2,3.8),y_range=(-5,3));\n",
    "plt.title('2D Histogram of Temperature vs. Pressure',y=1.02)\n",
    "plt.xlim(2,3.8)\n",
    "plt.ylim(-5,3)"
   ]
  },
  {
   "cell_type": "markdown",
   "metadata": {},
   "source": [
    "# Plot tisk density, temperature, velocity maps.  Lets me see if the disk is forming spiral arms, any weird temperature stuff, is rotating counterclockwise as it should, etc"
   ]
  },
  {
   "cell_type": "code",
   "execution_count": null,
   "metadata": {
    "collapsed": false
   },
   "outputs": [],
   "source": [
    "#Create nice color plot of temp as function of radius\n",
    "\n",
    "\n",
    "#pynbody.analysis.angmom.faceon(s1.g)#create an image of gas density integrated\n",
    "#down the line of site (z axis) of width 50 Au\n",
    "sph.image(s.g,qty=\"rho\",units=\"g cm^-2\",width=10,cmap=\"RdYlBu\")\n",
    "\n",
    "#Plot circle representing theoretical location of gap...should occur ~ 100 orbits\n",
    "list_radians = [0]\n",
    " \n",
    "# from degrees to radians, the 0 is already included so\n",
    "# we don't make the universe collapse by dividing by zero.\n",
    "for i in range(0,360):\n",
    "    float_div = 180.0/(i+1)\n",
    "    list_radians.append(pi/float_div)\n",
    "     \n",
    "# list of coordinates for each point\n",
    "list_x2_axis = []\n",
    "list_y2_axis = []\n",
    "\n",
    "ai = 0.1469\n",
    "r = 2.3*ai #Inner gap edge predicted by Artimowicz+1994 for binary similar to Kepler 38\n",
    "#r = 0.25\n",
    "# calculate coordinates\n",
    "# and append to above list\n",
    "for a in list_radians:\n",
    "    list_x2_axis.append(r*cos(a))\n",
    "    list_y2_axis.append(r*sin(a))\n",
    "    \n",
    "#plot the coordinates\n",
    "#plt.plot(list_x2_axis,list_y2_axis,c='r')\n",
    "#plt.xlim([-0.5,0.5])\n",
    "#plt.ylim([-0.5,0.5])"
   ]
  },
  {
   "cell_type": "code",
   "execution_count": null,
   "metadata": {
    "collapsed": false
   },
   "outputs": [],
   "source": [
    "#Plot velocity vectors\n",
    "f, axs = plt.subplots(1,1,figsize=(8,8))\n",
    "\n",
    "#create a simple slice showing the gas temperature, with velocity vectors overlaid\n",
    "sph.velocity_image(s.g, vector_color=\"cyan\", qty=\"temp\",width=10,cmap=\"YlOrRd\",\n",
    "                   denoise=True,approximate_fast=False, show_cbar = False)\n",
    "\n",
    "#plt.savefig(\"vectors.pdf\")"
   ]
  },
  {
   "cell_type": "markdown",
   "metadata": {},
   "source": [
    "# Plot heatmaps of disk eccentricity vs radius, argument of periastron vs semimajor axis.  The latter is quite useful for identifying spiral arm structure in the disk."
   ]
  },
  {
   "cell_type": "code",
   "execution_count": null,
   "metadata": {
    "collapsed": false
   },
   "outputs": [],
   "source": [
    "x1_gas = s.gas['pos']\n",
    "x_zero = pynbody.array.SimArray(np.zeros((len(x1_gas),3)),'au')\n",
    "v1_gas = s.gas['vel']\n",
    "v_zero = pynbody.array.SimArray(np.zeros((len(x1_gas),3)),'km s**-1')\n",
    "m1 = np.sum(s.s['mass'])\n",
    "m2 = s.gas['mass']\n",
    "gas_m = s.gas['mass'].in_units('g')\n",
    "\n",
    "cm = binaryUtils.computeCOM(s.stars,s.gas,cutoff=3.0).in_units('au')\n",
    "\n",
    "#Compute semimajor axis, longitude of perihelion (relative to that of bin) for ALL gas particles\n",
    "gas_a = AddBinary.calcSemi(x1_gas,cm,v1_gas,v_zero,m1,m2)\n",
    "gas_e = AddBinary.calcEcc(x1_gas,cm,v1_gas,v_zero,m1,m2)\n",
    "gas_i = AddBinary.calcInc(x1_gas,cm,v1_gas,v_zero)\n",
    "gas_w = AddBinary.calcArgPeri(x1_gas,cm,v1_gas,v_zero,m1,m2) + AddBinary.calcLongOfAscNode(x1_gas,x_zero,v1_gas,v_zero)\n",
    "gas_w = gas_w - (test.Omega + test.w)\n",
    "\n",
    "gas_theta = SimArray(np.arctan2(s.gas['y'],s.gas['x']),'1')\n",
    "\n",
    "v_theta = ((s.gas['x'] * s.gas['vy'] - s.gas['y'] * s.gas['vx']) / s.gas['rxy']).in_units('km s**-1')\n",
    "v_r  = ((s.gas['pos'][:, 0:2] * s.gas['vel'][:, 0:2]).sum(axis=1) / s.gas['rxy']).in_units('km s**-1')\n",
    "\n",
    "while np.sum(gas_w > 360) > 0:\n",
    "    gas_w[gas_w > 360] = gas_w[gas_w > 360] - 360.0\n",
    "\n",
    "while np.sum(gas_w < 0) > 0:    \n",
    "    gas_w[gas_w < 0] = gas_w[gas_w < 0] + 360.0\n",
    "\n",
    "inner = 0\n",
    "outer = 8\n",
    "\n",
    "x_min = 0\n",
    "x_max = 360\n",
    "y_min = inner\n",
    "y_max = outer\n",
    "extent = [[x_min,x_max],[y_min,y_max]]\n",
    "\n",
    "#Filter out gas particles that aren't bound\n",
    "mask = np.logical_and(gas_e < 1,gas_e > 0)\n",
    "gas_a = gas_a[mask]\n",
    "gas_w = gas_w[mask]\n",
    "gas_e = gas_e[mask]\n",
    "gas_m = gas_m[mask]\n",
    "gas_theta = gas_theta[mask]\n",
    "gas_i = gas_i[mask]\n",
    "v_theta = v_theta[mask]\n",
    "v_r = v_r[mask]\n",
    "\n",
    "#Now Filter gas particles to within a certain distance\n",
    "mask = np.logical_and(gas_a < outer,gas_a > inner)\n",
    "gas_a = gas_a[mask]\n",
    "gas_w = gas_w[mask]\n",
    "gas_e = gas_e[mask]\n",
    "gas_m = gas_m[mask]\n",
    "gas_theta = gas_theta[mask]\n",
    "gas_i = SimArray(gas_i[mask],'1.0')\n",
    "v_theta = v_theta[mask]\n",
    "v_r = v_r[mask]"
   ]
  },
  {
   "cell_type": "code",
   "execution_count": null,
   "metadata": {
    "collapsed": false
   },
   "outputs": [],
   "source": [
    "x_min = -np.pi\n",
    "x_max = np.pi\n",
    "y_min = 0\n",
    "y_max = 3\n",
    "extent = [[x_min,x_max],[y_min,y_max]]\n",
    "\n",
    "ax, im, cbar = diskplot.plot_heatmap(gas_theta,gas_a,labels=[r'$\\varpi$',r'$v_{\\theta}$ [km s$^{-1}$]','Number'],cm='cubehelix',\n",
    "                      norm='log',avg='y',vmax=1.0e2,vmin=1.0e-2,hist_range=extent)\n",
    "\n",
    "# Ensure plots are same dimensions\n",
    "ax.set_xlim(x_min,x_max)\n",
    "ax.set_ylim(y_min,y_max)"
   ]
  },
  {
   "cell_type": "code",
   "execution_count": null,
   "metadata": {
    "collapsed": false
   },
   "outputs": [],
   "source": [
    "x_min = 0\n",
    "x_max = 360\n",
    "y_min = 0\n",
    "y_max = 3\n",
    "extent = [[x_min,x_max],[y_min,y_max]]\n",
    "\n",
    "ax, im, cbar = diskplot.plot_heatmap(gas_w,gas_a,labels=['$\\Omega + \\omega$','Radius [Au]','Overdensity'],\n",
    "                                    cm='cubehelix',norm='log',avg='y',vmax=1.0e2,vmin=1.0e-2,hist_range=extent)\n",
    "\n",
    "# Ensure plots are same dimensions\n",
    "ax.set_xlim(x_min,x_max)\n",
    "ax.set_ylim(y_min,y_max)"
   ]
  },
  {
   "cell_type": "code",
   "execution_count": null,
   "metadata": {
    "collapsed": false
   },
   "outputs": [],
   "source": [
    "vr_plot = pynbody.plot.sph.image(s.gas, qty='vrxy', units='km s**-1', width=\"8 au\",\n",
    "                       cmap='cubehelix',log=True, qtytitle=r'$v_r$ [km s$^{-1}$]', ret_im=True,\n",
    "                        show_cbar=False)\n",
    "\n",
    "#vr_plot.set_ylabel(\"y [AU]\")\n",
    "#ax1.set_xlabel(\"x [AU]\")\n",
    "\n"
   ]
  },
  {
   "cell_type": "code",
   "execution_count": null,
   "metadata": {
    "collapsed": false
   },
   "outputs": [],
   "source": [
    "pynbody.plot.sph.sideon_image(s.gas, width='8 au', linthresh=0.01, cmap='cubehelix')"
   ]
  },
  {
   "cell_type": "code",
   "execution_count": null,
   "metadata": {
    "collapsed": true
   },
   "outputs": [],
   "source": []
  }
 ],
 "metadata": {
  "kernelspec": {
   "display_name": "Python 2",
   "language": "python",
   "name": "python2"
  },
  "language_info": {
   "codemirror_mode": {
    "name": "ipython",
    "version": 2
   },
   "file_extension": ".py",
   "mimetype": "text/x-python",
   "name": "python",
   "nbconvert_exporter": "python",
   "pygments_lexer": "ipython2",
   "version": "2.7.11"
  }
 },
 "nbformat": 4,
 "nbformat_minor": 0
}
