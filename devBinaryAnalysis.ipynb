{
 "cells": [
  {
   "cell_type": "markdown",
   "metadata": {
    "collapsed": false
   },
   "source": [
    "David Fleming \n",
    "\n",
    "For the rest, see the .param file\n",
    "\n",
    "Contains basic code for anaylsis, plotting to be used later with my disks."
   ]
  },
  {
   "cell_type": "code",
   "execution_count": 1,
   "metadata": {
    "collapsed": false,
    "scrolled": true
   },
   "outputs": [],
   "source": [
    "%matplotlib inline\n",
    "#Imports required to run\n",
    "\n",
    "import pynbody\n",
    "from matplotlib.pylab import *\n",
    "import matplotlib.pylab as plt\n",
    "import pynbody.plot.sph as sph\n",
    "import numpy as np\n",
    "from scipy import interpolate\n",
    "\n",
    "#Tell code where my diskpy distribution is\n",
    "import os\n",
    "sys.path.append('/astro/users/dflemin3/Desktop/diskpy')\n",
    "sys.path.append('/astro/users/dflemin3/Desktop')\n",
    "\n",
    "#Import diskpy and my modules from ICgen submodule\n",
    "import diskpy\n",
    "from diskpy.ICgen import *\n",
    "\n",
    "#Typical plot parameters that make for pretty plots\n",
    "plt.rcParams['figure.figsize'] = (10,8)\n",
    "from astroML.plotting import setup_text_plots\n",
    "setup_text_plots(fontsize=20, usetex=True)\n",
    "\n",
    "rc('font', **{'family': 'serif', 'serif': ['Computer Modern']})\n",
    "mpl.rcParams['font.size'] = 20.0"
   ]
  },
  {
   "cell_type": "code",
   "execution_count": 2,
   "metadata": {
    "collapsed": false
   },
   "outputs": [],
   "source": [
    "#Change directory to where the data is\n",
    "cwd = '/astro/users/dflemin3/Desktop/kepler38Long'\n",
    "os.chdir(cwd)"
   ]
  },
  {
   "cell_type": "code",
   "execution_count": 3,
   "metadata": {
    "collapsed": false
   },
   "outputs": [
    {
     "name": "stderr",
     "output_type": "stream",
     "text": [
      "Loading using backend <class 'pynbody.tipsy.TipsySnap'>\n",
      "TipsySnap: loading  k38_snap.std\n"
     ]
    }
   ],
   "source": [
    "#Load Snapshot \n",
    "s = pynbody.load('k38_snap.std')"
   ]
  },
  {
   "cell_type": "markdown",
   "metadata": {},
   "source": [
    "#Look at general system parameters"
   ]
  },
  {
   "cell_type": "code",
   "execution_count": 4,
   "metadata": {
    "collapsed": false,
    "scrolled": true
   },
   "outputs": [
    {
     "name": "stdout",
     "output_type": "stream",
     "text": [
      "[[ 0.02738167  0.          0.        ]]\n",
      "[[-0.10435825 -0.         -0.        ]]\n",
      "[[-0.        0.658243  0.      ]]\n",
      "[[ 0.        -2.5087254 -0.       ]]\n",
      "[ 0.949]\n",
      "[ 0.249]\n",
      "4.85e-09 kpc\n",
      "2.98e+01 km s**-1\n"
     ]
    },
    {
     "name": "stderr",
     "output_type": "stream",
     "text": [
      "TipsySnap: loading data from main file\n"
     ]
    }
   ],
   "source": [
    "#Make sure I have 2 stars in there with correct pos/vel:\n",
    "print s.stars[0]['pos']\n",
    "print s.stars[1]['pos']\n",
    "\n",
    "print s.stars[0]['vel']\n",
    "print s.stars[1]['vel']\n",
    "\n",
    "print s.stars[0]['mass']\n",
    "print s.stars[1]['mass']\n",
    "\n",
    "#Print current units\n",
    "print s.stars[0]['pos'].units\n",
    "print s.stars[0]['vel'].units"
   ]
  },
  {
   "cell_type": "code",
   "execution_count": 5,
   "metadata": {
    "collapsed": false
   },
   "outputs": [
    {
     "name": "stdout",
     "output_type": "stream",
     "text": [
      "0.00383060303477\n",
      "Msol\n"
     ]
    }
   ],
   "source": [
    "print np.sum(s.gas['mass'])\n",
    "print s.gas['mass'].units"
   ]
  },
  {
   "cell_type": "code",
   "execution_count": 6,
   "metadata": {
    "collapsed": false
   },
   "outputs": [
    {
     "name": "stdout",
     "output_type": "stream",
     "text": [
      "2\n",
      "100000\n"
     ]
    }
   ],
   "source": [
    "print len(s.stars)\n",
    "print len(s.gas)"
   ]
  },
  {
   "cell_type": "code",
   "execution_count": 7,
   "metadata": {
    "collapsed": false
   },
   "outputs": [
    {
     "name": "stdout",
     "output_type": "stream",
     "text": [
      "eccentricity = [ 0.10324994]\n",
      "semimajor axis = [ 0.14690818]\n",
      "Inclination = [ 0.]\n",
      "mass = [ 0.949  0.249]\n",
      "gas particles = 100000\n"
     ]
    }
   ],
   "source": [
    "#Calculate system parameters\n",
    "x1 = s.stars[0]['pos']\n",
    "x2 = s.stars[1]['pos']\n",
    "v1 = s.stars[0]['vel']\n",
    "v2 = s.stars[1]['vel']\n",
    "m1 = s.stars[0]['mass']\n",
    "m2 = s.stars[1]['mass']\n",
    "\n",
    "ef = AddBinary.calcEcc(x1, x2, v1, v2, m1, m2)\n",
    "af = AddBinary.calcSemi(x1, x2, v1, v2, m1, m2)\n",
    "ifin = AddBinary.calcInc(x1, x2, v1, v2)\n",
    "gf = len(s.g)\n",
    "mf = s.stars['mass']\n",
    "\n",
    "print \"eccentricity =\",ef\n",
    "print \"semimajor axis =\",af\n",
    "print \"Inclination =\", ifin\n",
    "print \"mass =\",mf\n",
    "print \"gas particles =\",gf"
   ]
  },
  {
   "cell_type": "code",
   "execution_count": 26,
   "metadata": {
    "collapsed": false
   },
   "outputs": [
    {
     "name": "stdout",
     "output_type": "stream",
     "text": [
      "Binary center of mass = [[  7.98482687e-10   0.00000000e+00   0.00000000e+00]]\n",
      "Current entire system center of mass = [[  5.76996980e-06   2.16260473e-06   4.13119845e-07]]\n",
      "Magnitude of system center of mass = [  6.17576543e-06]\n",
      "8.34569437252e-06\n",
      "4.15303000263e-06 [  7.69436031e-05]\n",
      "8.34569437252e-06 0.000123714610748\n"
     ]
    }
   ],
   "source": [
    "#Check CoM\n",
    "print \"Binary center of mass = {0}\".format(AddBinary.calcCOM(m1,m2,x1,x2))\n",
    "sysCom = binaryUtils.computeCOM(s.stars,s.gas,starFlag=True)\n",
    "print \"Current entire system center of mass = {0}\".format(sysCom)\n",
    "print \"Magnitude of system center of mass = {0}\".format(np.sqrt(AddBinary.dotProduct(sysCom,sysCom)))\n",
    "vcom = binaryUtils.computeVelocityCOM(s,cutoff=0.4,starFlag=True,gasFlag=True)\n",
    "\n",
    "cm = (s['mass'][:,None] * s['pos']).sum()/(s['mass'].sum())\n",
    "vcm = (s['mass'][:,None] * s['vel']).sum()/(s['mass'].sum())\n",
    "print cm\n",
    "print vcm, np.sqrt(AddBinary.dotProduct(vcom,vcom))\n",
    "\n",
    "print cm.in_units('au'), vcm.in_units('km s**-1')"
   ]
  },
  {
   "cell_type": "code",
   "execution_count": 9,
   "metadata": {
    "collapsed": false
   },
   "outputs": [
    {
     "name": "stderr",
     "output_type": "stream",
     "text": [
      "/astro/users/dflemin3/Desktop/diskpy/diskpy/ICgen/binaryUtils.py:856: RuntimeWarning: invalid value encountered in sqrt\n",
      "  kappa_r = np.sqrt((grav*mu/np.power(r,3)) * (1.0 - 3.0*alpha/np.power(r,2)))\n"
     ]
    },
    {
     "data": {
      "text/plain": [
       "<matplotlib.legend.Legend at 0x7f5ef851bd90>"
      ]
     },
     "execution_count": 9,
     "metadata": {},
     "output_type": "execute_result"
    },
    {
     "data": {
      "image/png": "[encoded data removed]",
      "text/plain": [
       "<matplotlib.figure.Figure at 0x7f5f093aa510>"
      ]
     },
     "metadata": {},
     "output_type": "display_data"
    }
   ],
   "source": [
    "r, rBinEdges = binaryUtils.calcDiskRadialBins(s,0.25,2.0,50)\n",
    "orbElems = binaryUtils.orbElemsVsRadius(s,rBinEdges,average=True)\n",
    "precession = binaryUtils.diskPrecession(s,r)\n",
    "\n",
    "plt.plot(r,2.0*np.pi/precession[0,:],color='blue',label=r'$\\omega$ Precession Rate')\n",
    "plt.plot(r,2.0*np.pi/precession[1,:],color='red',label=r'$\\Omega$ Precession Rate')\n",
    "plt.axhline(y=0.0, xmin=0., xmax = 1, linewidth=2, color='k',linestyle='--')\n",
    "plt.xlim(r.min(),r.max())\n",
    "plt.xlabel(\"r [AU]\")\n",
    "plt.ylabel(\"Precession Period [yr]\")\n",
    "plt.title(\"Rand Init Low Ecc Precession\")\n",
    "plt.legend(loc='lower left')\n",
    "#plt.savefig(\"randInitLowEccPrecession.pdf\")"
   ]
  },
  {
   "cell_type": "code",
   "execution_count": 10,
   "metadata": {
    "collapsed": false
   },
   "outputs": [
    {
     "data": {
      "text/plain": [
       "<matplotlib.text.Text at 0x7f5ef83e7210>"
      ]
     },
     "execution_count": 10,
     "metadata": {},
     "output_type": "execute_result"
    },
    {
     "data": {
      "image/png": "[encoded data removed]",
      "text/plain": [
       "<matplotlib.figure.Figure at 0x7f5f00dbc4d0>"
      ]
     },
     "metadata": {},
     "output_type": "display_data"
    }
   ],
   "source": [
    "w = (orbElems[3,:] + orbElems[4,:])*(np.pi/180.)\n",
    "\n",
    "cax = plt.scatter(orbElems[0,:]*np.cos(w),orbElems[0,:]*np.sin(w),c=r)\n",
    "cbar = plt.colorbar(cax)\n",
    "plt.xlabel(r\"ecos$\\omega$\")\n",
    "plt.ylabel(r\"esin$\\omega$\")"
   ]
  },
  {
   "cell_type": "code",
   "execution_count": 11,
   "metadata": {
    "collapsed": false
   },
   "outputs": [
    {
     "name": "stdout",
     "output_type": "stream",
     "text": [
      "[  4.82790073e-03   6.56936597e-01   2.11967855e+00   1.80071539e+02\n",
      "   1.79914047e+02   1.79773679e+02]\n"
     ]
    }
   ],
   "source": [
    "print binaryUtils.diskAverage(s,r_out=1.0,bins=50)"
   ]
  },
  {
   "cell_type": "code",
   "execution_count": 12,
   "metadata": {
    "collapsed": false
   },
   "outputs": [
    {
     "data": {
      "text/plain": [
       "[<matplotlib.lines.Line2D at 0x7f5ef81cd1d0>]"
      ]
     },
     "execution_count": 12,
     "metadata": {},
     "output_type": "execute_result"
    },
    {
     "data": {
      "image/png": "[encoded data removed]",
      "text/plain": [
       "<matplotlib.figure.Figure at 0x7f5f2827e6d0>"
      ]
     },
     "metadata": {},
     "output_type": "display_data"
    }
   ],
   "source": [
    "plt.plot(r,orbElems[0,:])"
   ]
  },
  {
   "cell_type": "code",
   "execution_count": 13,
   "metadata": {
    "collapsed": false
   },
   "outputs": [
    {
     "name": "stdout",
     "output_type": "stream",
     "text": [
      "(0.103249944157,0.146908179469,0.0,0.0,0.0,0.0), mass: ([ 0.949],[ 0.249])\n"
     ]
    },
    {
     "name": "stderr",
     "output_type": "stream",
     "text": [
      "/astro/users/dflemin3/Desktop/diskpy/diskpy/ICgen/AddBinary.py:515: RuntimeWarning: invalid value encountered in divide\n",
      "  Omega = np.arccos(dotProduct(i, n) / magN)\n"
     ]
    }
   ],
   "source": [
    "x1, x2 = s.stars['pos']\n",
    "m1, m2 = s.stars[0]['mass'], s.stars[1]['mass']\n",
    "v1, v2 = s.stars['vel']\n",
    "m_disk = np.sum(s.gas['mass'])\n",
    "x = x1-x2\n",
    "v = v1-v2\n",
    "X = [x,v]\n",
    "test = binary.Binary(X,m1,m2,'cartesian')\n",
    "print test"
   ]
  },
  {
   "cell_type": "code",
   "execution_count": 14,
   "metadata": {
    "collapsed": false
   },
   "outputs": [],
   "source": [
    "a, e = test.a, test.e\n",
    "rCrit, error = AddBinary.calcCriticalRadius(a,e,m1,m2)"
   ]
  },
  {
   "cell_type": "code",
   "execution_count": 15,
   "metadata": {
    "collapsed": false
   },
   "outputs": [
    {
     "name": "stdout",
     "output_type": "stream",
     "text": [
      "[ 15.19316236]\n"
     ]
    }
   ],
   "source": [
    "print 2.0*np.pi/AddBinary.calcCircularFrequency(x1,x2,v1,v2,m1,m2)"
   ]
  },
  {
   "cell_type": "code",
   "execution_count": 16,
   "metadata": {
    "collapsed": false
   },
   "outputs": [
    {
     "name": "stdout",
     "output_type": "stream",
     "text": [
      "[  9.25735305e+51]\n",
      "3.59799505125e+48\n"
     ]
    }
   ],
   "source": [
    "x2 = s.stars[1]['pos']\n",
    "v2 = s.stars[1]['vel']\n",
    "l2 = s.stars[1]['mass']*np.cross(x2,v2,axis=1)\n",
    "\n",
    "a = pynbody.array.SimArray(test.a,'au')\n",
    "m = s.stars[1]['mass'].in_units('g')\n",
    "M = np.sum(s.stars['mass']).in_units('g')\n",
    "l2 = m*np.sqrt(a*AddBinary.G*M)\n",
    "l2 = l2.in_units('cm**2 g s**-1')\n",
    "print l2\n",
    "\n",
    "mask = s.gas['rxy'] < 0.35\n",
    "gx = s.gas['pos'][mask].in_units('cm')\n",
    "gv = s.gas['vel'][mask].in_units('cm s**-1')\n",
    "hg = pynbody.array.SimArray(np.sum(np.cross(gx,gv)),'cm**2 s**-1')\n",
    "mg = pynbody.array.SimArray(s.gas['mass'][0],'Msol')\n",
    "\n",
    "lg = mg*hg\n",
    "print lg.in_units('cm**2 g s**-1')"
   ]
  },
  {
   "cell_type": "markdown",
   "metadata": {},
   "source": [
    "#Find inner disk edge\n",
    "Following the prescription of Artymowics+1994, define the gap radius for a circumbinary disk to be at the disk edge position where the surface density is half of the maximum value in the disk.  In that paper, the gap size was studied for various binary eccentricities and mass ratios.  For Kepler 38, the mass ratio is 0.263 ~ 0.3 and the eccentricity is ~0.1.  These values correspond to a gap size of $r = 2.35 \\pm 0.15$ times the binary semimajor axis.  For Kepler 38 whose a = 0.1469, one would expect to find after ~ 100 binary orbits a gap radius of ~0.34 au.  This gap formation occurs due to the tidal action of the binary system on the disk (and accretion where applicable).\n",
    "\n",
    "The initial conditions of Artymowics+1994:\n",
    "\n",
    "N_gas: ~ $10^4$\n",
    "Disk Properties: axisymmetric; initialized with Keplerian velocities; $\\Sigma \\sim 1/r$; introduced binary into initially smooth disk (similar to my initialization).  For a binary with mass parameter $\\mu = 0.3$ and eccentricity = 0.1, they found a gap at $r \\approx 2.3a$ which is outside the 3:1 orbital period commensurability (Arty+1994 pg. 662).  \n",
    "\n",
    "\n",
    "Note: In Kley+2014, they found that after ~2000yr of evolution, the inner edge of the disk to be $r \\approx 0.45 au$ which corresponds to roughly $3a_{bin}$ which they claim is in good agreement with the results of Artymowics+1994.  The problem here is that Kley+2014 studied Kepler 38 where the mass ratio is about 0.3 and the eccentricity about 0.1.  The result that $r_{gap} \\approx 3a_{bin}$ corresponds to a mass ratio of 0.3 and an eccentricity of 0.5 which does not hold for Kepler 38.\n",
    "\n",
    "\n",
    "Below, I bin the disk surface density into radial bins and compute the radius at which the half maximum surface density occurs as described above."
   ]
  },
  {
   "cell_type": "code",
   "execution_count": 17,
   "metadata": {
    "collapsed": false
   },
   "outputs": [
    {
     "name": "stdout",
     "output_type": "stream",
     "text": [
      "Profile: density()\n",
      "Profile: mass()\n",
      "Inner gap edge radius = 0.237948603775\n"
     ]
    }
   ],
   "source": [
    "#Create profile.  Note: Choose nbins to be the same number of n points ICgen-Binary used to initial generate disk\n",
    "bins = 500\n",
    "#pynbody.analysis.angmom.faceon(s.g)\n",
    "#pynbody.analysis.halo.center(s.g,mode='hyb')\n",
    "\n",
    "p = pynbody.analysis.profile.Profile(s,max=' au',min='0.01 au',type='log',nbins=bins)\n",
    "pg = pynbody.analysis.profile.Profile(s.gas,nbins=bins,max='10 au')\n",
    "\n",
    "#Get arrays for surface density sigma, radius r\n",
    "sigma = pg['density']\n",
    "radius = pg['rbins']\n",
    "\n",
    "#Select subset of radial points within radius at which sigma = sigmaMax/2 (inner edge of disk)\n",
    "max_index = np.argmax(sigma)\n",
    "mask = (radius < radius[max_index])\n",
    "sigma = sigma[mask]\n",
    "radius = radius[mask]\n",
    "\n",
    "#Find location of surface density maximum and look at radius r < r_max to find radius where surface density = max/2.0\n",
    "halfMax = pg['density'].max()/2.0\n",
    "#print \"Half Max Surface Density = {0} {1}\".format(halfMax,pg['density'].units)\n",
    "    \n",
    "crit_r = binaryUtils.find_crit_radius(radius,sigma,halfMax,bins)\n",
    "    \n",
    "print \"Inner gap edge radius = {0}\".format(crit_r)"
   ]
  },
  {
   "cell_type": "markdown",
   "metadata": {},
   "source": [
    "#Plot disk radial profiles"
   ]
  },
  {
   "cell_type": "code",
   "execution_count": 18,
   "metadata": {
    "collapsed": false
   },
   "outputs": [
    {
     "name": "stdout",
     "output_type": "stream",
     "text": [
      "4.85e-09 kpc\n",
      "4.25e+16 Msol kpc**-2\n"
     ]
    },
    {
     "data": {
      "image/png": "[encoded data removed]",
      "text/plain": [
       "<matplotlib.figure.Figure at 0x7f5ef8130990>"
      ]
     },
     "metadata": {},
     "output_type": "display_data"
    }
   ],
   "source": [
    "#Try plotting stuff\n",
    "#Plot the gas surface density as a function of radius for test disk\n",
    "\n",
    "#Now do the plotting with data derived from gas profile, pg\n",
    "#In this case, tangential velocity vs. radius\n",
    "plt.plot(pg['rbins'], pg['density'].in_units(\"g cm**-2\"),'k')\n",
    "\n",
    "plt.xlabel(\"$R$ [AU]\")\n",
    "plt.ylabel(r'$\\Sigma$ [g cm$^{-2}$]')\n",
    "plt.yscale('log')\n",
    "plt.title('Disk Surface Density Profile',y=1.06)\n",
    "#plt.xscale('log') #confirm radius powerlaw relation\n",
    "plt.xlim([0,5])\n",
    "\n",
    "#Plot lines of interest\n",
    "#loc = 0.4644 #Radius of Kepler-38b\n",
    "loc = 2.08*test.a\n",
    "#print float(rCrit)\n",
    "#plt.axvline(x=rCrit, ymin=-1, ymax = 1, linewidth=2, color='blue',label='$R_{critical}$ (Holman+1999)')\n",
    "plt.axvline(x=loc, ymin=-1, ymax = 1, linewidth=2, color='red',label=\"Kepler-38b Radius\")\n",
    "#plt.legend()\n",
    "\n",
    "#Print units to confirm\n",
    "print pg['rbins'].units\n",
    "print pg['density'].units\n",
    "\n",
    "#plt.savefig(\"sigmaVsR.png\")"
   ]
  },
  {
   "cell_type": "code",
   "execution_count": 19,
   "metadata": {
    "collapsed": false
   },
   "outputs": [
    {
     "name": "stderr",
     "output_type": "stream",
     "text": [
      "/astro/apps6/anaconda2.0/lib/python2.7/site-packages/pynbody/analysis/profile.py:407: RuntimeWarning: invalid value encountered in double_scalars\n",
      "  result[i] = (name_array*mass_array).sum()/self['mass'][i]\n"
     ]
    },
    {
     "data": {
      "image/png": "[encoded data removed]",
      "text/plain": [
       "<matplotlib.figure.Figure at 0x7f5ef81f87d0>"
      ]
     },
     "metadata": {},
     "output_type": "display_data"
    }
   ],
   "source": [
    "#Try plotting temperature profile of gas in plane of disk\n",
    "#T vs. radius\n",
    "plt.plot(pg['rbins'], pg['temp'],'k', label = '$Gas$')\n",
    "plt.legend()\n",
    "#plt.semilogy()\n",
    "#plt.semilogx()\n",
    "plt.xlabel(\"$R$ [AU]\")\n",
    "plt.ylabel(\"$T$ [K]\")\n",
    "plt.show()"
   ]
  },
  {
   "cell_type": "code",
   "execution_count": 20,
   "metadata": {
    "collapsed": false
   },
   "outputs": [
    {
     "name": "stderr",
     "output_type": "stream",
     "text": [
      "SimSnap: deriving array p\n",
      "SimSnap: deriving array u\n",
      "SimSnap: deriving array mu\n"
     ]
    },
    {
     "data": {
      "text/plain": [
       "(0.2, 1)"
      ]
     },
     "execution_count": 20,
     "metadata": {},
     "output_type": "execute_result"
    },
    {
     "data": {
      "image/png": "[encoded data removed]",
      "text/plain": [
       "<matplotlib.figure.Figure at 0x7f5ef802d250>"
      ]
     },
     "metadata": {},
     "output_type": "display_data"
    }
   ],
   "source": [
    "plt.plot(pg['rbins'],pg['p'].in_units('Pa'))\n",
    "plt.xlabel(\"r [AU]\")\n",
    "plt.ylabel('Pressure [Pa]')\n",
    "plt.xlim(0.2,1)"
   ]
  },
  {
   "cell_type": "markdown",
   "metadata": {},
   "source": [
    "#Plot 2D Heatmaps (Histograms) of Density, temperature, and pressure"
   ]
  },
  {
   "cell_type": "code",
   "execution_count": 21,
   "metadata": {
    "collapsed": false
   },
   "outputs": [
    {
     "name": "stderr",
     "output_type": "stream",
     "text": [
      "/astro/apps6/anaconda2.0/lib/python2.7/site-packages/pynbody/plot/generic.py:109: RuntimeWarning: divide by zero encountered in log10\n",
      "  x_range = [np.log10(np.min(xo)), np.log10(np.max(xo))]\n",
      "/astro/apps6/anaconda2.0/lib/python2.7/site-packages/pynbody/plot/generic.py:115: RuntimeWarning: divide by zero encountered in log10\n",
      "  x = np.log10(xo)\n",
      "/astro/apps6/anaconda2.0/lib/python2.7/site-packages/numpy/core/function_base.py:98: RuntimeWarning: invalid value encountered in double_scalars\n",
      "  step = (stop-start)/float((num-1))\n",
      "/astro/apps6/anaconda2.0/lib/python2.7/site-packages/numpy/lib/function_base.py:358: RuntimeWarning: invalid value encountered in less_equal\n",
      "  if np.any(np.asarray(dedges[i]) <= 0):\n"
     ]
    },
    {
     "ename": "ValueError",
     "evalue": "zero-size array to reduction operation minimum which has no identity",
     "output_type": "error",
     "traceback": [
      "\u001b[1;31m---------------------------------------------------------------------------\u001b[0m",
      "\u001b[1;31mValueError\u001b[0m                                Traceback (most recent call last)",
      "\u001b[1;32m<ipython-input-21-307200a69dbe>\u001b[0m in \u001b[0;36m<module>\u001b[1;34m()\u001b[0m\n\u001b[1;32m----> 1\u001b[1;33m \u001b[0mpynbody\u001b[0m\u001b[1;33m.\u001b[0m\u001b[0mplot\u001b[0m\u001b[1;33m.\u001b[0m\u001b[0mgas\u001b[0m\u001b[1;33m.\u001b[0m\u001b[0mrho_T\u001b[0m\u001b[1;33m(\u001b[0m\u001b[0ms\u001b[0m\u001b[1;33m,\u001b[0m \u001b[0mrho_units\u001b[0m\u001b[1;33m=\u001b[0m\u001b[1;34m'g cm**-3'\u001b[0m\u001b[1;33m)\u001b[0m\u001b[1;33m\u001b[0m\u001b[0m\n\u001b[0m\u001b[0;32m      2\u001b[0m \u001b[0mplt\u001b[0m\u001b[1;33m.\u001b[0m\u001b[0mtitle\u001b[0m\u001b[1;33m(\u001b[0m\u001b[1;34m'2D Histogram of Density vs Temperature'\u001b[0m\u001b[1;33m,\u001b[0m\u001b[0my\u001b[0m\u001b[1;33m=\u001b[0m\u001b[1;36m1.02\u001b[0m\u001b[1;33m)\u001b[0m\u001b[1;33m\u001b[0m\u001b[0m\n",
      "\u001b[1;32m/astro/apps6/anaconda2.0/lib/python2.7/site-packages/pynbody/plot/gas.pyc\u001b[0m in \u001b[0;36mrho_T\u001b[1;34m(sim, rho_units, rho_range, t_range, **kwargs)\u001b[0m\n\u001b[0;32m     60\u001b[0m \u001b[1;33m\u001b[0m\u001b[0m\n\u001b[0;32m     61\u001b[0m     hist2d(sim.gas['rho'].in_units(rho_units),sim.gas['temp'],xlogrange=True,\n\u001b[1;32m---> 62\u001b[1;33m            ylogrange=True, xlabel=xlabel, ylabel=ylabel, **kwargs)\n\u001b[0m\u001b[0;32m     63\u001b[0m \u001b[1;33m\u001b[0m\u001b[0m\n\u001b[0;32m     64\u001b[0m \u001b[1;33m\u001b[0m\u001b[0m\n",
      "\u001b[1;32m/astro/apps6/anaconda2.0/lib/python2.7/site-packages/pynbody/plot/generic.pyc\u001b[0m in \u001b[0;36mhist2d\u001b[1;34m(xo, yo, weights, mass, gridsize, nbins, make_plot, **kwargs)\u001b[0m\n\u001b[0;32m    171\u001b[0m \u001b[1;33m\u001b[0m\u001b[0m\n\u001b[0;32m    172\u001b[0m     \u001b[1;32mif\u001b[0m \u001b[0mmake_plot\u001b[0m \u001b[1;33m:\u001b[0m\u001b[1;33m\u001b[0m\u001b[0m\n\u001b[1;32m--> 173\u001b[1;33m         \u001b[0mmake_contour_plot\u001b[0m\u001b[1;33m(\u001b[0m\u001b[0mhist\u001b[0m\u001b[1;33m,\u001b[0m \u001b[0mxs\u001b[0m\u001b[1;33m,\u001b[0m \u001b[0mys\u001b[0m\u001b[1;33m,\u001b[0m \u001b[1;33m**\u001b[0m\u001b[0mkwargs\u001b[0m\u001b[1;33m)\u001b[0m\u001b[1;33m\u001b[0m\u001b[0m\n\u001b[0m\u001b[0;32m    174\u001b[0m         \u001b[1;32mif\u001b[0m \u001b[0mdraw_contours\u001b[0m\u001b[1;33m:\u001b[0m\u001b[1;33m\u001b[0m\u001b[0m\n\u001b[0;32m    175\u001b[0m             \u001b[0mmake_contour_plot\u001b[0m\u001b[1;33m(\u001b[0m\u001b[0mSimArray\u001b[0m\u001b[1;33m(\u001b[0m\u001b[0mdensity_mass\u001b[0m\u001b[1;33m,\u001b[0m \u001b[0mmass\u001b[0m\u001b[1;33m.\u001b[0m\u001b[0munits\u001b[0m\u001b[1;33m)\u001b[0m\u001b[1;33m,\u001b[0m\u001b[0mxs\u001b[0m\u001b[1;33m,\u001b[0m\u001b[0mys\u001b[0m\u001b[1;33m,\u001b[0m\u001b[0mfilled\u001b[0m\u001b[1;33m=\u001b[0m\u001b[0mFalse\u001b[0m\u001b[1;33m,\u001b[0m\u001b[0mclear\u001b[0m\u001b[1;33m=\u001b[0m\u001b[0mFalse\u001b[0m\u001b[1;33m,\u001b[0m\u001b[0mcolorbar\u001b[0m\u001b[1;33m=\u001b[0m\u001b[0mFalse\u001b[0m\u001b[1;33m,\u001b[0m\u001b[0mcolors\u001b[0m\u001b[1;33m=\u001b[0m\u001b[1;34m'black'\u001b[0m\u001b[1;33m,\u001b[0m\u001b[0mscalemin\u001b[0m\u001b[1;33m=\u001b[0m\u001b[0mnmin\u001b[0m\u001b[1;33m,\u001b[0m\u001b[0mnlevels\u001b[0m\u001b[1;33m=\u001b[0m\u001b[1;36m10\u001b[0m\u001b[1;33m)\u001b[0m\u001b[1;33m\u001b[0m\u001b[0m\n",
      "\u001b[1;32m/astro/apps6/anaconda2.0/lib/python2.7/site-packages/pynbody/plot/generic.pyc\u001b[0m in \u001b[0;36mmake_contour_plot\u001b[1;34m(arr, xs, ys, x_range, y_range, nlevels, logscale, xlogrange, ylogrange, subplot, colorbar, ret_im, cmap, clear, legend, scalemin, scalemax, filename, **kwargs)\u001b[0m\n\u001b[0;32m    428\u001b[0m         \u001b[0mplt\u001b[0m \u001b[1;33m=\u001b[0m \u001b[0msubplot\u001b[0m\u001b[1;33m\u001b[0m\u001b[0m\n\u001b[0;32m    429\u001b[0m \u001b[1;33m\u001b[0m\u001b[0m\n\u001b[1;32m--> 430\u001b[1;33m     \u001b[1;32mif\u001b[0m \u001b[0mscalemin\u001b[0m \u001b[1;32mis\u001b[0m \u001b[0mNone\u001b[0m\u001b[1;33m:\u001b[0m \u001b[0mscalemin\u001b[0m \u001b[1;33m=\u001b[0m \u001b[0mnp\u001b[0m\u001b[1;33m.\u001b[0m\u001b[0mmin\u001b[0m\u001b[1;33m(\u001b[0m\u001b[0marr\u001b[0m\u001b[1;33m[\u001b[0m\u001b[0marr\u001b[0m\u001b[1;33m>\u001b[0m\u001b[1;36m0\u001b[0m\u001b[1;33m]\u001b[0m\u001b[1;33m)\u001b[0m\u001b[1;33m\u001b[0m\u001b[0m\n\u001b[0m\u001b[0;32m    431\u001b[0m     \u001b[1;32mif\u001b[0m \u001b[0mscalemax\u001b[0m \u001b[1;32mis\u001b[0m \u001b[0mNone\u001b[0m\u001b[1;33m:\u001b[0m \u001b[0mscalemax\u001b[0m \u001b[1;33m=\u001b[0m \u001b[0mnp\u001b[0m\u001b[1;33m.\u001b[0m\u001b[0mmax\u001b[0m\u001b[1;33m(\u001b[0m\u001b[0marr\u001b[0m\u001b[1;33m[\u001b[0m\u001b[0marr\u001b[0m\u001b[1;33m>\u001b[0m\u001b[1;36m0\u001b[0m\u001b[1;33m]\u001b[0m\u001b[1;33m)\u001b[0m\u001b[1;33m\u001b[0m\u001b[0m\n\u001b[0;32m    432\u001b[0m     \u001b[0marr\u001b[0m\u001b[1;33m[\u001b[0m\u001b[0marr\u001b[0m\u001b[1;33m<\u001b[0m\u001b[0mscalemin\u001b[0m\u001b[1;33m]\u001b[0m\u001b[1;33m=\u001b[0m\u001b[0mscalemin\u001b[0m\u001b[1;33m\u001b[0m\u001b[0m\n",
      "\u001b[1;32m/astro/apps6/anaconda2.0/lib/python2.7/site-packages/numpy/core/fromnumeric.pyc\u001b[0m in \u001b[0;36mamin\u001b[1;34m(a, axis, out, keepdims)\u001b[0m\n\u001b[0;32m   2219\u001b[0m                                 out=out, keepdims=keepdims)\n\u001b[0;32m   2220\u001b[0m         \u001b[1;31m# NOTE: Dropping the keepdims parameter\u001b[0m\u001b[1;33m\u001b[0m\u001b[1;33m\u001b[0m\u001b[0m\n\u001b[1;32m-> 2221\u001b[1;33m         \u001b[1;32mreturn\u001b[0m \u001b[0mamin\u001b[0m\u001b[1;33m(\u001b[0m\u001b[0maxis\u001b[0m\u001b[1;33m=\u001b[0m\u001b[0maxis\u001b[0m\u001b[1;33m,\u001b[0m \u001b[0mout\u001b[0m\u001b[1;33m=\u001b[0m\u001b[0mout\u001b[0m\u001b[1;33m)\u001b[0m\u001b[1;33m\u001b[0m\u001b[0m\n\u001b[0m\u001b[0;32m   2222\u001b[0m     \u001b[1;32melse\u001b[0m\u001b[1;33m:\u001b[0m\u001b[1;33m\u001b[0m\u001b[0m\n\u001b[0;32m   2223\u001b[0m         return _methods._amin(a, axis=axis,\n",
      "\u001b[1;32m/astro/apps6/anaconda2.0/lib/python2.7/site-packages/pynbody/array.pyc\u001b[0m in \u001b[0;36mmin\u001b[1;34m(self, *args, **kwargs)\u001b[0m\n\u001b[0;32m    538\u001b[0m \u001b[1;33m\u001b[0m\u001b[0m\n\u001b[0;32m    539\u001b[0m     \u001b[1;32mdef\u001b[0m \u001b[0mmin\u001b[0m\u001b[1;33m(\u001b[0m\u001b[0mself\u001b[0m\u001b[1;33m,\u001b[0m \u001b[1;33m*\u001b[0m\u001b[0margs\u001b[0m\u001b[1;33m,\u001b[0m \u001b[1;33m**\u001b[0m\u001b[0mkwargs\u001b[0m\u001b[1;33m)\u001b[0m \u001b[1;33m:\u001b[0m\u001b[1;33m\u001b[0m\u001b[0m\n\u001b[1;32m--> 540\u001b[1;33m         \u001b[0mx\u001b[0m \u001b[1;33m=\u001b[0m \u001b[0mnp\u001b[0m\u001b[1;33m.\u001b[0m\u001b[0mndarray\u001b[0m\u001b[1;33m.\u001b[0m\u001b[0mmin\u001b[0m\u001b[1;33m(\u001b[0m\u001b[0mself\u001b[0m\u001b[1;33m,\u001b[0m \u001b[1;33m*\u001b[0m\u001b[0margs\u001b[0m\u001b[1;33m,\u001b[0m \u001b[1;33m**\u001b[0m\u001b[0mkwargs\u001b[0m\u001b[1;33m)\u001b[0m\u001b[1;33m\u001b[0m\u001b[0m\n\u001b[0m\u001b[0;32m    541\u001b[0m         \u001b[1;32mif\u001b[0m \u001b[0mhasattr\u001b[0m\u001b[1;33m(\u001b[0m\u001b[0mx\u001b[0m\u001b[1;33m,\u001b[0m \u001b[1;34m'units'\u001b[0m\u001b[1;33m)\u001b[0m \u001b[1;32mand\u001b[0m \u001b[0mself\u001b[0m\u001b[1;33m.\u001b[0m\u001b[0munits\u001b[0m \u001b[1;32mis\u001b[0m \u001b[1;32mnot\u001b[0m \u001b[0mNone\u001b[0m \u001b[1;33m:\u001b[0m\u001b[1;33m\u001b[0m\u001b[0m\n\u001b[0;32m    542\u001b[0m             \u001b[0mx\u001b[0m\u001b[1;33m.\u001b[0m\u001b[0munits\u001b[0m \u001b[1;33m=\u001b[0m \u001b[0mself\u001b[0m\u001b[1;33m.\u001b[0m\u001b[0munits\u001b[0m\u001b[1;33m\u001b[0m\u001b[0m\n",
      "\u001b[1;32m/astro/apps6/anaconda2.0/lib/python2.7/site-packages/numpy/core/_methods.pyc\u001b[0m in \u001b[0;36m_amin\u001b[1;34m(a, axis, out, keepdims)\u001b[0m\n\u001b[0;32m     27\u001b[0m \u001b[1;33m\u001b[0m\u001b[0m\n\u001b[0;32m     28\u001b[0m \u001b[1;32mdef\u001b[0m \u001b[0m_amin\u001b[0m\u001b[1;33m(\u001b[0m\u001b[0ma\u001b[0m\u001b[1;33m,\u001b[0m \u001b[0maxis\u001b[0m\u001b[1;33m=\u001b[0m\u001b[0mNone\u001b[0m\u001b[1;33m,\u001b[0m \u001b[0mout\u001b[0m\u001b[1;33m=\u001b[0m\u001b[0mNone\u001b[0m\u001b[1;33m,\u001b[0m \u001b[0mkeepdims\u001b[0m\u001b[1;33m=\u001b[0m\u001b[0mFalse\u001b[0m\u001b[1;33m)\u001b[0m\u001b[1;33m:\u001b[0m\u001b[1;33m\u001b[0m\u001b[0m\n\u001b[1;32m---> 29\u001b[1;33m     \u001b[1;32mreturn\u001b[0m \u001b[0mumr_minimum\u001b[0m\u001b[1;33m(\u001b[0m\u001b[0ma\u001b[0m\u001b[1;33m,\u001b[0m \u001b[0maxis\u001b[0m\u001b[1;33m,\u001b[0m \u001b[0mNone\u001b[0m\u001b[1;33m,\u001b[0m \u001b[0mout\u001b[0m\u001b[1;33m,\u001b[0m \u001b[0mkeepdims\u001b[0m\u001b[1;33m)\u001b[0m\u001b[1;33m\u001b[0m\u001b[0m\n\u001b[0m\u001b[0;32m     30\u001b[0m \u001b[1;33m\u001b[0m\u001b[0m\n\u001b[0;32m     31\u001b[0m \u001b[1;32mdef\u001b[0m \u001b[0m_sum\u001b[0m\u001b[1;33m(\u001b[0m\u001b[0ma\u001b[0m\u001b[1;33m,\u001b[0m \u001b[0maxis\u001b[0m\u001b[1;33m=\u001b[0m\u001b[0mNone\u001b[0m\u001b[1;33m,\u001b[0m \u001b[0mdtype\u001b[0m\u001b[1;33m=\u001b[0m\u001b[0mNone\u001b[0m\u001b[1;33m,\u001b[0m \u001b[0mout\u001b[0m\u001b[1;33m=\u001b[0m\u001b[0mNone\u001b[0m\u001b[1;33m,\u001b[0m \u001b[0mkeepdims\u001b[0m\u001b[1;33m=\u001b[0m\u001b[0mFalse\u001b[0m\u001b[1;33m)\u001b[0m\u001b[1;33m:\u001b[0m\u001b[1;33m\u001b[0m\u001b[0m\n",
      "\u001b[1;31mValueError\u001b[0m: zero-size array to reduction operation minimum which has no identity"
     ]
    }
   ],
   "source": [
    "pynbody.plot.gas.rho_T(s, rho_units='g cm**-3')\n",
    "plt.title('2D Histogram of Density vs Temperature',y=1.02)"
   ]
  },
  {
   "cell_type": "code",
   "execution_count": null,
   "metadata": {
    "collapsed": false
   },
   "outputs": [],
   "source": [
    "pynbody.plot.generic.hist2d(s.gas['rho'].in_units(\"g cm**-3\"),s.gas['p'].in_units('Pa'),xlogrange=True,ylogrange=True);\n",
    "plt.title('2D Histogram of Density vs. Pressure',y=1.02)"
   ]
  },
  {
   "cell_type": "code",
   "execution_count": null,
   "metadata": {
    "collapsed": false
   },
   "outputs": [],
   "source": [
    "pynbody.plot.generic.hist2d(s.gas['temp'],s.gas['p'].in_units('Pa'),xlogrange=True,ylogrange=True,\n",
    "                           x_range=(2,3.8),y_range=(-5,3));\n",
    "plt.title('2D Histogram of Temperature vs. Pressure',y=1.02)\n",
    "plt.xlim(2,3.8)\n",
    "plt.ylim(-5,3)"
   ]
  },
  {
   "cell_type": "markdown",
   "metadata": {},
   "source": [
    "#Check if disk is unstable to m = 1 perturbations as per Shu et al. 1990 eqn. 110"
   ]
  },
  {
   "cell_type": "code",
   "execution_count": null,
   "metadata": {
    "collapsed": false
   },
   "outputs": [],
   "source": [
    "Mdisk = np.sum(s.gas['mass'])\n",
    "mf = Mdisk/(Mdisk+np.sum(s.stars['mass']))\n",
    "rd = 2.0\n",
    "\n",
    "r_in = 1.0*a\n",
    "r_out = rd\n",
    "Qbins = 50\n",
    "Q, rad =isaac.Q(s,2.35, bins=Qbins)\n",
    "rad = (rad[1:] + rad[:-1])/2.0\n",
    "\n",
    "plt.plot(rad,Q)\n",
    "plt.ylabel(\"Q\")\n",
    "plt.xlabel(\"r [AU]\")\n",
    "plt.xlim(0,rd)\n",
    "#plt.ylim(0,10)\n",
    "\n",
    "#plt.savefig(\"qVsRadius.pdf\")"
   ]
  },
  {
   "cell_type": "code",
   "execution_count": null,
   "metadata": {
    "collapsed": false
   },
   "outputs": [],
   "source": [
    "sigma0 = binaryUtils.calcStableSigma(rad,rd,np.sum(s.stars['mass']),Mdisk,1.0)\n",
    "p = pynbody.analysis.profile.Profile(s.gas,max=r_out,min=r_in,nbins=bins)\n",
    "sigma = p['density']\n",
    "sigR = p['rbins']\n",
    "\n",
    "plt.plot(sigR,sigma,color='red',label=r'$\\Sigma$')\n",
    "plt.plot(rad,sigma0,color='blue',label=r\"$\\Sigma_{0}$\")\n",
    "plt.xlim(0.15,rd)\n",
    "#plt.ylim(0,0.001)\n",
    "plt.legend(loc='upper right')\n",
    "plt.semilogy()\n",
    "plt.ylabel(\"$\\Sigma$ [M$_{\\odot}$ AU$^{-2}$]\")\n",
    "plt.xlabel(\"r [AU]\")\n",
    "plt.title(\"Disk mass = %0.2f Msol, mass fraction = %0.2f\" % (Mdisk, mf),y=1.02)\n",
    "\n",
    "#plt.savefig(\"shuInstability\")"
   ]
  },
  {
   "cell_type": "code",
   "execution_count": null,
   "metadata": {
    "collapsed": false
   },
   "outputs": [],
   "source": [
    "#Create nice color plot of temp as function of radius\n",
    "\n",
    "\n",
    "#pynbody.analysis.angmom.faceon(s1.g)#create an image of gas density integrated\n",
    "#down the line of site (z axis) of width 50 Au\n",
    "sph.image(s.g,qty=\"rho\",units=\"g cm^-2\",width=1,cmap=\"Greys\")\n",
    "\n",
    "#Plot circle representing theoretical location of gap...should occur ~ 100 orbits\n",
    "list_radians = [0]\n",
    " \n",
    "# from degrees to radians, the 0 is already included so\n",
    "# we don't make the universe collapse by dividing by zero.\n",
    "for i in range(0,360):\n",
    "    float_div = 180.0/(i+1)\n",
    "    list_radians.append(pi/float_div)\n",
    "     \n",
    "# list of coordinates for each point\n",
    "list_x2_axis = []\n",
    "list_y2_axis = []\n",
    "\n",
    "r = 2.3*ai #Inner gap edge predicted by Artimowicz+1994 for binary similar to Kepler 38\n",
    "#r = 0.25\n",
    "# calculate coordinates\n",
    "# and append to above list\n",
    "for a in list_radians:\n",
    "    list_x2_axis.append(r*cos(a))\n",
    "    list_y2_axis.append(r*sin(a))\n",
    "    \n",
    "#plot the coordinates\n",
    "plt.plot(list_x2_axis,list_y2_axis,c='r')\n",
    "plt.xlim([-0.5,0.5])\n",
    "plt.ylim([-0.5,0.5])"
   ]
  },
  {
   "cell_type": "code",
   "execution_count": null,
   "metadata": {
    "collapsed": false
   },
   "outputs": [],
   "source": [
    "#Create verticle profiles\n",
    "\n",
    "#Create verticle gas profile object\n",
    "p_vert = pynbody.analysis.profile.VerticalProfile(s.gas, '0 au', '20 au', '25 au') #(range_min,range_max,max)\n",
    "\n",
    "#Now plot density vs distance\n",
    "#Confirm density units are correct\n",
    "p_vert['density'].convert_units('Msol au**-3')\n",
    "print p_vert['density'].units\n",
    "print p_vert['rbins'].units\n",
    "plt.plot(p_vert['rbins'], p_vert['density'],'k', hold=False)\n",
    "plt.xlabel('$z$ [Au]')\n",
    "plt.ylabel(r'$\\rho_{\\star}$ [M$_{\\odot}$ Au$^{-3}$]')\n",
    "plt.yscale('log')"
   ]
  },
  {
   "cell_type": "code",
   "execution_count": null,
   "metadata": {
    "collapsed": false
   },
   "outputs": [],
   "source": [
    "#Plot temperature vs. distance from plane\n",
    "#Looks terrible since data is for small number of particles\n",
    "plt.plot(p_vert['rbins'], p_vert['temp'],'k', hold=False)\n",
    "plt.xlabel('$z$ [Au]'); plt.ylabel('$T$ [K]')"
   ]
  },
  {
   "cell_type": "code",
   "execution_count": null,
   "metadata": {
    "collapsed": false
   },
   "outputs": [],
   "source": [
    "#Plot velocity vectors\n",
    "f, axs = plt.subplots(1,1,figsize=(8,8))\n",
    "\n",
    "#create a simple slice showing the gas temperature, with velocity vectors overlaid\n",
    "sph.velocity_image(s.g, vector_color=\"cyan\", qty=\"temp\",width=10,cmap=\"YlOrRd\",\n",
    "                   denoise=True,approximate_fast=False, show_cbar = False)\n",
    "\n",
    "#plt.savefig(\"vectors.pdf\")"
   ]
  },
  {
   "cell_type": "code",
   "execution_count": null,
   "metadata": {
    "collapsed": false
   },
   "outputs": [],
   "source": [
    "r_in = 4.0*orbElems[0,a]\n",
    "r_out = 20.0*orbElems[0,a]\n",
    "bins = 50\n",
    "r, rBinEdges = binaryUtils.calcDiskRadialBins(s,r_in,r_out,bins)\n",
    "\n",
    "print rBinEdges\n",
    "\n",
    "for i in range(0,len(rBinEdges)-1):\n",
    "        if average: #Average over all gas particles in subsection\n",
    "            rMask = np.logical_and(isaac.strip_units(s.gas['rxy']) > rBinEdges[i], isaac.strip_units(s.gas['rxy']) < rBinEdges[i+1])\n",
    "            N = len(s.gas[rMask])\n",
    "            print N"
   ]
  },
  {
   "cell_type": "code",
   "execution_count": null,
   "metadata": {
    "collapsed": false
   },
   "outputs": [],
   "source": [
    "print s.gas.keys()"
   ]
  },
  {
   "cell_type": "code",
   "execution_count": null,
   "metadata": {
    "collapsed": false
   },
   "outputs": [],
   "source": [
    "subscript=diskpy.pychanga.hyak.pbs_script(\"/gscratch/stf/dflemin3/test/\",param='k38_snap.param',\n",
    "                                          jobname='Test1',backill=False,email='dflemin3@uw.edu',\n",
    "                                          walltime=0.5)\n",
    "with open('subber.sh','w') as f:\n",
    "    f.write(subscript)"
   ]
  },
  {
   "cell_type": "code",
   "execution_count": null,
   "metadata": {
    "collapsed": true
   },
   "outputs": [],
   "source": []
  }
 ],
 "metadata": {
  "kernelspec": {
   "display_name": "Python 2",
   "language": "python",
   "name": "python2"
  },
  "language_info": {
   "codemirror_mode": {
    "name": "ipython",
    "version": 2
   },
   "file_extension": ".py",
   "mimetype": "text/x-python",
   "name": "python",
   "nbconvert_exporter": "python",
   "pygments_lexer": "ipython2",
   "version": "2.7.10"
  }
 },
 "nbformat": 4,
 "nbformat_minor": 0
}
