{
 "cells": [
  {
   "cell_type": "markdown",
   "metadata": {
    "collapsed": false
   },
   "source": [
    "David Fleming \n",
    "\n",
    "#Bleeding Edge\n",
    "\n",
    "#Below: General ICs to be filled in depending on system one considers\n",
    "\n",
    "Ipython notebook for working with the evolution of a circumbinary disk.\n",
    "\n",
    "Case: Kepler 38 modelled after the initial conditions of Kley+2014\n",
    "\n",
    "General consideration: Disk initialized as if it sees star at origin (COM) with total mass of the binary system.\n",
    "Binary stars then replace single star at origin with positions/velocities such that COM coincides with the origin and the binary system starts out at the periastron.\n",
    "\n",
    "Initial CB disk conditions:\n",
    "\n",
    "$\\Sigma \\sim r^{-1/2}$\n",
    "\n",
    "$T \\sim r^{-1}$\n",
    "\n",
    "$T_0 = 750K \\ at \\ r_0 = 1au$ corresponding to typical values for minimum mass solar nebula\n",
    "\n",
    "$m_{disk} = 0.0114886979929 M_{\\odot}$\n",
    "\n",
    "$\\mu = 2.35$\n",
    "\n",
    "$Q_{min} = 1.5$\n",
    "\n",
    "$R_{disk} = R_{max} = 2.0 au$\n",
    "\n",
    "$R_{in} = 0.25 au$\n",
    "\n",
    "cutlength = 0.01\n",
    "\n",
    "$n_{gas} = 1.0e+6, n_{points} = 5000 $\n",
    "\n",
    "Initial Binary conditions:\n",
    "\n",
    "$mass_{primary} = 0.949M_{\\odot}$\n",
    "\n",
    "$mass_{secondary} = 0.249M_{\\odot}$\n",
    "\n",
    "$a = 0.1469 au, \\ e = 0.1032$\n",
    "\n",
    "ChaNGa ICs:\n",
    "\n",
    "dDelta = 0.00275(dDelta > 0.0023 found to be unstable...binary system flew off screen)\n",
    "\n",
    "dEta = 0.1\n",
    "\n",
    "dTheta = 0.7\n",
    "\n",
    "nSteps = ?\n",
    "\n",
    "For the rest, see the .param file\n",
    "\n",
    "Contains basic code for anaylsis, plotting to be used later with my disks."
   ]
  },
  {
   "cell_type": "code",
   "execution_count": 1,
   "metadata": {
    "collapsed": false
   },
   "outputs": [
    {
     "name": "stdout",
     "output_type": "stream",
     "text": [
      "/astro/users/dflemin3/Desktop/ICgen/isaac.pyc\n"
     ]
    }
   ],
   "source": [
    "%matplotlib inline\n",
    "#Imports required to run\n",
    "\n",
    "import pynbody\n",
    "from matplotlib.pylab import *\n",
    "import matplotlib.pylab as plt\n",
    "import pynbody.plot.sph as sph\n",
    "import numpy as np\n",
    "from scipy import interpolate\n",
    "\n",
    "#Imports from ICgen-Binary directory\n",
    "import os\n",
    "sys.path.append('/astro/users/dflemin3/Desktop/ICgen')\n",
    "sys.path.append('/astro/users/dflemin3/Desktop')\n",
    "import isaac\n",
    "import AddBinary\n",
    "import binaryUtils\n",
    "import binary\n",
    "\n",
    "#Typical plot parameters that make for pretty plots\n",
    "plt.rcParams['figure.figsize'] = (10,8)\n",
    "from astroML.plotting import setup_text_plots\n",
    "setup_text_plots(fontsize=20, usetex=True)\n",
    "\n",
    "rc('font', **{'family': 'serif', 'serif': ['Computer Modern']})\n",
    "mpl.rcParams['font.size'] = 20.0"
   ]
  },
  {
   "cell_type": "code",
   "execution_count": 2,
   "metadata": {
    "collapsed": false
   },
   "outputs": [],
   "source": [
    "#Change directory to where the data is\n",
    "cwd = '/astro/users/dflemin3/Desktop/k38_400k'\n",
    "os.chdir(cwd)"
   ]
  },
  {
   "cell_type": "code",
   "execution_count": 21,
   "metadata": {
    "collapsed": false
   },
   "outputs": [
    {
     "name": "stderr",
     "output_type": "stream",
     "text": [
      "Loading using backend <class 'pynbody.tipsy.TipsySnap'>\n",
      "TipsySnap: loading  snapshot.std\n",
      "Loading using backend <class 'pynbody.tipsy.TipsySnap'>\n",
      "TipsySnap: loading  snapshot.std\n"
     ]
    }
   ],
   "source": [
    "#Load Snapshot containing final conditions\n",
    "s = pynbody.load('snapshot.std')\n",
    "\n",
    "#Load initial conditions\n",
    "s1 = pynbody.load('snapshot.std')"
   ]
  },
  {
   "cell_type": "code",
   "execution_count": 22,
   "metadata": {
    "collapsed": false,
    "scrolled": true
   },
   "outputs": [
    {
     "name": "stderr",
     "output_type": "stream",
     "text": [
      "TipsySnap: loading data from main file\n",
      "TipsySnap: loading data from main file"
     ]
    },
    {
     "name": "stdout",
     "output_type": "stream",
     "text": [
      "[[ 0.0273824   0.00070823  0.        ]]\n",
      "[[-0.1043613  -0.00269926 -0.        ]]\n",
      "[[-0.00159184  0.65793306  0.        ]]\n",
      "[[ 0.00606691 -2.50755048 -0.        ]]\n",
      "[ 0.94900048]\n",
      "[ 0.24899951]\n",
      "\n",
      "[[ 0.0273824   0.00070823  0.        ]]\n",
      "[[-0.1043613  -0.00269926 -0.        ]]\n",
      "[[-0.00159184  0.65793306  0.        ]]\n",
      "[[ 0.00606691 -2.50755048 -0.        ]]\n",
      "[ 0.94900048]\n",
      "[ 0.24899951]\n",
      "4.85e-09 kpc\n",
      "2.98e+01 km s**-1\n"
     ]
    },
    {
     "name": "stderr",
     "output_type": "stream",
     "text": [
      "\n"
     ]
    }
   ],
   "source": [
    "#Make sure I have 2 stars in there with correct pos/vel\n",
    "print s1.stars[0]['pos']\n",
    "print s1.stars[1]['pos']\n",
    "\n",
    "print s1.stars[0]['vel']\n",
    "print s1.stars[1]['vel']\n",
    "\n",
    "print s1.stars[0]['mass']\n",
    "print s1.stars[1]['mass']\n",
    "\n",
    "print\n",
    "#Make sure I have 2 stars in there with correct pos/vel:\n",
    "print s.stars[0]['pos']\n",
    "print s.stars[1]['pos']\n",
    "\n",
    "print s.stars[0]['vel']\n",
    "print s.stars[1]['vel']\n",
    "\n",
    "print s.stars[0]['mass']\n",
    "print s.stars[1]['mass']\n",
    "\n",
    "#Print current units\n",
    "print s.stars[0]['pos'].units\n",
    "print s.stars[0]['vel'].units"
   ]
  },
  {
   "cell_type": "raw",
   "metadata": {},
   "source": [
    "[ 0.02738162  0.          0.        ]\n",
    "[-0.1043583 -0.        -0.       ]\n",
    "[-0.         0.6582417  0.       ]\n",
    "[ 0.        -2.5087266 -0.       ]"
   ]
  },
  {
   "cell_type": "code",
   "execution_count": 5,
   "metadata": {
    "collapsed": false
   },
   "outputs": [
    {
     "name": "stdout",
     "output_type": "stream",
     "text": [
      "0.00383002287663\n",
      "Msol\n"
     ]
    }
   ],
   "source": [
    "print np.sum(s.gas['mass'])\n",
    "print s.gas['mass'].units"
   ]
  },
  {
   "cell_type": "code",
   "execution_count": 24,
   "metadata": {
    "collapsed": false
   },
   "outputs": [
    {
     "name": "stdout",
     "output_type": "stream",
     "text": [
      "Initial eccentricity = [ 0.10518858]\n",
      "Final eccentricity = [ 0.10518858]\n",
      "Percent change in eccentricity =  [ 0.]\n",
      "[ 0.]\n",
      "\n",
      "Initial semimajor axis = [ 0.14685058]\n",
      "Final semimajor axis = [ 0.14685058]\n",
      "Percent change in semimajor axis =  [ 0.]\n",
      "\n",
      "Initial Inclination = [ 0.]\n",
      "Final Inclination = [ 0.]\n",
      "Change in inclination =  [ 0.]\n",
      "\n",
      "Initial mass = [ 0.94900048  0.24899951]\n",
      "Initial gas particles = 400000\n",
      "Final mass = [ 0.94900048  0.24899951]\n",
      "Final gas particles = 400000\n",
      "Percent change in mass= [ 0.  0.]\n",
      "Change in gas particles = 0\n",
      "\n"
     ]
    }
   ],
   "source": [
    "\"\"\"\n",
    "Calculate changes in eccentricity, semimajor axis, stellar mass, and gas particle number over course of simulation.\n",
    "\"\"\"\n",
    "\n",
    "#Calculate Initial system parameters\n",
    "x1 = s1.stars[0]['pos']\n",
    "x2 = s1.stars[1]['pos']\n",
    "v1 = s1.stars[0]['vel']\n",
    "v2 = s1.stars[1]['vel']\n",
    "m1 = s1.stars[0]['mass']\n",
    "m2 = s1.stars[1]['mass']\n",
    "\n",
    "ii = AddBinary.calcInc(x1, x2, v1, v2)\n",
    "\n",
    "ei = AddBinary.calcEcc(x1, x2, v1, v2, m1, m2)\n",
    "\n",
    "ai = AddBinary.calcSemi(x1, x2, v1, v2, m1, m2)\n",
    "gi = len(s1.g)\n",
    "mi = s1.stars['mass']\n",
    "\n",
    "#Calculate final system parameters\n",
    "x1 = s.stars[0]['pos']\n",
    "x2 = s.stars[1]['pos']\n",
    "v1 = s.stars[0]['vel']\n",
    "v2 = s.stars[1]['vel']\n",
    "m1 = s.stars[0]['mass']\n",
    "m2 = s.stars[1]['mass']\n",
    "\n",
    "ef = AddBinary.calcEcc(x1, x2, v1, v2, m1, m2)\n",
    "af = AddBinary.calcSemi(x1, x2, v1, v2, m1, m2)\n",
    "ifin = AddBinary.calcInc(x1, x2, v1, v2)\n",
    "gf = len(s.g)\n",
    "mf = s.stars['mass']\n",
    "\n",
    "#Change in eccentricity\n",
    "print \"Initial eccentricity =\",ei\n",
    "print \"Final eccentricity =\",ef\n",
    "print \"Percent change in eccentricity = \",((ef-ei)/ei)*100\n",
    "print ef-ei\n",
    "print\n",
    "\n",
    "#Change in semimajor axis\n",
    "print \"Initial semimajor axis =\",ai\n",
    "print \"Final semimajor axis =\",af\n",
    "print \"Percent change in semimajor axis = \",((af-ai)/ai)*100\n",
    "print\n",
    "\n",
    "#Change in inclination\n",
    "print \"Initial Inclination =\", ii\n",
    "print \"Final Inclination =\", ifin\n",
    "print \"Change in inclination = \",((ifin-ii))\n",
    "print \n",
    "\n",
    "#Change in mass and # of gas particles eaten\n",
    "print \"Initial mass =\",mi\n",
    "print \"Initial gas particles =\",gi\n",
    "print \"Final mass =\",mf\n",
    "print \"Final gas particles =\",gf\n",
    "print \"Percent change in mass=\",((mf-mi)/mi)*100\n",
    "print \"Change in gas particles =\",(gf-gi)\n",
    "print"
   ]
  },
  {
   "cell_type": "code",
   "execution_count": 7,
   "metadata": {
    "collapsed": false
   },
   "outputs": [
    {
     "name": "stdout",
     "output_type": "stream",
     "text": [
      "Binary center of mass = [[ -4.37144298e-10   8.25104580e-12   0.00000000e+00]]\n",
      "Current entire system center of mass = [[  1.07309457e-06   1.07353855e-06   1.07353032e-06]]\n",
      "Magnitude of system center of mass = [  1.85916226e-06]\n"
     ]
    }
   ],
   "source": [
    "#Check CoM\n",
    "print \"Binary center of mass = {0}\".format(AddBinary.calcCOM(m1,m2,x1,x2))\n",
    "sysCom = binaryUtils.computeCOM(s.stars,s.gas)\n",
    "print \"Current entire system center of mass = {0}\".format(sysCom)\n",
    "print \"Magnitude of system center of mass = {0}\".format(np.sqrt(AddBinary.dotProduct(sysCom,sysCom)))"
   ]
  },
  {
   "cell_type": "markdown",
   "metadata": {},
   "source": [
    "Look at disk center of mass as a function of radius.  At each radius, only consider enclosed mass."
   ]
  },
  {
   "cell_type": "code",
   "execution_count": 8,
   "metadata": {
    "collapsed": false
   },
   "outputs": [
    {
     "name": "stderr",
     "output_type": "stream",
     "text": [
      "SimSnap: deriving array rxy\n"
     ]
    },
    {
     "data": {
      "text/plain": [
       "<matplotlib.text.Text at 0x7f854a1218d0>"
      ]
     },
     "execution_count": 8,
     "metadata": {},
     "output_type": "execute_result"
    },
    {
     "data": {
      "image/png": "[encoded data removed]",
      "text/plain": [
       "<matplotlib.figure.Figure at 0x7f855c854250>"
      ]
     },
     "metadata": {},
     "output_type": "display_data"
    }
   ],
   "source": [
    "r_in, r_out = 1.0*ai, 10.0*ai\n",
    "bins = 200\n",
    "r, rBinEdges = binaryUtils.calcDiskRadialBins(s,r_in,r_out,bins)\n",
    "com = binaryUtils.calcCoMVsRadius(s,rBinEdges)\n",
    "\n",
    "pois = binaryUtils.calcPoissonVsRadius(s,rBinEdges)\n",
    "\n",
    "comMag = np.sqrt(AddBinary.dotProduct(com,com))\n",
    "#plt.plot(r,comMag)\n",
    "#plt.xlabel(\"radius [AU]\")\n",
    "#plt.ylabel(\"Center of Mass [AU]\")\n",
    "\n",
    "#plt.savefig(\"noiseMassive.pdf\")"
   ]
  },
  {
   "cell_type": "code",
   "execution_count": 27,
   "metadata": {
    "collapsed": false
   },
   "outputs": [
    {
     "name": "stdout",
     "output_type": "stream",
     "text": [
      "[ 0.10518858] [ 0.14685058] [ 0.] [ 0.] [ 0.] [ 14.21720574]\n",
      "[ 0.94900048] [ 0.24899951]\n"
     ]
    }
   ],
   "source": [
    "e, a, i, Omega, w, nu = AddBinary.calcOrbitalElements(x1,x2,v1,v2,m1,m2)\n",
    "M = AddBinary.calcMeanAnomaly(x1,x2,v1,v2,m1,m2)\n",
    "print e, a, i, Omega, w, nu\n",
    "print m1,m2"
   ]
  },
  {
   "cell_type": "code",
   "execution_count": 28,
   "metadata": {
    "collapsed": false
   },
   "outputs": [
    {
     "name": "stdout",
     "output_type": "stream",
     "text": [
      "0.146850582692 0.10518858059 0.0 0.0 0.0 14.2172057439\n",
      "\n",
      "[[ 0.1317437  0.0034075  0.       ]] [[-0.00765875  3.16548353  0.        ]]\n",
      "\n",
      "(0.10518858059,0.146850582692,0.0,0.0,0.0,14.2172057439)\n"
     ]
    }
   ],
   "source": [
    "x1 = np.asarray([ 0.02738162,  0.,          0.        ])\n",
    "x2 = np.asarray([-0.1043583,0.,0.])\n",
    "v1 = np.asarray([0.,0.6582417,0.])\n",
    "v2 = np.asarray([0.,-2.5087266,0.])\n",
    "r = x1-x2\n",
    "v = v1-v2\n",
    "#X = [r,v]\n",
    "\n",
    "X = s\n",
    "#X = [0.1032,0.1469,0.0,0.0,0.0,0.0]\n",
    "test = binary.Binary(X,m1,m2,\"snapshot\")\n",
    "x1,x2,v1,v2= test.generateICs()\n",
    "print test.a, test.e, test.i, test.Omega, test.w, test.nu\n",
    "print\n",
    "print test.r, test.v\n",
    "print\n",
    "print test"
   ]
  },
  {
   "cell_type": "code",
   "execution_count": 29,
   "metadata": {
    "collapsed": false
   },
   "outputs": [],
   "source": [
    "rCrit, error = AddBinary.calcCriticalRadius(a,e,mi[0],mi[1])"
   ]
  },
  {
   "cell_type": "code",
   "execution_count": 12,
   "metadata": {
    "collapsed": false
   },
   "outputs": [
    {
     "name": "stdout",
     "output_type": "stream",
     "text": [
      "15.1935066676\n"
     ]
    }
   ],
   "source": [
    "print 2.0*np.pi/AddBinary.calcCircularFrequency(x1,x2,v1,v2,m1,m2)"
   ]
  },
  {
   "cell_type": "markdown",
   "metadata": {},
   "source": [
    "#Find inner disk edge\n",
    "Following the prescription of Artymowics+1994, define the gap radius for a circumbinary disk to be at the disk edge position where the surface density is half of the maximum value in the disk.  In that paper, the gap size was studied for various binary eccentricities and mass ratios.  For Kepler 38, the mass ratio is 0.263 ~ 0.3 and the eccentricity is ~0.1.  These values correspond to a gap size of $r = 2.35 \\pm 0.15$ times the binary semimajor axis.  For Kepler 38 whose a = 0.1469, one would expect to find after ~ 100 binary orbits a gap radius of ~0.34 au.  This gap formation occurs due to the tidal action of the binary system on the disk (and accretion where applicable).\n",
    "\n",
    "The initial conditions of Artymowics+1994:\n",
    "\n",
    "N_gas: ~ $10^4$\n",
    "Disk Properties: axisymmetric; initialized with Keplerian velocities; $\\Sigma \\sim 1/r$; introduced binary into initially smooth disk (similar to my initialization).  For a binary with mass parameter $\\mu = 0.3$ and eccentricity = 0.1, they found a gap at $r \\approx 2.3a$ which is outside the 3:1 orbital period commensurability (Arty+1994 pg. 662).  \n",
    "\n",
    "\n",
    "Note: In Kley+2014, they found that after ~2000yr of evolution, the inner edge of the disk to be $r \\approx 0.45 au$ which corresponds to roughly $3a_{bin}$ which they claim is in good agreement with the results of Artymowics+1994.  The problem here is that Kley+2014 studied Kepler 38 where the mass ratio is about 0.3 and the eccentricity about 0.1.  The result that $r_{gap} \\approx 3a_{bin}$ corresponds to a mass ratio of 0.3 and an eccentricity of 0.5 which does not hold for Kepler 38.\n",
    "\n",
    "\n",
    "Below, I bin the disk surface density into radial bins and compute the radius at which the half maximum surface density occurs as described above."
   ]
  },
  {
   "cell_type": "code",
   "execution_count": 13,
   "metadata": {
    "collapsed": false
   },
   "outputs": [
    {
     "name": "stdout",
     "output_type": "stream",
     "text": [
      "Profile: density()\n",
      "Profile: mass()\n",
      "Inner gap edge radius = 0.234190811216\n"
     ]
    }
   ],
   "source": [
    "#Create profile.  Note: Choose nbins to be the same number of n points ICgen-Binary used to initial generate disk\n",
    "bins = 500\n",
    "p = pynbody.analysis.profile.Profile(s,max='20 au',min='0.01 au',type='log',nbins=bins)\n",
    "pg = pynbody.analysis.profile.Profile(s.gas,max='20 au',nbins=bins)\n",
    "\n",
    "#Get arrays for surface density sigma, radius r\n",
    "sigma = pg['density']\n",
    "r = pg['rbins']\n",
    "\n",
    "#Select subset of radial points within radius at which sigma = sigmaMax/2 (inner edge of disk)\n",
    "max_index = np.argmax(sigma)\n",
    "mask = (r < r[max_index])\n",
    "sigma = sigma[mask]\n",
    "r = r[mask]\n",
    "\n",
    "#Find location of surface density maximum and look at radius r < r_max to find radius where surface density = max/2.0\n",
    "halfMax = pg['density'].max()/2.0\n",
    "#print \"Half Max Surface Density = {0} {1}\".format(halfMax,pg['density'].units)\n",
    "    \n",
    "crit_r = binaryUtils.find_crit_radius(r,sigma,halfMax,bins)\n",
    "    \n",
    "print \"Inner gap edge radius = {0}\".format(crit_r)"
   ]
  },
  {
   "cell_type": "code",
   "execution_count": 14,
   "metadata": {
    "collapsed": false
   },
   "outputs": [
    {
     "name": "stdout",
     "output_type": "stream",
     "text": [
      "0.390209079761\n",
      "4.85e-09 kpc\n",
      "4.25e+16 Msol kpc**-2\n"
     ]
    },
    {
     "data": {
      "image/png": "[encoded data removed]",
      "text/plain": [
       "<matplotlib.figure.Figure at 0x7f8558fb1610>"
      ]
     },
     "metadata": {},
     "output_type": "display_data"
    }
   ],
   "source": [
    "#Try plotting stuff\n",
    "#Plot the gas surface density as a function of radius for test disk\n",
    "\n",
    "#Now do the plotting with data derived from gas profile, pg\n",
    "#In this case, tangential velocity vs. radius\n",
    "plt.plot(pg['rbins'], pg['density'],'k')\n",
    "plt.xlabel(\"$R$ [AU]\")\n",
    "plt.ylabel(r'$\\Sigma$ [M$_{\\odot}$ au$^{-2}$]')\n",
    "plt.yscale('log')\n",
    "plt.title('Disk Surface Density Profile',y=1.06)\n",
    "plt.xscale('log') #confirm -1/2 radius powerlaw relation\n",
    "plt.xlim([0,5])\n",
    "\n",
    "#Plot lines of interest\n",
    "loc = 0.4644 #Radius of Kepler-38b\n",
    "print float(rCrit)\n",
    "#plt.axvline(x=rCrit, ymin=-1, ymax = 1, linewidth=2, color='blue',label='$R_{critical}$ (Holman+1999)')\n",
    "#plt.axvline(x=loc, ymin=-1, ymax = 1, linewidth=2, color='red',label=\"Kepler-38b Radius\")\n",
    "#plt.legend()\n",
    "\n",
    "#Print units to confirm\n",
    "print pg['rbins'].units\n",
    "print pg['density'].units\n",
    "\n",
    "#plt.savefig(\"sigmaVsR.png\")"
   ]
  },
  {
   "cell_type": "code",
   "execution_count": 15,
   "metadata": {
    "collapsed": false
   },
   "outputs": [
    {
     "name": "stderr",
     "output_type": "stream",
     "text": [
      "/astro/apps6/anaconda2.0/lib/python2.7/site-packages/pynbody/analysis/profile.py:407: RuntimeWarning: invalid value encountered in double_scalars\n",
      "  result[i] = (name_array*mass_array).sum()/self['mass'][i]\n",
      "/astro/apps6/anaconda2.0/lib/python2.7/site-packages/matplotlib/scale.py:93: RuntimeWarning: invalid value encountered in less_equal\n",
      "  mask = a <= 0.0\n"
     ]
    },
    {
     "data": {
      "image/png": "[encoded data removed]",
      "text/plain": [
       "<matplotlib.figure.Figure at 0x7f8547e21a50>"
      ]
     },
     "metadata": {},
     "output_type": "display_data"
    }
   ],
   "source": [
    "#Try plotting temperature profile of gas in plane of disk\n",
    "#T vs. radius\n",
    "plt.plot(pg['rbins'], pg['temp'],'k', label = '$Gas$')\n",
    "plt.legend()\n",
    "plt.semilogy()\n",
    "plt.semilogx()\n",
    "plt.xlabel(\"$R$ [AU]\")\n",
    "plt.ylabel(\"$T$ [K]\")\n",
    "plt.show()"
   ]
  },
  {
   "cell_type": "code",
   "execution_count": 16,
   "metadata": {
    "collapsed": false
   },
   "outputs": [
    {
     "name": "stdout",
     "output_type": "stream",
     "text": [
      "Finding halo center...\n",
      "cen= [  7.57122307e-09  -4.70428240e-09   4.48022256e-10]\n",
      "Finding halo velocity center...\n",
      "vcen= [ -8.69533941e-06  -2.50004876e-06   0.00000000e+00]\n",
      "Calculating angular momentum vector...\n",
      "Transforming simulation...\n",
      "Finding halo velocity center...\n",
      "vcen= [  2.54819781e-17   6.67161454e-18   5.00966112e-22]\n",
      "Rendering image on 4 threads...\n"
     ]
    },
    {
     "name": "stderr",
     "output_type": "stream",
     "text": [
      "SimSnap: deriving array smooth\n",
      "Building 4 trees with leafsize=16\n",
      "Tree build done in  0.17 s\n",
      "Smoothing with 32 nearest neighbours\n",
      "Smoothing done in 0.964s\n"
     ]
    },
    {
     "ename": "ValueError",
     "evalue": "Failed to make a sensible logarithmic image. This probably means there are no particles in the view.",
     "output_type": "error",
     "traceback": [
      "\u001b[1;31m---------------------------------------------------------------------------\u001b[0m",
      "\u001b[1;31mValueError\u001b[0m                                Traceback (most recent call last)",
      "\u001b[1;32m<ipython-input-16-74ae5ecca5ac>\u001b[0m in \u001b[0;36m<module>\u001b[1;34m()\u001b[0m\n\u001b[0;32m      5\u001b[0m \u001b[0mpynbody\u001b[0m\u001b[1;33m.\u001b[0m\u001b[0manalysis\u001b[0m\u001b[1;33m.\u001b[0m\u001b[0mhalo\u001b[0m\u001b[1;33m.\u001b[0m\u001b[0mcenter\u001b[0m\u001b[1;33m(\u001b[0m\u001b[0ms\u001b[0m\u001b[1;33m,\u001b[0m\u001b[0mmode\u001b[0m\u001b[1;33m=\u001b[0m\u001b[1;34m'hyb'\u001b[0m\u001b[1;33m)\u001b[0m\u001b[1;33m\u001b[0m\u001b[0m\n\u001b[0;32m      6\u001b[0m \u001b[1;31m#pynbody.analysis.angmom.faceon(s1.g)#create an image of gas density integrated down the line of site (z axis) of width 50 Au\u001b[0m\u001b[1;33m\u001b[0m\u001b[1;33m\u001b[0m\u001b[0m\n\u001b[1;32m----> 7\u001b[1;33m \u001b[0msph\u001b[0m\u001b[1;33m.\u001b[0m\u001b[0mimage\u001b[0m\u001b[1;33m(\u001b[0m\u001b[0ms\u001b[0m\u001b[1;33m.\u001b[0m\u001b[0mg\u001b[0m\u001b[1;33m,\u001b[0m\u001b[0mqty\u001b[0m\u001b[1;33m=\u001b[0m\u001b[1;34m\"rho\"\u001b[0m\u001b[1;33m,\u001b[0m\u001b[0munits\u001b[0m\u001b[1;33m=\u001b[0m\u001b[1;34m\"g cm^-2\"\u001b[0m\u001b[1;33m,\u001b[0m\u001b[0mwidth\u001b[0m\u001b[1;33m=\u001b[0m\u001b[1;36m1\u001b[0m\u001b[1;33m,\u001b[0m\u001b[0mcmap\u001b[0m\u001b[1;33m=\u001b[0m\u001b[1;34m\"Greys\"\u001b[0m\u001b[1;33m)\u001b[0m\u001b[1;33m\u001b[0m\u001b[0m\n\u001b[0m\u001b[0;32m      8\u001b[0m \u001b[1;33m\u001b[0m\u001b[0m\n\u001b[0;32m      9\u001b[0m \u001b[1;31m#Plot circle representing theoretical location of gap...should occur ~ 100 orbits\u001b[0m\u001b[1;33m\u001b[0m\u001b[1;33m\u001b[0m\u001b[0m\n",
      "\u001b[1;32m/astro/apps6/anaconda2.0/lib/python2.7/site-packages/pynbody/plot/sph.pyc\u001b[0m in \u001b[0;36mimage\u001b[1;34m(sim, qty, width, resolution, units, log, vmin, vmax, av_z, filename, z_camera, clear, cmap, center, title, qtytitle, show_cbar, subplot, noplot, ret_im, fill_nan, fill_val, linthresh, **kwargs)\u001b[0m\n\u001b[0;32m    275\u001b[0m                 \u001b[0mim\u001b[0m\u001b[1;33m[\u001b[0m\u001b[0mnp\u001b[0m\u001b[1;33m.\u001b[0m\u001b[0mwhere\u001b[0m\u001b[1;33m(\u001b[0m\u001b[0mim\u001b[0m\u001b[1;33m==\u001b[0m\u001b[1;36m0\u001b[0m\u001b[1;33m)\u001b[0m\u001b[1;33m]\u001b[0m \u001b[1;33m=\u001b[0m \u001b[0mabs\u001b[0m\u001b[1;33m(\u001b[0m\u001b[0mim\u001b[0m\u001b[1;33m[\u001b[0m\u001b[0mnp\u001b[0m\u001b[1;33m.\u001b[0m\u001b[0mwhere\u001b[0m\u001b[1;33m(\u001b[0m\u001b[0mabs\u001b[0m\u001b[1;33m(\u001b[0m\u001b[0mim\u001b[0m\u001b[1;33m!=\u001b[0m\u001b[1;36m0\u001b[0m\u001b[1;33m)\u001b[0m\u001b[1;33m)\u001b[0m\u001b[1;33m]\u001b[0m\u001b[1;33m)\u001b[0m\u001b[1;33m.\u001b[0m\u001b[0mmin\u001b[0m\u001b[1;33m(\u001b[0m\u001b[1;33m)\u001b[0m\u001b[1;33m\u001b[0m\u001b[0m\n\u001b[0;32m    276\u001b[0m             \u001b[1;32mexcept\u001b[0m \u001b[0mValueError\u001b[0m\u001b[1;33m:\u001b[0m\u001b[1;33m\u001b[0m\u001b[0m\n\u001b[1;32m--> 277\u001b[1;33m                 \u001b[1;32mraise\u001b[0m \u001b[0mValueError\u001b[0m\u001b[1;33m,\u001b[0m \u001b[1;34m\"Failed to make a sensible logarithmic image. This probably means there are no particles in the view.\"\u001b[0m\u001b[1;33m\u001b[0m\u001b[0m\n\u001b[0m\u001b[0;32m    278\u001b[0m \u001b[1;33m\u001b[0m\u001b[0m\n\u001b[0;32m    279\u001b[0m             \u001b[1;31m# check if there are negative values -- if so, use the symmetric log normalization\u001b[0m\u001b[1;33m\u001b[0m\u001b[1;33m\u001b[0m\u001b[0m\n",
      "\u001b[1;31mValueError\u001b[0m: Failed to make a sensible logarithmic image. This probably means there are no particles in the view."
     ]
    }
   ],
   "source": [
    "#Create nice color plot of temp as function of radius\n",
    "\n",
    "#Not working for now since need to run image through changa once to get velocities\n",
    "pynbody.analysis.angmom.faceon(s)\n",
    "pynbody.analysis.halo.center(s,mode='hyb')\n",
    "#pynbody.analysis.angmom.faceon(s1.g)#create an image of gas density integrated down the line of site (z axis) of width 50 Au\n",
    "sph.image(s.g,qty=\"rho\",units=\"g cm^-2\",width=1,cmap=\"Greys\")\n",
    "\n",
    "#Plot circle representing theoretical location of gap...should occur ~ 100 orbits\n",
    "list_radians = [0]\n",
    " \n",
    "# from degrees to radians, the 0 is already included so\n",
    "# we don't make the universe collapse by dividing by zero.\n",
    "for i in range(0,360):\n",
    "    float_div = 180.0/(i+1)\n",
    "    list_radians.append(pi/float_div)\n",
    "     \n",
    "# list of coordinates for each point\n",
    "list_x2_axis = []\n",
    "list_y2_axis = []\n",
    "\n",
    "r = 2.3*ai #Inner gap edge predicted by Artimowicz+1994 for binary similar to Kepler 38\n",
    "#r = 0.25\n",
    "# calculate coordinates\n",
    "# and append to above list\n",
    "for a in list_radians:\n",
    "    list_x2_axis.append(r*cos(a))\n",
    "    list_y2_axis.append(r*sin(a))\n",
    "    \n",
    "#plot the coordinates\n",
    "plt.plot(list_x2_axis,list_y2_axis,c='r')\n",
    "plt.xlim([-0.5,0.5])\n",
    "plt.ylim([-0.5,0.5])"
   ]
  },
  {
   "cell_type": "code",
   "execution_count": null,
   "metadata": {
    "collapsed": false
   },
   "outputs": [],
   "source": [
    "#Create verticle profiles\n",
    "\n",
    "#Create verticle gas profile object\n",
    "p_vert = pynbody.analysis.profile.VerticalProfile(s.gas, '0 au', '20 au', '25 au') #(range_min,range_max,max)\n",
    "\n",
    "#Now plot density vs distance\n",
    "#Confirm density units are correct\n",
    "p_vert['density'].convert_units('Msol au**-3')\n",
    "print p_vert['density'].units\n",
    "print p_vert['rbins'].units\n",
    "plt.plot(p_vert['rbins'], p_vert['density'],'k', hold=False)\n",
    "plt.xlabel('$z$ [Au]')\n",
    "plt.ylabel(r'$\\rho_{\\star}$ [M$_{\\odot}$ Au$^{-3}$]')\n",
    "plt.yscale('log')"
   ]
  },
  {
   "cell_type": "code",
   "execution_count": null,
   "metadata": {
    "collapsed": false
   },
   "outputs": [],
   "source": [
    "#Plot temperature vs. distance from plane\n",
    "#Looks terrible since data is for small number of particles\n",
    "plt.plot(p_vert['rbins'], p_vert['temp'],'k', hold=False)\n",
    "plt.xlabel('$z$ [Au]'); plt.ylabel('$T$ [K]')"
   ]
  },
  {
   "cell_type": "code",
   "execution_count": null,
   "metadata": {
    "collapsed": false
   },
   "outputs": [],
   "source": [
    "#Plot velocity vectors\n",
    "f, axs = plt.subplots(1,1,figsize=(8,8))\n",
    "\n",
    "#create a simple slice showing the gas temperature, with velocity vectors overlaid\n",
    "sph.velocity_image(s.g, vector_color=\"cyan\", qty=\"temp\",width=10,cmap=\"YlOrRd\",\n",
    "                   denoise=True,approximate_fast=False, show_cbar = False)\n",
    "\n",
    "#plt.savefig(\"vectors.pdf\")"
   ]
  },
  {
   "cell_type": "code",
   "execution_count": null,
   "metadata": {
    "collapsed": true
   },
   "outputs": [],
   "source": []
  }
 ],
 "metadata": {
  "kernelspec": {
   "display_name": "Python 2",
   "language": "python",
   "name": "python2"
  },
  "language_info": {
   "codemirror_mode": {
    "name": "ipython",
    "version": 2
   },
   "file_extension": ".py",
   "mimetype": "text/x-python",
   "name": "python",
   "nbconvert_exporter": "python",
   "pygments_lexer": "ipython2",
   "version": "2.7.10"
  }
 },
 "nbformat": 4,
 "nbformat_minor": 0
}
