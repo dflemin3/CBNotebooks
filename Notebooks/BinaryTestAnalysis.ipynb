{
 "cells": [
  {
   "cell_type": "markdown",
   "metadata": {},
   "source": [
    "David Fleming Jan. 28,2015\n",
    "Ipython notebook for working with the evolution of a circumbinary disk.\n",
    "\n",
    "Case: Kepler 38 modelled after the initial conditions of Kley+2014\n",
    "\n",
    "General consideration: Disk initialized as if it sees star at origin (COM) with total mass of the binary system.\n",
    "Binary stars then replace single star at origin with positions/velocities such that COM coincides with the origin and the binary system starts out at the periastron.\n",
    "\n",
    "Initial CB disk conditions:\n",
    "\n",
    "$\\Sigma \\sim r^{-1/2}$\n",
    "\n",
    "$T \\sim r^{-1}$\n",
    "\n",
    "$T_0 = 750K \\ at \\ r_0 = 1au$ corresponding to typical values for minimum mass solar nebula\n",
    "\n",
    "$m_{disk} = 0.00383643566693 M_{\\odot}$\n",
    "\n",
    "$\\mu = 2.35$\n",
    "\n",
    "$Q_{min} = 1$\n",
    "\n",
    "$R_{disk} = R_{max} = 2.0 au$\n",
    "\n",
    "$R_{in} = 0.25 au$\n",
    "\n",
    "cutlength = 0.01\n",
    "\n",
    "$n_{gas} = 30000, n_{points} = 500 $\n",
    "\n",
    "Initial Binary conditions:\n",
    "\n",
    "$mass_{primary} = 0.949M_{\\odot}$\n",
    "\n",
    "$mass_{secondary} = 0.249M_{\\odot}$\n",
    "\n",
    "$a = 0.1469 au, \\ e = 0.1032$\n",
    "\n",
    "ChaNGa ICs:\n",
    "\n",
    "dDelta = 0.0021 (dDelta > 0.0023 found to be unstable...binary system flew off screen)\n",
    "\n",
    "dEta = 0.1\n",
    "\n",
    "dTheta = 0.65\n",
    "\n",
    "nSteps = 45000\n",
    "\n",
    "For the rest, see the .param file\n",
    "\n",
    "Contains basic code for anaylsis, plotting to be used later with my disks."
   ]
  },
  {
   "cell_type": "code",
   "execution_count": 1,
   "metadata": {
    "collapsed": false
   },
   "outputs": [
    {
     "name": "stdout",
     "output_type": "stream",
     "text": [
      "/astro/users/dflemin3/Desktop/ICgen-Binary/isaac.pyc\n"
     ]
    }
   ],
   "source": [
    "%matplotlib inline\n",
    "#Imports required to run\n",
    "\n",
    "import pynbody\n",
    "from matplotlib.pylab import *\n",
    "import matplotlib.pylab as plt\n",
    "import pynbody.plot.sph as sph\n",
    "import numpy as np\n",
    "\n",
    "#Imports from ICgen-Binary directory\n",
    "import sys\n",
    "sys.path.append('/astro/users/dflemin3/Desktop/ICgen-Binary')\n",
    "sys.path.append('/astro/users/dflemin3/Desktop')\n",
    "import isaac\n",
    "import AddBinary\n",
    "import binaryUtils\n",
    "\n",
    "#Typical plot parameters that make for pretty plots\n",
    "plt.rcParams['figure.figsize'] = (10,6)\n",
    "plt.rcParams['font.size'] = 18"
   ]
  },
  {
   "cell_type": "code",
   "execution_count": 2,
   "metadata": {
    "collapsed": false
   },
   "outputs": [
    {
     "ename": "IOError",
     "evalue": "File 'k38_snap.std': format not understood or does not exist",
     "output_type": "error",
     "traceback": [
      "\u001b[1;31m---------------------------------------------------------------------------\u001b[0m",
      "\u001b[1;31mIOError\u001b[0m                                   Traceback (most recent call last)",
      "\u001b[1;32m<ipython-input-2-ddbe790ccfdc>\u001b[0m in \u001b[0;36m<module>\u001b[1;34m()\u001b[0m\n\u001b[0;32m      1\u001b[0m \u001b[1;31m#Load Snapshot containing final conditions\u001b[0m\u001b[1;33m\u001b[0m\u001b[1;33m\u001b[0m\u001b[0m\n\u001b[0;32m      2\u001b[0m \u001b[1;31m#Remember to have snapshot AND param file in same directory as this notebook\u001b[0m\u001b[1;33m\u001b[0m\u001b[1;33m\u001b[0m\u001b[0m\n\u001b[1;32m----> 3\u001b[1;33m \u001b[0ms\u001b[0m \u001b[1;33m=\u001b[0m \u001b[0mpynbody\u001b[0m\u001b[1;33m.\u001b[0m\u001b[0mload\u001b[0m\u001b[1;33m(\u001b[0m\u001b[1;34m'k38_snap.std'\u001b[0m\u001b[1;33m)\u001b[0m\u001b[1;33m\u001b[0m\u001b[0m\n\u001b[0m\u001b[0;32m      4\u001b[0m \u001b[1;33m\u001b[0m\u001b[0m\n\u001b[0;32m      5\u001b[0m \u001b[1;31m#Load initial conditions\u001b[0m\u001b[1;33m\u001b[0m\u001b[1;33m\u001b[0m\u001b[0m\n",
      "\u001b[1;32m/astro/apps6/anaconda2.0/lib/python2.7/site-packages/pynbody/__init__.pyc\u001b[0m in \u001b[0;36mload\u001b[1;34m(filename, *args, **kwargs)\u001b[0m\n\u001b[0;32m    231\u001b[0m             \u001b[1;32mreturn\u001b[0m \u001b[0mc\u001b[0m\u001b[1;33m(\u001b[0m\u001b[0mfilename\u001b[0m\u001b[1;33m,\u001b[0m\u001b[1;33m*\u001b[0m\u001b[0margs\u001b[0m\u001b[1;33m,\u001b[0m\u001b[1;33m**\u001b[0m\u001b[0mkwargs\u001b[0m\u001b[1;33m)\u001b[0m\u001b[1;33m\u001b[0m\u001b[0m\n\u001b[0;32m    232\u001b[0m \u001b[1;33m\u001b[0m\u001b[0m\n\u001b[1;32m--> 233\u001b[1;33m     \u001b[1;32mraise\u001b[0m \u001b[0mIOError\u001b[0m\u001b[1;33m(\u001b[0m\u001b[1;34m\"File %r: format not understood or does not exist\"\u001b[0m\u001b[1;33m%\u001b[0m\u001b[0mfilename\u001b[0m\u001b[1;33m)\u001b[0m\u001b[1;33m\u001b[0m\u001b[0m\n\u001b[0m\u001b[0;32m    234\u001b[0m \u001b[1;33m\u001b[0m\u001b[0m\n\u001b[0;32m    235\u001b[0m \u001b[1;33m\u001b[0m\u001b[0m\n",
      "\u001b[1;31mIOError\u001b[0m: File 'k38_snap.std': format not understood or does not exist"
     ]
    }
   ],
   "source": [
    "#Load Snapshot containing final conditions\n",
    "#Remember to have snapshot AND param file in same directory as this notebook\n",
    "s = pynbody.load('k38_snap.std')\n",
    "\n",
    "#Load initial conditions\n",
    "s1 = pynbody.load('k38_snap.std')"
   ]
  },
  {
   "cell_type": "code",
   "execution_count": null,
   "metadata": {
    "collapsed": false
   },
   "outputs": [],
   "source": [
    "#Make sure I have 2 stars in there with correct pos/vel\n",
    "print s1.stars[0]['pos']\n",
    "print s1.stars[1]['pos']\n",
    "\n",
    "print s1.stars[0]['vel']\n",
    "print s1.stars[1]['vel']\n",
    "\n",
    "print s1.stars[0]['mass']\n",
    "print s1.stars[1]['mass']\n",
    "\n",
    "print\n",
    "#Make sure I have 2 stars in there with correct pos/vel:\n",
    "print s.stars[0]['pos']\n",
    "print s.stars[1]['pos']\n",
    "\n",
    "print s.stars[0]['vel']\n",
    "print s.stars[1]['vel']\n",
    "\n",
    "print s.stars[0]['mass']\n",
    "print s.stars[1]['mass']\n",
    "\n",
    "#Print current units\n",
    "print s.stars[0]['pos'].units\n",
    "print s.stars[0]['vel'].units"
   ]
  },
  {
   "cell_type": "code",
   "execution_count": null,
   "metadata": {
    "collapsed": false
   },
   "outputs": [],
   "source": [
    "print np.sum(s.gas['mass'])\n",
    "print s.gas['mass'].units"
   ]
  },
  {
   "cell_type": "code",
   "execution_count": null,
   "metadata": {
    "collapsed": false
   },
   "outputs": [],
   "source": [
    "#Check CoM\n",
    "\"\"\"\n",
    "x1 = s1.stars[0]['pos']\n",
    "x2 = s1.stars[1]['pos']\n",
    "m1 = s1.stars[0]['mass']\n",
    "m2 = s1.stars[1]['mass']\n",
    "\n",
    "print AddBinary.calcCOM(m1,m2,x1,x2)\n",
    "\"\"\"\n",
    "\n",
    "x1 = s.stars[0]['pos']\n",
    "x2 = s.stars[1]['pos']\n",
    "m1 = s.stars[0]['mass']\n",
    "m2 = s.stars[1]['mass']\n",
    "\n",
    "print AddBinary.calcCOM(m1,m2,x1,x2)"
   ]
  },
  {
   "cell_type": "code",
   "execution_count": null,
   "metadata": {
    "collapsed": false
   },
   "outputs": [],
   "source": [
    "\"\"\"\n",
    "Calculate changes in eccentricity, semimajor axis, stellar mass, and gas particle number over course of simulation.\n",
    "\"\"\"\n",
    "\n",
    "#Calculate Initial system parameters\n",
    "x1 = s1.stars[0]['pos']\n",
    "x2 = s1.stars[1]['pos']\n",
    "v1 = s1.stars[0]['vel']\n",
    "v2 = s1.stars[1]['vel']\n",
    "m1 = s1.stars[0]['mass']\n",
    "m2 = s1.stars[1]['mass']\n",
    "\n",
    "ii = AddBinary.calcInc(x1, x2, v1, v2)\n",
    "\n",
    "ei = AddBinary.calcEcc(x1, x2, v1, v2, m1, m2)\n",
    "\n",
    "ai = AddBinary.calcSemi(x1, x2, v1, v2, m1, m2)\n",
    "gi = len(s1.g)\n",
    "mi = s1.stars['mass']\n",
    "\n",
    "#Calculate final system parameters\n",
    "x1 = s.stars[0]['pos']\n",
    "x2 = s.stars[1]['pos']\n",
    "v1 = s.stars[0]['vel']\n",
    "v2 = s.stars[1]['vel']\n",
    "m1 = s.stars[0]['mass']\n",
    "m2 = s.stars[1]['mass']\n",
    "\n",
    "ef = AddBinary.calcEcc(x1, x2, v1, v2, m1, m2)\n",
    "af = AddBinary.calcSemi(x1, x2, v1, v2, m1, m2)\n",
    "ifin = AddBinary.calcInc(x1, x2, v1, v2)\n",
    "gf = len(s.g)\n",
    "mf = s.stars['mass']\n",
    "\n",
    "#Change in eccentricity\n",
    "print \"Initial eccentricity =\",ei\n",
    "print \"Final eccentricity =\",ef\n",
    "print \"Percent change in eccentricity = \",((ef-ei)/ei)*100\n",
    "print ef-ei\n",
    "print\n",
    "\n",
    "#Change in semimajor axis\n",
    "print \"Initial semimajor axis =\",ai\n",
    "print \"Final semimajor axis =\",af\n",
    "print \"Percent change in semimajor axis = \",((af-ai)/ai)*100\n",
    "print\n",
    "\n",
    "#Change in inclination\n",
    "print \"Initial Inclination =\", ii\n",
    "print \"Final Inclination =\", ifin\n",
    "print \"Change in inclination = \",((ifin-ii))\n",
    "print \n",
    "\n",
    "#Change in mass and # of gas particles eaten\n",
    "print \"Initial mass =\",mi\n",
    "print \"Initial gas particles =\",gi\n",
    "print \"Final mass =\",mf\n",
    "print \"Final gas particles =\",gf\n",
    "print \"Percent change in mass=\",((mf-mi)/mi)*100\n",
    "print \"Change in gas particles =\",(gf-gi)\n",
    "print"
   ]
  },
  {
   "cell_type": "code",
   "execution_count": null,
   "metadata": {
    "collapsed": false
   },
   "outputs": [],
   "source": [
    "\"\"\"\n",
    "#Calculate total angular momentum added by accreted gas\n",
    "accretion =  binaryUtils.changaFloatSearch(\"temp.txt\")\n",
    "\n",
    "x1 = s1.stars[0]['pos']\n",
    "x2 = s1.stars[1]['pos']\n",
    "v1 = s1.stars[0]['vel']\n",
    "v2 = s1.stars[1]['vel']\n",
    "m1 = s1.stars[0]['mass']\n",
    "m2 = s1.stars[1]['mass']\n",
    "\n",
    "ac, ec = binaryUtils.linearMomentumEffects(x1, x2, v1, v2, m1, m2, accretion)\n",
    "\n",
    "print af-ac\n",
    "print ef-ec\n",
    "print\n",
    "print ac\n",
    "print ec\n",
    "\"\"\""
   ]
  },
  {
   "cell_type": "markdown",
   "metadata": {},
   "source": [
    "#Find inner disk edge\n",
    "Following the prescription of Artymowics+1994, define the gap radius for a circumbinary disk to be at the disk edge position where the surface density is half of the maximum value in the disk.  In that paper, the gap size was studied for various binary eccentricities and mass ratios.  For Kepler 38, the mass ratio is 0.263 ~ 0.3 and the eccentricity is ~0.1.  These values correspond to a gap size of $r = 2.35 \\pm 0.15$ times the binary semimajor axis.  For Kepler 38 whose a = 0.1469, one would expect to find after ~ 100 binary orbits a gap radius of ~0.34 au.  This gap formation occurs due to the tidal action of the binary system on the disk (and accretion where applicable).\n",
    "\n",
    "The initial conditions of Artymowics+1994:\n",
    "\n",
    "N_gas: ~ $10^4$\n",
    "Disk Properties: axisymmetric; initialized with Keplerian velocities; $\\Sigma \\sim 1/r$; introduced binary into initially smooth disk (similar to my initialization).  For a binary with mass parameter $\\mu = 0.3$ and eccentricity = 0.1, they found a gap at $r \\approx 2.3a$ which is outside the 3:1 orbital period commensurability (Arty+1994 pg. 662).  \n",
    "\n",
    "\n",
    "Note: In Kley+2014, they found that after ~2000yr of evolution, the inner edge of the disk to be $r \\approx 0.45 au$ which corresponds to roughly $3a_{bin}$ which they claim is in good agreement with the results of Artymowics+1994.  The problem here is that Kley+2014 studied Kepler 38 where the mass ratio is about 0.3 and the eccentricity about 0.1.  The result that $r_{gap} \\approx 3a_{bin}$ corresponds to a mass ratio of 0.3 and an eccentricity of 0.5 which does not hold for Kepler 38.\n",
    "\n",
    "\n",
    "Below, I bin the disk surface density into radial bins and compute the radius at which the half maximum surface density occurs as described above."
   ]
  },
  {
   "cell_type": "code",
   "execution_count": null,
   "metadata": {
    "collapsed": false
   },
   "outputs": [],
   "source": [
    "#Create profile.  Note: Choose nbins to be the same number of n points ICgen-Binary used to initial generate disk\n",
    "p = pynbody.analysis.profile.Profile(s,max='10 au',min='0.01 au',type='log',nbins=5000)\n",
    "pg = pynbody.analysis.profile.Profile(s.gas,nbins=5000)\n",
    "\n",
    "#Find gap radius.  Defined in Artimowics+1994 where surface density is 1/2 maximum\n",
    "def find_nearest(array,value):\n",
    "    idx = (np.abs(array-value)).argmin()\n",
    "    return idx\n",
    "\n",
    "#Find location of surface density maximum and look at radius r < r_max to find radius where surface density = max/2.0\n",
    "value = pg['density'].max()/2.0\n",
    "max_index = pg['density'].argmax()\n",
    "print \"Half Max Surface Density = {0} {1}\".format(value,pg['density'].units)\n",
    "\n",
    "#Look for inner gap edge from maximum value inwards\n",
    "mask = (pg['rbins'] < pg['rbins'][max_index])\n",
    "rho = pg['density'][mask]\n",
    "i = find_nearest(rho,value)\n",
    "print 'radius = {0}'.format(pg['rbins'][i])\n",
    "print 'density at radius_max_1/2 = {0} {1}'.format(pg['density'][i],pg['density'].units)"
   ]
  },
  {
   "cell_type": "code",
   "execution_count": null,
   "metadata": {
    "collapsed": false
   },
   "outputs": [],
   "source": [
    "#Try plotting stuff\n",
    "#Plot the gas surface density as a function of radius for test disk\n",
    "\n",
    "#Now do the plotting with data derived from gas profile, pg\n",
    "#In this case, tangential velocity vs. radius\n",
    "plt.plot(pg['rbins'], pg['density'],'k', label = '$Gas$',)\n",
    "plt.legend()\n",
    "plt.xlabel(\"$R$ [AU]\")\n",
    "plt.ylabel(r'$\\Sigma$ [M$_{\\odot}$ au$^{-2}$]')\n",
    "plt.yscale('log')\n",
    "plt.xscale('log') #confirm -1/2 radius powerlaw relation\n",
    "plt.xlim([0,5])\n",
    "plt.axvline(x=0.22, ymin=-0.25, ymax=1, linewidth=2, color = 'r')\n",
    "\n",
    "plt.show()\n",
    "#Print units to confirm\n",
    "print pg['rbins'].units\n",
    "print pg['density'].units"
   ]
  },
  {
   "cell_type": "code",
   "execution_count": null,
   "metadata": {
    "collapsed": false
   },
   "outputs": [],
   "source": [
    "#Try plotting temperature profile of gas in plane of disk\n",
    "#T vs. radius\n",
    "plt.plot(pg['rbins'], pg['temp'],'k', label = '$Gas$')\n",
    "plt.legend()\n",
    "plt.loglog()\n",
    "plt.xlabel(\"$R$ [AU]\")\n",
    "plt.ylabel(\"$T$ [K]\")\n",
    "plt.show()"
   ]
  },
  {
   "cell_type": "code",
   "execution_count": null,
   "metadata": {
    "collapsed": false
   },
   "outputs": [],
   "source": [
    "#Create nice color plot of temp as function of radius\n",
    "\n",
    "#Not working for now since need to run image through changa once to get velocities\n",
    "pynbody.analysis.angmom.faceon(s)\n",
    "pynbody.analysis.halo.center(s,mode='hyb')\n",
    "#pynbody.analysis.angmom.faceon(s1.g)#create an image of gas density integrated down the line of site (z axis) of width 50 Au\n",
    "sph.image(s.g,qty=\"rho\",units=\"g cm^-2\",width=1,cmap=\"jet\")\n",
    "\n",
    "#Plot circle representing theoretical location of gap...should occur ~ 100 orbits\n",
    "list_radians = [0]\n",
    " \n",
    "# from degrees to radians, the 0 is already included so\n",
    "# we don't make the universe collapse by dividing by zero.\n",
    "for i in range(0,360):\n",
    "    float_div = 180.0/(i+1)\n",
    "    list_radians.append(pi/float_div)\n",
    "     \n",
    "# list of coordinates for each point\n",
    "list_x2_axis = []\n",
    "list_y2_axis = []\n",
    "\n",
    "r = 2.3*ai #Inner gap edge predicted by Artimowicz+1994 for binary similar to Kepler 38\n",
    "#r = 0.25\n",
    "# calculate coordinates\n",
    "# and append to above list\n",
    "for a in list_radians:\n",
    "    list_x2_axis.append(r*cos(a))\n",
    "    list_y2_axis.append(r*sin(a))\n",
    " \n",
    "# plot the coordinates\n",
    "plt.plot(list_x2_axis,list_y2_axis,c='r')\n",
    "plt.xlim([-0.5,0.5])\n",
    "plt.ylim([-0.5,0.5])"
   ]
  },
  {
   "cell_type": "code",
   "execution_count": null,
   "metadata": {
    "collapsed": false
   },
   "outputs": [],
   "source": [
    "#Create verticle profiles\n",
    "\n",
    "#Create verticle gas profile object\n",
    "p_vert = pynbody.analysis.profile.VerticalProfile(s.gas, '0 au', '20 au', '25 au') #(range_min,range_max,max)\n",
    "\n",
    "#Now plot density vs distance\n",
    "#Confirm density units are correct\n",
    "p_vert['density'].convert_units('Msol au**-3')\n",
    "print p_vert['density'].units\n",
    "print p_vert['rbins'].units\n",
    "plt.plot(p_vert['rbins'], p_vert['density'],'k', hold=False)\n",
    "plt.xlabel('$z$ [Au]')\n",
    "plt.ylabel(r'$\\rho_{\\star}$ [M$_{\\odot}$ Au$^{-3}$]')\n",
    "plt.yscale('log')"
   ]
  },
  {
   "cell_type": "code",
   "execution_count": null,
   "metadata": {
    "collapsed": false
   },
   "outputs": [],
   "source": [
    "#Plot temperature vs. distance from plane\n",
    "#Looks terrible since data is for small number of particles\n",
    "plt.plot(p_vert['rbins'], p_vert['temp'],'k', hold=False)\n",
    "plt.xlabel('$z$ [Au]'); plt.ylabel('$T$ [K]')"
   ]
  },
  {
   "cell_type": "code",
   "execution_count": null,
   "metadata": {
    "collapsed": false
   },
   "outputs": [],
   "source": [
    "#Plot velocity vectors\n",
    "f, axs = plt.subplots(1,1,figsize=(8,8))\n",
    "\n",
    "#create a simple slice showing the gas temperature, with velocity vectors overlaid\n",
    "sph.velocity_image(s.g, vector_color=\"cyan\", qty=\"temp\",width=10,cmap=\"YlOrRd\",\n",
    "                   denoise=True,approximate_fast=False, show_cbar = False)\n",
    "\n",
    "#plt.savefig(\"vectors.pdf\")"
   ]
  },
  {
   "cell_type": "code",
   "execution_count": null,
   "metadata": {
    "collapsed": false
   },
   "outputs": [],
   "source": []
  }
 ],
 "metadata": {
  "kernelspec": {
   "display_name": "Python 2",
   "language": "python",
   "name": "python2"
  },
  "language_info": {
   "codemirror_mode": {
    "name": "ipython",
    "version": 2
   },
   "file_extension": ".py",
   "mimetype": "text/x-python",
   "name": "python",
   "nbconvert_exporter": "python",
   "pygments_lexer": "ipython2",
   "version": "2.7.9"
  }
 },
 "nbformat": 4,
 "nbformat_minor": 0
}
