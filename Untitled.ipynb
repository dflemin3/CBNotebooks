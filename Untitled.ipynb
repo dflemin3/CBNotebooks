{
 "cells": [
  {
   "cell_type": "code",
   "execution_count": 1,
   "metadata": {
    "collapsed": true
   },
   "outputs": [],
   "source": [
    "%matplotlib inline\n",
    "\n",
    "#Imports\n",
    "from matplotlib.pylab import *\n",
    "import matplotlib.pylab as plt\n",
    "import numpy as np\n",
    "import fsps\n",
    "\n",
    "#Typical plot parameters that make for pretty plots\n",
    "plt.rcParams['figure.figsize'] = (6,6)\n",
    "from astroML.plotting import setup_text_plots\n",
    "setup_text_plots(fontsize=20, usetex=True)\n",
    "\n",
    "rc('font', **{'family': 'serif', 'serif': ['Computer Modern']})\n",
    "mpl.rcParams['font.size'] = 20.0"
   ]
  },
  {
   "cell_type": "code",
   "execution_count": 2,
   "metadata": {
    "collapsed": false
   },
   "outputs": [],
   "source": [
    "#sp = fsps.StellarPopulation(compute_vega_mags=False, sfh=4, tau=0.1, zmet=22,sf_start=1)\n",
    "sp = fsps.StellarPopulation(compute_vega_mags=False, sfh=0, zmet=20,\n",
    "                                dust_type=2, dust2=0.2, sf_start=6.)"
   ]
  },
  {
   "cell_type": "code",
   "execution_count": 3,
   "metadata": {
    "collapsed": false
   },
   "outputs": [
    {
     "data": {
      "text/plain": [
       "array([  5.5  ,   5.525,   5.55 ,   5.575,   5.6  ,   5.625,   5.65 ,\n",
       "         5.675,   5.7  ,   5.725,   5.75 ,   5.775,   5.8  ,   5.825,\n",
       "         5.85 ,   5.875,   5.9  ,   5.925,   5.95 ,   5.975,   6.   ,\n",
       "         6.025,   6.05 ,   6.075,   6.1  ,   6.125,   6.15 ,   6.175,\n",
       "         6.2  ,   6.225,   6.25 ,   6.275,   6.3  ,   6.325,   6.35 ,\n",
       "         6.375,   6.4  ,   6.425,   6.45 ,   6.475,   6.5  ,   6.525,\n",
       "         6.55 ,   6.575,   6.6  ,   6.625,   6.65 ,   6.675,   6.7  ,\n",
       "         6.725,   6.75 ,   6.775,   6.8  ,   6.825,   6.85 ,   6.875,\n",
       "         6.9  ,   6.925,   6.95 ,   6.975,   7.   ,   7.025,   7.05 ,\n",
       "         7.075,   7.1  ,   7.125,   7.15 ,   7.175,   7.2  ,   7.225,\n",
       "         7.25 ,   7.275,   7.3  ,   7.325,   7.35 ,   7.375,   7.4  ,\n",
       "         7.425,   7.45 ,   7.475,   7.5  ,   7.525,   7.55 ,   7.575,\n",
       "         7.6  ,   7.625,   7.65 ,   7.675,   7.7  ,   7.725,   7.75 ,\n",
       "         7.775,   7.8  ,   7.825,   7.85 ,   7.875,   7.9  ,   7.925,\n",
       "         7.95 ,   7.975,   8.   ,   8.025,   8.05 ,   8.075,   8.1  ,\n",
       "         8.125,   8.15 ,   8.175,   8.2  ,   8.225,   8.25 ,   8.275,\n",
       "         8.3  ,   8.325,   8.35 ,   8.375,   8.4  ,   8.425,   8.45 ,\n",
       "         8.475,   8.5  ,   8.525,   8.55 ,   8.575,   8.6  ,   8.625,\n",
       "         8.65 ,   8.675,   8.7  ,   8.725,   8.75 ,   8.775,   8.8  ,\n",
       "         8.825,   8.85 ,   8.875,   8.9  ,   8.925,   8.95 ,   8.975,\n",
       "         9.   ,   9.025,   9.05 ,   9.075,   9.1  ,   9.125,   9.15 ,\n",
       "         9.175,   9.2  ,   9.225,   9.25 ,   9.275,   9.3  ,   9.325,\n",
       "         9.35 ,   9.375,   9.4  ,   9.425,   9.45 ,   9.475,   9.5  ,\n",
       "         9.525,   9.55 ,   9.575,   9.6  ,   9.625,   9.65 ,   9.675,\n",
       "         9.7  ,   9.725,   9.75 ,   9.775,   9.8  ,   9.825,   9.85 ,\n",
       "         9.875,   9.9  ,   9.925,   9.95 ,   9.975,  10.   ,  10.025,\n",
       "        10.05 ,  10.075,  10.1  ,  10.125,  10.15 ,  10.175])"
      ]
     },
     "execution_count": 3,
     "metadata": {},
     "output_type": "execute_result"
    }
   ],
   "source": [
    "sp.log_age"
   ]
  },
  {
   "cell_type": "code",
   "execution_count": null,
   "metadata": {
    "collapsed": true
   },
   "outputs": [],
   "source": []
  }
 ],
 "metadata": {
  "kernelspec": {
   "display_name": "Python 2",
   "language": "python",
   "name": "python2"
  },
  "language_info": {
   "codemirror_mode": {
    "name": "ipython",
    "version": 2
   },
   "file_extension": ".py",
   "mimetype": "text/x-python",
   "name": "python",
   "nbconvert_exporter": "python",
   "pygments_lexer": "ipython2",
   "version": "2.7.9"
  }
 },
 "nbformat": 4,
 "nbformat_minor": 0
}
