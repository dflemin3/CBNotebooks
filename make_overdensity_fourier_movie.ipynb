{
 "cells": [
  {
   "cell_type": "markdown",
   "metadata": {},
   "source": [
    "David Fleming Oct. 2015\n",
    "\n",
    "This notebook is used to make movies of how disk parameters evolve with time.  Specifically, heatmaps of all the disk particles are made with respect to certain parameters of the gas particles, such as their longitude of perihelion vs. semimajor axis and so on.  These movies allow us to see how resonances form and precess in the inner disk and at what timescale."
   ]
  },
  {
   "cell_type": "code",
   "execution_count": 2,
   "metadata": {
    "collapsed": false
   },
   "outputs": [],
   "source": [
    "%matplotlib inline\n",
    "#Imports required to run\n",
    "\n",
    "import pynbody\n",
    "SimArray = pynbody.array.SimArray\n",
    "from matplotlib.pylab import *\n",
    "import matplotlib.pylab as plt\n",
    "import pynbody.plot.sph as sph\n",
    "import numpy as np\n",
    "from scipy import interpolate\n",
    "\n",
    "#Tell code where my diskpy distribution is\n",
    "import os\n",
    "\n",
    "#Import diskpy and my modules from ICgen submodule\n",
    "import diskpy\n",
    "from diskpy.ICgen import *\n",
    "\n",
    "#Typical plot parameters that make for pretty plots\n",
    "plt.rcParams['figure.figsize'] = (10,8)\n",
    "from astroML.plotting import setup_text_plots\n",
    "setup_text_plots(fontsize=20, usetex=True)\n",
    "\n",
    "rc('font', **{'family': 'serif', 'serif': ['Computer Modern']})\n",
    "mpl.rcParams['font.size'] = 20.0"
   ]
  },
  {
   "cell_type": "markdown",
   "metadata": {},
   "source": [
    "# Tell the code where the data is"
   ]
  },
  {
   "cell_type": "code",
   "execution_count": 13,
   "metadata": {
    "collapsed": true
   },
   "outputs": [],
   "source": [
    "cwd = '/astro/users/dflemin3/Desktop/sims/kepler38Long'\n",
    "os.chdir(cwd)"
   ]
  },
  {
   "cell_type": "markdown",
   "metadata": {},
   "source": [
    "# Read parameters from the .param file to determine timesteping, etc"
   ]
  },
  {
   "cell_type": "code",
   "execution_count": 14,
   "metadata": {
    "collapsed": false
   },
   "outputs": [],
   "source": [
    "#Read in .param file and extract info I need\n",
    "\n",
    "name = ''\n",
    "length = 0\n",
    "dDelta = 0.0\n",
    "\n",
    "#Find param file if it exists\n",
    "for file in os.listdir(cwd):\n",
    "    if file.endswith(\".param\"):\n",
    "        filename = file\n",
    "        break\n",
    "    else:\n",
    "        filename = \"Invalid\"\n",
    "        \n",
    "#No file name so give warning before program dies\n",
    "if filename == \"Invalid\":\n",
    "    print \"No .param file found!\"\n",
    "\n",
    "else:\n",
    "    with open(filename) as f:\n",
    "        lines = f.readlines()\n",
    "\n",
    "    #Iterate over lines in param file, look for ones of interest\n",
    "    for line in lines:\n",
    "        line = str(line).rstrip('\\n')\n",
    "\n",
    "        #.param files are of the form: tParamName = val\n",
    "        \n",
    "        #Look for file name\n",
    "        if \"achOutName\" in line:\n",
    "             name = line.split()[-1]\n",
    "\n",
    "        #Look for iOutInterval\n",
    "        if \"iOutInterval\" in line:\n",
    "            outInt = int(line.split()[-1])\n",
    "\n",
    "        #Look for number of steps\n",
    "        if \"nSteps\" in line:\n",
    "            nSteps = int(line.split()[-1])\n",
    "\n",
    "        #Look for dDelta\n",
    "        if \"dDelta\" in line:\n",
    "            dDelta = float(line.split()[-1])\n",
    "            \n",
    "#Compute important quantities\n",
    "length = nSteps/outInt\n",
    "dt = dDelta/(2.0*np.pi) #Years per step"
   ]
  },
  {
   "cell_type": "markdown",
   "metadata": {},
   "source": [
    "# Compute binary parameters to allow for relative comparisons between binary and disk particles."
   ]
  },
  {
   "cell_type": "code",
   "execution_count": 15,
   "metadata": {
    "collapsed": false
   },
   "outputs": [
    {
     "name": "stdout",
     "output_type": "stream",
     "text": [
      "(0.103249944157,[ 0.14690818],0.0,0.0,0.0,0.0), mass: ([ 0.949],[ 0.249])\n"
     ]
    }
   ],
   "source": [
    "#Calculate system parameters\n",
    "s = pynbody.load(name + \".std\")\n",
    "\n",
    "x1, x2 = s.stars['pos']\n",
    "m1, m2 = s.stars[0]['mass'], s.stars[1]['mass']\n",
    "v1, v2 = s.stars['vel']\n",
    "m_disk = np.sum(s.gas['mass'])\n",
    "x = x1-x2\n",
    "v = v1-v2\n",
    "X = [x,v]\n",
    "test = binary.Binary(X,m1,m2,'cartesian')\n",
    "print test"
   ]
  },
  {
   "cell_type": "markdown",
   "metadata": {},
   "source": [
    "# Make the movie!\n",
    "Can edit below to specify parameters you want to plot, although it's typically most useful to have the x-axis be gas particles argument of perihelion + longitude of ascending node relative to the binary's for precession purposes."
   ]
  },
  {
   "cell_type": "code",
   "execution_count": 16,
   "metadata": {
    "collapsed": false
   },
   "outputs": [
    {
     "ename": "IOError",
     "evalue": "File 'k38_snap.119500': format not understood or does not exist",
     "output_type": "error",
     "traceback": [
      "\u001b[1;31m---------------------------------------------------------------------------\u001b[0m",
      "\u001b[1;31mIOError\u001b[0m                                   Traceback (most recent call last)",
      "\u001b[1;32m<ipython-input-16-6822c16bb5a2>\u001b[0m in \u001b[0;36m<module>\u001b[1;34m()\u001b[0m\n\u001b[0;32m      2\u001b[0m     \u001b[0msuffix\u001b[0m \u001b[1;33m=\u001b[0m \u001b[0mstr\u001b[0m\u001b[1;33m(\u001b[0m\u001b[0mi\u001b[0m\u001b[1;33m*\u001b[0m\u001b[0moutInt\u001b[0m\u001b[1;33m)\u001b[0m\u001b[1;33m.\u001b[0m\u001b[0mzfill\u001b[0m\u001b[1;33m(\u001b[0m\u001b[1;36m6\u001b[0m\u001b[1;33m)\u001b[0m\u001b[1;33m\u001b[0m\u001b[0m\n\u001b[0;32m      3\u001b[0m     \u001b[0msnap_name\u001b[0m \u001b[1;33m=\u001b[0m \u001b[0mname\u001b[0m \u001b[1;33m+\u001b[0m \u001b[1;34m\".\"\u001b[0m \u001b[1;33m+\u001b[0m \u001b[0msuffix\u001b[0m\u001b[1;33m\u001b[0m\u001b[0m\n\u001b[1;32m----> 4\u001b[1;33m     \u001b[0ms\u001b[0m \u001b[1;33m=\u001b[0m \u001b[0mpynbody\u001b[0m\u001b[1;33m.\u001b[0m\u001b[0mload\u001b[0m\u001b[1;33m(\u001b[0m\u001b[0msnap_name\u001b[0m\u001b[1;33m)\u001b[0m\u001b[1;33m\u001b[0m\u001b[0m\n\u001b[0m\u001b[0;32m      5\u001b[0m \u001b[1;33m\u001b[0m\u001b[0m\n\u001b[0;32m      6\u001b[0m     \u001b[1;31m#Center on barycenter\u001b[0m\u001b[1;33m\u001b[0m\u001b[1;33m\u001b[0m\u001b[0m\n",
      "\u001b[1;32m/astro/users/dflemin3/.local/lib/python2.7/site-packages/pynbody/snapshot/__init__.pyc\u001b[0m in \u001b[0;36mload\u001b[1;34m(filename, *args, **kwargs)\u001b[0m\n\u001b[0;32m   1927\u001b[0m \u001b[1;33m\u001b[0m\u001b[0m\n\u001b[0;32m   1928\u001b[0m     raise IOError(\n\u001b[1;32m-> 1929\u001b[1;33m         \"File %r: format not understood or does not exist\" % filename)\n\u001b[0m\u001b[0;32m   1930\u001b[0m \u001b[1;33m\u001b[0m\u001b[0m\n\u001b[0;32m   1931\u001b[0m \u001b[1;32mdef\u001b[0m \u001b[0mnew\u001b[0m\u001b[1;33m(\u001b[0m\u001b[0mn_particles\u001b[0m\u001b[1;33m=\u001b[0m\u001b[1;36m0\u001b[0m\u001b[1;33m,\u001b[0m \u001b[0morder\u001b[0m\u001b[1;33m=\u001b[0m\u001b[0mNone\u001b[0m\u001b[1;33m,\u001b[0m \u001b[1;33m**\u001b[0m\u001b[0mfamilies\u001b[0m\u001b[1;33m)\u001b[0m\u001b[1;33m:\u001b[0m\u001b[1;33m\u001b[0m\u001b[0m\n",
      "\u001b[1;31mIOError\u001b[0m: File 'k38_snap.119500': format not understood or does not exist"
     ]
    }
   ],
   "source": [
    "%%capture\n",
    "for i in range(1,length):\n",
    "    suffix = str(i*outInt).zfill(6)\n",
    "    snap_name = name + \".\" + suffix\n",
    "    s = pynbody.load(snap_name)\n",
    "    \n",
    "    #Center on barycenter\n",
    "    diskCom = binaryUtils.computeCOM(s.stars,s.gas,starFlag=True,gasFlag=True)\n",
    "    s['pos'] -= diskCom\n",
    "    \n",
    "    pynbody.plot.generic.fourier_map(s,nmin=500,rmax=5)\n",
    "    plt.title(\"Time: %.2lf [yr]\" % (dt*i*outInt))\n",
    "    \n",
    "    #Save fig for future movie\n",
    "    fig_name = \"e_0.1032_fourier.\" + str(i) + \".png\"\n",
    "    plt.savefig(fig_name)\n",
    "    plt.clf()"
   ]
  },
  {
   "cell_type": "code",
   "execution_count": null,
   "metadata": {
    "collapsed": true
   },
   "outputs": [],
   "source": []
  }
 ],
 "metadata": {
  "kernelspec": {
   "display_name": "Python 2",
   "language": "python",
   "name": "python2"
  },
  "language_info": {
   "codemirror_mode": {
    "name": "ipython",
    "version": 2
   },
   "file_extension": ".py",
   "mimetype": "text/x-python",
   "name": "python",
   "nbconvert_exporter": "python",
   "pygments_lexer": "ipython2",
   "version": "2.7.10"
  }
 },
 "nbformat": 4,
 "nbformat_minor": 0
}
