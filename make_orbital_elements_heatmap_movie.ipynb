{
 "cells": [
  {
   "cell_type": "markdown",
   "metadata": {},
   "source": [
    "David Fleming Oct. 2015\n",
    "\n",
    "This notebook is used to make movies of how disk parameters evolve with time.  Specifically, heatmaps of all the disk particles are made with respect to certain parameters of the gas particles, such as their longitude of perihelion vs. semimajor axis and so on.  These movies allow us to see how resonances form and precess in the inner disk and at what timescale."
   ]
  },
  {
   "cell_type": "code",
   "execution_count": 37,
   "metadata": {
    "collapsed": true
   },
   "outputs": [],
   "source": [
    "%matplotlib inline\n",
    "#Imports required to run\n",
    "\n",
    "import pynbody\n",
    "SimArray = pynbody.array.SimArray\n",
    "from matplotlib.pylab import *\n",
    "import matplotlib.pylab as plt\n",
    "import pynbody.plot.sph as sph\n",
    "import numpy as np\n",
    "from scipy import interpolate\n",
    "\n",
    "#Tell code where my diskpy distribution is\n",
    "import os\n",
    "sys.path.append('/astro/users/dflemin3/Desktop/diskpy')\n",
    "sys.path.append('/astro/users/dflemin3/Desktop')\n",
    "\n",
    "#Import diskpy and my modules from ICgen submodule\n",
    "import diskpy\n",
    "from diskpy.ICgen import *\n",
    "from diskplot import *\n",
    "\n",
    "#Typical plot parameters that make for pretty plots\n",
    "plt.rcParams['figure.figsize'] = (10,8)\n",
    "from astroML.plotting import setup_text_plots\n",
    "setup_text_plots(fontsize=20, usetex=True)\n",
    "\n",
    "rc('font', **{'family': 'serif', 'serif': ['Computer Modern']})\n",
    "mpl.rcParams['font.size'] = 20.0"
   ]
  },
  {
   "cell_type": "markdown",
   "metadata": {},
   "source": [
    "# Tell the code where the data is, number of bins to use"
   ]
  },
  {
   "cell_type": "code",
   "execution_count": 38,
   "metadata": {
    "collapsed": false
   },
   "outputs": [],
   "source": [
    "cwd = '/astro/users/dflemin3/Desktop/sims/lowEccLong'\n",
    "os.chdir(cwd)\n",
    "\n",
    "# Number of bins\n",
    "bins = 180"
   ]
  },
  {
   "cell_type": "markdown",
   "metadata": {},
   "source": [
    "# Read parameters from the .param file to determine timesteping, etc"
   ]
  },
  {
   "cell_type": "code",
   "execution_count": 39,
   "metadata": {
    "collapsed": false
   },
   "outputs": [],
   "source": [
    "#Read in .param file and extract info I need\n",
    "\n",
    "name = ''\n",
    "length = 0\n",
    "dDelta = 0.0\n",
    "\n",
    "#Find param file if it exists\n",
    "for file in os.listdir(cwd):\n",
    "    if file.endswith(\".param\"):\n",
    "        filename = file\n",
    "        break\n",
    "    else:\n",
    "        filename = \"Invalid\"\n",
    "        \n",
    "#No file name so give warning before program dies\n",
    "if filename == \"Invalid\":\n",
    "    print \"No .param file found!\"\n",
    "\n",
    "else:\n",
    "    with open(filename) as f:\n",
    "        lines = f.readlines()\n",
    "\n",
    "    #Iterate over lines in param file, look for ones of interest\n",
    "    for line in lines:\n",
    "        line = str(line).rstrip('\\n')\n",
    "\n",
    "        #.param files are of the form: tParamName = val\n",
    "        \n",
    "        #Look for file name\n",
    "        if \"achOutName\" in line:\n",
    "             name = line.split()[-1]\n",
    "\n",
    "        #Look for iOutInterval\n",
    "        if \"iOutInterval\" in line:\n",
    "            outInt = int(line.split()[-1])\n",
    "\n",
    "        #Look for number of steps\n",
    "        if \"nSteps\" in line:\n",
    "            nSteps = int(line.split()[-1])\n",
    "\n",
    "        #Look for dDelta\n",
    "        if \"dDelta\" in line:\n",
    "            dDelta = float(line.split()[-1])\n",
    "            \n",
    "#Compute important quantities\n",
    "length = nSteps/outInt\n",
    "dt = dDelta/(2.0*np.pi) #Years per step"
   ]
  },
  {
   "cell_type": "markdown",
   "metadata": {},
   "source": [
    "# Compute binary parameters to allow for relative comparisons between binary and disk particles."
   ]
  },
  {
   "cell_type": "code",
   "execution_count": 40,
   "metadata": {
    "collapsed": false
   },
   "outputs": [
    {
     "name": "stdout",
     "output_type": "stream",
     "text": [
      "(4.52803860798e-05,[ 0.14690665],0.0,0.0,0.0,0.0), mass: ([ 0.949],[ 0.249])\n"
     ]
    }
   ],
   "source": [
    "#Calculate system parameters\n",
    "s = pynbody.load(name + \".std\")\n",
    "\n",
    "x1, x2 = s.stars['pos']\n",
    "m1, m2 = s.stars[0]['mass'], s.stars[1]['mass']\n",
    "v1, v2 = s.stars['vel']\n",
    "m_disk = np.sum(s.gas['mass'])\n",
    "x = x1-x2\n",
    "v = v1-v2\n",
    "X = [x,v]\n",
    "test = binary.Binary(X,m1,m2,'cartesian')\n",
    "print test"
   ]
  },
  {
   "cell_type": "markdown",
   "metadata": {},
   "source": [
    "# Make arrays to store position of clump as a function of time"
   ]
  },
  {
   "cell_type": "code",
   "execution_count": 41,
   "metadata": {
    "collapsed": false
   },
   "outputs": [],
   "source": [
    "time = np.zeros(length-1)\n",
    "angle = np.zeros(length-1)"
   ]
  },
  {
   "cell_type": "markdown",
   "metadata": {},
   "source": [
    "# Make the movie!\n",
    "Can edit below to specify parameters you want to plot, although it's typically most useful to have the x-axis be gas particles argument of perihelion + longitude of ascending node relative to the binary's for precession purposes."
   ]
  },
  {
   "cell_type": "code",
   "execution_count": 42,
   "metadata": {
    "collapsed": false
   },
   "outputs": [
    {
     "ename": "IndexError",
     "evalue": "index 475 is out of bounds for axis 0 with size 475",
     "output_type": "error",
     "traceback": [
      "\u001b[1;31m---------------------------------------------------------------------------\u001b[0m",
      "\u001b[1;31mIndexError\u001b[0m                                Traceback (most recent call last)",
      "\u001b[1;32m<ipython-input-42-53a1570cf024>\u001b[0m in \u001b[0;36m<module>\u001b[1;34m()\u001b[0m\n\u001b[0;32m     59\u001b[0m     \u001b[0mdata\u001b[0m \u001b[1;33m=\u001b[0m \u001b[0mim\u001b[0m\u001b[1;33m.\u001b[0m\u001b[0mget_array\u001b[0m\u001b[1;33m(\u001b[0m\u001b[1;33m)\u001b[0m\u001b[1;33m\u001b[0m\u001b[0m\n\u001b[0;32m     60\u001b[0m     \u001b[0mloc\u001b[0m \u001b[1;33m=\u001b[0m \u001b[0mnp\u001b[0m\u001b[1;33m.\u001b[0m\u001b[0munravel_index\u001b[0m\u001b[1;33m(\u001b[0m\u001b[0mdata\u001b[0m\u001b[1;33m.\u001b[0m\u001b[0margmax\u001b[0m\u001b[1;33m(\u001b[0m\u001b[1;33m)\u001b[0m\u001b[1;33m,\u001b[0m \u001b[0mdata\u001b[0m\u001b[1;33m.\u001b[0m\u001b[0mshape\u001b[0m\u001b[1;33m)\u001b[0m \u001b[1;31m# 1 = angle, 0 = semimajor axis of clump\u001b[0m\u001b[1;33m\u001b[0m\u001b[0m\n\u001b[1;32m---> 61\u001b[1;33m     \u001b[0mtime\u001b[0m\u001b[1;33m[\u001b[0m\u001b[0mi\u001b[0m\u001b[1;33m]\u001b[0m \u001b[1;33m=\u001b[0m \u001b[0mdt\u001b[0m\u001b[1;33m*\u001b[0m\u001b[0mi\u001b[0m\u001b[1;33m*\u001b[0m\u001b[0moutInt\u001b[0m\u001b[1;33m\u001b[0m\u001b[0m\n\u001b[0m\u001b[0;32m     62\u001b[0m     \u001b[0mangle\u001b[0m\u001b[1;33m[\u001b[0m\u001b[0mi\u001b[0m\u001b[1;33m]\u001b[0m \u001b[1;33m=\u001b[0m \u001b[1;33m(\u001b[0m\u001b[1;36m360.0\u001b[0m\u001b[1;33m/\u001b[0m\u001b[0mlen\u001b[0m\u001b[1;33m(\u001b[0m\u001b[0mdata\u001b[0m\u001b[1;33m)\u001b[0m\u001b[1;33m)\u001b[0m\u001b[1;33m*\u001b[0m\u001b[0mloc\u001b[0m\u001b[1;33m[\u001b[0m\u001b[1;36m1\u001b[0m\u001b[1;33m]\u001b[0m\u001b[1;33m\u001b[0m\u001b[0m\n\u001b[0;32m     63\u001b[0m \u001b[1;33m\u001b[0m\u001b[0m\n",
      "\u001b[1;31mIndexError\u001b[0m: index 475 is out of bounds for axis 0 with size 475"
     ]
    }
   ],
   "source": [
    "%%capture \n",
    "for i in range(1,length):\n",
    "    suffix = str(i*outInt).zfill(6)\n",
    "    snap_name = name + \".\" + suffix\n",
    "    s = pynbody.load(snap_name)\n",
    "    \n",
    "    #Center on barycenter\n",
    "    diskCom = binaryUtils.computeCOM(s.stars,s.gas,starFlag=True,gasFlag=True)\n",
    "    s['pos'] -= diskCom\n",
    "    \n",
    "    x1_gas = s.gas['pos']\n",
    "    x_zero = pynbody.array.SimArray(np.zeros((len(x1_gas),3)),'au')\n",
    "    v1_gas = s.gas['vel']\n",
    "    v_zero = pynbody.array.SimArray(np.zeros((len(x1_gas),3)),'km s**-1')\n",
    "    m1 = np.sum(s.s['mass'])\n",
    "    m2 = s.gas['mass']\n",
    "\n",
    "    cm = binaryUtils.computeCOM(s.stars,s.gas,cutoff=3.0).in_units('au')\n",
    "\n",
    "    #Compute semimajor axis, longitude of perihelion (relative to that of bin) for ALL gas particles\n",
    "    gas_a = AddBinary.calcSemi(x1_gas,cm,v1_gas,v_zero,m1,m2)\n",
    "    gas_e = AddBinary.calcEcc(x1_gas,cm,v1_gas,v_zero,m1,m2)\n",
    "    gas_w = AddBinary.calcArgPeri(x1_gas,cm,v1_gas,v_zero,m1,m2) + AddBinary.calcLongOfAscNode(x1_gas,x_zero,v1_gas,v_zero)\n",
    "    gas_w = gas_w - (test.Omega + test.w)\n",
    "    \n",
    "    #Ensure angles range from 0-360\n",
    "    while np.sum(gas_w > 360.0) > 0:\n",
    "        gas_w[gas_w > 360.0] = gas_w[gas_w > 360.0] - 360.0\n",
    "\n",
    "    while np.sum(gas_w < 0) > 0:    \n",
    "        gas_w[gas_w < 0] = gas_w[gas_w < 0] + 360.0\n",
    "\n",
    "    #Filter out gas particles that aren't bound\n",
    "    mask = np.logical_and(gas_e < 1,gas_e > 0)\n",
    "    gas_a = gas_a[mask]\n",
    "    gas_w = gas_w[mask]\n",
    "    gas_e = gas_e[mask]\n",
    "\n",
    "    x_min = 0\n",
    "    x_max = 360\n",
    "    y_min = 0\n",
    "    y_max = 3\n",
    "    extent = [[x_min,x_max],[y_min,y_max]]\n",
    "\n",
    "    #Now Filter gas particles to within a certain distance\n",
    "    mask = np.logical_and(gas_a < y_max,gas_a > y_min)\n",
    "    gas_a = gas_a[mask]\n",
    "    gas_w = gas_w[mask]\n",
    "    gas_e = gas_e[mask]\n",
    "\n",
    "    #Plot heatmap\n",
    "    ax, im, cbar = diskplot.plot_heatmap(gas_w,gas_a,labels=['$\\Omega + \\omega$','Radius [Au]','Overdensity'],\n",
    "                                    cm='cubehelix',vmin=1.0e-2,vmax=1.0e2,hist_range=extent,bins=bins,avg='y',\n",
    "                                        norm='log')\n",
    "    ax.set_ylim(y_min,y_max)\n",
    "    ax.set_xlim(x_min,x_max)\n",
    "    ax.set_title(\"Time: %.2lf [yr]\" % (dt*i*outInt))\n",
    "    \n",
    "    # Find phase of densest point aka the clump\n",
    "    data = im.get_array()\n",
    "    loc = np.unravel_index(data.argmax(), data.shape) # 1 = angle, 0 = semimajor axis of clump\n",
    "    time[i] = dt*i*outInt\n",
    "    angle[i] = (360.0/len(data))*loc[1]\n",
    "    \n",
    "    #Save fig for future movie\n",
    "    #fig_name = \"k38WvsA.\" + str(i) + \".png\"\n",
    "    #plt.savefig(fig_name)\n",
    "    plt.clf()"
   ]
  },
  {
   "cell_type": "code",
   "execution_count": 43,
   "metadata": {
    "collapsed": false
   },
   "outputs": [
    {
     "data": {
      "text/plain": [
       "[<matplotlib.lines.Line2D at 0x7f2b2fafbad0>]"
      ]
     },
     "execution_count": 43,
     "metadata": {},
     "output_type": "execute_result"
    },
    {
     "data": {
      "image/png": "[encoded data removed]",
      "text/plain": [
       "<matplotlib.figure.Figure at 0x7f2b30111fd0>"
      ]
     },
     "metadata": {},
     "output_type": "display_data"
    }
   ],
   "source": [
    "plt.plot(time,angle)"
   ]
  },
  {
   "cell_type": "code",
   "execution_count": 44,
   "metadata": {
    "collapsed": false
   },
   "outputs": [
    {
     "data": {
      "text/plain": [
       "array([   0.,  226.,  308.,   22.,   94.,  162.,  224.,  280.,  338.,\n",
       "         34.,   90.,  144.,  200.,  250.,  306.,  358.,   50.,  104.,\n",
       "        156.,  206.,  258.,  314.,    2.,   54.,  104.,  156.,  206.,\n",
       "        254.,  304.,  354.,   42.,   96.,  142.,  192.,  240.,  288.,\n",
       "        336.,   22.,   72.,  118.,  166.,  214.,  262.,  310.,  354.,\n",
       "         40.,   88.,  132.,  178.,  224.,  272.,  316.,    4.,   48.,\n",
       "         94.,  142.,  188.,  232.,  280.,  324.,    8.,   52.,   98.,\n",
       "        146.,  190.,  234.,  280.,  322.,    8.,   52.,   98.,  144.,\n",
       "        186.,  230.,  274.,  320.,    2.,   48.,   92.,  134.,  178.,\n",
       "        220.,  264.,  306.,  350.,   34.,   76.,  118.,  162.,  204.,\n",
       "        248.,  290.,  332.,   14.,   56.,  102.,  142.,  184.,  226.,\n",
       "        268.,  310.,  354.,   34.,   78.,  122.,  164.,  208.,  248.,\n",
       "        290.,  336.,   16.,   58.,  100.,  142.,  184.,  226.,  266.,\n",
       "        308.,  348.,   30.,   72.,  110.,  152.,  194.,  232.,  272.,\n",
       "        314.,  352.,   34.,   74.,  114.,  154.,  194.,  234.,  274.,\n",
       "        314.,  354.,   34.,   76.,  114.,  154.,  192.,  230.,  270.,\n",
       "        310.,  348.,   26.,   66.,  104.,  144.,  180.,  220.,  256.,\n",
       "        296.,  334.,   12.,   48.,   86.,  124.,  160.,  198.,  234.,\n",
       "        272.,  306.,  344.,   22.,   52.,   96.,  132.,  170.,  206.,\n",
       "        244.,  282.,  318.,  356.,   32.,   68.,  106.,  140.,  180.,\n",
       "        216.,  250.,  288.,  322.,    0.,   36.,   72.,  106.,  144.,\n",
       "        180.,  216.,  252.,  286.,  324.,    0.,   36.,   72.,  106.,\n",
       "        144.,  178.,  214.,  250.,  284.,  320.,  356.,   32.,   68.,\n",
       "        102.,  136.,  172.,  210.,  244.,  280.,  314.,  352.,   24.,\n",
       "         54.,   94.,  130.,  164.,  200.,  234.,  268.,  304.,  340.,\n",
       "         14.,   48.,   84.,  118.,  154.,  190.,  224.,  260.,  294.,\n",
       "        330.,    4.,   38.,   74.,  108.,  142.,  176.,  212.,  246.,\n",
       "        280.,  314.,  348.,   24.,   50.,   94.,  128.,  162.,  196.,\n",
       "        230.,  264.,  298.,  332.,    6.,   40.,   76.,  110.,  144.,\n",
       "        178.,  212.,  246.,  280.,  314.,  348.,   22.,   52.,   90.,\n",
       "        124.,  158.,  192.,  226.,  262.,  296.,  330.,    2.,   36.,\n",
       "         70.,  106.,  138.,  172.,  206.,  240.,  276.,  310.,  342.,\n",
       "         18.,   48.,   86.,  120.,  154.,  186.,  220.,  254.,  288.,\n",
       "        322.,  356.,   30.,   56.,   96.,  130.,  162.,  196.,  232.,\n",
       "        264.,  298.,  330.,    6.,   40.,   74.,  108.,  142.,  174.,\n",
       "        208.,  242.,  276.,  310.,  342.,   18.,   50.,   84.,  120.,\n",
       "        150.,  186.,  218.,  252.,  286.,  318.,  354.,   26.,   50.,\n",
       "         94.,  126.,  158.,  192.,  226.,  260.,  292.,  326.,  358.,\n",
       "         34.,   64.,   96.,  130.,  162.,  198.,  232.,  264.,  296.,\n",
       "        330.,    4.,   36.,   70.,  102.,  136.,  168.,  202.,  236.,\n",
       "        266.,  302.,  336.,    8.,   40.,   76.,  108.,  140.,  174.,\n",
       "        208.,  242.,  276.,  308.,  342.,   16.,   46.,   80.,  114.,\n",
       "        148.,  182.,  212.,  246.,  280.,  314.,  344.,   18.,   52.,\n",
       "         84.,  116.,  150.,  184.,  216.,  248.,  280.,  314.,  348.,\n",
       "         22.,   52.,   86.,  118.,  152.,  184.,  218.,  250.,  284.,\n",
       "        316.,  348.,   22.,   52.,   88.,  122.,  156.,  186.,  220.,\n",
       "        252.,  286.,  320.,  352.,   26.,   54.,   90.,  122.,  156.,\n",
       "        190.,  224.,  256.,  290.,  324.,  352.,   28.,   50.,   94.,\n",
       "        126.,  158.,  192.,  224.,  258.,  290.,  324.,  356.,   28.,\n",
       "         50.,   96.,  128.,  160.,  194.,  228.,  258.,  292.,  324.,\n",
       "        356.,   32.,   48.,   98.,  128.,  164.,  196.,  230.,  262.,\n",
       "        294.,  328.,    0.,   36.,   68.,  100.,  134.,  166.,  200.,\n",
       "        232.,  264.,  298.,  332.,    6.,   38.,   74.])"
      ]
     },
     "execution_count": 44,
     "metadata": {},
     "output_type": "execute_result"
    }
   ],
   "source": [
    "angle"
   ]
  },
  {
   "cell_type": "code",
   "execution_count": 45,
   "metadata": {
    "collapsed": false
   },
   "outputs": [
    {
     "data": {
      "text/plain": [
       "array([    0.        ,     2.18838047,     4.37676094,     6.5651414 ,\n",
       "           8.75352187,    10.94190234,    13.13028281,    15.31866327,\n",
       "          17.50704374,    19.69542421,    21.88380468,    24.07218514,\n",
       "          26.26056561,    28.44894608,    30.63732655,    32.82570701,\n",
       "          35.01408748,    37.20246795,    39.39084842,    41.57922888,\n",
       "          43.76760935,    45.95598982,    48.14437029,    50.33275075,\n",
       "          52.52113122,    54.70951169,    56.89789216,    59.08627262,\n",
       "          61.27465309,    63.46303356,    65.65141403,    67.83979449,\n",
       "          70.02817496,    72.21655543,    74.4049359 ,    76.59331636,\n",
       "          78.78169683,    80.9700773 ,    83.15845777,    85.34683823,\n",
       "          87.5352187 ,    89.72359917,    91.91197964,    94.1003601 ,\n",
       "          96.28874057,    98.47712104,   100.66550151,   102.85388197,\n",
       "         105.04226244,   107.23064291,   109.41902338,   111.60740384,\n",
       "         113.79578431,   115.98416478,   118.17254525,   120.36092571,\n",
       "         122.54930618,   124.73768665,   126.92606712,   129.11444758,\n",
       "         131.30282805,   133.49120852,   135.67958899,   137.86796945,\n",
       "         140.05634992,   142.24473039,   144.43311086,   146.62149132,\n",
       "         148.80987179,   150.99825226,   153.18663273,   155.37501319,\n",
       "         157.56339366,   159.75177413,   161.9401546 ,   164.12853506,\n",
       "         166.31691553,   168.505296  ,   170.69367647,   172.88205693,\n",
       "         175.0704374 ,   177.25881787,   179.44719834,   181.6355788 ,\n",
       "         183.82395927,   186.01233974,   188.20072021,   190.38910067,\n",
       "         192.57748114,   194.76586161,   196.95424208,   199.14262254,\n",
       "         201.33100301,   203.51938348,   205.70776395,   207.89614441,\n",
       "         210.08452488,   212.27290535,   214.46128582,   216.64966628,\n",
       "         218.83804675,   221.02642722,   223.21480769,   225.40318815,\n",
       "         227.59156862,   229.77994909,   231.96832956,   234.15671002,\n",
       "         236.34509049,   238.53347096,   240.72185143,   242.91023189,\n",
       "         245.09861236,   247.28699283,   249.4753733 ,   251.66375376,\n",
       "         253.85213423,   256.0405147 ,   258.22889517,   260.41727563,\n",
       "         262.6056561 ,   264.79403657,   266.98241704,   269.1707975 ,\n",
       "         271.35917797,   273.54755844,   275.73593891,   277.92431937,\n",
       "         280.11269984,   282.30108031,   284.48946078,   286.67784124,\n",
       "         288.86622171,   291.05460218,   293.24298265,   295.43136311,\n",
       "         297.61974358,   299.80812405,   301.99650452,   304.18488498,\n",
       "         306.37326545,   308.56164592,   310.75002639,   312.93840685,\n",
       "         315.12678732,   317.31516779,   319.50354826,   321.69192872,\n",
       "         323.88030919,   326.06868966,   328.25707013,   330.44545059,\n",
       "         332.63383106,   334.82221153,   337.010592  ,   339.19897246,\n",
       "         341.38735293,   343.5757334 ,   345.76411387,   347.95249433,\n",
       "         350.1408748 ,   352.32925527,   354.51763574,   356.7060162 ,\n",
       "         358.89439667,   361.08277714,   363.27115761,   365.45953807,\n",
       "         367.64791854,   369.83629901,   372.02467948,   374.21305994,\n",
       "         376.40144041,   378.58982088,   380.77820135,   382.96658181,\n",
       "         385.15496228,   387.34334275,   389.53172322,   391.72010368,\n",
       "         393.90848415,   396.09686462,   398.28524509,   400.47362555,\n",
       "         402.66200602,   404.85038649,   407.03876696,   409.22714743,\n",
       "         411.41552789,   413.60390836,   415.79228883,   417.9806693 ,\n",
       "         420.16904976,   422.35743023,   424.5458107 ,   426.73419117,\n",
       "         428.92257163,   431.1109521 ,   433.29933257,   435.48771304,\n",
       "         437.6760935 ,   439.86447397,   442.05285444,   444.24123491,\n",
       "         446.42961537,   448.61799584,   450.80637631,   452.99475678,\n",
       "         455.18313724,   457.37151771,   459.55989818,   461.74827865,\n",
       "         463.93665911,   466.12503958,   468.31342005,   470.50180052,\n",
       "         472.69018098,   474.87856145,   477.06694192,   479.25532239,\n",
       "         481.44370285,   483.63208332,   485.82046379,   488.00884426,\n",
       "         490.19722472,   492.38560519,   494.57398566,   496.76236613,\n",
       "         498.95074659,   501.13912706,   503.32750753,   505.515888  ,\n",
       "         507.70426846,   509.89264893,   512.0810294 ,   514.26940987,\n",
       "         516.45779033,   518.6461708 ,   520.83455127,   523.02293174,\n",
       "         525.2113122 ,   527.39969267,   529.58807314,   531.77645361,\n",
       "         533.96483407,   536.15321454,   538.34159501,   540.52997548,\n",
       "         542.71835594,   544.90673641,   547.09511688,   549.28349735,\n",
       "         551.47187781,   553.66025828,   555.84863875,   558.03701922,\n",
       "         560.22539968,   562.41378015,   564.60216062,   566.79054109,\n",
       "         568.97892155,   571.16730202,   573.35568249,   575.54406296,\n",
       "         577.73244342,   579.92082389,   582.10920436,   584.29758483,\n",
       "         586.48596529,   588.67434576,   590.86272623,   593.0511067 ,\n",
       "         595.23948716,   597.42786763,   599.6162481 ,   601.80462857,\n",
       "         603.99300903,   606.1813895 ,   608.36976997,   610.55815044,\n",
       "         612.7465309 ,   614.93491137,   617.12329184,   619.31167231,\n",
       "         621.50005277,   623.68843324,   625.87681371,   628.06519418,\n",
       "         630.25357464,   632.44195511,   634.63033558,   636.81871605,\n",
       "         639.00709651,   641.19547698,   643.38385745,   645.57223792,\n",
       "         647.76061838,   649.94899885,   652.13737932,   654.32575979,\n",
       "         656.51414025,   658.70252072,   660.89090119,   663.07928166,\n",
       "         665.26766212,   667.45604259,   669.64442306,   671.83280353,\n",
       "         674.02118399,   676.20956446,   678.39794493,   680.5863254 ,\n",
       "         682.77470586,   684.96308633,   687.1514668 ,   689.33984727,\n",
       "         691.52822773,   693.7166082 ,   695.90498867,   698.09336914,\n",
       "         700.2817496 ,   702.47013007,   704.65851054,   706.84689101,\n",
       "         709.03527147,   711.22365194,   713.41203241,   715.60041288,\n",
       "         717.78879334,   719.97717381,   722.16555428,   724.35393475,\n",
       "         726.54231521,   728.73069568,   730.91907615,   733.10745662,\n",
       "         735.29583708,   737.48421755,   739.67259802,   741.86097849,\n",
       "         744.04935895,   746.23773942,   748.42611989,   750.61450036,\n",
       "         752.80288082,   754.99126129,   757.17964176,   759.36802223,\n",
       "         761.55640269,   763.74478316,   765.93316363,   768.1215441 ,\n",
       "         770.30992456,   772.49830503,   774.6866855 ,   776.87506597,\n",
       "         779.06344643,   781.2518269 ,   783.44020737,   785.62858784,\n",
       "         787.8169683 ,   790.00534877,   792.19372924,   794.38210971,\n",
       "         796.57049017,   798.75887064,   800.94725111,   803.13563158,\n",
       "         805.32401204,   807.51239251,   809.70077298,   811.88915345,\n",
       "         814.07753392,   816.26591438,   818.45429485,   820.64267532,\n",
       "         822.83105579,   825.01943625,   827.20781672,   829.39619719,\n",
       "         831.58457766,   833.77295812,   835.96133859,   838.14971906,\n",
       "         840.33809953,   842.52647999,   844.71486046,   846.90324093,\n",
       "         849.0916214 ,   851.28000186,   853.46838233,   855.6567628 ,\n",
       "         857.84514327,   860.03352373,   862.2219042 ,   864.41028467,\n",
       "         866.59866514,   868.7870456 ,   870.97542607,   873.16380654,\n",
       "         875.35218701,   877.54056747,   879.72894794,   881.91732841,\n",
       "         884.10570888,   886.29408934,   888.48246981,   890.67085028,\n",
       "         892.85923075,   895.04761121,   897.23599168,   899.42437215,\n",
       "         901.61275262,   903.80113308,   905.98951355,   908.17789402,\n",
       "         910.36627449,   912.55465495,   914.74303542,   916.93141589,\n",
       "         919.11979636,   921.30817682,   923.49655729,   925.68493776,\n",
       "         927.87331823,   930.06169869,   932.25007916,   934.43845963,\n",
       "         936.6268401 ,   938.81522056,   941.00360103,   943.1919815 ,\n",
       "         945.38036197,   947.56874243,   949.7571229 ,   951.94550337,\n",
       "         954.13388384,   956.3222643 ,   958.51064477,   960.69902524,\n",
       "         962.88740571,   965.07578617,   967.26416664,   969.45254711,\n",
       "         971.64092758,   973.82930804,   976.01768851,   978.20606898,\n",
       "         980.39444945,   982.58282991,   984.77121038,   986.95959085,\n",
       "         989.14797132,   991.33635178,   993.52473225,   995.71311272,\n",
       "         997.90149319,  1000.08987365,  1002.27825412,  1004.46663459,\n",
       "        1006.65501506,  1008.84339552,  1011.03177599,  1013.22015646,\n",
       "        1015.40853693,  1017.59691739,  1019.78529786,  1021.97367833,\n",
       "        1024.1620588 ,  1026.35043926,  1028.53881973,  1030.7272002 ,\n",
       "        1032.91558067,  1035.10396113,  1037.2923416 ])"
      ]
     },
     "execution_count": 45,
     "metadata": {},
     "output_type": "execute_result"
    }
   ],
   "source": [
    "time"
   ]
  },
  {
   "cell_type": "code",
   "execution_count": null,
   "metadata": {
    "collapsed": true
   },
   "outputs": [],
   "source": []
  }
 ],
 "metadata": {
  "kernelspec": {
   "display_name": "Python 2",
   "language": "python",
   "name": "python2"
  },
  "language_info": {
   "codemirror_mode": {
    "name": "ipython",
    "version": 2
   },
   "file_extension": ".py",
   "mimetype": "text/x-python",
   "name": "python",
   "nbconvert_exporter": "python",
   "pygments_lexer": "ipython2",
   "version": "2.7.10"
  }
 },
 "nbformat": 4,
 "nbformat_minor": 0
}
