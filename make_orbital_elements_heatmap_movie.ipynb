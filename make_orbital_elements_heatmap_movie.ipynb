{
 "cells": [
  {
   "cell_type": "markdown",
   "metadata": {},
   "source": [
    "David Fleming Oct. 2015\n",
    "\n",
    "This notebook is used to make movies of how disk parameters evolve with time.  Specifically, heatmaps of all the disk particles are made with respect to certain parameters of the gas particles, such as their longitude of perihelion vs. semimajor axis and so on.  These movies allow us to see how resonances form and precess in the inner disk and at what timescale."
   ]
  },
  {
   "cell_type": "code",
   "execution_count": 1,
   "metadata": {
    "collapsed": true
   },
   "outputs": [],
   "source": [
    "%matplotlib inline\n",
    "#Imports required to run\n",
    "\n",
    "import pynbody\n",
    "SimArray = pynbody.array.SimArray\n",
    "from matplotlib.pylab import *\n",
    "import matplotlib.pylab as plt\n",
    "import pynbody.plot.sph as sph\n",
    "import numpy as np\n",
    "from scipy import interpolate\n",
    "\n",
    "#Tell code where my diskpy distribution is\n",
    "import os\n",
    "sys.path.append('/astro/users/dflemin3/Desktop/diskpy')\n",
    "sys.path.append('/astro/users/dflemin3/Desktop')\n",
    "\n",
    "#Import diskpy and my modules from ICgen submodule\n",
    "import diskpy\n",
    "from diskpy.ICgen import *\n",
    "from diskplot import *\n",
    "\n",
    "#Typical plot parameters that make for pretty plots\n",
    "plt.rcParams['figure.figsize'] = (10,8)\n",
    "from astroML.plotting import setup_text_plots\n",
    "setup_text_plots(fontsize=20, usetex=True)\n",
    "\n",
    "rc('font', **{'family': 'serif', 'serif': ['Computer Modern']})\n",
    "mpl.rcParams['font.size'] = 20.0"
   ]
  },
  {
   "cell_type": "markdown",
   "metadata": {},
   "source": [
    "# Tell the code where the data is"
   ]
  },
  {
   "cell_type": "code",
   "execution_count": 2,
   "metadata": {
    "collapsed": true
   },
   "outputs": [],
   "source": [
    "cwd = '/astro/users/dflemin3/Desktop/sims/k38HighEccLong'\n",
    "os.chdir(cwd)"
   ]
  },
  {
   "cell_type": "markdown",
   "metadata": {},
   "source": [
    "# Read parameters from the .param file to determine timesteping, etc"
   ]
  },
  {
   "cell_type": "code",
   "execution_count": 3,
   "metadata": {
    "collapsed": false
   },
   "outputs": [],
   "source": [
    "#Read in .param file and extract info I need\n",
    "\n",
    "name = ''\n",
    "length = 0\n",
    "dDelta = 0.0\n",
    "\n",
    "#Find param file if it exists\n",
    "for file in os.listdir(cwd):\n",
    "    if file.endswith(\".param\"):\n",
    "        filename = file\n",
    "        break\n",
    "    else:\n",
    "        filename = \"Invalid\"\n",
    "        \n",
    "#No file name so give warning before program dies\n",
    "if filename == \"Invalid\":\n",
    "    print \"No .param file found!\"\n",
    "\n",
    "else:\n",
    "    with open(filename) as f:\n",
    "        lines = f.readlines()\n",
    "\n",
    "    #Iterate over lines in param file, look for ones of interest\n",
    "    for line in lines:\n",
    "        line = str(line).rstrip('\\n')\n",
    "\n",
    "        #.param files are of the form: tParamName = val\n",
    "        \n",
    "        #Look for file name\n",
    "        if \"achOutName\" in line:\n",
    "             name = line.split()[-1]\n",
    "\n",
    "        #Look for iOutInterval\n",
    "        if \"iOutInterval\" in line:\n",
    "            outInt = int(line.split()[-1])\n",
    "\n",
    "        #Look for number of steps\n",
    "        if \"nSteps\" in line:\n",
    "            nSteps = int(line.split()[-1])\n",
    "\n",
    "        #Look for dDelta\n",
    "        if \"dDelta\" in line:\n",
    "            dDelta = float(line.split()[-1])\n",
    "            \n",
    "#Compute important quantities\n",
    "length = nSteps/outInt\n",
    "dt = dDelta/(2.0*np.pi) #Years per step"
   ]
  },
  {
   "cell_type": "markdown",
   "metadata": {},
   "source": [
    "# Compute binary parameters to allow for relative comparisons between binary and disk particles."
   ]
  },
  {
   "cell_type": "code",
   "execution_count": 5,
   "metadata": {
    "collapsed": false
   },
   "outputs": [
    {
     "name": "stdout",
     "output_type": "stream",
     "text": [
      "(0.250056465962,[ 0.14691106],0.0,0.0,0.0,0.0), mass: ([ 0.949],[ 0.249])\n"
     ]
    }
   ],
   "source": [
    "#Calculate system parameters\n",
    "s = pynbody.load(name + \".std\")\n",
    "\n",
    "x1, x2 = s.stars['pos']\n",
    "m1, m2 = s.stars[0]['mass'], s.stars[1]['mass']\n",
    "v1, v2 = s.stars['vel']\n",
    "m_disk = np.sum(s.gas['mass'])\n",
    "x = x1-x2\n",
    "v = v1-v2\n",
    "X = [x,v]\n",
    "test = binary.Binary(X,m1,m2,'cartesian')\n",
    "print test"
   ]
  },
  {
   "cell_type": "markdown",
   "metadata": {},
   "source": [
    "# Make the movie!\n",
    "Can edit below to specify parameters you want to plot, although it's typically most useful to have the x-axis be gas particles argument of perihelion + longitude of ascending node relative to the binary's for precession purposes."
   ]
  },
  {
   "cell_type": "code",
   "execution_count": 7,
   "metadata": {
    "collapsed": false
   },
   "outputs": [],
   "source": [
    "%%capture \n",
    "for i in range(1,length):\n",
    "    suffix = str(i*outInt).zfill(6)\n",
    "    snap_name = name + \".\" + suffix\n",
    "    s = pynbody.load(snap_name)\n",
    "    \n",
    "    #Center on barycenter\n",
    "    diskCom = binaryUtils.computeCOM(s.stars,s.gas,starFlag=True,gasFlag=True)\n",
    "    s['pos'] -= diskCom\n",
    "    \n",
    "    x1_gas = s.gas['pos']\n",
    "    x_zero = pynbody.array.SimArray(np.zeros((len(x1_gas),3)),'au')\n",
    "    v1_gas = s.gas['vel']\n",
    "    v_zero = pynbody.array.SimArray(np.zeros((len(x1_gas),3)),'km s**-1')\n",
    "    m1 = np.sum(s.s['mass'])\n",
    "    m2 = s.gas['mass']\n",
    "\n",
    "    cm = binaryUtils.computeCOM(s.stars,s.gas,cutoff=3.0).in_units('au')\n",
    "\n",
    "    #Compute semimajor axis, longitude of perihelion (relative to that of bin) for ALL gas particles\n",
    "    gas_a = AddBinary.calcSemi(x1_gas,cm,v1_gas,v_zero,m1,m2)\n",
    "    gas_e = AddBinary.calcEcc(x1_gas,cm,v1_gas,v_zero,m1,m2)\n",
    "    gas_w = AddBinary.calcArgPeri(x1_gas,cm,v1_gas,v_zero,m1,m2) + AddBinary.calcLongOfAscNode(x1_gas,x_zero,v1_gas,v_zero)\n",
    "    gas_w = gas_w - (test.Omega + test.w)\n",
    "    \n",
    "    #Ensure angles range from 0-360\n",
    "    while np.sum(gas_w > 360.0) > 0:\n",
    "    gas_w[gas_w > 360.0] = gas_w[gas_w > 360.0] - 360.0\n",
    "\n",
    "    while np.sum(gas_w < 0) > 0:    \n",
    "        gas_w[gas_w < 0] = gas_w[gas_w < 0] + 360.0\n",
    "\n",
    "    #Filter out gas particles that aren't bound\n",
    "    mask = np.logical_and(gas_e < 1,gas_e > 0)\n",
    "    gas_a = gas_a[mask]\n",
    "    gas_w = gas_w[mask]\n",
    "    gas_e = gas_e[mask]\n",
    "\n",
    "    x_min = 0\n",
    "    x_max = 360\n",
    "    y_min = 0\n",
    "    y_max = 3\n",
    "    extent = [[x_min,x_max],[y_min,y_max]]\n",
    "\n",
    "    #Now Filter gas particles to within a certain distance\n",
    "    mask = np.logical_and(gas_a < y_max,gas_a > y_min)\n",
    "    gas_a = gas_a[mask]\n",
    "    gas_w = gas_w[mask]\n",
    "    gas_e = gas_e[mask]\n",
    "\n",
    "    #Plot heatmap\n",
    "    fig, ax, im, cbar = diskplot.plot_heatmap(gas_w,gas_a,labels=['$\\Omega + \\omega$','Radius [Au]','Number'],\n",
    "                                    cm='hot',vmin=0,vmax=250,hist_range=extent)\n",
    "    ax.set_ylim(y_min,y_max)\n",
    "    ax.set_xlim(x_min,x_max)\n",
    "    ax.set_title(\"Time: %.2lf [yr]\" % (dt*i*outInt))\n",
    "    \n",
    "    #Save fig for future movie\n",
    "    fig_name = \"k38WvsA.\" + str(i) + \".png\"\n",
    "    fig.savefig(fig_name)"
   ]
  },
  {
   "cell_type": "code",
   "execution_count": null,
   "metadata": {
    "collapsed": true
   },
   "outputs": [],
   "source": []
  }
 ],
 "metadata": {
  "kernelspec": {
   "display_name": "Python 2",
   "language": "python",
   "name": "python2"
  },
  "language_info": {
   "codemirror_mode": {
    "name": "ipython",
    "version": 2
   },
   "file_extension": ".py",
   "mimetype": "text/x-python",
   "name": "python",
   "nbconvert_exporter": "python",
   "pygments_lexer": "ipython2",
   "version": "2.7.10"
  }
 },
 "nbformat": 4,
 "nbformat_minor": 0
}
