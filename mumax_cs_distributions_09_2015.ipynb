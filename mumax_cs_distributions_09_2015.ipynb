{
 "cells": [
  {
   "cell_type": "markdown",
   "metadata": {},
   "source": [
    "David Fleming, Sept 2015\n",
    "Notebook for plotting distributions for mumax (relative velocities between particles) and c_s (sound speed calculated by pynbody)"
   ]
  },
  {
   "cell_type": "code",
   "execution_count": 1,
   "metadata": {
    "collapsed": true
   },
   "outputs": [],
   "source": [
    "%matplotlib inline\n",
    "#Imports required to run\n",
    "\n",
    "import pynbody\n",
    "from matplotlib.pylab import *\n",
    "import matplotlib.pylab as plt\n",
    "import pynbody.plot.sph as sph\n",
    "import numpy as np\n",
    "from scipy import interpolate\n",
    "\n",
    "#Tell code where my diskpy distribution is\n",
    "import os\n",
    "sys.path.append('/astro/users/dflemin3/Desktop/diskpy')\n",
    "sys.path.append('/astro/users/dflemin3/Desktop')\n",
    "\n",
    "#Import diskpy and my modules from ICgen submodule\n",
    "import diskpy\n",
    "from diskpy.ICgen import *\n",
    "from diskplot import *\n",
    "\n",
    "#Typical plot parameters that make for pretty plots\n",
    "plt.rcParams['figure.figsize'] = (10,8)\n",
    "from astroML.plotting import setup_text_plots\n",
    "setup_text_plots(fontsize=20, usetex=True)\n",
    "\n",
    "rc('font', **{'family': 'serif', 'serif': ['Computer Modern']})\n",
    "mpl.rcParams['font.size'] = 20.0"
   ]
  },
  {
   "cell_type": "code",
   "execution_count": 2,
   "metadata": {
    "collapsed": true
   },
   "outputs": [],
   "source": [
    "#Change directory to where the data is\n",
    "cwd = '/astro/users/dflemin3/Desktop'\n",
    "os.chdir(cwd)\n",
    "\n",
    "s = pynbody.load('snapshot_name_here.std')"
   ]
  },
  {
   "cell_type": "code",
   "execution_count": 3,
   "metadata": {
    "collapsed": false
   },
   "outputs": [
    {
     "ename": "NameError",
     "evalue": "name 's' is not defined",
     "output_type": "error",
     "traceback": [
      "\u001b[1;31m---------------------------------------------------------------------------\u001b[0m",
      "\u001b[1;31mNameError\u001b[0m                                 Traceback (most recent call last)",
      "\u001b[1;32m<ipython-input-3-46788184d065>\u001b[0m in \u001b[0;36m<module>\u001b[1;34m()\u001b[0m\n\u001b[1;32m----> 1\u001b[1;33m \u001b[0mv_unit\u001b[0m \u001b[1;33m=\u001b[0m \u001b[0ms\u001b[0m\u001b[1;33m[\u001b[0m\u001b[1;34m'vel'\u001b[0m\u001b[1;33m]\u001b[0m\u001b[1;33m.\u001b[0m\u001b[0munits\u001b[0m\u001b[1;33m\u001b[0m\u001b[0m\n\u001b[0m\u001b[0;32m      2\u001b[0m \u001b[1;31m#Load mumax files, remove particle number\u001b[0m\u001b[1;33m\u001b[0m\u001b[1;33m\u001b[0m\u001b[0m\n\u001b[0;32m      3\u001b[0m \u001b[0minitial\u001b[0m \u001b[1;33m=\u001b[0m \u001b[0mpynbody\u001b[0m\u001b[1;33m.\u001b[0m\u001b[0marray\u001b[0m\u001b[1;33m.\u001b[0m\u001b[0mSimArray\u001b[0m\u001b[1;33m(\u001b[0m\u001b[0mnp\u001b[0m\u001b[1;33m.\u001b[0m\u001b[0mgenfromtxt\u001b[0m\u001b[1;33m(\u001b[0m\u001b[1;34m\"k38Initial.mumax\"\u001b[0m\u001b[1;33m)\u001b[0m\u001b[1;33m,\u001b[0m\u001b[0mv_unit\u001b[0m\u001b[1;33m)\u001b[0m\u001b[1;33m\u001b[0m\u001b[0m\n\u001b[0;32m      4\u001b[0m \u001b[0minitial\u001b[0m \u001b[1;33m=\u001b[0m \u001b[0minitial\u001b[0m\u001b[1;33m[\u001b[0m\u001b[1;36m1\u001b[0m\u001b[1;33m:\u001b[0m\u001b[1;33m]\u001b[0m\u001b[1;33m.\u001b[0m\u001b[0min_units\u001b[0m\u001b[1;33m(\u001b[0m\u001b[1;34m'km s**-1'\u001b[0m\u001b[1;33m)\u001b[0m\u001b[1;33m\u001b[0m\u001b[0m\n\u001b[0;32m      5\u001b[0m \u001b[1;33m\u001b[0m\u001b[0m\n",
      "\u001b[1;31mNameError\u001b[0m: name 's' is not defined"
     ]
    }
   ],
   "source": [
    "v_unit = s['vel'].units\n",
    "#Load mumax files, remove particle number\n",
    "initial = pynbody.array.SimArray(np.genfromtxt(\"k38Initial.mumax\"),v_unit)\n",
    "initial = initial[1:].in_units('km s**-1')\n",
    "\n",
    "kepler38Final = pynbody.array.SimArray(np.genfromtxt('kepler38Final.mumax'),v_unit)\n",
    "kepler38Final = kepler38Final[1:].in_units('km s**-1')\n",
    "\n",
    "lowEccFinal = pynbody.array.SimArray(np.genfromtxt('lowEccFinal.mumax'),v_unit)\n",
    "lowEccFinal = lowEccFinal[1:].in_units('km s**-1')\n",
    "\n",
    "#Mask away low frequency, high values that screw up histogram\n",
    "limit = 5\n",
    "mask = initial < limit\n",
    "initial = initial[mask]\n",
    "mask = kepler38Final < limit\n",
    "kepler38Final = kepler38Final[mask]\n",
    "mask = lowEccFinal < limit\n",
    "lowEccFinal = lowEccFinal[mask]"
   ]
  },
  {
   "cell_type": "code",
   "execution_count": 7,
   "metadata": {
    "collapsed": false
   },
   "outputs": [
    {
     "ename": "NameError",
     "evalue": "name 'initial' is not defined",
     "output_type": "error",
     "traceback": [
      "\u001b[1;31m---------------------------------------------------------------------------\u001b[0m",
      "\u001b[1;31mNameError\u001b[0m                                 Traceback (most recent call last)",
      "\u001b[1;32m<ipython-input-7-ee1bdbf022ec>\u001b[0m in \u001b[0;36m<module>\u001b[1;34m()\u001b[0m\n\u001b[0;32m      1\u001b[0m \u001b[1;31m#Histogram data for plotting distributions\u001b[0m\u001b[1;33m\u001b[0m\u001b[1;33m\u001b[0m\u001b[0m\n\u001b[0;32m      2\u001b[0m \u001b[0mbins\u001b[0m \u001b[1;33m=\u001b[0m \u001b[1;36m50\u001b[0m\u001b[1;33m\u001b[0m\u001b[0m\n\u001b[1;32m----> 3\u001b[1;33m \u001b[0mi_hist\u001b[0m\u001b[1;33m,\u001b[0m \u001b[0mi_edges\u001b[0m \u001b[1;33m=\u001b[0m \u001b[0mnp\u001b[0m\u001b[1;33m.\u001b[0m\u001b[0mhistogram\u001b[0m\u001b[1;33m(\u001b[0m\u001b[0minitial\u001b[0m\u001b[1;33m,\u001b[0m\u001b[0mbins\u001b[0m\u001b[1;33m)\u001b[0m\u001b[1;33m\u001b[0m\u001b[0m\n\u001b[0m\u001b[0;32m      4\u001b[0m \u001b[0mk38_hist\u001b[0m\u001b[1;33m,\u001b[0m \u001b[0mk38_edges\u001b[0m \u001b[1;33m=\u001b[0m \u001b[0mnp\u001b[0m\u001b[1;33m.\u001b[0m\u001b[0mhistogram\u001b[0m\u001b[1;33m(\u001b[0m\u001b[0mkepler38Final\u001b[0m\u001b[1;33m,\u001b[0m\u001b[0mbins\u001b[0m\u001b[1;33m)\u001b[0m\u001b[1;33m\u001b[0m\u001b[0m\n\u001b[0;32m      5\u001b[0m \u001b[0mlowEcc_hist\u001b[0m\u001b[1;33m,\u001b[0m \u001b[0mlowEcc_edges\u001b[0m \u001b[1;33m=\u001b[0m \u001b[0mnp\u001b[0m\u001b[1;33m.\u001b[0m\u001b[0mhistogram\u001b[0m\u001b[1;33m(\u001b[0m\u001b[0mlowEccFinal\u001b[0m\u001b[1;33m,\u001b[0m\u001b[0mbins\u001b[0m\u001b[1;33m)\u001b[0m\u001b[1;33m\u001b[0m\u001b[0m\n",
      "\u001b[1;31mNameError\u001b[0m: name 'initial' is not defined"
     ]
    }
   ],
   "source": [
    "#Histogram data for plotting distributions\n",
    "bins = 50\n",
    "i_hist, i_edges = np.histogram(initial,bins)\n",
    "k38_hist, k38_edges = np.histogram(kepler38Final,bins)\n",
    "lowEcc_hist, lowEcc_edges = np.histogram(lowEccFinal,bins)\n",
    "\n",
    "i_x = (i_edges[1:] + i_edges[0:-1])/2.0\n",
    "k38_x = (k38_edges[1:] + k38_edges[:-1])/2.0\n",
    "lowEcc_x = (lowEcc_edges[1:] + lowEcc_edges[:-1])/2.0"
   ]
  },
  {
   "cell_type": "code",
   "execution_count": 4,
   "metadata": {
    "collapsed": false
   },
   "outputs": [
    {
     "name": "stderr",
     "output_type": "stream",
     "text": [
      "Loading using backend <class 'pynbody.tipsy.TipsySnap'>\n",
      "TipsySnap: loading  /astro/users/dflemin3/Desktop/sims/kepler38Long/k38_snap.std\n",
      "Loading using backend <class 'pynbody.tipsy.TipsySnap'>\n",
      "TipsySnap: loading  /astro/users/dflemin3/Desktop/sims/kepler38Long/k38_snap.119000\n",
      "Loading using backend <class 'pynbody.tipsy.TipsySnap'>\n",
      "TipsySnap: loading  /astro/users/dflemin3/Desktop/sims/lowEccLong/k38_snap.119000\n",
      "SimSnap: deriving array cs\n",
      "TipsySnap: loading data from main file\n",
      "SimSnap: deriving array mu\n",
      "SimSnap: deriving array cs\n",
      "TipsySnap: loading data from main file\n",
      "SimSnap: deriving array mu\n",
      "SimSnap: deriving array cs\n",
      "TipsySnap: loading data from main file\n",
      "SimSnap: deriving array mu\n"
     ]
    }
   ],
   "source": [
    "#Load sound speeds\n",
    "k38dir = '/astro/users/dflemin3/Desktop/sims/kepler38Long'\n",
    "lowEccDir = '/astro/users/dflemin3/Desktop/sims/lowEccLong'\n",
    "\n",
    "k38Initial = pynbody.load(k38dir + '/k38_snap.std');\n",
    "k38snapFinal = pynbody.load(k38dir + '/k38_snap.119000');\n",
    "lowEccsnapFinal = pynbody.load(lowEccDir + '/k38_snap.119000');\n",
    "\n",
    "k38InitialCs = k38Initial.gas['cs'].in_units('km s**-1')\n",
    "k38FinalCs = k38snapFinal.gas['cs'].in_units('km s**-1')\n",
    "lowEccFinalCs = lowEccsnapFinal.gas['cs'].in_units('km s**-1')"
   ]
  },
  {
   "cell_type": "code",
   "execution_count": 5,
   "metadata": {
    "collapsed": true
   },
   "outputs": [],
   "source": [
    "#Histogram sound speeds\n",
    "bins = 50\n",
    "ics_hist, ics_edges = np.histogram(k38InitialCs,bins)\n",
    "k38cs_hist, k38cs_edges = np.histogram(k38FinalCs,bins)\n",
    "lowEcccs_hist, lowEcccs_edges = np.histogram(lowEccFinalCs,bins)\n",
    "\n",
    "ics_x = (ics_edges[1:] + ics_edges[0:-1])/2.0\n",
    "k38cs_x = (k38cs_edges[1:] + k38cs_edges[:-1])/2.0\n",
    "lowEcccs_x = (lowEcccs_edges[1:] + lowEcccs_edges[:-1])/2.0"
   ]
  },
  {
   "cell_type": "code",
   "execution_count": 6,
   "metadata": {
    "collapsed": false
   },
   "outputs": [
    {
     "ename": "NameError",
     "evalue": "name 'i_x' is not defined",
     "output_type": "error",
     "traceback": [
      "\u001b[1;31m---------------------------------------------------------------------------\u001b[0m",
      "\u001b[1;31mNameError\u001b[0m                                 Traceback (most recent call last)",
      "\u001b[1;32m<ipython-input-6-e4a9fb8ddb67>\u001b[0m in \u001b[0;36m<module>\u001b[1;34m()\u001b[0m\n\u001b[0;32m      1\u001b[0m \u001b[1;31m#Plot distributions together\u001b[0m\u001b[1;33m\u001b[0m\u001b[1;33m\u001b[0m\u001b[0m\n\u001b[1;32m----> 2\u001b[1;33m \u001b[0mplt\u001b[0m\u001b[1;33m.\u001b[0m\u001b[0mstep\u001b[0m\u001b[1;33m(\u001b[0m\u001b[0mi_x\u001b[0m\u001b[1;33m,\u001b[0m\u001b[0mi_hist\u001b[0m\u001b[1;33m,\u001b[0m\u001b[0mlabel\u001b[0m\u001b[1;33m=\u001b[0m\u001b[1;34m'Initial Conditions'\u001b[0m\u001b[1;33m,\u001b[0m\u001b[0mcolor\u001b[0m\u001b[1;33m=\u001b[0m\u001b[1;34m'blue'\u001b[0m\u001b[1;33m,\u001b[0m\u001b[0mlw\u001b[0m\u001b[1;33m=\u001b[0m\u001b[1;36m2\u001b[0m\u001b[1;33m)\u001b[0m\u001b[1;33m\u001b[0m\u001b[0m\n\u001b[0m\u001b[0;32m      3\u001b[0m \u001b[0mplt\u001b[0m\u001b[1;33m.\u001b[0m\u001b[0mstep\u001b[0m\u001b[1;33m(\u001b[0m\u001b[0mk38_x\u001b[0m\u001b[1;33m,\u001b[0m\u001b[0mk38_hist\u001b[0m\u001b[1;33m,\u001b[0m\u001b[0mlabel\u001b[0m\u001b[1;33m=\u001b[0m\u001b[1;34m'kepler38 520yr'\u001b[0m\u001b[1;33m,\u001b[0m\u001b[0mcolor\u001b[0m\u001b[1;33m=\u001b[0m\u001b[1;34m'green'\u001b[0m\u001b[1;33m,\u001b[0m\u001b[0mlw\u001b[0m\u001b[1;33m=\u001b[0m\u001b[1;36m2\u001b[0m\u001b[1;33m)\u001b[0m\u001b[1;33m\u001b[0m\u001b[0m\n\u001b[0;32m      4\u001b[0m \u001b[0mplt\u001b[0m\u001b[1;33m.\u001b[0m\u001b[0mstep\u001b[0m\u001b[1;33m(\u001b[0m\u001b[0mlowEcc_x\u001b[0m\u001b[1;33m,\u001b[0m\u001b[0mlowEcc_hist\u001b[0m\u001b[1;33m,\u001b[0m\u001b[0mlabel\u001b[0m\u001b[1;33m=\u001b[0m\u001b[1;34m'lowEcc 520yr'\u001b[0m\u001b[1;33m,\u001b[0m\u001b[0mcolor\u001b[0m\u001b[1;33m=\u001b[0m\u001b[1;34m'cyan'\u001b[0m\u001b[1;33m,\u001b[0m\u001b[0mlw\u001b[0m\u001b[1;33m=\u001b[0m\u001b[1;36m2\u001b[0m\u001b[1;33m)\u001b[0m\u001b[1;33m\u001b[0m\u001b[0m\n\u001b[0;32m      5\u001b[0m \u001b[0mplt\u001b[0m\u001b[1;33m.\u001b[0m\u001b[0mstep\u001b[0m\u001b[1;33m(\u001b[0m\u001b[0mics_x\u001b[0m\u001b[1;33m,\u001b[0m\u001b[0mics_hist\u001b[0m\u001b[1;33m,\u001b[0m\u001b[0mlabel\u001b[0m\u001b[1;33m=\u001b[0m\u001b[1;34m'Initial Conditions $c_s$'\u001b[0m\u001b[1;33m,\u001b[0m\u001b[0mcolor\u001b[0m\u001b[1;33m=\u001b[0m\u001b[1;34m'red'\u001b[0m\u001b[1;33m,\u001b[0m\u001b[0mlw\u001b[0m\u001b[1;33m=\u001b[0m\u001b[1;36m2\u001b[0m\u001b[1;33m)\u001b[0m\u001b[1;33m\u001b[0m\u001b[0m\n",
      "\u001b[1;31mNameError\u001b[0m: name 'i_x' is not defined"
     ]
    }
   ],
   "source": [
    "#Plot distributions together\n",
    "plt.step(i_x,i_hist,label='Initial Conditions',color='blue',lw=2)\n",
    "plt.step(k38_x,k38_hist,label='kepler38 520yr',color='green',lw=2)\n",
    "plt.step(lowEcc_x,lowEcc_hist,label='lowEcc 520yr',color='cyan',lw=2)\n",
    "plt.step(ics_x,ics_hist,label='Initial Conditions $c_s$',color='red',lw=2)\n",
    "plt.step(k38cs_x,k38cs_hist,label='kepler38 520yr $c_s$',color='teal',lw=2)\n",
    "plt.step(lowEcccs_x,lowEcccs_hist,label='lowEcc 520yr $c_s$',color='black',lw=2)\n",
    "\n",
    "plt.xlabel('speed [km s$^{-1}$]')\n",
    "plt.ylabel('Counts')\n",
    "plt.legend()\n",
    "#plt.savefig('16.09.2015MuMaxCsHist.pdf')"
   ]
  },
  {
   "cell_type": "code",
   "execution_count": null,
   "metadata": {
    "collapsed": true
   },
   "outputs": [],
   "source": []
  }
 ],
 "metadata": {
  "kernelspec": {
   "display_name": "Python 2",
   "language": "python",
   "name": "python2"
  },
  "language_info": {
   "codemirror_mode": {
    "name": "ipython",
    "version": 2
   },
   "file_extension": ".py",
   "mimetype": "text/x-python",
   "name": "python",
   "nbconvert_exporter": "python",
   "pygments_lexer": "ipython2",
   "version": "2.7.10"
  }
 },
 "nbformat": 4,
 "nbformat_minor": 0
}
