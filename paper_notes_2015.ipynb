{
 "cells": [
  {
   "cell_type": "markdown",
   "metadata": {},
   "source": [
    "#David Fleming 2015\n",
    "This notebook contains the summaries of results of papers on topics related to circumbinary disks and their interactions with the central binary."
   ]
  },
  {
   "cell_type": "markdown",
   "metadata": {},
   "source": [
    "# Binary eccentricity evolution"
   ]
  },
  {
   "cell_type": "markdown",
   "metadata": {},
   "source": [
    "###Artymowicz+1991\n",
    "    ads: adsabs.harvard.edu/abs/1991ApJ...370L..35A\n",
    "    Abs: Looked at how disk-binary interactions affects the binary orbital elements.  All due to OLR.\n",
    "    \n",
    "#####Set-up, procedure\n",
    "Ran a suit of N~10,000 SPH simulations for a binary with q ~ 3/7 and e ~ 0.1 embedded in a coplanar circumbinary disk with $\\Sigma$ ~ $r^{-1}$.  The disk ranged from r = 1.7a to 4.0a (a = binary semimajor axis),  M$_{disk}$ $<<$ M$_{binary}$ and the disk was initialized such that the gas particles had quasi-keplerian orbits.  The binary was inserted into an initially smooth axisymmetric disk that quickly carved a gap and then settled into a quasi-stationary state.  The system was allowed to evovle for 70 binary periods.\n",
    "\n",
    "Note: These values correspond decently to the Kepler 38 system!\n",
    "\n",
    "#####Results\n",
    "For q$_{d}$ = M$_{disk}$/M$_{binary}$, and the changes in semimajor axis, eccentricity, and binary longitude of periastron $\\dot{a}$, $\\dot{e}$, and $\\dot{\\tilde{\\omega}}$, the following relations were found:\n",
    "\n",
    "$\\dot{a}$ = -4.3 x 19$^{-4}$ * $q_{d}$ * $\\Omega_{b}$ * a      (typo on * 19^x ???)\n",
    "\n",
    "$\\dot{e}$ = -1.9 x 10$^{-3}$ * $q_{d}$ * $\\Omega_{b}$\n",
    "\n",
    "$\\dot{\\tilde{\\omega}}$ = -1.9 x 10$^{-3}$ * $q_{d}$ * $\\Omega_{b}$\n",
    "\n",
    "\n",
    "Note: $q_d$ refers to the disk within r < 6a\n",
    "\n",
    "##### Discussion\n",
    "(l,m) = (1,2) Outer Lindblad Resonance (l = time harmonic number, m = azimuthal harmonic number) accounts for most of torque on binary.  This OLR is present at r = 2.08a since the binary is eccentric.  In a simple model of this interaction, one can consider the interaction to take place mainly at apoastron when the binary is rotating faster than the disk, the disk viscosity leads to a retarding torque on the binary causing it to lose E and L.  Strong corotation resonances could occur and damp eccentricity growth, but they typically exist within the gas-depleted gap carved by the binary and hence play no role.  The (1,2) OLR that does dominate takes place closest to the inner edge.  This innermost resonance causes a gap that determines the resonances that govern eccentricity evolution.  "
   ]
  },
  {
   "cell_type": "markdown",
   "metadata": {},
   "source": [
    "# Disk Eccentricity evolution"
   ]
  },
  {
   "cell_type": "markdown",
   "metadata": {},
   "source": [
    "## Papaloizou+2001\n",
    "ads: http://adsabs.harvard.edu/abs/2001A%26A...366..263P\n",
    "Abs: How disk-binary interactions can make the disk, binary, or both become eccentric.  All about that 1:3 Eccentric Outer Lindblad resonance.\n",
    "    \n",
    "#####Key Takeaway\n",
    "From the abstract:\n",
    "\n",
    "Analysis of the disc response to the presence of a perturbing companion indicates that for the higher masses, the inner parts of the disc that lie exterior to the companion orbit become eccentric through an instability driven by the coupling of an initially small disc eccentricity to the companion's tidal potential. This coupling leads to the excitation of an m=2 spiral wave at the 1:3 outer eccentric Lindblad resonance, which transports angular momentum outwards, leading to a growth of the disc eccentricity. The interaction of the companion with this eccentric disc, and the driving produced by direct resonant wave excitation at the 1:3 resonance, can lead to the growth of orbital eccentricity, with the driving provided by the eccentric disc being the stronger. Eccentricity growth occurs when the tidally induced gap width is such that eccentricity damping caused by corotating Lindblad resonances is inoperative. These simulations indicate that for standard disc models, gaps become wide enough for the 1:3 resonance to dominate, such that the transition from circular orbits can occur, only for masses in the brown dwarf range.\n",
    "    \n",
    "#####Setup, procedure\n",
    "2D grid simulation of primary star, lower mass companion and an external locally-isothermal disk.  The disk surface density was initialized to be flat and extend from 0.4 to 6 in units of companion semimajor axis and accretion onto the central star was allowed.  Companion masses from ~$M_{Jup}$ to brown dwarf (~0.02 M$_{\\odot}$) were considered.\n",
    "\n",
    "#####Results\n",
    "When the companion was kept on a fixed circular orbit, non-linear coupling between an eccentric disk mode (m=1 time independent pattern) and the m=1 component of the tidal potential propagating with pattern speed equal to the orbital frequency giving rise to an m=2 spidal density wave emitted at the 1:3 Outer Eccentric Lindblad resonance.  The pattern speed of this wave was $\\Omega_{bin}$/2.  This wave can turn back, produce another m=1 potential (?) and remove angular momentum from the disk pumping up its eccentricity while not removing any energy.  The eccentric disk can also lead to a growth in the eccentricity of the central binary.\n",
    "\n",
    "1:3 EOLR: occurs at r = 2.08a which is typically near the inner edge of the disk.  Favorable location to drive eccentricity changes in the system since any corotation torque that would damp eccentricity growth are typically within the central gap where the binary's tidal interaction with the disk has cleared out the gas and hence no corotation torque.  \n",
    "\n",
    "######Eccentricty Growth Limiting cases\n",
    "$M_{secondary}$ > $M_{disk}$: disk becomes eccentric\n",
    "\n",
    "$M_{secondary}$ < $M_{disk}$: companion becomes eccentric (only happens for systems where companion is planet mass)\n",
    "\n",
    "For e $=$ 0 and e $\\not=$ 0, get the following relations for the OLRs, respectively:\n",
    "\n",
    "$\\Omega$ = m$\\omega$/(m+1) for m = 1,2,... (e = 0)\n",
    "\n",
    "$\\Omega$ = (m-1)$\\omega$/(m+1)  (e $\\not=$ 0)\n",
    "\n",
    "For the latter case, when m = 2, you get the 1:3 EOLR.  Material here orbits more slowly than the pattern speed so resonant torques cause angular momentum loss leading to eccentricity growth of the disk-companion system.  Resonant forcing occurs through terms produced by a nonlinear coupling between the secular m=1 mode and distrubances with the m=1 moving with the orbital pattern speed.  Angular momentum is then transported outwards via a wave with pattern speed of the (orbital pattern speed)/2.\n",
    "\n",
    "#####Rate estimations\n",
    "\n",
    "Companion eccentricity growth time scale for the 1:3 resonance as r=2.08a and an initially non-eccentric disk: \n",
    "\n",
    "$\\gamma^{-1}$ = $M_{*}^{2}$/(19$M_d$$M_p$) in units of companion periods\n",
    "\n",
    "\n",
    "where $M_d$ is the disk mass and $M_p$ is presumable the companion (secondary) mass.\n",
    "\n",
    "#####Discussion\n",
    "When the angular momentum content of the disk within a scale characterisitic of the inner edge radius is comparable to that of the companion in a circular orbit, the eccentricity of the disk and companion are coupled in line with predictions from secular perturbation theory.  This is because the gravitational potential of the disk in this case acts like another companion in an eccentric orbit.  When the companion and disk masses are disparate, the orbital eccentricity would be expected only for the smaller of the two (as stated previously)"
   ]
  },
  {
   "cell_type": "code",
   "execution_count": null,
   "metadata": {
    "collapsed": true
   },
   "outputs": [],
   "source": []
  }
 ],
 "metadata": {
  "kernelspec": {
   "display_name": "Python 2",
   "language": "python",
   "name": "python2"
  },
  "language_info": {
   "codemirror_mode": {
    "name": "ipython",
    "version": 2
   },
   "file_extension": ".py",
   "mimetype": "text/x-python",
   "name": "python",
   "nbconvert_exporter": "python",
   "pygments_lexer": "ipython2",
   "version": "2.7.10"
  }
 },
 "nbformat": 4,
 "nbformat_minor": 0
}
