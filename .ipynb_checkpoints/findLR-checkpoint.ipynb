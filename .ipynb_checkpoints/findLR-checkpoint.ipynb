{
 "metadata": {
  "name": "",
  "signature": "sha256:f1ac397432dfd85759546d85d075d5a9d63004f724e3bc808917cd54cbd215b2"
 },
 "nbformat": 3,
 "nbformat_minor": 0,
 "worksheets": [
  {
   "cells": [
    {
     "cell_type": "markdown",
     "metadata": {},
     "source": [
      "#Find Inner/Outer LR (and corotation resonance!)\n",
      "Given a Tipsy format snapshot, find the inner and outer Lindblad resonances as a function of orbital angular frequency omega given the binary angular frequency.\n",
      "\n",
      "#Dependencies:\n",
      "All the modules I wrote that these calculations depend on are included in the current working directory."
     ]
    },
    {
     "cell_type": "code",
     "collapsed": false,
     "input": [
      "%matplotlib inline\n",
      "\n",
      "#Imports\n",
      "import pynbody\n",
      "from matplotlib.pylab import *\n",
      "import matplotlib.pylab as plt\n",
      "import numpy as np\n",
      "import matplotlib.lines as mlines\n",
      "\n",
      "#Imports from ICgen-Binary directory\n",
      "import isaac\n",
      "import AddBinary\n",
      "import binaryUtils"
     ],
     "language": "python",
     "metadata": {},
     "outputs": []
    }
   ],
   "metadata": {}
  }
 ]
}