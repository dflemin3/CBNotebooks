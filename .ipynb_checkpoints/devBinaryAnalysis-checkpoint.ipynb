{
 "cells": [
  {
   "cell_type": "markdown",
   "metadata": {
    "collapsed": false
   },
   "source": [
    "David Fleming \n",
    "\n",
    "For the rest, see the .param file\n",
    "\n",
    "Contains basic code for anaylsis, plotting to be used later with my disks."
   ]
  },
  {
   "cell_type": "code",
   "execution_count": 1,
   "metadata": {
    "collapsed": false,
    "scrolled": true
   },
   "outputs": [],
   "source": [
    "%matplotlib inline\n",
    "#Imports required to run\n",
    "\n",
    "import pynbody\n",
    "SimArray = pynbody.array.SimArray\n",
    "from matplotlib.pylab import *\n",
    "import matplotlib.pylab as plt\n",
    "import pynbody.plot.sph as sph\n",
    "import numpy as np\n",
    "from scipy import interpolate\n",
    "\n",
    "#Tell code where my diskpy distribution is\n",
    "import os\n",
    "sys.path.append('/astro/users/dflemin3/Desktop/diskpy')\n",
    "sys.path.append('/astro/users/dflemin3/Desktop')\n",
    "\n",
    "#Import diskpy and my modules from ICgen submodule\n",
    "import diskpy\n",
    "from diskpy.ICgen import *\n",
    "from diskplot import *\n",
    "\n",
    "#Typical plot parameters that make for pretty plots\n",
    "plt.rcParams['figure.figsize'] = (10,8)\n",
    "from astroML.plotting import setup_text_plots\n",
    "setup_text_plots(fontsize=20, usetex=True)\n",
    "\n",
    "rc('font', **{'family': 'serif', 'serif': ['Computer Modern']})\n",
    "mpl.rcParams['font.size'] = 20.0"
   ]
  },
  {
   "cell_type": "code",
   "execution_count": 2,
   "metadata": {
    "collapsed": false
   },
   "outputs": [],
   "source": [
    "#Change directory to where the data is\n",
    "cwd = '/astro/users/dflemin3/Desktop/sims/kepler38Long'\n",
    "os.chdir(cwd)"
   ]
  },
  {
   "cell_type": "code",
   "execution_count": 3,
   "metadata": {
    "collapsed": false
   },
   "outputs": [
    {
     "name": "stderr",
     "output_type": "stream",
     "text": [
      "Loading using backend <class 'pynbody.tipsy.TipsySnap'>\n",
      "TipsySnap: loading  k38_snap.std\n",
      "TipsySnap: loading data from main file\n"
     ]
    }
   ],
   "source": [
    "#Load Snapshot \n",
    "s = pynbody.load('k38_snap.std')\n",
    "\n",
    "#Center on barycenter\n",
    "diskCom = binaryUtils.computeCOM(s.stars,s.gas,starFlag=True,gasFlag=True)\n",
    "s['pos'] -= diskCom"
   ]
  },
  {
   "cell_type": "markdown",
   "metadata": {},
   "source": [
    "snapshot = pynbody.new(star=2)\n",
    "for key in s.stars.keys():\n",
    "    snapshot.stars[key] = s.stars[key]\n",
    "\n",
    "snapshot.write(fmt = pynbody.tipsy.TipsySnap, filename = \"onlyStars.std\")\n"
   ]
  },
  {
   "cell_type": "markdown",
   "metadata": {},
   "source": [
    "#Look at general system parameters"
   ]
  },
  {
   "cell_type": "code",
   "execution_count": 4,
   "metadata": {
    "collapsed": false,
    "scrolled": true
   },
   "outputs": [
    {
     "name": "stdout",
     "output_type": "stream",
     "text": [
      "[[  2.73758998e-02  -2.16260473e-06  -4.13119845e-07]]\n",
      "[[ -1.04364018e-01  -2.16260473e-06  -4.13119845e-07]]\n",
      "[[-0.        0.658243  0.      ]]\n",
      "[[ 0.        -2.5087254 -0.       ]]\n",
      "[ 0.949]\n",
      "[ 0.249]\n",
      "4.85e-09 kpc\n",
      "2.98e+01 km s**-1\n"
     ]
    }
   ],
   "source": [
    "#Make sure I have 2 stars in there with correct pos/vel:\n",
    "print s.stars[0]['pos']\n",
    "print s.stars[1]['pos']\n",
    "\n",
    "print s.stars[0]['vel']\n",
    "print s.stars[1]['vel']\n",
    "\n",
    "print s.stars[0]['mass']\n",
    "print s.stars[1]['mass']\n",
    "\n",
    "#Print current units\n",
    "print s.stars[0]['pos'].units\n",
    "print s.stars[0]['vel'].units"
   ]
  },
  {
   "cell_type": "code",
   "execution_count": 5,
   "metadata": {
    "collapsed": false
   },
   "outputs": [
    {
     "name": "stdout",
     "output_type": "stream",
     "text": [
      "0.00383060303477\n",
      "Msol\n"
     ]
    }
   ],
   "source": [
    "print np.sum(s.gas['mass'])\n",
    "print s.gas['mass'].units"
   ]
  },
  {
   "cell_type": "code",
   "execution_count": 6,
   "metadata": {
    "collapsed": false
   },
   "outputs": [
    {
     "name": "stdout",
     "output_type": "stream",
     "text": [
      "2\n",
      "100000\n"
     ]
    }
   ],
   "source": [
    "print len(s.stars)\n",
    "print len(s.gas)"
   ]
  },
  {
   "cell_type": "code",
   "execution_count": 7,
   "metadata": {
    "collapsed": false
   },
   "outputs": [
    {
     "name": "stdout",
     "output_type": "stream",
     "text": [
      "eccentricity = [ 0.10324994]\n",
      "semimajor axis = [ 0.14690818]\n",
      "Inclination = [ 0.]\n",
      "mass = [ 0.949  0.249]\n",
      "gas particles = 100000\n"
     ]
    }
   ],
   "source": [
    "#Calculate system parameters\n",
    "x1 = s.stars[0]['pos']\n",
    "x2 = s.stars[1]['pos']\n",
    "v1 = s.stars[0]['vel']\n",
    "v2 = s.stars[1]['vel']\n",
    "m1 = s.stars[0]['mass']\n",
    "m2 = s.stars[1]['mass']\n",
    "\n",
    "ef = AddBinary.calcEcc(x1, x2, v1, v2, m1, m2)\n",
    "af = AddBinary.calcSemi(x1, x2, v1, v2, m1, m2)\n",
    "ifin = AddBinary.calcInc(x1, x2, v1, v2)\n",
    "gf = len(s.g)\n",
    "mf = s.stars['mass']\n",
    "\n",
    "print \"eccentricity =\",ef\n",
    "print \"semimajor axis =\",af\n",
    "print \"Inclination =\", ifin\n",
    "print \"mass =\",mf\n",
    "print \"gas particles =\",gf"
   ]
  },
  {
   "cell_type": "code",
   "execution_count": 8,
   "metadata": {
    "collapsed": false
   },
   "outputs": [
    {
     "name": "stdout",
     "output_type": "stream",
     "text": [
      "Binary center of mass = [[ -5.76917131e-06  -2.16260473e-06  -4.13119845e-07]]\n",
      "Current entire system center of mass = [[  2.20668383e-18  -2.00159121e-19  -1.93816050e-21]]\n",
      "Magnitude of system center of mass = [  2.21574388e-18]\n",
      "Disk center of mass = 0.002\n"
     ]
    },
    {
     "name": "stderr",
     "output_type": "stream",
     "text": [
      "SimSnap: deriving array rxy\n"
     ]
    }
   ],
   "source": [
    "#Check CoM\n",
    "print \"Binary center of mass = {0}\".format(AddBinary.calcCOM(m1,m2,x1,x2))\n",
    "sysCom = binaryUtils.computeCOM(s.stars,s.gas)\n",
    "diskCom = binaryUtils.computeCOM(s.stars,s.gas,starFlag=False,gasFlag=True,cutoff=6)\n",
    "print \"Current entire system center of mass = {0}\".format(sysCom)\n",
    "print \"Magnitude of system center of mass = {0}\".format(np.sqrt(AddBinary.dotProduct(sysCom,sysCom)))\n",
    "print \"Disk center of mass = %.3lf\" % np.sqrt(AddBinary.dotProduct(diskCom,diskCom))\n",
    "vcom = binaryUtils.computeVelocityCOM(s,cutoff=0.4,starFlag=True,gasFlag=True)"
   ]
  },
  {
   "cell_type": "code",
   "execution_count": 9,
   "metadata": {
    "collapsed": false
   },
   "outputs": [
    {
     "data": {
      "text/plain": [
       "'\\nplt.plot(r,2.0*np.pi/precession[0,:],color=\\'blue\\',label=r\\'$\\\\omega$ Precession Rate\\')\\nplt.plot(r,2.0*np.pi/precession[1,:],color=\\'red\\',label=r\\'$\\\\Omega$ Precession Rate\\')\\nplt.axhline(y=0.0, xmin=0., xmax = 1, linewidth=2, color=\\'k\\',linestyle=\\'--\\')\\nplt.xlim(r.min(),r.max())\\nplt.xlabel(\"r [AU]\")\\nplt.ylabel(\"Precession Period [yr]\")\\nplt.title(\"Rand Init Low Ecc Precession\")\\nplt.legend(loc=\\'lower left\\')\\n#plt.savefig(\"randInitLowEccPrecession.pdf\")\\n'"
      ]
     },
     "execution_count": 9,
     "metadata": {},
     "output_type": "execute_result"
    }
   ],
   "source": [
    "r, rBinEdges = binaryUtils.calcDiskRadialBins(s,0.25,3.0,50)\n",
    "orbElems = binaryUtils.orbElemsVsRadius(s,rBinEdges,average=True)\n",
    "#precession = binaryUtils.diskPrecession(s,r)\n",
    "\"\"\"\n",
    "plt.plot(r,2.0*np.pi/precession[0,:],color='blue',label=r'$\\omega$ Precession Rate')\n",
    "plt.plot(r,2.0*np.pi/precession[1,:],color='red',label=r'$\\Omega$ Precession Rate')\n",
    "plt.axhline(y=0.0, xmin=0., xmax = 1, linewidth=2, color='k',linestyle='--')\n",
    "plt.xlim(r.min(),r.max())\n",
    "plt.xlabel(\"r [AU]\")\n",
    "plt.ylabel(\"Precession Period [yr]\")\n",
    "plt.title(\"Rand Init Low Ecc Precession\")\n",
    "plt.legend(loc='lower left')\n",
    "#plt.savefig(\"randInitLowEccPrecession.pdf\")\n",
    "\"\"\""
   ]
  },
  {
   "cell_type": "code",
   "execution_count": 10,
   "metadata": {
    "collapsed": false
   },
   "outputs": [
    {
     "name": "stdout",
     "output_type": "stream",
     "text": [
      "[  5.76629021e-03   1.66280412e+00   1.79979171e+00   1.79745411e+02\n",
      "   1.80214591e+02   1.79962385e+02]\n"
     ]
    }
   ],
   "source": [
    "print binaryUtils.diskAverage(s,r_out=3.0,bins=50,avgFlag=True)"
   ]
  },
  {
   "cell_type": "markdown",
   "metadata": {},
   "source": [
    "#Examine disk orbital element radial profiles"
   ]
  },
  {
   "cell_type": "code",
   "execution_count": 11,
   "metadata": {
    "collapsed": false
   },
   "outputs": [
    {
     "name": "stdout",
     "output_type": "stream",
     "text": [
      "(0.103249944157,[ 0.14690818],0.0,0.0,0.0,0.0), mass: ([ 0.949],[ 0.249])\n"
     ]
    },
    {
     "name": "stderr",
     "output_type": "stream",
     "text": [
      "/astro/users/dflemin3/Desktop/diskpy/diskpy/ICgen/AddBinary.py:513: RuntimeWarning: invalid value encountered in divide\n",
      "  Omega = np.arccos(dotProduct(i, n) / magN)\n"
     ]
    }
   ],
   "source": [
    "x1, x2 = s.stars['pos']\n",
    "m1, m2 = s.stars[0]['mass'], s.stars[1]['mass']\n",
    "v1, v2 = s.stars['vel']\n",
    "m_disk = np.sum(s.gas['mass'])\n",
    "x = x1-x2\n",
    "v = v1-v2\n",
    "X = [x,v]\n",
    "test = binary.Binary(X,m1,m2,'cartesian')\n",
    "print test"
   ]
  },
  {
   "cell_type": "code",
   "execution_count": 12,
   "metadata": {
    "collapsed": false
   },
   "outputs": [
    {
     "data": {
      "text/plain": [
       "<matplotlib.legend.Legend at 0x7fc746618fd0>"
      ]
     },
     "execution_count": 12,
     "metadata": {},
     "output_type": "execute_result"
    },
    {
     "data": {
      "image/png": "[encoded data removed]",
      "text/plain": [
       "<matplotlib.figure.Figure at 0x7fc77cb2fbd0>"
      ]
     },
     "metadata": {},
     "output_type": "display_data"
    }
   ],
   "source": [
    "plt.plot(r,orbElems[0,:])\n",
    "plt.xlabel('r [AU]')\n",
    "plt.ylabel('Eccentricity')\n",
    "plt.title(\"Kepler 38 Low Ecc Ecc vs Radius (Averaged)\")\n",
    "\n",
    "#Plot lines of interest\n",
    "loc = 2.08*0.1469\n",
    "ecc_f = binaryUtils.forcedEccentricity(test,r)*2\n",
    "plt.axvline(x=loc, ymin=-1, ymax = 1, linewidth=2, color='black',label=\"1:3 EOLR\")\n",
    "plt.plot(r,ecc_f,color='green',label=\"$e_{forced}$ [Moriwaki 2004]\")\n",
    "\n",
    "plt.legend()\n",
    "#plt.savefig(\"k38EccVsRadius.pdf\")"
   ]
  },
  {
   "cell_type": "markdown",
   "metadata": {},
   "source": [
    "#Find inner disk edge\n",
    "Following the prescription of Artymowics+1994, define the gap radius for a circumbinary disk to be at the disk edge position where the surface density is half of the maximum value in the disk.  In that paper, the gap size was studied for various binary eccentricities and mass ratios.  For Kepler 38, the mass ratio is 0.263 ~ 0.3 and the eccentricity is ~0.1.  These values correspond to a gap size of $r = 2.35 \\pm 0.15$ times the binary semimajor axis.  For Kepler 38 whose a = 0.1469, one would expect to find after ~ 100 binary orbits a gap radius of ~0.34 au.  This gap formation occurs due to the tidal action of the binary system on the disk (and accretion where applicable).\n",
    "\n",
    "The initial conditions of Artymowics+1994:\n",
    "\n",
    "N_gas: ~ $10^4$\n",
    "Disk Properties: axisymmetric; initialized with Keplerian velocities; $\\Sigma \\sim 1/r$; introduced binary into initially smooth disk (similar to my initialization).  For a binary with mass parameter $\\mu = 0.3$ and eccentricity = 0.1, they found a gap at $r \\approx 2.3a$ which is outside the 3:1 orbital period commensurability (Arty+1994 pg. 662).  \n",
    "\n",
    "\n",
    "Note: In Kley+2014, they found that after ~2000yr of evolution, the inner edge of the disk to be $r \\approx 0.45 au$ which corresponds to roughly $3a_{bin}$ which they claim is in good agreement with the results of Artymowics+1994.  The problem here is that Kley+2014 studied Kepler 38 where the mass ratio is about 0.3 and the eccentricity about 0.1.  The result that $r_{gap} \\approx 3a_{bin}$ corresponds to a mass ratio of 0.3 and an eccentricity of 0.5 which does not hold for Kepler 38.\n",
    "\n",
    "\n",
    "Below, I bin the disk surface density into radial bins and compute the radius at which the half maximum surface density occurs as described above."
   ]
  },
  {
   "cell_type": "code",
   "execution_count": 13,
   "metadata": {
    "collapsed": false
   },
   "outputs": [
    {
     "name": "stdout",
     "output_type": "stream",
     "text": [
      "Profile: density()\n",
      "Profile: mass()\n",
      "Inner gap edge radius = 0.240700172002\n"
     ]
    }
   ],
   "source": [
    "#Create profile.  Note: Choose nbins to be the same number of n points ICgen-Binary used to initial generate disk\n",
    "bins = 500\n",
    "\n",
    "p = pynbody.analysis.profile.Profile(s,max=' au',min='0.01 au',type='log',nbins=bins)\n",
    "pg = pynbody.analysis.profile.Profile(s.gas,nbins=bins,max='6 au')\n",
    "\n",
    "#Get arrays for surface density sigma, radius r\n",
    "sigma = pg['density']\n",
    "radius = pg['rbins']\n",
    "\n",
    "#Select subset of radial points within radius at which sigma = sigmaMax/2 (inner edge of disk)\n",
    "max_index = np.argmax(sigma)\n",
    "mask = (radius < radius[max_index])\n",
    "sigma = sigma[mask]\n",
    "radius = radius[mask]\n",
    "\n",
    "#Find location of surface density maximum and look at radius r < r_max to find radius where surface density = max/2.0\n",
    "halfMax = pg['density'].max()/2.0\n",
    "#print \"Half Max Surface Density = {0} {1}\".format(halfMax,pg['density'].units)\n",
    "    \n",
    "crit_r = binaryUtils.find_crit_radius(radius,sigma,halfMax,bins)\n",
    "    \n",
    "print \"Inner gap edge radius = {0}\".format(crit_r)"
   ]
  },
  {
   "cell_type": "markdown",
   "metadata": {},
   "source": [
    "#Plot disk radial profiles"
   ]
  },
  {
   "cell_type": "code",
   "execution_count": 14,
   "metadata": {
    "collapsed": false
   },
   "outputs": [
    {
     "data": {
      "text/plain": [
       "<matplotlib.legend.Legend at 0x7fc744469e10>"
      ]
     },
     "execution_count": 14,
     "metadata": {},
     "output_type": "execute_result"
    },
    {
     "data": {
      "image/png": "[encoded data removed]",
      "text/plain": [
       "<matplotlib.figure.Figure at 0x7fc756f2fd50>"
      ]
     },
     "metadata": {},
     "output_type": "display_data"
    }
   ],
   "source": [
    "#Try plotting stuff\n",
    "#Plot the gas surface density as a function of radius for test disk\n",
    "\n",
    "#Now do the plotting with data derived from gas profile, pg\n",
    "#In this case, tangential velocity vs. radius\n",
    "plt.plot(pg['rbins'], pg['density'].in_units(\"g cm**-2\"),'k',linewidth=2)\n",
    "\n",
    "plt.xlabel(\"$R$ [AU]\")\n",
    "plt.ylabel(r'$\\Sigma$ [g cm$^{-2}$]')\n",
    "plt.yscale('log')\n",
    "plt.title('Disk Surface Density Profile',y=1.06)\n",
    "#plt.xscale('log') #confirm radius powerlaw relation\n",
    "plt.xlim([0,6])\n",
    "\n",
    "#Plot lines of interest\n",
    "#loc = 0.4644 #Radius of Kepler-38b\n",
    "loc = 2.08*test.a\n",
    "loc2 = AddBinary.pToA(2*18.8,1.2)\n",
    "#print float(rCrit)\n",
    "plt.axvline(x=loc, ymin=-1, ymax = 1, linewidth=2, color='red',label=\"3:1\")\n",
    "plt.axvline(x=loc2, ymin=-1, ymax = 1, linewidth=2, color='green',label=\"2:1\")\n",
    "\n",
    "plt.legend(loc='upper right')\n",
    "\n",
    "#Print units to confirm\n",
    "#print repr(pg['rbins'].in_units('au'))\n",
    "#print repr(pg['density'].in_units('g cm**-2'))\n",
    "\n",
    "#plt.savefig(\"sigmaVsR.png\")"
   ]
  },
  {
   "cell_type": "code",
   "execution_count": 15,
   "metadata": {
    "collapsed": false
   },
   "outputs": [
    {
     "name": "stderr",
     "output_type": "stream",
     "text": [
      "/astro/apps6/anaconda2.0/lib/python2.7/site-packages/pynbody/analysis/profile.py:407: RuntimeWarning: invalid value encountered in double_scalars\n",
      "  result[i] = (name_array*mass_array).sum()/self['mass'][i]\n"
     ]
    },
    {
     "data": {
      "image/png": "[encoded data removed]",
      "text/plain": [
       "<matplotlib.figure.Figure at 0x7fc757184bd0>"
      ]
     },
     "metadata": {},
     "output_type": "display_data"
    }
   ],
   "source": [
    "#Try plotting temperature profile of gas in plane of disk\n",
    "#T vs. radius\n",
    "plt.plot(pg['rbins'], pg['temp'],'k', label = '$Gas$')\n",
    "plt.legend()\n",
    "#plt.semilogy()\n",
    "#plt.semilogx()\n",
    "plt.xlabel(\"$R$ [AU]\")\n",
    "plt.ylabel(\"$T$ [K]\")\n",
    "plt.show()"
   ]
  },
  {
   "cell_type": "code",
   "execution_count": 16,
   "metadata": {
    "collapsed": false
   },
   "outputs": [
    {
     "name": "stderr",
     "output_type": "stream",
     "text": [
      "SimSnap: deriving array p\n",
      "SimSnap: deriving array u\n",
      "SimSnap: deriving array mu\n"
     ]
    },
    {
     "data": {
      "text/plain": [
       "(0.2, 1)"
      ]
     },
     "execution_count": 16,
     "metadata": {},
     "output_type": "execute_result"
    },
    {
     "data": {
      "image/png": "[encoded data removed]",
      "text/plain": [
       "<matplotlib.figure.Figure at 0x7fc7442dd050>"
      ]
     },
     "metadata": {},
     "output_type": "display_data"
    }
   ],
   "source": [
    "plt.plot(pg['rbins'],pg['p'].in_units('Pa'))\n",
    "plt.xlabel(\"r [AU]\")\n",
    "plt.ylabel('Pressure [Pa]')\n",
    "plt.xlim(0.2,1)"
   ]
  },
  {
   "cell_type": "markdown",
   "metadata": {},
   "source": [
    "#Plot 2D Heatmaps (Histograms) of Density, temperature, and pressure"
   ]
  },
  {
   "cell_type": "code",
   "execution_count": 17,
   "metadata": {
    "collapsed": false
   },
   "outputs": [
    {
     "name": "stderr",
     "output_type": "stream",
     "text": [
      "/astro/apps6/anaconda2.0/lib/python2.7/site-packages/pynbody/plot/generic.py:109: RuntimeWarning: divide by zero encountered in log10\n",
      "  x_range = [np.log10(np.min(xo)), np.log10(np.max(xo))]\n",
      "/astro/apps6/anaconda2.0/lib/python2.7/site-packages/pynbody/plot/generic.py:115: RuntimeWarning: divide by zero encountered in log10\n",
      "  x = np.log10(xo)\n",
      "/astro/apps6/anaconda2.0/lib/python2.7/site-packages/numpy/core/function_base.py:100: RuntimeWarning: invalid value encountered in double_scalars\n",
      "  delta = stop - start\n",
      "/astro/apps6/anaconda2.0/lib/python2.7/site-packages/numpy/lib/function_base.py:414: RuntimeWarning: invalid value encountered in less_equal\n",
      "  if np.any(np.asarray(dedges[i]) <= 0):\n"
     ]
    },
    {
     "ename": "ValueError",
     "evalue": "zero-size array to reduction operation minimum which has no identity",
     "output_type": "error",
     "traceback": [
      "\u001b[1;31m---------------------------------------------------------------------------\u001b[0m",
      "\u001b[1;31mValueError\u001b[0m                                Traceback (most recent call last)",
      "\u001b[1;32m<ipython-input-17-307200a69dbe>\u001b[0m in \u001b[0;36m<module>\u001b[1;34m()\u001b[0m\n\u001b[1;32m----> 1\u001b[1;33m \u001b[0mpynbody\u001b[0m\u001b[1;33m.\u001b[0m\u001b[0mplot\u001b[0m\u001b[1;33m.\u001b[0m\u001b[0mgas\u001b[0m\u001b[1;33m.\u001b[0m\u001b[0mrho_T\u001b[0m\u001b[1;33m(\u001b[0m\u001b[0ms\u001b[0m\u001b[1;33m,\u001b[0m \u001b[0mrho_units\u001b[0m\u001b[1;33m=\u001b[0m\u001b[1;34m'g cm**-3'\u001b[0m\u001b[1;33m)\u001b[0m\u001b[1;33m\u001b[0m\u001b[0m\n\u001b[0m\u001b[0;32m      2\u001b[0m \u001b[0mplt\u001b[0m\u001b[1;33m.\u001b[0m\u001b[0mtitle\u001b[0m\u001b[1;33m(\u001b[0m\u001b[1;34m'2D Histogram of Density vs Temperature'\u001b[0m\u001b[1;33m,\u001b[0m\u001b[0my\u001b[0m\u001b[1;33m=\u001b[0m\u001b[1;36m1.02\u001b[0m\u001b[1;33m)\u001b[0m\u001b[1;33m\u001b[0m\u001b[0m\n",
      "\u001b[1;32m/astro/apps6/anaconda2.0/lib/python2.7/site-packages/pynbody/plot/gas.pyc\u001b[0m in \u001b[0;36mrho_T\u001b[1;34m(sim, rho_units, rho_range, t_range, **kwargs)\u001b[0m\n\u001b[0;32m     60\u001b[0m \u001b[1;33m\u001b[0m\u001b[0m\n\u001b[0;32m     61\u001b[0m     hist2d(sim.gas['rho'].in_units(rho_units),sim.gas['temp'],xlogrange=True,\n\u001b[1;32m---> 62\u001b[1;33m            ylogrange=True, xlabel=xlabel, ylabel=ylabel, **kwargs)\n\u001b[0m\u001b[0;32m     63\u001b[0m \u001b[1;33m\u001b[0m\u001b[0m\n\u001b[0;32m     64\u001b[0m \u001b[1;33m\u001b[0m\u001b[0m\n",
      "\u001b[1;32m/astro/apps6/anaconda2.0/lib/python2.7/site-packages/pynbody/plot/generic.pyc\u001b[0m in \u001b[0;36mhist2d\u001b[1;34m(xo, yo, weights, mass, gridsize, nbins, make_plot, **kwargs)\u001b[0m\n\u001b[0;32m    171\u001b[0m \u001b[1;33m\u001b[0m\u001b[0m\n\u001b[0;32m    172\u001b[0m     \u001b[1;32mif\u001b[0m \u001b[0mmake_plot\u001b[0m \u001b[1;33m:\u001b[0m\u001b[1;33m\u001b[0m\u001b[0m\n\u001b[1;32m--> 173\u001b[1;33m         \u001b[0mmake_contour_plot\u001b[0m\u001b[1;33m(\u001b[0m\u001b[0mhist\u001b[0m\u001b[1;33m,\u001b[0m \u001b[0mxs\u001b[0m\u001b[1;33m,\u001b[0m \u001b[0mys\u001b[0m\u001b[1;33m,\u001b[0m \u001b[1;33m**\u001b[0m\u001b[0mkwargs\u001b[0m\u001b[1;33m)\u001b[0m\u001b[1;33m\u001b[0m\u001b[0m\n\u001b[0m\u001b[0;32m    174\u001b[0m         \u001b[1;32mif\u001b[0m \u001b[0mdraw_contours\u001b[0m\u001b[1;33m:\u001b[0m\u001b[1;33m\u001b[0m\u001b[0m\n\u001b[0;32m    175\u001b[0m             \u001b[0mmake_contour_plot\u001b[0m\u001b[1;33m(\u001b[0m\u001b[0mSimArray\u001b[0m\u001b[1;33m(\u001b[0m\u001b[0mdensity_mass\u001b[0m\u001b[1;33m,\u001b[0m \u001b[0mmass\u001b[0m\u001b[1;33m.\u001b[0m\u001b[0munits\u001b[0m\u001b[1;33m)\u001b[0m\u001b[1;33m,\u001b[0m\u001b[0mxs\u001b[0m\u001b[1;33m,\u001b[0m\u001b[0mys\u001b[0m\u001b[1;33m,\u001b[0m\u001b[0mfilled\u001b[0m\u001b[1;33m=\u001b[0m\u001b[0mFalse\u001b[0m\u001b[1;33m,\u001b[0m\u001b[0mclear\u001b[0m\u001b[1;33m=\u001b[0m\u001b[0mFalse\u001b[0m\u001b[1;33m,\u001b[0m\u001b[0mcolorbar\u001b[0m\u001b[1;33m=\u001b[0m\u001b[0mFalse\u001b[0m\u001b[1;33m,\u001b[0m\u001b[0mcolors\u001b[0m\u001b[1;33m=\u001b[0m\u001b[1;34m'black'\u001b[0m\u001b[1;33m,\u001b[0m\u001b[0mscalemin\u001b[0m\u001b[1;33m=\u001b[0m\u001b[0mnmin\u001b[0m\u001b[1;33m,\u001b[0m\u001b[0mnlevels\u001b[0m\u001b[1;33m=\u001b[0m\u001b[1;36m10\u001b[0m\u001b[1;33m)\u001b[0m\u001b[1;33m\u001b[0m\u001b[0m\n",
      "\u001b[1;32m/astro/apps6/anaconda2.0/lib/python2.7/site-packages/pynbody/plot/generic.pyc\u001b[0m in \u001b[0;36mmake_contour_plot\u001b[1;34m(arr, xs, ys, x_range, y_range, nlevels, logscale, xlogrange, ylogrange, subplot, colorbar, ret_im, cmap, clear, legend, scalemin, scalemax, filename, **kwargs)\u001b[0m\n\u001b[0;32m    428\u001b[0m         \u001b[0mplt\u001b[0m \u001b[1;33m=\u001b[0m \u001b[0msubplot\u001b[0m\u001b[1;33m\u001b[0m\u001b[0m\n\u001b[0;32m    429\u001b[0m \u001b[1;33m\u001b[0m\u001b[0m\n\u001b[1;32m--> 430\u001b[1;33m     \u001b[1;32mif\u001b[0m \u001b[0mscalemin\u001b[0m \u001b[1;32mis\u001b[0m \u001b[0mNone\u001b[0m\u001b[1;33m:\u001b[0m \u001b[0mscalemin\u001b[0m \u001b[1;33m=\u001b[0m \u001b[0mnp\u001b[0m\u001b[1;33m.\u001b[0m\u001b[0mmin\u001b[0m\u001b[1;33m(\u001b[0m\u001b[0marr\u001b[0m\u001b[1;33m[\u001b[0m\u001b[0marr\u001b[0m\u001b[1;33m>\u001b[0m\u001b[1;36m0\u001b[0m\u001b[1;33m]\u001b[0m\u001b[1;33m)\u001b[0m\u001b[1;33m\u001b[0m\u001b[0m\n\u001b[0m\u001b[0;32m    431\u001b[0m     \u001b[1;32mif\u001b[0m \u001b[0mscalemax\u001b[0m \u001b[1;32mis\u001b[0m \u001b[0mNone\u001b[0m\u001b[1;33m:\u001b[0m \u001b[0mscalemax\u001b[0m \u001b[1;33m=\u001b[0m \u001b[0mnp\u001b[0m\u001b[1;33m.\u001b[0m\u001b[0mmax\u001b[0m\u001b[1;33m(\u001b[0m\u001b[0marr\u001b[0m\u001b[1;33m[\u001b[0m\u001b[0marr\u001b[0m\u001b[1;33m>\u001b[0m\u001b[1;36m0\u001b[0m\u001b[1;33m]\u001b[0m\u001b[1;33m)\u001b[0m\u001b[1;33m\u001b[0m\u001b[0m\n\u001b[0;32m    432\u001b[0m     \u001b[0marr\u001b[0m\u001b[1;33m[\u001b[0m\u001b[0marr\u001b[0m\u001b[1;33m<\u001b[0m\u001b[0mscalemin\u001b[0m\u001b[1;33m]\u001b[0m\u001b[1;33m=\u001b[0m\u001b[0mscalemin\u001b[0m\u001b[1;33m\u001b[0m\u001b[0m\n",
      "\u001b[1;32m/astro/apps6/anaconda2.0/lib/python2.7/site-packages/numpy/core/fromnumeric.pyc\u001b[0m in \u001b[0;36mamin\u001b[1;34m(a, axis, out, keepdims)\u001b[0m\n\u001b[0;32m   2345\u001b[0m                                   out=out, keepdims=keepdims)\n\u001b[0;32m   2346\u001b[0m         \u001b[1;31m# NOTE: Dropping the keepdims parameter\u001b[0m\u001b[1;33m\u001b[0m\u001b[1;33m\u001b[0m\u001b[0m\n\u001b[1;32m-> 2347\u001b[1;33m         \u001b[1;32mreturn\u001b[0m \u001b[0mamin\u001b[0m\u001b[1;33m(\u001b[0m\u001b[0maxis\u001b[0m\u001b[1;33m=\u001b[0m\u001b[0maxis\u001b[0m\u001b[1;33m,\u001b[0m \u001b[0mout\u001b[0m\u001b[1;33m=\u001b[0m\u001b[0mout\u001b[0m\u001b[1;33m)\u001b[0m\u001b[1;33m\u001b[0m\u001b[0m\n\u001b[0m\u001b[0;32m   2348\u001b[0m     \u001b[1;32melse\u001b[0m\u001b[1;33m:\u001b[0m\u001b[1;33m\u001b[0m\u001b[0m\n\u001b[0;32m   2349\u001b[0m         return _methods._amin(a, axis=axis,\n",
      "\u001b[1;32m/astro/apps6/anaconda2.0/lib/python2.7/site-packages/pynbody/array.pyc\u001b[0m in \u001b[0;36mmin\u001b[1;34m(self, *args, **kwargs)\u001b[0m\n\u001b[0;32m    538\u001b[0m \u001b[1;33m\u001b[0m\u001b[0m\n\u001b[0;32m    539\u001b[0m     \u001b[1;32mdef\u001b[0m \u001b[0mmin\u001b[0m\u001b[1;33m(\u001b[0m\u001b[0mself\u001b[0m\u001b[1;33m,\u001b[0m \u001b[1;33m*\u001b[0m\u001b[0margs\u001b[0m\u001b[1;33m,\u001b[0m \u001b[1;33m**\u001b[0m\u001b[0mkwargs\u001b[0m\u001b[1;33m)\u001b[0m \u001b[1;33m:\u001b[0m\u001b[1;33m\u001b[0m\u001b[0m\n\u001b[1;32m--> 540\u001b[1;33m         \u001b[0mx\u001b[0m \u001b[1;33m=\u001b[0m \u001b[0mnp\u001b[0m\u001b[1;33m.\u001b[0m\u001b[0mndarray\u001b[0m\u001b[1;33m.\u001b[0m\u001b[0mmin\u001b[0m\u001b[1;33m(\u001b[0m\u001b[0mself\u001b[0m\u001b[1;33m,\u001b[0m \u001b[1;33m*\u001b[0m\u001b[0margs\u001b[0m\u001b[1;33m,\u001b[0m \u001b[1;33m**\u001b[0m\u001b[0mkwargs\u001b[0m\u001b[1;33m)\u001b[0m\u001b[1;33m\u001b[0m\u001b[0m\n\u001b[0m\u001b[0;32m    541\u001b[0m         \u001b[1;32mif\u001b[0m \u001b[0mhasattr\u001b[0m\u001b[1;33m(\u001b[0m\u001b[0mx\u001b[0m\u001b[1;33m,\u001b[0m \u001b[1;34m'units'\u001b[0m\u001b[1;33m)\u001b[0m \u001b[1;32mand\u001b[0m \u001b[0mself\u001b[0m\u001b[1;33m.\u001b[0m\u001b[0munits\u001b[0m \u001b[1;32mis\u001b[0m \u001b[1;32mnot\u001b[0m \u001b[0mNone\u001b[0m \u001b[1;33m:\u001b[0m\u001b[1;33m\u001b[0m\u001b[0m\n\u001b[0;32m    542\u001b[0m             \u001b[0mx\u001b[0m\u001b[1;33m.\u001b[0m\u001b[0munits\u001b[0m \u001b[1;33m=\u001b[0m \u001b[0mself\u001b[0m\u001b[1;33m.\u001b[0m\u001b[0munits\u001b[0m\u001b[1;33m\u001b[0m\u001b[0m\n",
      "\u001b[1;32m/astro/apps6/anaconda2.0/lib/python2.7/site-packages/numpy/core/_methods.pyc\u001b[0m in \u001b[0;36m_amin\u001b[1;34m(a, axis, out, keepdims)\u001b[0m\n\u001b[0;32m     27\u001b[0m \u001b[1;33m\u001b[0m\u001b[0m\n\u001b[0;32m     28\u001b[0m \u001b[1;32mdef\u001b[0m \u001b[0m_amin\u001b[0m\u001b[1;33m(\u001b[0m\u001b[0ma\u001b[0m\u001b[1;33m,\u001b[0m \u001b[0maxis\u001b[0m\u001b[1;33m=\u001b[0m\u001b[0mNone\u001b[0m\u001b[1;33m,\u001b[0m \u001b[0mout\u001b[0m\u001b[1;33m=\u001b[0m\u001b[0mNone\u001b[0m\u001b[1;33m,\u001b[0m \u001b[0mkeepdims\u001b[0m\u001b[1;33m=\u001b[0m\u001b[0mFalse\u001b[0m\u001b[1;33m)\u001b[0m\u001b[1;33m:\u001b[0m\u001b[1;33m\u001b[0m\u001b[0m\n\u001b[1;32m---> 29\u001b[1;33m     \u001b[1;32mreturn\u001b[0m \u001b[0mumr_minimum\u001b[0m\u001b[1;33m(\u001b[0m\u001b[0ma\u001b[0m\u001b[1;33m,\u001b[0m \u001b[0maxis\u001b[0m\u001b[1;33m,\u001b[0m \u001b[0mNone\u001b[0m\u001b[1;33m,\u001b[0m \u001b[0mout\u001b[0m\u001b[1;33m,\u001b[0m \u001b[0mkeepdims\u001b[0m\u001b[1;33m)\u001b[0m\u001b[1;33m\u001b[0m\u001b[0m\n\u001b[0m\u001b[0;32m     30\u001b[0m \u001b[1;33m\u001b[0m\u001b[0m\n\u001b[0;32m     31\u001b[0m \u001b[1;32mdef\u001b[0m \u001b[0m_sum\u001b[0m\u001b[1;33m(\u001b[0m\u001b[0ma\u001b[0m\u001b[1;33m,\u001b[0m \u001b[0maxis\u001b[0m\u001b[1;33m=\u001b[0m\u001b[0mNone\u001b[0m\u001b[1;33m,\u001b[0m \u001b[0mdtype\u001b[0m\u001b[1;33m=\u001b[0m\u001b[0mNone\u001b[0m\u001b[1;33m,\u001b[0m \u001b[0mout\u001b[0m\u001b[1;33m=\u001b[0m\u001b[0mNone\u001b[0m\u001b[1;33m,\u001b[0m \u001b[0mkeepdims\u001b[0m\u001b[1;33m=\u001b[0m\u001b[0mFalse\u001b[0m\u001b[1;33m)\u001b[0m\u001b[1;33m:\u001b[0m\u001b[1;33m\u001b[0m\u001b[0m\n",
      "\u001b[1;31mValueError\u001b[0m: zero-size array to reduction operation minimum which has no identity"
     ]
    }
   ],
   "source": [
    "pynbody.plot.gas.rho_T(s, rho_units='g cm**-3')\n",
    "plt.title('2D Histogram of Density vs Temperature',y=1.02)"
   ]
  },
  {
   "cell_type": "code",
   "execution_count": null,
   "metadata": {
    "collapsed": false
   },
   "outputs": [],
   "source": [
    "pynbody.plot.generic.hist2d(s.gas['rho'].in_units(\"g cm**-3\"),s.gas['p'].in_units('Pa'),xlogrange=True,ylogrange=True);\n",
    "plt.title('2D Histogram of Density vs. Pressure',y=1.02)"
   ]
  },
  {
   "cell_type": "code",
   "execution_count": null,
   "metadata": {
    "collapsed": false
   },
   "outputs": [],
   "source": [
    "pynbody.plot.generic.hist2d(s.gas['temp'],s.gas['p'].in_units('Pa'),xlogrange=True,ylogrange=True,\n",
    "                           x_range=(2,3.8),y_range=(-5,3));\n",
    "plt.title('2D Histogram of Temperature vs. Pressure',y=1.02)\n",
    "plt.xlim(2,3.8)\n",
    "plt.ylim(-5,3)"
   ]
  },
  {
   "cell_type": "code",
   "execution_count": null,
   "metadata": {
    "collapsed": false
   },
   "outputs": [],
   "source": [
    "#Create nice color plot of temp as function of radius\n",
    "\n",
    "\n",
    "#pynbody.analysis.angmom.faceon(s1.g)#create an image of gas density integrated\n",
    "#down the line of site (z axis) of width 50 Au\n",
    "sph.image(s.g,qty=\"rho\",units=\"g cm^-2\",width=1,cmap=\"Greys\")\n",
    "\n",
    "#Plot circle representing theoretical location of gap...should occur ~ 100 orbits\n",
    "list_radians = [0]\n",
    " \n",
    "# from degrees to radians, the 0 is already included so\n",
    "# we don't make the universe collapse by dividing by zero.\n",
    "for i in range(0,360):\n",
    "    float_div = 180.0/(i+1)\n",
    "    list_radians.append(pi/float_div)\n",
    "     \n",
    "# list of coordinates for each point\n",
    "list_x2_axis = []\n",
    "list_y2_axis = []\n",
    "\n",
    "ai = 0.1469\n",
    "r = 2.3*ai #Inner gap edge predicted by Artimowicz+1994 for binary similar to Kepler 38\n",
    "#r = 0.25\n",
    "# calculate coordinates\n",
    "# and append to above list\n",
    "for a in list_radians:\n",
    "    list_x2_axis.append(r*cos(a))\n",
    "    list_y2_axis.append(r*sin(a))\n",
    "    \n",
    "#plot the coordinates\n",
    "plt.plot(list_x2_axis,list_y2_axis,c='r')\n",
    "plt.xlim([-0.5,0.5])\n",
    "plt.ylim([-0.5,0.5])"
   ]
  },
  {
   "cell_type": "code",
   "execution_count": null,
   "metadata": {
    "collapsed": false
   },
   "outputs": [],
   "source": [
    "#Create verticle profiles\n",
    "\n",
    "#Create verticle gas profile object\n",
    "p_vert = pynbody.analysis.profile.VerticalProfile(s.gas, '0 au', '20 au', '25 au') #(range_min,range_max,max)\n",
    "\n",
    "#Now plot density vs distance\n",
    "#Confirm density units are correct\n",
    "p_vert['density'].convert_units('Msol au**-3')\n",
    "print p_vert['density'].units\n",
    "print p_vert['rbins'].units\n",
    "plt.plot(p_vert['rbins'], p_vert['density'],'k', hold=False)\n",
    "plt.xlabel('$z$ [Au]')\n",
    "plt.ylabel(r'$\\rho_{\\star}$ [M$_{\\odot}$ Au$^{-3}$]')\n",
    "plt.yscale('log')"
   ]
  },
  {
   "cell_type": "code",
   "execution_count": null,
   "metadata": {
    "collapsed": false
   },
   "outputs": [],
   "source": [
    "#Plot temperature vs. distance from plane\n",
    "#Looks terrible since data is for small number of particles\n",
    "plt.plot(p_vert['rbins'], p_vert['temp'],'k', hold=False)\n",
    "plt.xlabel('$z$ [Au]'); plt.ylabel('$T$ [K]')"
   ]
  },
  {
   "cell_type": "code",
   "execution_count": null,
   "metadata": {
    "collapsed": false
   },
   "outputs": [],
   "source": [
    "#Plot velocity vectors\n",
    "f, axs = plt.subplots(1,1,figsize=(8,8))\n",
    "\n",
    "#create a simple slice showing the gas temperature, with velocity vectors overlaid\n",
    "sph.velocity_image(s.g, vector_color=\"cyan\", qty=\"temp\",width=10,cmap=\"YlOrRd\",\n",
    "                   denoise=True,approximate_fast=False, show_cbar = False)\n",
    "\n",
    "#plt.savefig(\"vectors.pdf\")"
   ]
  },
  {
   "cell_type": "markdown",
   "metadata": {
    "collapsed": false
   },
   "source": [
    "work_dir = '/gscratch/stf/dflemin3/k38_sims/kepler38Long'\n",
    "subscript=diskpy.pychanga.hyak.pbs_script(work_dir,param='k38_snap.param',\n",
    "                                          jobname='Kepler38_520yrs',backill=False,email='dflemin3@uw.edu',\n",
    "                                          walltime=110)\n",
    "with open('subber.sh','w') as f:\n",
    "    f.write(subscript)"
   ]
  },
  {
   "cell_type": "raw",
   "metadata": {
    "collapsed": false
   },
   "source": [
    "import pynbody.plot.sph as sph\n",
    "\n",
    "for k in range(1,43):\n",
    "    #Plot\n",
    "    dDelta = 0.0075742508\n",
    "    val = dDelta*365./(2.0*np.pi)\n",
    "    phase = float(k)*val/18.8\n",
    "    title_phase = str(phase)\n",
    "    \n",
    "    suffix = str(k).zfill(6)\n",
    "    snap = \"k38_snap.\" + suffix\n",
    "    s = pynbody.load(snap);\n",
    "\n",
    "    #Compute disk COM, subtract it off to center system since disk precesses\n",
    "    diskCom = binaryUtils.computeCOM(s.stars,s.gas,starFlag=True,gasFlag=True)\n",
    "    s.gas['pos'] -= diskCom\n",
    "    \n",
    "    #Rotate so primary is always along the positive x axis\n",
    "    y1 = s.stars[0]['pos'][0][1]\n",
    "    x1 = s.stars[0]['pos'][0][0]\n",
    "\n",
    "    deg1 = np.arctan2(y1,x1)*180./np.pi\n",
    "    deg = 360.0 - deg1\n",
    "    #s.rotate_z(deg)\n",
    "    #print s.stars['pos']\n",
    "    \n",
    "    #Now rotate with m:n pattern speed\n",
    "    m = 1.0 #Binary speed\n",
    "    n = 2.0 #Gas romg speed\n",
    "    ratio = n/m\n",
    "    deg = 360. - 360.0*phase*ratio\n",
    "    s.rotate_z(deg)\n",
    "    \n",
    "    print s.stars['pos']\n",
    "    \n",
    "    sph.image(s.g,qty=\"rho\",units=\"g cm^-2\",width='2 au',cmap=\"RdYlBu\",title=title_phase)\n",
    "    plt.clim(1e-6,1e4)\n",
    "\n",
    "    #Plot location of 3:1 EOLR\n",
    "    for i in range(0,360):\n",
    "        float_div = 180.0/(i+1)\n",
    "        list_radians.append(np.pi/float_div)\n",
    "\n",
    "    # list of coordinates for each point\n",
    "    list_x2_axis = []\n",
    "    list_y2_axis = []\n",
    "\n",
    "    r = 2.08*0.1469 #Inner gap edge predicted by Artimowicz+1994 for binary similar to Kepler 38\n",
    "    # calculate coordinates relative to system center of mass\n",
    "    # and append to above list\n",
    "    for a in list_radians:\n",
    "        list_x2_axis.append(r*np.cos(a))\n",
    "        list_y2_axis.append(r*np.sin(a))\n",
    "\n",
    "    #plot the coordinates\n",
    "    plt.plot(list_x2_axis,list_y2_axis,c='r',label=\"3:1 EOLR\")\n",
    "    plt.xlim(-1,1)\n",
    "    plt.ylim(-1,1)\n",
    "    plt.legend()\n",
    "\n",
    "    plt.savefig(\"k38.\" + str(k) + \".png\");"
   ]
  },
  {
   "cell_type": "raw",
   "metadata": {
    "collapsed": false
   },
   "source": [
    "length = 239\n",
    "for i in range(1,length):\n",
    "    suffix = str(i*500).zfill(6)\n",
    "    snap_name = \"k38_snap.\" + suffix\n",
    "    os.chdir(\"/astro/users/dflemin3/Desktop/sims/lowEccLong\")\n",
    "    s = pynbody.load(snap_name)\n",
    "    \n",
    "    #Center on barycenter\n",
    "    diskCom = binaryUtils.computeCOM(s.stars,s.gas,starFlag=True,gasFlag=True)\n",
    "    s['pos'] -= diskCom\n",
    "    \n",
    "    x1_gas = s.gas['pos']\n",
    "    x_zero = pynbody.array.SimArray(np.zeros((len(x1_gas),3)),'au')\n",
    "    v1_gas = s.gas['vel']\n",
    "    v_zero = pynbody.array.SimArray(np.zeros((len(x1_gas),3)),'km s**-1')\n",
    "    m1 = np.sum(s.s['mass'])\n",
    "    m2 = s.gas['mass']\n",
    "\n",
    "    cm = binaryUtils.computeCOM(s.stars,s.gas,cutoff=3.0).in_units('au')\n",
    "\n",
    "    #Compute semimajor axis, longitude of perihelion (relative to that of bin) for ALL gas particles\n",
    "    gas_a = AddBinary.calcSemi(x1_gas,cm,v1_gas,v_zero,m1,m2)\n",
    "    gas_e = AddBinary.calcEcc(x1_gas,cm,v1_gas,v_zero,m1,m2)\n",
    "    gas_w = AddBinary.calcArgPeri(x1_gas,cm,v1_gas,v_zero,m1,m2) + AddBinary.calcLongOfAscNode(x1_gas,x_zero,v1_gas,v_zero)\n",
    "    gas_w = gas_w - (test.Omega + test.w)\n",
    "    gas_w[gas_w > 360] = gas_w[gas_w > 360] - 360.0\n",
    "    gas_w[gas_w < 0] = gas_w[gas_w < 0] + 360.0\n",
    "\n",
    "    #Filter out gas particles that aren't bound\n",
    "    mask = np.logical_and(gas_e < 1,gas_e > 0)\n",
    "    gas_a = gas_a[mask]\n",
    "    gas_w = gas_w[mask]\n",
    "    gas_e = gas_e[mask]\n",
    "\n",
    "    #Now Filter gas particles to within a certain distance\n",
    "    mask = np.logical_and(gas_a < 3,gas_a > 0.4)\n",
    "    gas_a = gas_a[mask]\n",
    "    gas_w = gas_w[mask]\n",
    "    gas_e = gas_e[mask]\n",
    "\n",
    "    #Plot heatmap\n",
    "    fig, ax, im, cbar = diskplot.plot_heatmap(gas_w,gas_a,labels=['$\\Omega + \\omega$','Radius [Au]','Number'],\n",
    "                                    cm='hot',vmin=0,vmax=500)\n",
    "    ax.set_ylim(0.4,3)\n",
    "    ax.set_xlim(0,360)    \n",
    "    \n",
    "    fig_name = \"k38WvsA.\" + str(i) + \".png\"\n",
    "    fig.savefig(fig_name)"
   ]
  },
  {
   "cell_type": "code",
   "execution_count": 28,
   "metadata": {
    "collapsed": false
   },
   "outputs": [],
   "source": [
    "x1_gas = s.gas['pos']\n",
    "x_zero = pynbody.array.SimArray(np.zeros((len(x1_gas),3)),'au')\n",
    "v1_gas = s.gas['vel']\n",
    "v_zero = pynbody.array.SimArray(np.zeros((len(x1_gas),3)),'km s**-1')\n",
    "m1 = np.sum(s.s['mass'])\n",
    "m2 = s.gas['mass']\n",
    "gas_m = s.gas['mass'].in_units('g')\n",
    "\n",
    "cm = binaryUtils.computeCOM(s.stars,s.gas,cutoff=3.0).in_units('au')\n",
    "\n",
    "#Compute semimajor axis, longitude of perihelion (relative to that of bin) for ALL gas particles\n",
    "gas_a = AddBinary.calcSemi(x1_gas,cm,v1_gas,v_zero,m1,m2)\n",
    "gas_e = AddBinary.calcEcc(x1_gas,cm,v1_gas,v_zero,m1,m2)\n",
    "gas_w = AddBinary.calcArgPeri(x1_gas,cm,v1_gas,v_zero,m1,m2) + AddBinary.calcLongOfAscNode(x1_gas,x_zero,v1_gas,v_zero)\n",
    "gas_w = gas_w - (test.Omega + test.w)\n",
    "gas_w[gas_w > 360] = gas_w[gas_w > 360] - 360.0\n",
    "gas_w[gas_w < 0] = gas_w[gas_w < 0] + 360.0\n",
    "\n",
    "inner = 0\n",
    "outer = 10\n",
    "\n",
    "#Filter out gas particles that aren't bound\n",
    "mask = np.logical_and(gas_e < 1,gas_e > 0)\n",
    "gas_a = gas_a[mask]\n",
    "gas_w = gas_w[mask]\n",
    "gas_e = gas_e[mask]\n",
    "gas_m = gas_m[mask]\n",
    "\n",
    "#Now Filter gas particles to within a certain distance\n",
    "mask = np.logical_and(gas_a < outer,gas_a > inner)\n",
    "gas_a = gas_a[mask]\n",
    "gas_w = gas_w[mask]\n",
    "gas_e = gas_e[mask]\n",
    "gas_m = gas_m[mask]"
   ]
  },
  {
   "cell_type": "code",
   "execution_count": 29,
   "metadata": {
    "collapsed": false
   },
   "outputs": [
    {
     "name": "stdout",
     "output_type": "stream",
     "text": [
      "4.76200452526e+50\n"
     ]
    }
   ],
   "source": [
    "m1 = s.stars[0]['mass'].in_units('g')\n",
    "m2 = s.stars[1]['mass'].in_units('g')\n",
    "M = m1+m2\n",
    "mu = (gas_m*M/(gas_m + M)).in_units('g')\n",
    "\n",
    "print np.sum(mu*np.sqrt(AddBinary.G*M*gas_a.in_units('cm')*(1-gas_e*gas_e)))"
   ]
  },
  {
   "cell_type": "code",
   "execution_count": 30,
   "metadata": {
    "collapsed": false
   },
   "outputs": [
    {
     "name": "stdout",
     "output_type": "stream",
     "text": [
      "4.76200460139e+50\n",
      "[  7.29405251e+51]\n",
      "\n",
      "-3.15615062221e+43\n",
      "[ -1.41903421e+46]\n"
     ]
    }
   ],
   "source": [
    "print np.sum(AddBinary.compute_L(gas_a, gas_e, M, gas_m))\n",
    "print AddBinary.compute_L(test.a,test.e,m1,m2)\n",
    "print\n",
    "print np.sum(AddBinary.compute_E(gas_a,M,gas_m))\n",
    "print AddBinary.compute_E(test.a,test.m1,test.m2)"
   ]
  },
  {
   "cell_type": "code",
   "execution_count": 31,
   "metadata": {
    "collapsed": false
   },
   "outputs": [
    {
     "data": {
      "text/plain": [
       "(<matplotlib.figure.Figure at 0x7fc7440e18d0>,\n",
       " <matplotlib.axes._subplots.AxesSubplot at 0x7fc744054ed0>,\n",
       " <matplotlib.image.AxesImage at 0x7fc744069490>,\n",
       " <matplotlib.colorbar.Colorbar instance at 0x7fc743fdd908>)"
      ]
     },
     "execution_count": 31,
     "metadata": {},
     "output_type": "execute_result"
    },
    {
     "name": "stderr",
     "output_type": "stream",
     "text": [
      "/astro/apps6/anaconda2.0/lib/python2.7/site-packages/matplotlib/collections.py:590: FutureWarning: elementwise comparison failed; returning scalar instead, but in the future will perform elementwise comparison\n",
      "  if self._edgecolors == str('face'):\n"
     ]
    },
    {
     "data": {
      "image/png": "[encoded data removed]",
      "text/plain": [
       "<matplotlib.figure.Figure at 0x7fc7440e18d0>"
      ]
     },
     "metadata": {},
     "output_type": "display_data"
    }
   ],
   "source": [
    "diskplot.plot_heatmap(gas_a,gas_e,labels=['a [Au]','Eccentricity','Number'])"
   ]
  },
  {
   "cell_type": "code",
   "execution_count": 32,
   "metadata": {
    "collapsed": false
   },
   "outputs": [
    {
     "data": {
      "text/plain": [
       "<matplotlib.text.Text at 0x7fc743eb3910>"
      ]
     },
     "execution_count": 32,
     "metadata": {},
     "output_type": "execute_result"
    },
    {
     "data": {
      "image/png": "[encoded data removed]",
      "text/plain": [
       "<matplotlib.figure.Figure at 0x7fc743f69f10>"
      ]
     },
     "metadata": {},
     "output_type": "display_data"
    }
   ],
   "source": [
    "fig, ax, im, cbar = diskplot.plot_heatmap(gas_w,gas_a,labels=['$\\Omega + \\omega$','Radius [Au]','Number'],\n",
    "                                    cm='hot')\n",
    "ax.set_title(\"lowEccMean after ~520 yr\")\n",
    "#fig.savefig(\"24.09.2015OmegaVsRadiuslowEccMeanLong520yr.pdf\")"
   ]
  },
  {
   "cell_type": "code",
   "execution_count": null,
   "metadata": {
    "collapsed": false
   },
   "outputs": [],
   "source": [
    "x1 = -1.82689837e-02  \n",
    "y1 = -2.43563803e-02\n",
    "\n",
    "print np.arctan2(y1,x1)*180./np.pi\n",
    "\n",
    "x1 = 2.06388651e-02   \n",
    "y1 = 2.23253207e-02\n",
    "\n",
    "print np.arctan2(y1,x1)*180./np.pi"
   ]
  },
  {
   "cell_type": "code",
   "execution_count": null,
   "metadata": {
    "collapsed": false
   },
   "outputs": [],
   "source": [
    "print \"%.2f\" % (s.stars['pos'].units)"
   ]
  }
 ],
 "metadata": {
  "kernelspec": {
   "display_name": "Python 2",
   "language": "python",
   "name": "python2"
  },
  "language_info": {
   "codemirror_mode": {
    "name": "ipython",
    "version": 2
   },
   "file_extension": ".py",
   "mimetype": "text/x-python",
   "name": "python",
   "nbconvert_exporter": "python",
   "pygments_lexer": "ipython2",
   "version": "2.7.10"
  }
 },
 "nbformat": 4,
 "nbformat_minor": 0
}
