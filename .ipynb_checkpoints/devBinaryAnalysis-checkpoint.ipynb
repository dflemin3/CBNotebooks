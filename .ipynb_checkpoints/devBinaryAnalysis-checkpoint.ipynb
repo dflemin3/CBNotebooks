{
 "cells": [
  {
   "cell_type": "markdown",
   "metadata": {
    "collapsed": false
   },
   "source": [
    "David Fleming \n",
    "\n",
    "For the rest, see the .param file\n",
    "\n",
    "Contains basic code for anaylsis, plotting to be used later with my disks."
   ]
  },
  {
   "cell_type": "code",
   "execution_count": 1,
   "metadata": {
    "collapsed": false
   },
   "outputs": [
    {
     "name": "stdout",
     "output_type": "stream",
     "text": [
      "/astro/users/dflemin3/Desktop/ICgen/isaac.pyc\n"
     ]
    }
   ],
   "source": [
    "%matplotlib inline\n",
    "#Imports required to run\n",
    "\n",
    "import pynbody\n",
    "from matplotlib.pylab import *\n",
    "import matplotlib.pylab as plt\n",
    "import pynbody.plot.sph as sph\n",
    "import numpy as np\n",
    "from scipy import interpolate\n",
    "\n",
    "#Imports from ICgen-Binary directory\n",
    "import os\n",
    "sys.path.append('/astro/users/dflemin3/Desktop/ICgen')\n",
    "sys.path.append('/astro/users/dflemin3/Desktop')\n",
    "import isaac\n",
    "import AddBinary\n",
    "import binaryUtils\n",
    "import binary\n",
    "\n",
    "#Typical plot parameters that make for pretty plots\n",
    "plt.rcParams['figure.figsize'] = (10,8)\n",
    "from astroML.plotting import setup_text_plots\n",
    "setup_text_plots(fontsize=20, usetex=True)\n",
    "\n",
    "rc('font', **{'family': 'serif', 'serif': ['Computer Modern']})\n",
    "mpl.rcParams['font.size'] = 20.0"
   ]
  },
  {
   "cell_type": "code",
   "execution_count": 2,
   "metadata": {
    "collapsed": false
   },
   "outputs": [],
   "source": [
    "#Change directory to where the data is\n",
    "cwd = '/astro/users/dflemin3/Desktop/sims/randinitLowEcc'\n",
    "os.chdir(cwd)"
   ]
  },
  {
   "cell_type": "code",
   "execution_count": 3,
   "metadata": {
    "collapsed": false
   },
   "outputs": [
    {
     "name": "stderr",
     "output_type": "stream",
     "text": [
      "Loading using backend <class 'pynbody.tipsy.TipsySnap'>\n",
      "TipsySnap: loading  k38_snap.013328\n"
     ]
    }
   ],
   "source": [
    "#Load Snapshot \n",
    "s = pynbody.load('k38_snap.013328')"
   ]
  },
  {
   "cell_type": "markdown",
   "metadata": {},
   "source": [
    "#Look at general system parameters"
   ]
  },
  {
   "cell_type": "code",
   "execution_count": 4,
   "metadata": {
    "collapsed": false,
    "scrolled": true
   },
   "outputs": [
    {
     "name": "stdout",
     "output_type": "stream",
     "text": [
      "[[  2.93180179e-02  -7.78826652e-03  -6.09990348e-05]]\n",
      "[[ -1.12483062e-01   3.11196335e-02  -6.21532890e-05]]\n",
      "[[  1.57526955e-01   5.71222544e-01  -3.48783124e-06]]\n",
      "[[ -6.00201190e-01  -2.17641711e+00   1.28679458e-05]]\n",
      "[ 0.94900244]\n",
      "[ 0.24906933]\n",
      "4.85e-09 kpc\n",
      "2.98e+01 km s**-1\n"
     ]
    },
    {
     "name": "stderr",
     "output_type": "stream",
     "text": [
      "TipsySnap: loading data from main file\n"
     ]
    }
   ],
   "source": [
    "#Make sure I have 2 stars in there with correct pos/vel:\n",
    "print s.stars[0]['pos']\n",
    "print s.stars[1]['pos']\n",
    "\n",
    "print s.stars[0]['vel']\n",
    "print s.stars[1]['vel']\n",
    "\n",
    "print s.stars[0]['mass']\n",
    "print s.stars[1]['mass']\n",
    "\n",
    "#Print current units\n",
    "print s.stars[0]['pos'].units\n",
    "print s.stars[0]['vel'].units"
   ]
  },
  {
   "cell_type": "code",
   "execution_count": 5,
   "metadata": {
    "collapsed": false
   },
   "outputs": [
    {
     "name": "stdout",
     "output_type": "stream",
     "text": [
      "0.00375872096794\n",
      "Msol\n"
     ]
    }
   ],
   "source": [
    "print np.sum(s.gas['mass'])\n",
    "print s.gas['mass'].units"
   ]
  },
  {
   "cell_type": "code",
   "execution_count": 6,
   "metadata": {
    "collapsed": false
   },
   "outputs": [
    {
     "name": "stdout",
     "output_type": "stream",
     "text": [
      "2\n",
      "98126\n"
     ]
    }
   ],
   "source": [
    "print len(s.stars)\n",
    "print len(s.gas)"
   ]
  },
  {
   "cell_type": "code",
   "execution_count": 7,
   "metadata": {
    "collapsed": false
   },
   "outputs": [
    {
     "name": "stdout",
     "output_type": "stream",
     "text": [
      "eccentricity = [ 0.0029699]\n",
      "semimajor axis = [ 0.14664996]\n",
      "Inclination = [ 0.00055747]\n",
      "mass = [ 0.94900244  0.24906933]\n",
      "gas particles = 98126\n"
     ]
    }
   ],
   "source": [
    "#Calculate system parameters\n",
    "x1 = s.stars[0]['pos']\n",
    "x2 = s.stars[1]['pos']\n",
    "v1 = s.stars[0]['vel']\n",
    "v2 = s.stars[1]['vel']\n",
    "m1 = s.stars[0]['mass']\n",
    "m2 = s.stars[1]['mass']\n",
    "\n",
    "ef = AddBinary.calcEcc(x1, x2, v1, v2, m1, m2)\n",
    "af = AddBinary.calcSemi(x1, x2, v1, v2, m1, m2)\n",
    "ifin = AddBinary.calcInc(x1, x2, v1, v2)\n",
    "gf = len(s.g)\n",
    "mf = s.stars['mass']\n",
    "\n",
    "print \"eccentricity =\",ef\n",
    "print \"semimajor axis =\",af\n",
    "print \"Inclination =\", ifin\n",
    "print \"mass =\",mf\n",
    "print \"gas particles =\",gf"
   ]
  },
  {
   "cell_type": "code",
   "execution_count": 8,
   "metadata": {
    "collapsed": false
   },
   "outputs": [
    {
     "name": "stdout",
     "output_type": "stream",
     "text": [
      "Binary center of mass = [[ -1.61267925e-04   3.00367967e-04  -6.12389948e-05]]\n",
      "Current entire system center of mass = [[ -2.40964061e-04   4.07468461e-04  -7.40904702e-05]]\n",
      "Magnitude of system center of mass = [ 0.00047915]\n",
      "km s**-1\n",
      "[  4.04524518e+01   1.56156665e+01   1.40105524e-02]\n"
     ]
    },
    {
     "name": "stderr",
     "output_type": "stream",
     "text": [
      "SimSnap: deriving array rxy\n"
     ]
    }
   ],
   "source": [
    "#Check CoM\n",
    "print \"Binary center of mass = {0}\".format(AddBinary.calcCOM(m1,m2,x1,x2))\n",
    "sysCom = binaryUtils.computeCOM(s.stars,s.gas,starFlag=True)\n",
    "print \"Current entire system center of mass = {0}\".format(sysCom)\n",
    "print \"Magnitude of system center of mass = {0}\".format(np.sqrt(AddBinary.dotProduct(sysCom,sysCom)))\n",
    "print binaryUtils.computeVelocityCOM(s,cutoff=0.4,starFlag=False,gasFlag=True)\n"
   ]
  },
  {
   "cell_type": "code",
   "execution_count": 9,
   "metadata": {
    "collapsed": false
   },
   "outputs": [
    {
     "name": "stderr",
     "output_type": "stream",
     "text": [
      "/astro/users/dflemin3/Desktop/ICgen/AddBinary.py:689: RuntimeWarning: invalid value encountered in arccos\n",
      "  w = np.arccos(arg)\n",
      "/astro/users/dflemin3/Desktop/ICgen/binaryUtils.py:855: RuntimeWarning: invalid value encountered in sqrt\n",
      "  kappa_r = np.sqrt((AddBinary.BigG*mu/np.power(r,3)) * (1.0 - 3.0*alpha/np.power(r,2)))\n"
     ]
    },
    {
     "data": {
      "text/plain": [
       "<matplotlib.legend.Legend at 0x7fae49c3ccd0>"
      ]
     },
     "execution_count": 9,
     "metadata": {},
     "output_type": "execute_result"
    },
    {
     "data": {
      "image/png": "[encoded data removed]",
      "text/plain": [
       "<matplotlib.figure.Figure at 0x7fae5e34e190>"
      ]
     },
     "metadata": {},
     "output_type": "display_data"
    }
   ],
   "source": [
    "r, rBinEdges = binaryUtils.calcDiskRadialBins(s,0.25,10*af,50)\n",
    "orbElems = binaryUtils.orbElemsVsRadius(s,rBinEdges,average=True)\n",
    "precession = binaryUtils.diskPrecession(s,r)\n",
    "\n",
    "plt.plot(r,precession[0,:]*AddBinary.YEARSEC,color='blue',label=r'$\\omega$ Precession Rate')\n",
    "plt.plot(r,precession[1,:]*AddBinary.YEARSEC,color='red',label=r'$\\Omega$ Precession Rate')\n",
    "plt.axhline(y=0.0, xmin=0., xmax = 1, linewidth=2, color='k',linestyle='--')\n",
    "plt.xlim(r.min(),r.max())\n",
    "plt.legend(loc='lower right')"
   ]
  },
  {
   "cell_type": "code",
   "execution_count": 10,
   "metadata": {
    "collapsed": false
   },
   "outputs": [
    {
     "data": {
      "text/plain": [
       "<matplotlib.text.Text at 0x7fae5e0f6f50>"
      ]
     },
     "execution_count": 10,
     "metadata": {},
     "output_type": "execute_result"
    },
    {
     "data": {
      "image/png": "[encoded data removed]",
      "text/plain": [
       "<matplotlib.figure.Figure at 0x7fae5e3483d0>"
      ]
     },
     "metadata": {},
     "output_type": "display_data"
    }
   ],
   "source": [
    "w = (orbElems[3,:] + orbElems[4,:])*(np.pi/180.)\n",
    "\n",
    "cax = plt.scatter(orbElems[0,:]*np.cos(w),orbElems[0,:]*np.sin(w),c=r)\n",
    "cbar = plt.colorbar(cax)\n",
    "plt.xlabel(r\"ecos$\\omega$\")\n",
    "plt.ylabel(r\"esin$\\omega$\")"
   ]
  },
  {
   "cell_type": "code",
   "execution_count": 11,
   "metadata": {
    "collapsed": false
   },
   "outputs": [
    {
     "name": "stdout",
     "output_type": "stream",
     "text": [
      "[  1.29140647e-01   6.63795719e-01   2.48846036e+00   1.80556436e+02\n",
      "   1.78233251e+02   1.80163556e+02]\n"
     ]
    }
   ],
   "source": [
    "print binaryUtils.diskAverage(s,r_out=1.0,bins=50)"
   ]
  },
  {
   "cell_type": "code",
   "execution_count": 12,
   "metadata": {
    "collapsed": false
   },
   "outputs": [
    {
     "data": {
      "text/plain": [
       "[<matplotlib.lines.Line2D at 0x7fae49a27410>]"
      ]
     },
     "execution_count": 12,
     "metadata": {},
     "output_type": "execute_result"
    },
    {
     "data": {
      "image/png": "[encoded data removed]",
      "text/plain": [
       "<matplotlib.figure.Figure at 0x7fae79f4b110>"
      ]
     },
     "metadata": {},
     "output_type": "display_data"
    }
   ],
   "source": [
    "plt.plot(r,orbElems[0,:])"
   ]
  },
  {
   "cell_type": "code",
   "execution_count": 13,
   "metadata": {
    "collapsed": false
   },
   "outputs": [
    {
     "name": "stdout",
     "output_type": "stream",
     "text": [
      "(0.00296989889625,0.146649959887,0.000557467774119,218.440407902,270.000445983,154.271289929), mass: ([ 0.94900244],[ 0.24906933])\n"
     ]
    }
   ],
   "source": [
    "x1, x2 = s.stars['pos']\n",
    "m1, m2 = s.stars[0]['mass'], s.stars[1]['mass']\n",
    "v1, v2 = s.stars['vel']\n",
    "m_disk = np.sum(s.gas['mass'])\n",
    "x = x1-x2\n",
    "v = v1-v2\n",
    "X = [x,v]\n",
    "test = binary.Binary(X,m1,m2,'cartesian')\n",
    "print test"
   ]
  },
  {
   "cell_type": "markdown",
   "metadata": {},
   "source": [
    "Look at disk center of mass as a function of radius.  At each radius, only consider enclosed mass."
   ]
  },
  {
   "cell_type": "code",
   "execution_count": 14,
   "metadata": {
    "collapsed": false
   },
   "outputs": [],
   "source": [
    "a, e = test.a, test.e\n",
    "rCrit, error = AddBinary.calcCriticalRadius(a,e,m1,m2)"
   ]
  },
  {
   "cell_type": "code",
   "execution_count": 15,
   "metadata": {
    "collapsed": false
   },
   "outputs": [
    {
     "name": "stdout",
     "output_type": "stream",
     "text": [
      "[ 18.84257315]\n"
     ]
    }
   ],
   "source": [
    "print 2.0*np.pi/AddBinary.calcCircularFrequency(x1,x2,v1,v2,m1,m2)"
   ]
  },
  {
   "cell_type": "markdown",
   "metadata": {},
   "source": [
    "#Find inner disk edge\n",
    "Following the prescription of Artymowics+1994, define the gap radius for a circumbinary disk to be at the disk edge position where the surface density is half of the maximum value in the disk.  In that paper, the gap size was studied for various binary eccentricities and mass ratios.  For Kepler 38, the mass ratio is 0.263 ~ 0.3 and the eccentricity is ~0.1.  These values correspond to a gap size of $r = 2.35 \\pm 0.15$ times the binary semimajor axis.  For Kepler 38 whose a = 0.1469, one would expect to find after ~ 100 binary orbits a gap radius of ~0.34 au.  This gap formation occurs due to the tidal action of the binary system on the disk (and accretion where applicable).\n",
    "\n",
    "The initial conditions of Artymowics+1994:\n",
    "\n",
    "N_gas: ~ $10^4$\n",
    "Disk Properties: axisymmetric; initialized with Keplerian velocities; $\\Sigma \\sim 1/r$; introduced binary into initially smooth disk (similar to my initialization).  For a binary with mass parameter $\\mu = 0.3$ and eccentricity = 0.1, they found a gap at $r \\approx 2.3a$ which is outside the 3:1 orbital period commensurability (Arty+1994 pg. 662).  \n",
    "\n",
    "\n",
    "Note: In Kley+2014, they found that after ~2000yr of evolution, the inner edge of the disk to be $r \\approx 0.45 au$ which corresponds to roughly $3a_{bin}$ which they claim is in good agreement with the results of Artymowics+1994.  The problem here is that Kley+2014 studied Kepler 38 where the mass ratio is about 0.3 and the eccentricity about 0.1.  The result that $r_{gap} \\approx 3a_{bin}$ corresponds to a mass ratio of 0.3 and an eccentricity of 0.5 which does not hold for Kepler 38.\n",
    "\n",
    "\n",
    "Below, I bin the disk surface density into radial bins and compute the radius at which the half maximum surface density occurs as described above."
   ]
  },
  {
   "cell_type": "code",
   "execution_count": 16,
   "metadata": {
    "collapsed": false
   },
   "outputs": [
    {
     "name": "stdout",
     "output_type": "stream",
     "text": [
      "Profile: density()\n",
      "Profile: mass()\n"
     ]
    },
    {
     "ename": "error",
     "evalue": "(m>k) failed for hidden m: fpcurf0:m=0",
     "output_type": "error",
     "traceback": [
      "\u001b[1;31m---------------------------------------------------------------------------\u001b[0m",
      "\u001b[1;31merror\u001b[0m                                     Traceback (most recent call last)",
      "\u001b[1;32m<ipython-input-16-01e041387f67>\u001b[0m in \u001b[0;36m<module>\u001b[1;34m()\u001b[0m\n\u001b[0;32m     21\u001b[0m \u001b[1;31m#print \"Half Max Surface Density = {0} {1}\".format(halfMax,pg['density'].units)\u001b[0m\u001b[1;33m\u001b[0m\u001b[1;33m\u001b[0m\u001b[0m\n\u001b[0;32m     22\u001b[0m \u001b[1;33m\u001b[0m\u001b[0m\n\u001b[1;32m---> 23\u001b[1;33m \u001b[0mcrit_r\u001b[0m \u001b[1;33m=\u001b[0m \u001b[0mbinaryUtils\u001b[0m\u001b[1;33m.\u001b[0m\u001b[0mfind_crit_radius\u001b[0m\u001b[1;33m(\u001b[0m\u001b[0mradius\u001b[0m\u001b[1;33m,\u001b[0m\u001b[0msigma\u001b[0m\u001b[1;33m,\u001b[0m\u001b[0mhalfMax\u001b[0m\u001b[1;33m,\u001b[0m\u001b[0mbins\u001b[0m\u001b[1;33m)\u001b[0m\u001b[1;33m\u001b[0m\u001b[0m\n\u001b[0m\u001b[0;32m     24\u001b[0m \u001b[1;33m\u001b[0m\u001b[0m\n\u001b[0;32m     25\u001b[0m \u001b[1;32mprint\u001b[0m \u001b[1;34m\"Inner gap edge radius = {0}\"\u001b[0m\u001b[1;33m.\u001b[0m\u001b[0mformat\u001b[0m\u001b[1;33m(\u001b[0m\u001b[0mcrit_r\u001b[0m\u001b[1;33m)\u001b[0m\u001b[1;33m\u001b[0m\u001b[0m\n",
      "\u001b[1;32m/astro/users/dflemin3/Desktop/ICgen/binaryUtils.pyc\u001b[0m in \u001b[0;36mfind_crit_radius\u001b[1;34m(r, array, toFind, num)\u001b[0m\n\u001b[0;32m    160\u001b[0m \u001b[1;33m\u001b[0m\u001b[0m\n\u001b[0;32m    161\u001b[0m     \u001b[1;31m#Estimate surface density as function of radius.  s=0 -> Interpolate through all data points assuming smooth curve\u001b[0m\u001b[1;33m\u001b[0m\u001b[1;33m\u001b[0m\u001b[0m\n\u001b[1;32m--> 162\u001b[1;33m     \u001b[0marray_f\u001b[0m \u001b[1;33m=\u001b[0m \u001b[0minterpolate\u001b[0m\u001b[1;33m.\u001b[0m\u001b[0mUnivariateSpline\u001b[0m\u001b[1;33m(\u001b[0m\u001b[0mr\u001b[0m\u001b[1;33m,\u001b[0m\u001b[0marray\u001b[0m\u001b[1;33m,\u001b[0m\u001b[0ms\u001b[0m\u001b[1;33m=\u001b[0m\u001b[1;36m0\u001b[0m\u001b[1;33m)\u001b[0m\u001b[1;33m\u001b[0m\u001b[0m\n\u001b[0m\u001b[0;32m    163\u001b[0m \u001b[1;33m\u001b[0m\u001b[0m\n\u001b[0;32m    164\u001b[0m     \u001b[1;31m#Compute radius array to search over\u001b[0m\u001b[1;33m\u001b[0m\u001b[1;33m\u001b[0m\u001b[0m\n",
      "\u001b[1;32m/astro/apps6/anaconda2.0/lib/python2.7/site-packages/scipy/interpolate/fitpack2.pyc\u001b[0m in \u001b[0;36m__init__\u001b[1;34m(self, x, y, w, bbox, k, s, ext, check_finite)\u001b[0m\n\u001b[0;32m    177\u001b[0m \u001b[1;33m\u001b[0m\u001b[0m\n\u001b[0;32m    178\u001b[0m         data = dfitpack.fpcurf0(x,y,k,w=w,\n\u001b[1;32m--> 179\u001b[1;33m                                 xb=bbox[0],xe=bbox[1],s=s)\n\u001b[0m\u001b[0;32m    180\u001b[0m         \u001b[1;32mif\u001b[0m \u001b[0mdata\u001b[0m\u001b[1;33m[\u001b[0m\u001b[1;33m-\u001b[0m\u001b[1;36m1\u001b[0m\u001b[1;33m]\u001b[0m \u001b[1;33m==\u001b[0m \u001b[1;36m1\u001b[0m\u001b[1;33m:\u001b[0m\u001b[1;33m\u001b[0m\u001b[0m\n\u001b[0;32m    181\u001b[0m             \u001b[1;31m# nest too small, setting to maximum bound\u001b[0m\u001b[1;33m\u001b[0m\u001b[1;33m\u001b[0m\u001b[0m\n",
      "\u001b[1;31merror\u001b[0m: (m>k) failed for hidden m: fpcurf0:m=0"
     ]
    }
   ],
   "source": [
    "#Create profile.  Note: Choose nbins to be the same number of n points ICgen-Binary used to initial generate disk\n",
    "bins = 500\n",
    "#pynbody.analysis.angmom.faceon(s.g)\n",
    "#pynbody.analysis.halo.center(s.g,mode='hyb')\n",
    "\n",
    "p = pynbody.analysis.profile.Profile(s,max='20 au',min='0.01 au',type='log',nbins=bins)\n",
    "pg = pynbody.analysis.profile.Profile(s.gas,nbins=bins)\n",
    "\n",
    "#Get arrays for surface density sigma, radius r\n",
    "sigma = pg['density']\n",
    "radius = pg['rbins']\n",
    "\n",
    "#Select subset of radial points within radius at which sigma = sigmaMax/2 (inner edge of disk)\n",
    "max_index = np.argmax(sigma)\n",
    "mask = (radius < radius[max_index])\n",
    "sigma = sigma[mask]\n",
    "radius = radius[mask]\n",
    "\n",
    "#Find location of surface density maximum and look at radius r < r_max to find radius where surface density = max/2.0\n",
    "halfMax = pg['density'].max()/2.0\n",
    "#print \"Half Max Surface Density = {0} {1}\".format(halfMax,pg['density'].units)\n",
    "    \n",
    "crit_r = binaryUtils.find_crit_radius(radius,sigma,halfMax,bins)\n",
    "    \n",
    "print \"Inner gap edge radius = {0}\".format(crit_r)"
   ]
  },
  {
   "cell_type": "markdown",
   "metadata": {},
   "source": [
    "#Examine radial profiles"
   ]
  },
  {
   "cell_type": "code",
   "execution_count": null,
   "metadata": {
    "collapsed": false
   },
   "outputs": [],
   "source": [
    "#Try plotting stuff\n",
    "#Plot the gas surface density as a function of radius for test disk\n",
    "\n",
    "#Now do the plotting with data derived from gas profile, pg\n",
    "#In this case, tangential velocity vs. radius\n",
    "plt.plot(pg['rbins'], pg['density'].in_units(\"g cm**-2\"),'k')\n",
    "plt.xlabel(\"$R$ [AU]\")\n",
    "plt.ylabel(r'$\\Sigma$ [g cm$^{-2}$]')\n",
    "plt.yscale('log')\n",
    "plt.title('Disk Surface Density Profile',y=1.06)\n",
    "#plt.xscale('log') #confirm radius powerlaw relation\n",
    "plt.xlim([0,5])\n",
    "\n",
    "#Plot lines of interest\n",
    "loc = 0.4644 #Radius of Kepler-38b\n",
    "#print float(rCrit)\n",
    "#plt.axvline(x=rCrit, ymin=-1, ymax = 1, linewidth=2, color='blue',label='$R_{critical}$ (Holman+1999)')\n",
    "#plt.axvline(x=loc, ymin=-1, ymax = 1, linewidth=2, color='red',label=\"Kepler-38b Radius\")\n",
    "#plt.legend()\n",
    "\n",
    "#Print units to confirm\n",
    "print pg['rbins'].units\n",
    "print pg['density'].units\n",
    "\n",
    "#plt.savefig(\"sigmaVsR.png\")"
   ]
  },
  {
   "cell_type": "code",
   "execution_count": null,
   "metadata": {
    "collapsed": false
   },
   "outputs": [],
   "source": [
    "#Try plotting temperature profile of gas in plane of disk\n",
    "#T vs. radius\n",
    "plt.plot(pg['rbins'], pg['temp'],'k', label = '$Gas$')\n",
    "plt.legend()\n",
    "#plt.semilogy()\n",
    "#plt.semilogx()\n",
    "plt.xlabel(\"$R$ [AU]\")\n",
    "plt.ylabel(\"$T$ [K]\")\n",
    "plt.show()"
   ]
  },
  {
   "cell_type": "markdown",
   "metadata": {},
   "source": [
    "#Check if disk is unstable to m = 1 perturbations as per Shu et al. 1990 eqn. 110"
   ]
  },
  {
   "cell_type": "code",
   "execution_count": null,
   "metadata": {
    "collapsed": false
   },
   "outputs": [],
   "source": [
    "Mdisk = np.sum(s.gas['mass'])\n",
    "mf = Mdisk/(Mdisk+np.sum(s.stars['mass']))\n",
    "rd = 2.0\n",
    "\n",
    "r_in = 1.0*a\n",
    "r_out = rd\n",
    "Qbins = 50\n",
    "Q, rad =isaac.Q(s,2.35, bins=Qbins)\n",
    "rad = (rad[1:] + rad[:-1])/2.0\n",
    "\n",
    "plt.plot(rad,Q)\n",
    "plt.ylabel(\"Q\")\n",
    "plt.xlabel(\"r [AU]\")\n",
    "plt.xlim(0,rd)\n",
    "plt.ylim(0,10)\n",
    "\n",
    "#plt.savefig(\"qVsRadius.pdf\")"
   ]
  },
  {
   "cell_type": "code",
   "execution_count": null,
   "metadata": {
    "collapsed": false
   },
   "outputs": [],
   "source": [
    "sigma0 = binaryUtils.calcStableSigma(rad,rd,np.sum(s.stars['mass']),Mdisk,1.0)\n",
    "p = pynbody.analysis.profile.Profile(s.gas,max=r_out,min=r_in,nbins=bins)\n",
    "sigma = p['density']\n",
    "sigR = p['rbins']\n",
    "\n",
    "plt.plot(sigR,sigma,color='red',label=r'$\\Sigma$')\n",
    "plt.plot(rad,sigma0,color='blue',label=r\"$\\Sigma_{0}$\")\n",
    "plt.xlim(0.15,rd)\n",
    "#plt.ylim(0,0.001)\n",
    "plt.legend(loc='upper right')\n",
    "plt.semilogy()\n",
    "plt.ylabel(\"$\\Sigma$ [M$_{\\odot}$ AU$^{-2}$]\")\n",
    "plt.xlabel(\"r [AU]\")\n",
    "plt.title(\"Disk mass = %0.2f Msol, mass fraction = %0.2f\" % (Mdisk, mf),y=1.02)\n",
    "\n",
    "#plt.savefig(\"shuInstability\")"
   ]
  },
  {
   "cell_type": "code",
   "execution_count": null,
   "metadata": {
    "collapsed": false
   },
   "outputs": [],
   "source": [
    "#Create nice color plot of temp as function of radius\n",
    "\n",
    "\n",
    "#pynbody.analysis.angmom.faceon(s1.g)#create an image of gas density integrated\n",
    "#down the line of site (z axis) of width 50 Au\n",
    "sph.image(s.g,qty=\"rho\",units=\"g cm^-2\",width=1,cmap=\"Greys\")\n",
    "\n",
    "#Plot circle representing theoretical location of gap...should occur ~ 100 orbits\n",
    "list_radians = [0]\n",
    " \n",
    "# from degrees to radians, the 0 is already included so\n",
    "# we don't make the universe collapse by dividing by zero.\n",
    "for i in range(0,360):\n",
    "    float_div = 180.0/(i+1)\n",
    "    list_radians.append(pi/float_div)\n",
    "     \n",
    "# list of coordinates for each point\n",
    "list_x2_axis = []\n",
    "list_y2_axis = []\n",
    "\n",
    "r = 2.3*ai #Inner gap edge predicted by Artimowicz+1994 for binary similar to Kepler 38\n",
    "#r = 0.25\n",
    "# calculate coordinates\n",
    "# and append to above list\n",
    "for a in list_radians:\n",
    "    list_x2_axis.append(r*cos(a))\n",
    "    list_y2_axis.append(r*sin(a))\n",
    "    \n",
    "#plot the coordinates\n",
    "plt.plot(list_x2_axis,list_y2_axis,c='r')\n",
    "plt.xlim([-0.5,0.5])\n",
    "plt.ylim([-0.5,0.5])"
   ]
  },
  {
   "cell_type": "code",
   "execution_count": null,
   "metadata": {
    "collapsed": false
   },
   "outputs": [],
   "source": [
    "#Create verticle profiles\n",
    "\n",
    "#Create verticle gas profile object\n",
    "p_vert = pynbody.analysis.profile.VerticalProfile(s.gas, '0 au', '20 au', '25 au') #(range_min,range_max,max)\n",
    "\n",
    "#Now plot density vs distance\n",
    "#Confirm density units are correct\n",
    "p_vert['density'].convert_units('Msol au**-3')\n",
    "print p_vert['density'].units\n",
    "print p_vert['rbins'].units\n",
    "plt.plot(p_vert['rbins'], p_vert['density'],'k', hold=False)\n",
    "plt.xlabel('$z$ [Au]')\n",
    "plt.ylabel(r'$\\rho_{\\star}$ [M$_{\\odot}$ Au$^{-3}$]')\n",
    "plt.yscale('log')"
   ]
  },
  {
   "cell_type": "code",
   "execution_count": null,
   "metadata": {
    "collapsed": false
   },
   "outputs": [],
   "source": [
    "#Plot temperature vs. distance from plane\n",
    "#Looks terrible since data is for small number of particles\n",
    "plt.plot(p_vert['rbins'], p_vert['temp'],'k', hold=False)\n",
    "plt.xlabel('$z$ [Au]'); plt.ylabel('$T$ [K]')"
   ]
  },
  {
   "cell_type": "code",
   "execution_count": null,
   "metadata": {
    "collapsed": false
   },
   "outputs": [],
   "source": [
    "#Plot velocity vectors\n",
    "f, axs = plt.subplots(1,1,figsize=(8,8))\n",
    "\n",
    "#create a simple slice showing the gas temperature, with velocity vectors overlaid\n",
    "sph.velocity_image(s.g, vector_color=\"cyan\", qty=\"temp\",width=10,cmap=\"YlOrRd\",\n",
    "                   denoise=True,approximate_fast=False, show_cbar = False)\n",
    "\n",
    "#plt.savefig(\"vectors.pdf\")"
   ]
  },
  {
   "cell_type": "code",
   "execution_count": null,
   "metadata": {
    "collapsed": false
   },
   "outputs": [],
   "source": [
    "r_in = 4.0*orbElems[0,a]\n",
    "r_out = 20.0*orbElems[0,a]\n",
    "bins = 50\n",
    "r, rBinEdges = binaryUtils.calcDiskRadialBins(s,r_in,r_out,bins)\n",
    "\n",
    "print rBinEdges\n",
    "\n",
    "for i in range(0,len(rBinEdges)-1):\n",
    "        if average: #Average over all gas particles in subsection\n",
    "            rMask = np.logical_and(isaac.strip_units(s.gas['rxy']) > rBinEdges[i], isaac.strip_units(s.gas['rxy']) < rBinEdges[i+1])\n",
    "            N = len(s.gas[rMask])\n",
    "            print N"
   ]
  },
  {
   "cell_type": "code",
   "execution_count": null,
   "metadata": {
    "collapsed": true
   },
   "outputs": [],
   "source": []
  }
 ],
 "metadata": {
  "kernelspec": {
   "display_name": "Python 2",
   "language": "python",
   "name": "python2"
  },
  "language_info": {
   "codemirror_mode": {
    "name": "ipython",
    "version": 2
   },
   "file_extension": ".py",
   "mimetype": "text/x-python",
   "name": "python",
   "nbconvert_exporter": "python",
   "pygments_lexer": "ipython2",
   "version": "2.7.10"
  }
 },
 "nbformat": 4,
 "nbformat_minor": 0
}
