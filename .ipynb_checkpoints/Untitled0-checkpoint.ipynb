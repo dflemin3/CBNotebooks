{
 "metadata": {
  "name": "",
  "signature": "sha256:6cb5ec6669de79a79219d23acde66dae2c01dfd64ff4579d42ebd5b9396a29a2"
 },
 "nbformat": 3,
 "nbformat_minor": 0,
 "worksheets": []
}