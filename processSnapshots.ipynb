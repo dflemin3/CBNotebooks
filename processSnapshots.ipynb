{
 "cells": [
  {
   "cell_type": "markdown",
   "metadata": {
    "collapsed": false
   },
   "source": [
    "David Fleming 2015\n",
    "\n",
    "University of Washington\n",
    "\n",
    "# Snapshot Analysis Pipeline\n",
    "\n",
    "This script searches for and reads in all snapshots in the CWD, analyzes them, and stores/processes arrays of quantities on interest."
   ]
  },
  {
   "cell_type": "code",
   "execution_count": 1,
   "metadata": {
    "collapsed": false
   },
   "outputs": [],
   "source": [
    "#Imports\n",
    "%matplotlib inline\n",
    "\n",
    "#Imports\n",
    "import pynbody\n",
    "SimArray = pynbody.array.SimArray\n",
    "from matplotlib.pylab import *\n",
    "import matplotlib.pylab as plt\n",
    "import pynbody.plot.sph as sph\n",
    "import numpy as np\n",
    "from scipy import interpolate\n",
    "import matplotlib.lines as mlines\n",
    "import matplotlib.colors\n",
    "from matplotlib.pyplot import figure, show, rc\n",
    "\n",
    "import os\n",
    "import diskpy\n",
    "from diskpy.ICgen import *\n",
    "\n",
    "#Typical plot parameters that make for pretty plots\n",
    "plt.rcParams['figure.figsize'] = (10,6)\n",
    "from astroML.plotting import setup_text_plots\n",
    "setup_text_plots(fontsize=20, usetex=True)\n",
    "\n",
    "rc('font', **{'family': 'serif', 'serif': ['Computer Modern']})\n",
    "mpl.rcParams['font.size'] = 20.0"
   ]
  },
  {
   "cell_type": "markdown",
   "metadata": {},
   "source": [
    "# Setup\n",
    "User must provide to the variable \"cwd\" the full directory name of the dir where the data is.  Then, set the flags to get the analysis you want."
   ]
  },
  {
   "cell_type": "code",
   "execution_count": 2,
   "metadata": {
    "collapsed": false
   },
   "outputs": [],
   "source": [
    "#Tell code where data is\n",
    "cwd = '/astro/users/dflemin3/Desktop/sims/k38HighEccLong'\n",
    "os.chdir(cwd)"
   ]
  },
  {
   "cell_type": "code",
   "execution_count": 3,
   "metadata": {
    "collapsed": false
   },
   "outputs": [],
   "source": [
    "#Flags to control output.  Can be passed as command line arguments if I make this a script in the future\n",
    "massFlag = True\n",
    "torqueFlag = True\n",
    "resFlag = True\n",
    "comFlag = True"
   ]
  },
  {
   "cell_type": "code",
   "execution_count": 4,
   "metadata": {
    "collapsed": false
   },
   "outputs": [],
   "source": [
    "#Initialize variables to be determined later\n",
    "steps = 0\n",
    "nSteps = 0\n",
    "dDelta = 0\n",
    "m_disk = 0"
   ]
  },
  {
   "cell_type": "markdown",
   "metadata": {},
   "source": [
    "# Read in .param file.\n",
    "Read in .param file in the directory if it exists.  Then initialize the relevant data structures."
   ]
  },
  {
   "cell_type": "code",
   "execution_count": 5,
   "metadata": {
    "collapsed": false
   },
   "outputs": [],
   "source": [
    "#Read in .param file and extract info I need\n",
    "\n",
    "#Find param file if it exists\n",
    "for file in os.listdir(cwd):\n",
    "    if file.endswith(\".param\"):\n",
    "        filename = file\n",
    "        break\n",
    "    else:\n",
    "        filename = \"Invalid\"\n",
    "        \n",
    "#No file name so give warning before program dies\n",
    "if filename == \"Invalid\":\n",
    "    print \"No .param file found!\"\n",
    "\n",
    "else:\n",
    "    with open(filename) as f:\n",
    "        lines = f.readlines()\n",
    "\n",
    "    #Iterate over lines in param file, look for ones of interest\n",
    "    #All lines of the form: cParamName = value\n",
    "    for line in lines:\n",
    "        line = str(line).rstrip('\\n')\n",
    "\n",
    "        #Look for file name\n",
    "        if \"achOutName\" in line:\n",
    "            name = line.split()[-1]\n",
    "\n",
    "        #Look for iOutInterval\n",
    "        if \"iOutInterval\" in line:\n",
    "            steps = int(line.split()[-1])\n",
    "    \n",
    "        #Look for number of steps\n",
    "        if \"nSteps\" in line:\n",
    "            nSteps = int(line.split()[-1])\n",
    "\n",
    "        #Look for dDelta\n",
    "        if \"dDelta\" in line:\n",
    "            dDelta = float(line.split()[-1])"
   ]
  },
  {
   "cell_type": "code",
   "execution_count": null,
   "metadata": {
    "collapsed": false
   },
   "outputs": [],
   "source": [
    "#Given the variables just read in, compute how many output files I have to read in, then allocate data for the info I want\n",
    "num = nSteps/steps + 1\n",
    "bins = 50\n",
    "\n",
    "#Resonance finding parameters\n",
    "m_min = 1\n",
    "l_min = 1\n",
    "m_max = 3\n",
    "l_max = 3\n",
    "\n",
    "#Now allocate numpy arrays to hold information I care about so I can plot and things\n",
    "\n",
    "#Allocate space for orbital elements\n",
    "\n",
    "orbElems = np.zeros((num,6))\n",
    "diskOrbElems = np.zeros((num,6,bins))\n",
    "#Int flags to select orbital elements\n",
    "[e,a,inc,loan,w,nu] = [0,1,2,3,4,5]\n",
    "\n",
    "#Other variables of interest\n",
    "circFreq = np.zeros(num)\n",
    "comBinary = np.zeros((num,3))\n",
    "comVelBinary = np.zeros((num,3))\n",
    "comVelDisk = np.zeros((num,3))\n",
    "diskAverage = np.zeros((num,6))\n",
    "diskE = np.zeros(num)\n",
    "diskL = np.zeros(num)\n",
    "comCut = np.zeros((num,3))\n",
    "mass = np.zeros((num,2))\n",
    "mass_enclosed = np.zeros(num)\n",
    "netTorque = np.zeros((num,3))\n",
    "tau = np.zeros((num,bins,3)) #snapshot, radius, 3 components of torque/mass\n",
    "dedt = np.zeros((num,bins))\n",
    "ILR = np.zeros((m_max,l_max))\n",
    "OLR = np.zeros((m_max,l_max))\n",
    "CRR = np.zeros((l_max))\n",
    "omega_d = np.zeros((num,bins))\n",
    "kappa = np.zeros((num,bins))\n",
    "r = np.zeros((num,bins))\n",
    "time = np.linspace(0,dDelta/(2.0*np.pi)*nSteps,num)"
   ]
  },
  {
   "cell_type": "markdown",
   "metadata": {},
   "source": [
    "# Read snapshots\n",
    "Reads in all tipsy snapshots and from the data calculates the parameters of interest for later analysis."
   ]
  },
  {
   "cell_type": "code",
   "execution_count": null,
   "metadata": {
    "collapsed": false,
    "scrolled": true
   },
   "outputs": [
    {
     "name": "stderr",
     "output_type": "stream",
     "text": [
      "/astro/users/dflemin3/.local/lib/python2.7/site-packages/diskpy/diskpy/ICgen/AddBinary.py:511: RuntimeWarning: invalid value encountered in divide\n",
      "  Omega = SimArray(np.arccos(dotProduct(i, n) / magN),'1')\n",
      "/astro/users/dflemin3/.local/lib/python2.7/site-packages/diskpy/diskpy/ICgen/AddBinary.py:653: RuntimeWarning: invalid value encountered in divide\n",
      "  arg = dotProduct(n, e) / (magN * magE)\n",
      "/astro/apps6/anaconda2.0/lib/python2.7/site-packages/scipy/optimize/minpack.py:236: RuntimeWarning: The iteration is not making good progress, as measured by the \n",
      "  improvement from the last ten iterations.\n",
      "  warnings.warn(msg, RuntimeWarning)\n"
     ]
    }
   ],
   "source": [
    "#%%capture\n",
    "#Read in files, if I can't open a file, tell user why/which one\n",
    "#Use capture to suppress stderr output\n",
    "#First, check to see if I have an archive file for this data set.\n",
    "#Look in the directory where data is!\n",
    "#Assume if one exists, they all do\n",
    "\n",
    "if filename != \"Invalid\":\n",
    "    archiveName = name + \"_archive.npz\"\n",
    "else:\n",
    "    archiveName = \"k38_archive.npz\" #Default\n",
    "    \n",
    "if (not os.path.exists(archiveName)):\n",
    "    #No archive file in directory, so load data from snaps\n",
    "    #Read in initial conditions of the form name.std\n",
    "    \n",
    "    print \"Loading snapshots, storing in {0} archive.\".format(name)\n",
    "    \n",
    "    try:\n",
    "        snap = name + \".std\"\n",
    "        s = pynbody.load(snap)\n",
    "        \n",
    "        #Subtract off center of mass\n",
    "        tmpDiskCom = binaryUtils.computeCOM(s.stars,s.gas,starFlag=True,gasFlag=True)\n",
    "        s['pos'] -= tmpDiskCom\n",
    "    except RuntimeError:\n",
    "        print \"No initial conditions found!  Was looking for {0}\".format(snap)\n",
    "    else:\n",
    "        #Get binary stellar parameters\n",
    "        x1 = s.stars[0]['pos']\n",
    "        x2 = s.stars[1]['pos']\n",
    "        v1 = s.stars[0]['vel']\n",
    "        v2 = s.stars[1]['vel']\n",
    "        m1 = s.stars[0]['mass']\n",
    "        m2 = s.stars[1]['mass']\n",
    "        mass[0,:] = [m1,m2]\n",
    "\n",
    "        #Calculate disk mass\n",
    "        m_disk = np.sum(s.gas['mass'])\n",
    "\n",
    "        #Orbital Elements Calculations\n",
    "        orbElems[0,:] = AddBinary.calcOrbitalElements(x1, x2, v1, v2, m1, m2)\n",
    "        circFreq[0] = AddBinary.calcCircularFrequency(x1,x2,v1,v2,m1,m2)\n",
    "        \n",
    "        #Compute inner, outer radii and radius+bins for future torque/mass calculations\n",
    "        r_in = 1.5*orbElems[0,a]\n",
    "        res_r_in = 2.0*orbElems[0,a]\n",
    "        r_EOLR = 2.08*orbElems[0,a] #Location of 3:1 EOLR\n",
    "        cut = 3.0 #au cutoff as per Tom's suggestion\n",
    "        edge = 10.0 #au, disk shouldn't exist beyond here\n",
    "        r_out = cut\n",
    "        res_r_out = 10.0*orbElems[0,a]\n",
    "        \n",
    "        #Compute disk radial bins to use throughout computation\n",
    "        r[0,:], rBinEdges = binaryUtils.calcDiskRadialBins(s,r_in,r_out,bins)\n",
    "        r[:,:] = r[0,:]\n",
    "        \n",
    "        #Compute resonances\n",
    "        OLR, ILR, CRR = binaryUtils.calc_LB_resonance(s,m_min=m_min,m_max=m_max,l_min=l_min,l_max=l_max)\n",
    "        \n",
    "        #Compute disk quantities\n",
    "        diskOrbElems[0,:,:] = binaryUtils.orbElemsVsRadius(s,rBinEdges,average=True)\n",
    "        diskAverage[0,:] = binaryUtils.diskAverage(s,r_out=cut,bins=bins)\n",
    "        mass_enclosed[0] = np.sum(s.gas['mass'][s.gas['rxy'] < r_EOLR])\n",
    "        \n",
    "        #Center of Mass calculations\n",
    "        comBinary[0] = AddBinary.calcCOM(m1,m2,x1,x2)\n",
    "        comCut[0] = binaryUtils.computeCOM(s.stars,s.gas,cutoff=cut,starFlag=False,gasFlag=True)\n",
    "        comVelBinary[0] = binaryUtils.computeVelocityCOM(s,cutoff=cut,starFlag=True,gasFlag=False)\n",
    "        comVelDisk[0] = binaryUtils.computeVelocityCOM(s,cutoff=cut,starFlag=False,gasFlag=True)\n",
    "        \n",
    "        #Disk energy, angular momentum calculations\n",
    "        x1_gas = s.gas['pos']\n",
    "        x_zero = pynbody.array.SimArray(np.zeros((len(x1_gas),3)),'au')\n",
    "        v1_gas = s.gas['vel']\n",
    "        v_zero = pynbody.array.SimArray(np.zeros((len(x1_gas),3)),'km s**-1')\n",
    "        gas_m = s.gas['mass'].in_units('g')\n",
    "        cm = SimArray(tmpDiskCom,'au')\n",
    "\n",
    "        #Compute semimajor axis, longitude of perihelion (relative to that of bin) for ALL gas particles\n",
    "        gas_a = AddBinary.calcSemi(x1_gas,cm,v1_gas,v_zero,m1,m2)\n",
    "        gas_e = AddBinary.calcEcc(x1_gas,cm,v1_gas,v_zero,m1,m2)\n",
    "        diskE[0] = np.sum(AddBinary.compute_E(gas_a, m1+m2, gas_m)) #a, m1, m2\n",
    "        diskL[0] = np.sum(AddBinary.compute_L(gas_a, gas_e, m1+m2, gas_m)) #a, e, m1 ,m2\n",
    "        \n",
    "        #Torque calculations\n",
    "        if torqueFlag:\n",
    "            netTorque[0,:] = binaryUtils.calcNetTorque(s.stars,s.gas)\n",
    "\n",
    "        #Resonance calculations\n",
    "        if resFlag:\n",
    "            tau[0,:,:] = binaryUtils.torqueVsRadius(s,rBinEdges) #Torque per radial bin\n",
    "            dedt[0,:] = binaryUtils.calcDeDt(s.stars,tau[0,:,:]) #Send in all the torque\n",
    "\n",
    "    #end reading in ICs\n",
    "\n",
    "    #Start counting other snapshots    \n",
    "    i = 1\n",
    "\n",
    "    while i < num:\n",
    "        t = str(i*steps)\n",
    "        pad = t.rjust(6, '0')\n",
    "        snap = name + \".\" + pad\n",
    "        try:\n",
    "            s = pynbody.load(snap)\n",
    "            \n",
    "            #Subtract off center of mass\n",
    "            tmpDiskCom = binaryUtils.computeCOM(s.stars,s.gas,starFlag=True,gasFlag=True)\n",
    "            s['pos'] -= tmpDiskCom\n",
    "        except RuntimeError:\n",
    "            print \"No file found!  Was looking for {0}\".format(snap)\n",
    "            break\n",
    "        else:\n",
    "            #Get binary stellar parameters\n",
    "            x1 = s.stars[0]['pos']\n",
    "            x2 = s.stars[1]['pos']\n",
    "            v1 = s.stars[0]['vel']\n",
    "            v2 = s.stars[1]['vel']\n",
    "            m1 = s.stars[0]['mass']\n",
    "            m2 = s.stars[1]['mass']\n",
    "            mass[i,:] = [m1,m2]\n",
    "\n",
    "            #Orbital Element Calculations\n",
    "            orbElems[i,:] = AddBinary.calcOrbitalElements(x1, x2, v1, v2, m1, m2)\n",
    "            circFreq[i] = AddBinary.calcCircularFrequency(x1,x2,v1,v2,m1,m2)\n",
    "            \n",
    "            #Center of Mass calculations\n",
    "            comBinary[i] = AddBinary.calcCOM(m1,m2,x1,x2)\n",
    "            comCut[i] = binaryUtils.computeCOM(s.stars,s.gas,cutoff=cut,starFlag=False,gasFlag=True)\n",
    "            comVelBinary[i] = binaryUtils.computeVelocityCOM(s,cutoff=cut,starFlag=True,gasFlag=False)\n",
    "            comVelDisk[i] = binaryUtils.computeVelocityCOM(s,cutoff=cut,starFlag=False,gasFlag=True)\n",
    "            \n",
    "            #Disk energy, angular momentum calculations\n",
    "            x1_gas = s.gas['pos']\n",
    "            x_zero = pynbody.array.SimArray(np.zeros((len(x1_gas),3)),'au')\n",
    "            v1_gas = s.gas['vel']\n",
    "            v_zero = pynbody.array.SimArray(np.zeros((len(x1_gas),3)),'km s**-1')\n",
    "            gas_m = s.gas['mass'].in_units('g')\n",
    "            cm = SimArray(tmpDiskCom,'au')\n",
    "\n",
    "            #Compute semimajor axis, longitude of perihelion (relative to that of bin) for ALL gas particles\n",
    "            gas_a = AddBinary.calcSemi(x1_gas,cm,v1_gas,v_zero,m1,m2)\n",
    "            gas_e = AddBinary.calcEcc(x1_gas,cm,v1_gas,v_zero,m1,m2)\n",
    "            diskE[i] = np.sum(AddBinary.compute_E(gas_a, m1+m2, gas_m)) #a, m1, m2\n",
    "            diskL[i] = np.sum(AddBinary.compute_L(gas_a, gas_e, m1+m2, gas_m)) #a, e, m1 ,m2\n",
    "            \n",
    "            #r[i,:], rBinEdges = binaryUtils.calcDiskRadialBins(s,r_in,r_out,bins)\n",
    "            diskOrbElems[i,:,:] = binaryUtils.orbElemsVsRadius(s,rBinEdges,average=True)\n",
    "            diskAverage[i,:] = binaryUtils.diskAverage(s,r_out=cut,bins=bins)\n",
    "            mass_enclosed[i] = np.sum(s.gas['mass'][s.gas['rxy'] < r_EOLR])\n",
    "            \n",
    "            #Torque calculations\n",
    "            if torqueFlag:\n",
    "                netTorque[i,:] = binaryUtils.calcNetTorque(s.stars,s.gas)\n",
    "\n",
    "            #Resonance calculations\n",
    "            if resFlag:\n",
    "                tau[i,:,:] = binaryUtils.torqueVsRadius(s,rBinEdges)\n",
    "                dedt[i,:] = binaryUtils.calcDeDt(s.stars,tau[i,:,:]) #send in all the torque\n",
    "            \n",
    "            i += 1\n",
    "\n",
    "    #end loop, save data in respective archives\n",
    "    np.savez(archiveName,orbElems=orbElems,mass=mass,time=time,\n",
    "             tau=tau,dedt=dedt,ILR=ILR,OLR=OLR,CRR=CRR,circFreq=circFreq,\n",
    "             r=r,diskOrbElems=diskOrbElems,netTorque=netTorque,\n",
    "            comBinary=comBinary,comCut=comCut,diskAverage=diskAverage,\n",
    "            comVelBinary=comVelBinary,comVelDisk=comVelDisk,mass_enclosed=mass_enclosed,\n",
    "            diskE=diskE,diskL=diskL)\n",
    "    \n",
    "#If there is an archive, load data from past archive\n",
    "else:\n",
    "    print \"Loading from {0} archive.\".format(name)\n",
    "    \n",
    "    archiveName = name + '_archive.npz'\n",
    "\n",
    "    #Load from archive\n",
    "    archive = np.load(archiveName)\n",
    "    orbElems = archive['orbElems']\n",
    "    circFreq = archive['circFreq']\n",
    "    diskOrbElems = archive['diskOrbElems']\n",
    "    netTorque = archive['netTorque']\n",
    "    time = archive['time']\n",
    "    mass = archive['mass']\n",
    "    tau = archive['tau']\n",
    "    dedt = archive['dedt']\n",
    "    ILR = archive['ILR']\n",
    "    OLR = archive['OLR']\n",
    "    CRR = archive['CRR']\n",
    "    r = archive['r']\n",
    "    comBinary = archive['comBinary']\n",
    "    comCut = archive['comCut']\n",
    "    diskAverage = archive['diskAverage']\n",
    "    comVelBinary = archive['comVelBinary']\n",
    "    comVelDisk = archive['comVelDisk']\n",
    "    mass_enclosed = archive['mass_enclosed']\n",
    "    diskE = archive['diskE']\n",
    "    diskL = archive['diskL']"
   ]
  },
  {
   "cell_type": "markdown",
   "metadata": {},
   "source": [
    "# Eccentricity Analysis"
   ]
  },
  {
   "cell_type": "code",
   "execution_count": null,
   "metadata": {
    "collapsed": false
   },
   "outputs": [],
   "source": [
    "#Produce plot of e vs time\n",
    "plt.plot(time,orbElems[:,e],label=\"Simulation\")\n",
    "plt.ylabel(\"Eccentricity\")\n",
    "plt.xlabel(\"Time [yr]\")\n",
    "plt.title(\"Eccentricity vs. Time\",y=1.04)\n",
    "\n",
    "#print repr(time)\n",
    "#print repr(orbElems[:239,e])\n",
    "#plt.savefig(\"10.27.2015_binEVsTime_e_0.05_520yr.pdf\")"
   ]
  },
  {
   "cell_type": "markdown",
   "metadata": {},
   "source": [
    "# Semimajor Axis Analysis"
   ]
  },
  {
   "cell_type": "code",
   "execution_count": null,
   "metadata": {
    "collapsed": false
   },
   "outputs": [],
   "source": [
    "#Produce plot of a vs time\n",
    "plt.plot(time,orbElems[:,a])\n",
    "plt.ylabel(\"Semimajor Axis [AU]\")\n",
    "plt.xlabel(\"Time [yr]\")\n",
    "plt.title(\"Semimajor Axis vs. Time\",y=1.06)\n",
    "\n",
    "#print repr(orbElems[:239,a])"
   ]
  },
  {
   "cell_type": "markdown",
   "metadata": {},
   "source": [
    "# Center of Mass\n",
    "Plot the center of mass location for the binary system and the entire system (binary + system) in order to track how it changes over time.  Ideally, the CoM would remain at the origin (0,0,0) but in practice this doesn't happen.  The below plots help gauge the deviation."
   ]
  },
  {
   "cell_type": "code",
   "execution_count": null,
   "metadata": {
    "collapsed": false
   },
   "outputs": [],
   "source": [
    "cArr = np.sqrt(AddBinary.dotProduct(comVelDisk,comVelDisk))\n",
    "cArr = time\n",
    "scat = plt.scatter(comCut[:,0],comCut[:,1],c=cArr,edgecolor='None')\n",
    "cbar = plt.colorbar(scat)\n",
    "cbar.set_label(\"Time [yr]\", labelpad=30, rotation=270)\n",
    "\n",
    "plt.xlabel(r\"x com [AU]\")\n",
    "plt.ylabel(r\"y com [AU]\")\n",
    "plt.title(\"Disk Com Orbit for r $<$ {0} AU\".format(2.0))\n",
    "#plt.savefig(\"lateLowEccDiskComOrbit.pdf\",bbox_inches='tight')"
   ]
  },
  {
   "cell_type": "code",
   "execution_count": null,
   "metadata": {
    "collapsed": false
   },
   "outputs": [],
   "source": [
    "cArr = np.sqrt(AddBinary.dotProduct(comVelBinary,comVelBinary))\n",
    "cArr = time\n",
    "scat = plt.scatter(comBinary[:,0],comBinary[:,1],c=cArr,edgecolor='None')\n",
    "plt.xlim(comBinary[:,0].min(),comBinary[:,0].max())\n",
    "plt.ylim(comBinary[:,1].min(),comBinary[:,1].max())\n",
    "cbar = plt.colorbar(scat)\n",
    "#plt.xlim(xArr.min(),xArr.max())\n",
    "#plt.ylim(yArr.min(),yArr.max())\n",
    "plt.xlabel(r\"x com [AU]\")\n",
    "plt.ylabel(r\"y com [AU]\")\n",
    "cbar.set_label(\"Time [yr]\", labelpad=30, rotation=270)\n",
    "plt.title(\"Binary Com Orbit\")\n",
    "#plt.savefig(\"lateLowEccBinComOrbit.pdf\",bbox_inches='tight')"
   ]
  },
  {
   "cell_type": "code",
   "execution_count": null,
   "metadata": {
    "collapsed": false
   },
   "outputs": [],
   "source": [
    "if comFlag:\n",
    "    plt.plot(time,comVelBinary[:,0],color='blue',label='Scaled Binary vcom')\n",
    "    plt.plot(time,comVelDisk[:,0],color='red',label='Disk vcom')\n",
    "    plt.xlabel(\"Time [yr]\")\n",
    "    plt.ylabel(\"Center of Mass Vx [km/s]\")\n",
    "    plt.legend(loc = \"lower right\")  \n",
    "        \n",
    "else:\n",
    "    print \"Skipping center of mass plots.\"\n",
    "    print"
   ]
  },
  {
   "cell_type": "markdown",
   "metadata": {},
   "source": [
    "# Accretion\n",
    "Plot the change in stellar mass vs. time and estimate the mean accretion rate $\\dot{M}$ in $M_{\\odot}/yr$.  For disks with surface densities that go as $r^{-1/2}$, you expect something in around $10^{-8}$ to $10^{-7}$."
   ]
  },
  {
   "cell_type": "code",
   "execution_count": null,
   "metadata": {
    "collapsed": false
   },
   "outputs": [],
   "source": [
    "if massFlag:\n",
    "    #Create figure, make it look nice\n",
    "    fig = plt.figure()\n",
    "    fig.subplots_adjust(left=0, right=1,\n",
    "                        bottom=0.0, top=1.0,\n",
    "                        hspace=0.0, wspace=0.4)\n",
    "\n",
    "    #Primary\n",
    "    ax1 = fig.add_subplot(1, 2, 1)\n",
    "    ax1.plot(time,mass[:,0]/mass[0,0],'o',color='blue',label=\"Primary\")\n",
    "    ax1.set_ylabel(r\"$M/M_0$\")\n",
    "    ax1.set_xlabel(\"Time [yr]\")\n",
    "    ax1.set_title(\"Primary Normalized Mass vs. Time\",y=1.06)\n",
    "\n",
    "    #Secondary\n",
    "    ax2 = fig.add_subplot(1,2,2)\n",
    "    ax2.plot(time,mass[:,1]/mass[0,1],'o',color='red',label=\"Secondary\")\n",
    "    ax2.set_ylabel(r\"$M/M_0$\")\n",
    "    ax2.set_xlabel(\"Time [yr]\")\n",
    "    ax2.set_title(\"Secondary Normalized Mass vs. Time\",y=1.06)\n",
    "\n",
    "    plt.show()\n",
    "    \n",
    "    #Now calculate mean accretion rate\n",
    "    deltaM = (mass[-1,0] - mass[0,0]) + (mass[-1,1] - mass[0,1])\n",
    "    mDot = deltaM/(time[-1])\n",
    "    print \"Mean accretion rate =\",mDot, \"solar masses per year.\"\n",
    "    \n",
    "else:\n",
    "    print \"Skipping Mass plots.\"\n",
    "    print"
   ]
  },
  {
   "cell_type": "markdown",
   "metadata": {},
   "source": [
    "#Torque as a function of radius\n",
    "Plot the torque per unit mass on binary system due to the CB disk as a function of disk radius.  \n",
    "\n",
    "First compute the next force on each star due to every single gas particle in the given radial bin.  For torque, $\\tau = \\vec{r} \\times \\vec{F}$, take the moment arm to be the distance from the center of mass of the entire system to the given star.  The force vector points from the given star to the collection of gas particles considered. I'll normalize the torque on each star by that star's mass.  Sum up the torque on each star to get the result.\n",
    "\n",
    "Procedure:\n",
    ">Calculate the time-averaged net torque on the binary due to the disk at a given radius.  For time-average, simply take mean of torque/mass vs. radius calculations at each radius over range of snapshots.  Note: Must ensure that snapshots are a few binary orbits apart for this to make sense.  The main effects are expected to happen at the apastron when the interaction is strongest due to those parts of the disk rotating more slowly than the binary itself (Artymowics+1991).\n",
    "\n",
    "Vectors:\n",
    ">$\\vec{r}$ points from the center of mass to the star while the force is due to the gas particles pulling on the star.  Reminder: the radius points from the axis of rotation (center of mass in this case) to the rotating object.  Also, $\\vec{F}$ points from the star to the gas.\n",
    "\n",
    "What I expect:\n",
    ">I expect to see a negative net torque.  Since the system rotates CCW, a torque < 0 would imply angular momentum is leaving the system and eccentricity increases corresponding to what is observed."
   ]
  },
  {
   "cell_type": "code",
   "execution_count": null,
   "metadata": {
    "collapsed": false
   },
   "outputs": [],
   "source": [
    "#Plot 3 components of normalize torque for ith snapshot\n",
    "if torqueFlag:\n",
    "    \n",
    "    norm = 1#np.max(tau)\n",
    "    plt.plot(r[0]/orbElems[0,a],np.sum(tau[:,:,0],axis=0)/norm,label=\"X Component\")\n",
    "    plt.plot(r[0]/orbElems[0,a],np.sum(tau[:,:,1],axis=0)/norm,label=\"Y Component\")\n",
    "    plt.plot(r[0]/orbElems[0,a],np.sum(tau[:,:,2],axis=0)/norm,label=\"Z Component\")\n",
    "\n",
    "    \n",
    "    #Make plot look nice\n",
    "    plt.title(\"Torque vs. Radius\",y=1.06)\n",
    "    plt.xlabel(\"r/$a_{binary}$\")\n",
    "    plt.xlim(1,5)\n",
    "    plt.ylabel(\"Torque\")\n",
    "    plt.legend(bbox_to_anchor=(1.05, 1), loc=2, borderaxespad=0.)\n",
    "    \n",
    "else:\n",
    "    print \"Skipping torque calculations.\""
   ]
  },
  {
   "cell_type": "markdown",
   "metadata": {},
   "source": [
    "# Torque Notes:\n",
    "\n",
    "The z component of the torque dominates as expected for a thin, (initially) axisymmetric disk.  The z component torques on the binary causing the system's eccentricity to slowly increase over time.  Since torques can't occur for a perfectly axisymmetric system, some sort of resonance must be at work.  Given the predictions of Artymowicz+1991, we'd expect the Outer Lindblad Resonances (OLR) to provide most of the torque."
   ]
  },
  {
   "cell_type": "markdown",
   "metadata": {},
   "source": [
    "#Resonance Calculations\n",
    "\n",
    "Plot the change in eccentricity over time (de/dt) vs. the disk orbital frequency $\\Omega_{disk}$ to see at which location in the disk the majority of the torque comes from.  From these locations, we can see if they correspond to a resonance as theoretically expected.\n",
    "\n",
    "Theory:\n",
    "\n",
    "First, we must compute de/dt as a function of radius.  To do this, I took the time derivative of the equation for the eccentricity of a binary system\n",
    ">$de/dt = d/dt\\left( \\sqrt{1 + \\frac{2 \\epsilon h^2}{\\mu^2}} \\right) =  \\left( 1 + \\frac{2 \\epsilon h^2}{\\mu^2} \\right)^{-1/2} \\left( \\frac{2 \\epsilon h}{\\mu^2} \\right) dh/dt $ \n",
    "    \n",
    "where dh/dt is the torque per unit mass at a given disk radius, $\\mu = G(m_1+m_2)$  and the specific energy $\\epsilon$ is assumed roughly constant since the semimajor axis of the orbit does not change much.  Note, only the z component of dh/dt is used since as shown in the plot above, it dominates.\n",
    "\n",
    "\n",
    "In order to calculate the location of the resonances in the circumbinary disk, the following formulas are used:\n",
    ">Lindblad Resonance: $m(\\Omega_{disk} - \\Omega_{binary}) = \\pm l \\kappa$\n",
    "\n",
    "for integer m, l.  $\\Omega_{disk}$ is the angular frequency of a annulus of gas in the disk, $\\Omega_{binary}$ is the mean angular frequency of the binary system and defines the angular pattern speed of the binary potential that perturbs the disk.  $\\kappa$ is the radial epicycle frequency of the same annulus of gas considered earlier.\n",
    "\n",
    ">Corotation Resonance: $\\Omega_{disk} = \\Omega_{binary}/l$\n",
    "\n",
    "for integer l.\n",
    "\n",
    "Procedure:\n",
    ">After calculating de/dt, I can plot this as a function of disk radius to see which locations in the disk cause the most torque on the binary.  Next given the resonance formulas, I compute the theoretical locations of the resonances for each snapshot and return the $\\Omega$ in the disk where they exist.  I can then plot these against the de/dt curves to verify that de/dt is in fact due to resonances and to see which resonances contribute most strongly.\n",
    "\n",
    "What I expect:\n",
    ">In accordance with Artymowics+1991, I expect to see the Outer Lindblad Resonances (OLR) contribute to de/dt and dominate over the Inner (OLR) and Corotation (CRR).  Also since the inner disk is truncated via gap formation and has much less mass then the middle portions of the disk (i.e. where the power law component begins), I expect higher order l modes of the (m,l) OLR to contribute strongly."
   ]
  },
  {
   "cell_type": "markdown",
   "metadata": {},
   "source": [
    "Notes:\n",
    "\n",
    "ILRs don't really contribute at all to any de/dt.  CRRs also seem to not do much except sometimes they do contribute to -dt/dt, but not on the same order of magnitude as OLRs contribute to +de/dt."
   ]
  },
  {
   "cell_type": "code",
   "execution_count": null,
   "metadata": {
    "collapsed": false
   },
   "outputs": [],
   "source": [
    "#Plot\n",
    "if resFlag:\n",
    "    \n",
    "    norm = 1.0#np.max(dedt)\n",
    "\n",
    "    #Plot de/dt with arbitrary normalization\n",
    "    plt.plot(r[0]/orbElems[0,a],np.sum(dedt,axis=0)/norm,'-o',linewidth=3)\n",
    "    plt.xlabel(r\"$r / a_{bin}$\")\n",
    "    plt.ylabel(r\"Net $de/dt$\")\n",
    "    plt.title(r\"Net $de/dt$ vs. $r$\",y=1.1)\n",
    "\n",
    "    #Plot y = 0 for reference\n",
    "    plt.axhline(y=0, xmin=-1,xmax=4.1,linewidth=1,color='red',linestyle='-')\n",
    "    #plt.axvline(x=2.08,ymin=-1,ymax=1,linewidth=1,color='green',linestyle='-',label=\"3:1 OLR\")\n",
    "    \n",
    "    #Plot LRs\n",
    "    for m in range(0,m_max):\n",
    "        for l in range(0,l_max):\n",
    "            val = OLR[m,l]\n",
    "            plt.axvline(x=val/orbElems[0,a],ymin=-1,ymax=1,linewidth=2,color='black',linestyle='--',zorder=20)\n",
    "            if val/orbElems[0,a] > 2:\n",
    "                text(val/orbElems[0,a], .22*np.fabs(np.sum(dedt)).max(),\"(%s,%s)\" % (m+1,l+1), ha='center', va='center')\n",
    "            \n",
    "            val = ILR[m,l]\n",
    "            plt.axvline(x=val/orbElems[0,a],ymin=-1,ymax=1,linewidth=2,color='cyan',linestyle='--')\n",
    "\n",
    "    for l in range(0,l_max):\n",
    "        val = CRR[l]\n",
    "        plt.axvline(x=val/orbElems[0,a],ymin=-1,ymax=1,linewidth=1,color='orange',linestyle='--')\n",
    "        \n",
    "        \n",
    "    #Style plot\n",
    "    plt.xlim(0.5,4)\n",
    "    outer = mlines.Line2D([], [], color='black', marker='|',markersize=15, label='OLR')\n",
    "    inner = mlines.Line2D([], [], color='cyan', marker='|',markersize=15, label='ILR')\n",
    "    crr = mlines.Line2D([], [], color='orange', marker='|',markersize=15, label='CR')\n",
    "\n",
    "    \n",
    "    plt.legend(handles=[inner,outer,crr],bbox_to_anchor=(1.05, 1), loc=2, borderaxespad=0.)    \n",
    "    #plt.savefig(\"10.25.2015.dedtVsR_e_0.1032BigGap.pdf\",bbox_inches='tight')\n",
    "    \n",
    "else:\n",
    "    print \"Skipping resonances calculation.\""
   ]
  },
  {
   "cell_type": "markdown",
   "metadata": {},
   "source": [
    "# Plotting Function\n",
    "Define plotting function to plot LRs given snapshot number, dedt array, $\\Omega_{disk}$ array, and $\\kappa$ array.\n",
    "\n",
    "TODO: Alter so it can accept/plot/discriminate between OLR,ILR,CRR or any combination"
   ]
  },
  {
   "cell_type": "raw",
   "metadata": {
    "collapsed": false
   },
   "source": [
    "def plotLR(snap,ob,resArr,OLR,m,l):\n",
    "    \"\"\"\n",
    "    Given the snapshot number and appropriate data arrays, plot the OLR as a function of binary\n",
    "    disk angular frequency.  Also plot the location in frequency-frequency space where the given\n",
    "    resonance occurs.  \n",
    "    Note: -all angular frequencies MUST be in the same units for this to work.\n",
    "           Should all be precomputed above in 1/day\n",
    "          -All arrays are numpy arrays unless otherwise specified\n",
    "    \n",
    "    Inputs\n",
    "    snap: snapshot num (integer)\n",
    "    ob: angular frequency of binary\n",
    "    dedt: Array of change in e vs time of the shape (number of snaps, radial bins)\n",
    "          Need the entire array for proper normalization\n",
    "    resArr: array of the form (r,omega_disk,kappa_disk,dedt)\n",
    "    OLR: array of outer Lindblad resonances.  Could replace this with ILR if you want.\n",
    "         array of the form (snapshot number, m, l)\n",
    "    m,l: arrays of m, l values to plot.  Don't use too many or the plots become unreadable.\n",
    "    \n",
    "    Outputs\n",
    "    2 plots showing correspondence between LRs.  Note, any plotted value of de/dt isn't really\n",
    "    significant unless it's > ~0.1.\n",
    "    \"\"\"\n",
    "    #Select snapshot\n",
    "    i = snap\n",
    "    omega_d = resArr[i,1]\n",
    "    r = resArr[i,0]\n",
    "    kappa = resArr[i,2]\n",
    "    dedt = resArr[:,3]\n",
    "\n",
    "    #Select resonances\n",
    "    m_min = m.min()\n",
    "    m_max = m.max()\n",
    "    l_min = l.min()\n",
    "    l_max = l.max()\n",
    "\n",
    "    #Estimate location of strongest resonance (e.g. max(de/dt)) as a function of omega_disk\n",
    "    o_max = AddBinary.pToA(2.0*np.pi/omega_d[np.argmax(dedt[i])])\n",
    "    \n",
    "    #Create Figure\n",
    "    plt.rcParams['font.size'] = 15\n",
    "    fig = plt.figure()\n",
    "    \n",
    "    #Left Plot\n",
    "\n",
    "    #Conver radius array to omega and normalize by binary frequency\n",
    "    norm = np.max(dedt)\n",
    "\n",
    "    #Plot de/dt with arbitrary normalization\n",
    "    ax1 = plt.subplot(121)\n",
    "    ax1.plot(AddBinary.pToA(2.0*np.pi/omega_d),dedt[i]/norm)\n",
    "    ax1.set_xlabel(\"$r/a_{bin}$\")\n",
    "    ax1.set_ylabel(r\"Normalized de/dt\")\n",
    "    ax1.set_title(r\"Normalized de/dt vs. r$\",y=1.06)\n",
    "\n",
    "    #Plot y = 0 for reference\n",
    "    ax1.axhline(y=0, xmin=-1,xmax=4.1,linewidth=1,color='red',linestyle='--')\n",
    "\n",
    "    #Overplot location of maximum de/dt to see if it aligns with a resonance\n",
    "    ax1.axvline(x=o_max, ymin=-1,ymax=1,linewidth=1,color='red',linestyle='-')\n",
    "    \n",
    "    #Plot LRs\n",
    "    for m in range(m_min,m_max+1):\n",
    "        for l in range(l_min,l_max+1):\n",
    "            val = OLR[i,m,l]\n",
    "            ax1.axvline(x=AddBinary.pToA(2.0*np.pi/val)/orbElems[0,a],ymin=-1,ymax=1,linewidth=1,color='black',linestyle='--')\n",
    "\n",
    "    #Style plot\n",
    "    #ax1.set_xlim([np.min(omega_d)/ob,np.max(omega_d)/ob+0.02])\n",
    "    outer = mlines.Line2D([], [], color='black', marker='|',markersize=15, label='OLR')\n",
    "    plt.legend(handles=[outer],bbox_to_anchor=(-.15, 1), loc=1, borderaxespad=0.)\n",
    "\n",
    "    #Right Plot\n",
    "    ax2 = plt.subplot(122)\n",
    "\n",
    "    #Plot binary omega reference line\n",
    "    ax2.axhline(y=ob/ob,xmin=-1,xmax=1,linewidth=1,color='black',linestyle='--',label=r\"$\\Omega_{bin}$\")\n",
    "\n",
    "    #Attempt to find resonance\n",
    "    #ax2.axvline(x=0.43,ymin=-1,ymax=1,linewidth=1,color='black',linestyle='-')\n",
    "\n",
    "    #Plot LR curves\n",
    "    for m in range(m_min,m_max+1):\n",
    "        for l in range(l_min,l_max+1):\n",
    "            ax2.plot(AddBinary.pToA(np.pi*2.0/omega_d),AddBinary.pToA(2.0*np.pi/(omega_d+((float(l+1)/(m+1))*kappa)))\n",
    "                     ,label=\"({0},{1})\".format(m+1,l+1))\n",
    "\n",
    "    #Overplot location of maximum de/dt to see if it aligns with a resonance\n",
    "    ax2.axvline(x=o_max, ymin=-1,ymax=1,linewidth=1,color='red',linestyle='-')\n",
    "    \n",
    "    #Style plot\n",
    "    ax2.set_title(\"(m,l) Order OLR for Snapshot {0}\".format(i+1),y=1.06)\n",
    "    #ax2.set_ylim(0,1.3)\n",
    "    #ax2.set_xlim([np.min(omega_d)/ob,np.max(omega_d)/ob])\n",
    "    ax2.set_xlabel(r\"$r/a_{bin}$\")\n",
    "    ax2.set_ylabel(r\"Resonance Crossing\")\n",
    "    leg = plt.legend(bbox_to_anchor=(1.05, 1), loc=2, borderaxespad=0.)\n",
    "\n",
    "    for legobj in leg.legendHandles:\n",
    "        legobj.set_linewidth(2.0)\n",
    "    \n",
    "#end function"
   ]
  },
  {
   "cell_type": "raw",
   "metadata": {
    "collapsed": false,
    "scrolled": true
   },
   "source": [
    "#Try plotting some OLRs\n",
    "m = np.asarray([0,1])\n",
    "l = np.asarray([0,1,2,3,4])\n",
    "\n",
    "plotLR(150,ob,resArr,OLR,m,l)"
   ]
  },
  {
   "cell_type": "markdown",
   "metadata": {},
   "source": [
    "#de/dt vs True Anomaly ($\\nu$).\n",
    "Since $\\nu$ = 0 at the argument of pericenter, would expect the largest torque and hence de/dt to occur at the apocenter, or at $\\nu$ = 180 degrees.  This is because at the apocenter ($\\nu$ = 180 degrees), the disk has the largest moment arm on the binary and hence the largest torque.  Here, I find that the peak lags 180 degrees implying that perhaps the primary causes a wake in the disk that then tugs on the secondary."
   ]
  },
  {
   "cell_type": "code",
   "execution_count": null,
   "metadata": {
    "collapsed": false
   },
   "outputs": [],
   "source": [
    "plt.scatter(orbElems[:,nu],np.sum(dedt,axis=1)/np.sum(np.fabs(dedt)))\n",
    "\n",
    "plt.xlabel(\"True Anomaly [$^{\\circ}$]\")\n",
    "plt.xlim(0,360)\n",
    "#plt.ylim(dedt.min(),dedt.max())\n",
    "plt.ylabel(\"Normalized de/dt\")\n",
    "plt.title(\"Normalized de/dt vs. True Anomaly\",y=1.06)\n",
    "plt.axvline(x=180, ymin=-1, ymax = 1, linewidth=2, color='k') #line at 180 degrees to see if max is there"
   ]
  },
  {
   "cell_type": "markdown",
   "metadata": {},
   "source": [
    "#Orbital Elements Vs. Time\n",
    "Plot the orbital elements (except e,a plotted above) vs time and select Poincare elements to examine the evolution of the binary system."
   ]
  },
  {
   "cell_type": "code",
   "execution_count": null,
   "metadata": {
    "collapsed": false,
    "scrolled": true
   },
   "outputs": [],
   "source": [
    "plt.scatter(time,orbElems[:,nu])\n",
    "\n",
    "plt.xlabel(\"Time [yr]\")\n",
    "plt.ylim(np.min(orbElems[:,nu]),np.max(orbElems[:,nu]))\n",
    "plt.ylabel(\"True Anomaly [$^\\circ$]\")\n",
    "plt.title(\"True Anomaly vs Time\",y=1.06)"
   ]
  },
  {
   "cell_type": "code",
   "execution_count": null,
   "metadata": {
    "collapsed": false
   },
   "outputs": [],
   "source": [
    "plt.scatter(time[0:],orbElems[0:,w])\n",
    "\n",
    "plt.xlabel(\"Time [yr]\")\n",
    "plt.ylim(np.min(orbElems[0:,w]-5),np.max(orbElems[0:,w])+5)\n",
    "plt.ylabel(r\"$\\omega$ [$^\\circ$]\")\n",
    "plt.title(\"Argument of Periapsis vs Time\",y=1.06)"
   ]
  },
  {
   "cell_type": "code",
   "execution_count": null,
   "metadata": {
    "collapsed": false
   },
   "outputs": [],
   "source": [
    "plt.scatter(time,orbElems[:,loan])\n",
    "\n",
    "plt.xlabel(\"Time [yr]\")\n",
    "plt.ylim(np.min(orbElems[:,loan]),np.max(orbElems[:,loan]))\n",
    "plt.ylabel(r\"$\\Omega$ [$^\\circ$]\")\n",
    "plt.title(\"Longitude of Ascending Node vs Time\",y=1.06)"
   ]
  },
  {
   "cell_type": "code",
   "execution_count": null,
   "metadata": {
    "collapsed": false
   },
   "outputs": [],
   "source": [
    "# radar green, solid grid lines\n",
    "rc('grid', color='#38525c', linewidth=1, linestyle='-')\n",
    "rc('xtick', labelsize=15)\n",
    "rc('ytick', labelsize=15)\n",
    "\n",
    "# force square figure and square axes looks better for polar, IMO\n",
    "fig = figure(figsize=(8,8))\n",
    "ax = fig.add_axes([0.1, 0.1, 0.8, 0.8], polar=True, axisbg='#dfe5e7')\n",
    "\n",
    "r_y = time \n",
    "w_x = orbElems[:,w]*(np.pi/180.)\n",
    "Omega_x = orbElems[:,loan]*(np.pi/180.)\n",
    "combo = w_x + Omega_x\n",
    "ax.scatter(w_x, r_y,c='blue',s=50,zorder=10,edgecolor='None',label=r'$\\omega$')\n",
    "ax.scatter(Omega_x, r_y ,c='green',s=50,zorder=10,edgecolor='None',label=r'$\\Omega$')\n",
    "#ax.scatter(combo, r_y ,c='red',s=50,zorder=10,edgecolor='None',label=r'$\\Omega$ + $\\omega$')\n",
    "\n",
    "ax.set_ylim(time[0],time[-1])\n",
    "ax.set_title(r\"Binary Precession\",y=1.1)\n",
    "ax.legend(bbox_to_anchor=(1.05, 1), loc=2, borderaxespad=0.)\n",
    "#plt.savefig(\"bigGapBinaryPrecession.pdf\",bbox_inches='tight')"
   ]
  },
  {
   "cell_type": "code",
   "execution_count": null,
   "metadata": {
    "collapsed": false
   },
   "outputs": [],
   "source": [
    "ri, ro = r[0].min(), r[0].max()\n",
    "ri, ro = 0.25, 4\n",
    "\n",
    "M1 = pynbody.array.SimArray(mass[0,0],'Msol')\n",
    "M2 = pynbody.array.SimArray(mass[0,1],'Msol')\n",
    "semi = pynbody.array.SimArray(orbElems[0,a],'au')\n",
    "n = (np.sqrt(AddBinary.G*(M1+M2)/np.power(semi,3)).in_units('s**-1')*365.0) #cgs mean motion\n",
    "T = np.power(ro,0.5)*np.power(ri,5./2.)/(0.5*n*0.1469**3)\n",
    "T *= 8.0*np.pi*np.sum(mass[0,:])/m_disk\n",
    "print T/AddBinary.YEARSEC"
   ]
  },
  {
   "cell_type": "code",
   "execution_count": null,
   "metadata": {
    "collapsed": false
   },
   "outputs": [],
   "source": [
    "plt.scatter(time,orbElems[:,inc])\n",
    "\n",
    "plt.xlabel(\"Time [yr]\")\n",
    "plt.ylim(0,np.max(orbElems[:,inc]))\n",
    "plt.ylabel(r\"i [$^\\circ$]\")\n",
    "plt.title(\"Inclination vs Time\",y=1.06)"
   ]
  },
  {
   "cell_type": "code",
   "execution_count": null,
   "metadata": {
    "collapsed": false
   },
   "outputs": [],
   "source": [
    "plt.scatter(time,circFreq)\n",
    "\n",
    "plt.xlabel(\"Time [yr]\")\n",
    "plt.ylabel(r\"$\\Omega$ [day$^{-1}]$\")\n",
    "plt.title(\"Circular Orbital Frequency vs Time\",y=1.06)\n",
    "\n",
    "print np.mean(circFreq)"
   ]
  },
  {
   "cell_type": "markdown",
   "metadata": {},
   "source": [
    "#Plot Some Poincare Elements\n",
    "Note: Ignore the first timestep as w=0 throws the range of everything off."
   ]
  },
  {
   "cell_type": "code",
   "execution_count": null,
   "metadata": {
    "collapsed": false
   },
   "outputs": [],
   "source": [
    "#Plot ecosw, esinw Poincare Elements (convert from degrees to radians!)\n",
    "conv = np.pi/180.0\n",
    "scat = plt.scatter(orbElems[1:,e]*np.cos(conv*orbElems[1:,w]),orbElems[1:,e]*np.sin(conv*orbElems[1:,w]),c=time[1:],cmap='jet')\n",
    "cbar = plt.colorbar(scat)\n",
    "cbar.set_label(\"Time (yrs)\", labelpad=30, rotation=270)\n",
    "\n",
    "#Make plot look nice\n",
    "plt.xlim(min(orbElems[1:,e]*np.cos(conv*orbElems[1:,w])),max(orbElems[1:,e]*np.cos(conv*orbElems[1:,w])))\n",
    "plt.ylim(min(orbElems[1:,e]*np.sin(conv*orbElems[1:,w])),max(orbElems[1:,e]*np.sin(conv*orbElems[1:,w])))\n",
    "plt.title(r\"Binary Poincare Elements: ecos($\\omega$) vs esin($\\omega$)\",y=1.06)\n",
    "plt.xlabel(r\"ecos($\\omega$)\")\n",
    "plt.ylabel(r\"esin($\\omega$)\")\n",
    "#plt.savefig(\"bigGapBinaryPoinElems.pdf\",bbox_inches='tight')"
   ]
  },
  {
   "cell_type": "code",
   "execution_count": null,
   "metadata": {
    "collapsed": false
   },
   "outputs": [],
   "source": [
    "def forcedEcc(binary,r):\n",
    "    e_f = (binary.a/r)\n",
    "    e_f *= 1.25*(binary.m1 - binary.m2)/(binary.m1 + binary.m2)\n",
    "\n",
    "    return e_f"
   ]
  },
  {
   "cell_type": "code",
   "execution_count": null,
   "metadata": {
    "collapsed": false
   },
   "outputs": [],
   "source": [
    "tmp = binary.Binary(orbElems[-1,:],mass[-1,0],mass[-1,1],'kepler')\n",
    "e_forced = forcedEcc(tmp,r[-1])\n",
    "\n",
    "vals = [0,50,100,150,198]\n",
    "labels = [round(time[val],2) for val in vals]\n",
    "e = 0\n",
    "plt.scatter(r[vals[0],:]/orbElems[vals[0],a],diskOrbElems[vals[0],e,:],color='red',label=labels[0])\n",
    "plt.scatter(r[vals[1],:]/orbElems[vals[1],a],diskOrbElems[vals[1],e,:],color='orange',label=labels[1])\n",
    "plt.scatter(r[vals[2],:]/orbElems[vals[2],a],diskOrbElems[vals[2],e,:],color='green',label=labels[2])\n",
    "plt.scatter(r[vals[3],:]/orbElems[vals[3],a],diskOrbElems[vals[3],e,:],color='blue',label=labels[3])\n",
    "plt.scatter(r[vals[4],:]/orbElems[vals[4],a],diskOrbElems[vals[4],e,:],color='purple',label=labels[4])\n",
    "plt.scatter(r[-1]/orbElems[-1,a],e_forced,color='black',label=r\"$e_{forced}$ [Moriwaki 2004]\")\n",
    "\n",
    "plt.title(\"Disk Eccentricity vs. Radius Over Time\")\n",
    "plt.xlabel(\"$r/a_{bin}$\")\n",
    "plt.ylabel(\"Eccentricity\")\n",
    "#plt.ylim(0,1)\n",
    "plt.legend()"
   ]
  },
  {
   "cell_type": "code",
   "execution_count": null,
   "metadata": {
    "collapsed": false,
    "scrolled": true
   },
   "outputs": [],
   "source": [
    "plt.plot(time,diskAverage[:,0])\n",
    "plt.xlabel(\"Time [yr]\")\n",
    "plt.ylabel(\"Disk Average Eccentricity\")\n",
    "\n",
    "#print repr(diskAverage[:,0])\n",
    "#plt.savefig(\"10.26.2015_diskEVsTime_e_0.1032_bigGap.pdf\")"
   ]
  },
  {
   "cell_type": "code",
   "execution_count": null,
   "metadata": {
    "collapsed": false
   },
   "outputs": [],
   "source": [
    "from mpl_toolkits.mplot3d import Axes3D\n",
    "fig = plt.figure()\n",
    "ax = fig.add_subplot(111, projection='3d')\n",
    "\n",
    "conv = np.pi/180.\n",
    "xArr = diskAverage[:,0]*np.cos(conv*(diskAverage[:,3]*diskAverage[:,4]))\n",
    "yArr = diskAverage[:,0]*np.sin(conv*(diskAverage[:,3]*diskAverage[:,4]))\n",
    "\n",
    "x = xArr\n",
    "y = yArr\n",
    "z = time\n",
    "\n",
    "color = np.sqrt(x**2 + y**2)\n",
    "cm = plt.cm.get_cmap('jet')\n",
    "\n",
    "scat = ax.scatter(x, y, z, c=color, marker='o',s=50,edgecolor='None',cmap=cm)\n",
    "ax.set_xlabel(r'ecos($\\omega$ + $\\Omega$)')\n",
    "ax.set_ylabel(r'esin($\\omega$ + $\\Omega$)')\n",
    "ax.set_zlabel('Time [yr]')\n",
    "ax.set_title(\"Disk Averaged Poincare Elements vs Time\")\n",
    "ax.set_zlim(time.min(),time.max())\n",
    "#ax.view_init(90,90)\n",
    "plt.colorbar(scat)"
   ]
  },
  {
   "cell_type": "code",
   "execution_count": null,
   "metadata": {
    "collapsed": false
   },
   "outputs": [],
   "source": [
    "scat = plt.scatter(x,y,c=time)\n",
    "cbar = plt.colorbar(scat)\n",
    "cbar.set_label(\"Time (yrs)\", labelpad=30, rotation=270)\n",
    "\n",
    "plt.xlabel(r\"ecos($\\omega$)\")\n",
    "plt.ylabel(r\"esin($\\omega$)\")\n",
    "plt.title(\"Disk Averaged Poincare Elements\")\n",
    "#plt.savefig(\"bigGapDiskPoinElems.pdf\",bbox_inches='tight')"
   ]
  },
  {
   "cell_type": "markdown",
   "metadata": {},
   "source": [
    "#Plot comparisons between my simulations and the results of Artymowicz+1991"
   ]
  },
  {
   "cell_type": "code",
   "execution_count": null,
   "metadata": {
    "collapsed": true
   },
   "outputs": [],
   "source": [
    "def theo_e_dot(binary,m_disk):\n",
    "    q_d = m_disk/(binary.m1 + binary.m2)\n",
    "    omega_b = np.sqrt(AddBinary.G*(binary.m1+binary.m2)/np.power(binary.a,3)).in_units('yr**-1')\n",
    "    return 1.9e-3*q_d*omega_b\n",
    "\n",
    "def theo_a_dot(binary,m_disk):\n",
    "    q_d = m_disk/(binary.m1 + binary.m2)\n",
    "    omega_b = np.sqrt(AddBinary.G*(binary.m1+binary.m2)/np.power(binary.a,3)).in_units('yr**-1')\n",
    "    return -4.3e-4*q_d*omega_b*binary.a"
   ]
  },
  {
   "cell_type": "code",
   "execution_count": null,
   "metadata": {
    "collapsed": false
   },
   "outputs": [],
   "source": [
    "tmp_bin = binary.Binary(orbElems[0,:],0.949,0.249,'kepler')\n",
    "e_dot = theo_e_dot(tmp_bin,0.00378664534665)\n",
    "a_dot = theo_a_dot(tmp_bin,0.00378664534665)\n",
    "print e_dot, a_dot\n",
    "e_dot_y = orbElems[0,e] + e_dot*time\n",
    "a_dot_y = orbElems[0,a] + a_dot*time"
   ]
  },
  {
   "cell_type": "code",
   "execution_count": null,
   "metadata": {
    "collapsed": false
   },
   "outputs": [],
   "source": [
    "plt.plot(time,orbElems[:,e],label=\"Simulation\")\n",
    "plt.plot(time,e_dot_y,color='red',label='Artymowicz+1991')\n",
    "#plt.xlim(0,60)\n",
    "#plt.ylim(0.1,0.15)\n",
    "\n",
    "plt.ylabel(\"Eccentricity\")\n",
    "plt.xlabel(\"Time [yr]\")\n",
    "plt.title(\"Eccentricity vs. Time\",y=1.04)\n",
    "plt.legend(loc='upper left')"
   ]
  },
  {
   "cell_type": "code",
   "execution_count": null,
   "metadata": {
    "collapsed": false
   },
   "outputs": [],
   "source": [
    "plt.plot(time,orbElems[:,a],label=\"Simulation\")\n",
    "plt.plot(time,a_dot_y,color='red',label='Artymowicz+1991')\n",
    "plt.xlim(0,60)\n",
    "plt.ylim(0.145,0.15)\n",
    "\n",
    "plt.ylabel(\"Semimajor Axis [au]\")\n",
    "plt.xlabel(\"Time [yr]\")\n",
    "plt.title(\"Semimajor Axis vs. Time\",y=1.04)\n",
    "plt.legend()"
   ]
  },
  {
   "cell_type": "code",
   "execution_count": null,
   "metadata": {
    "collapsed": false
   },
   "outputs": [],
   "source": [
    "print a_dot_y[-1] - a_dot_y[0]\n",
    "print orbElems[-1,a] - orbElems[0,a]"
   ]
  },
  {
   "cell_type": "code",
   "execution_count": null,
   "metadata": {
    "collapsed": false
   },
   "outputs": [],
   "source": [
    "plt.plot(time,orbElems[:,a]*(1-orbElems[:,e]),color='blue',label='$r_p$')\n",
    "plt.plot(time,orbElems[:,a]*(1+orbElems[:,e]),color='red',label='$r_a$')\n",
    "plt.xlabel('Time [yr]')\n",
    "plt.ylabel('Radius [au]')\n",
    "plt.title('Perihelion, aphelion evolution')\n",
    "plt.legend(loc='center right')"
   ]
  },
  {
   "cell_type": "code",
   "execution_count": null,
   "metadata": {
    "collapsed": false
   },
   "outputs": [],
   "source": [
    "a_dot = orbElems[-1,a] - orbElems[0,a]\n",
    "e_dot = orbElems[-1,e] - orbElems[0,e]\n",
    "print a_dot/orbElems[0,a], e_dot/orbElems[0,e]"
   ]
  },
  {
   "cell_type": "code",
   "execution_count": null,
   "metadata": {
    "collapsed": false
   },
   "outputs": [],
   "source": [
    "SimArray = pynbody.array.SimArray\n",
    "m1 = SimArray(mass[:,0],'Msol')\n",
    "m2 = SimArray(mass[:,1],'Msol')\n",
    "M = SimArray(np.sum(mass,axis=-1),'Msol').in_units('g')\n",
    "mu = ((m1*m2)/(m1+m2)).in_units('g')\n",
    "bin_a = SimArray(orbElems[:,a],'au').in_units('cm')\n",
    "L = mu*np.sqrt(M*AddBinary.G*bin_a*(1.0-orbElems[:,e]*orbElems[:,e]))\n",
    "#print repr(L)\n",
    "L_a = np.sqrt(M*AddBinary.G*bin_a)\n",
    "L_e = np.sqrt(1.0-orbElems[:,e]*orbElems[:,e])\n",
    "E = AddBinary.compute_E(bin_a,m1,m2)"
   ]
  },
  {
   "cell_type": "code",
   "execution_count": null,
   "metadata": {
    "collapsed": false
   },
   "outputs": [],
   "source": [
    "# Two subplots, the axes array is 1-d\n",
    "f, axarr = plt.subplots(2, sharex=True)\n",
    "\n",
    "#Top axis, left scale\n",
    "axarr[0].plot(time, L/1.0e51,color='green',linewidth=2)\n",
    "axarr[0].set_title('Binary L, e, a vs Time for $e_i$ = 0',y=1.02)\n",
    "axarr[0].set_ylabel('$L_{binary}/10^{51}$')\n",
    "axarr[0].set_xlim(time[0],time[-1])\n",
    "for tl in axarr[0].get_yticklabels():\n",
    "    tl.set_color('green')\n",
    "\n",
    "#Top axis, right scale\n",
    "ax3 = axarr[0].twinx()\n",
    "ax3.plot(time, diskL/1.0e51, color='purple',linewidth=2)\n",
    "ax3.set_ylabel('$L_{disk}/10^{51}$', color='black')\n",
    "for tl in ax3.get_yticklabels():\n",
    "    tl.set_color('purple')\n",
    "ax3.set_xlim(time[0],time[-1])\n",
    "    \n",
    "#Bottom axis, left scale\n",
    "axarr[1].plot(time, L_e,color='blue',linewidth=2)\n",
    "for tl in axarr[1].get_yticklabels():\n",
    "    tl.set_color('blue')\n",
    "axarr[1].set_xlabel('time (yr)')\n",
    "axarr[1].set_ylabel('$\\sqrt{1-e^2}$', color='black')\n",
    "axarr[1].set_xlim(time[0],time[-1])\n",
    "\n",
    "\n",
    "#Bottom axis, right scale\n",
    "ax2 = axarr[1].twinx()\n",
    "ax2.plot(time, L_a, 'r',linewidth=2)\n",
    "ax2.set_ylabel('$\\sqrt{GMa}$', color='black')\n",
    "for tl in ax2.get_yticklabels():\n",
    "    tl.set_color('red')\n",
    "ax2.set_xlim(time[0],time[-1])\n",
    "\n",
    "#plt.savefig(\"27.10.2015.binALEe_0.1032_1040yrs.pdf\",bbox_inches='tight')"
   ]
  },
  {
   "cell_type": "code",
   "execution_count": null,
   "metadata": {
    "collapsed": false
   },
   "outputs": [],
   "source": [
    "print L[-1] - L[0]\n",
    "print diskL[-1] - diskL[0]"
   ]
  },
  {
   "cell_type": "code",
   "execution_count": null,
   "metadata": {
    "collapsed": true
   },
   "outputs": [],
   "source": []
  }
 ],
 "metadata": {
  "kernelspec": {
   "display_name": "Python 2",
   "language": "python",
   "name": "python2"
  },
  "language_info": {
   "codemirror_mode": {
    "name": "ipython",
    "version": 2
   },
   "file_extension": ".py",
   "mimetype": "text/x-python",
   "name": "python",
   "nbconvert_exporter": "python",
   "pygments_lexer": "ipython2",
   "version": "2.7.10"
  }
 },
 "nbformat": 4,
 "nbformat_minor": 0
}
