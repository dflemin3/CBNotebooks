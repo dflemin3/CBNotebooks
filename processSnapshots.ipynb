{
 "cells": [
  {
   "cell_type": "markdown",
   "metadata": {},
   "source": [
    "David Fleming 2015\n",
    "\n",
    "University of Washington\n",
    "\n",
    "#Snapshot Analysis Pipeline\n",
    "\n",
    "#Bleeding Edge Version\n",
    "\n",
    "#TODO\n",
    "\n",
    "-Add flag for plotting binary orbital elements, put them all on a single, multiaxis plot\n",
    "\n",
    "-Compute inner disk edge radius as function of time\n",
    "\n",
    "    -would be useful to determine exactly when radius is found\n",
    "\n",
    "This script searches for and reads in all snapshots in the CWD, analyzes them, and stores/processes vectors of quantities on interest."
   ]
  },
  {
   "cell_type": "code",
   "execution_count": 71,
   "metadata": {
    "collapsed": false
   },
   "outputs": [],
   "source": [
    "#Imports\n",
    "#Leave commented out if running as .py file instead of ipython notebook\n",
    "%matplotlib inline\n",
    "\n",
    "#Imports\n",
    "import pynbody\n",
    "from matplotlib.pylab import *\n",
    "import matplotlib.pylab as plt\n",
    "import pynbody.plot.sph as sph\n",
    "import numpy as np\n",
    "from scipy import interpolate\n",
    "import matplotlib.lines as mlines\n",
    "import matplotlib.colors\n",
    "\n",
    "#Imports from ICgen-Binary directory\n",
    "import os\n",
    "sys.path.append('/astro/users/dflemin3/Desktop/ICgen')\n",
    "sys.path.append('/astro/users/dflemin3/Desktop')\n",
    "import isaac\n",
    "import AddBinary\n",
    "import binaryUtils\n",
    "import binary\n",
    "\n",
    "#Typical plot parameters that make for pretty plots\n",
    "plt.rcParams['figure.figsize'] = (10,6)\n",
    "from astroML.plotting import setup_text_plots\n",
    "setup_text_plots(fontsize=20, usetex=True)\n",
    "\n",
    "rc('font', **{'family': 'serif', 'serif': ['Computer Modern']})\n",
    "mpl.rcParams['font.size'] = 20.0"
   ]
  },
  {
   "cell_type": "markdown",
   "metadata": {},
   "source": [
    "#Setup\n",
    "User must provide to the variable \"cwd\" the full directory name of the dir where the data is.  Then, set the flags to get the analysis you want."
   ]
  },
  {
   "cell_type": "code",
   "execution_count": 72,
   "metadata": {
    "collapsed": false
   },
   "outputs": [],
   "source": [
    "#Tell code where data is\n",
    "cwd = '/astro/users/dflemin3/Desktop/sims/Kepler38LongBigGap'\n",
    "os.chdir(cwd)"
   ]
  },
  {
   "cell_type": "code",
   "execution_count": 73,
   "metadata": {
    "collapsed": false
   },
   "outputs": [],
   "source": [
    "#Flags to control output.  Can be passed as command line arguments if I make this a script in the future\n",
    "massFlag = True\n",
    "torqueFlag = True\n",
    "resFlag = True\n",
    "comFlag = True"
   ]
  },
  {
   "cell_type": "code",
   "execution_count": 74,
   "metadata": {
    "collapsed": false
   },
   "outputs": [],
   "source": [
    "#Initialize variables to be determined later\n",
    "steps = 0\n",
    "nSteps = 0\n",
    "dDelta = 0\n",
    "m_disk = 0"
   ]
  },
  {
   "cell_type": "markdown",
   "metadata": {},
   "source": [
    "#Read in .param file.\n",
    "Read in .param file in the directory if it exists.  Then initialize the relevant data structures."
   ]
  },
  {
   "cell_type": "code",
   "execution_count": 75,
   "metadata": {
    "collapsed": false
   },
   "outputs": [],
   "source": [
    "#Read in .param file and extract info I need\n",
    "\n",
    "#Find param file if it exists\n",
    "for file in os.listdir(cwd):\n",
    "    if file.endswith(\".param\"):\n",
    "        filename = file\n",
    "        break\n",
    "    else:\n",
    "        filename = \"Invalid\"\n",
    "        \n",
    "#No file name so give warning before program dies\n",
    "if filename == \"Invalid\":\n",
    "    print \"No .param file found!\"\n",
    "\n",
    "else:\n",
    "    with open(filename) as f:\n",
    "        lines = f.readlines()\n",
    "\n",
    "    #Iterate over lines in param file, look for ones of interest\n",
    "    for line in lines:\n",
    "        line = str(line).rstrip('\\n')\n",
    "\n",
    "        #Look for file name\n",
    "        if \"achOutName\" in line:\n",
    "            line = line.lstrip('achOutName')\n",
    "            line = line.lstrip()\n",
    "            line = line.lstrip('=')\n",
    "            line = line.lstrip()\n",
    "            name = line\n",
    "\n",
    "        #Look for iOutInterval\n",
    "        if \"iOutInterval\" in line:\n",
    "            line = line.lstrip('iOutInterval')\n",
    "            line = line.lstrip()\n",
    "            line = line.lstrip('=')\n",
    "            line = line.lstrip()\n",
    "            steps = int(line)\n",
    "\n",
    "        #Look for number of steps\n",
    "        if \"nSteps\" in line:\n",
    "            line = line.lstrip('nSteps')\n",
    "            line = line.lstrip()\n",
    "            line = line.lstrip('=')\n",
    "            line = line.lstrip()\n",
    "            nSteps = int(line)\n",
    "\n",
    "        #Look for dDelta\n",
    "        if \"dDelta\" in line:\n",
    "            line = line.lstrip('dDelta')\n",
    "            line = line.lstrip()\n",
    "            line = line.lstrip('=')\n",
    "            line = line.lstrip()\n",
    "            dDelta = float(line)\n",
    "        \n",
    "#close file\n",
    "f.close()"
   ]
  },
  {
   "cell_type": "code",
   "execution_count": 76,
   "metadata": {
    "collapsed": false
   },
   "outputs": [],
   "source": [
    "#Given the variables just read in, compute how many output files I have to read in, then allocate data for the info I want\n",
    "num = nSteps/steps + 1\n",
    "bins = 50\n",
    "m_max = 5\n",
    "l_max = 5\n",
    "\n",
    "#Now allocate numpy arrays to hold information I care about so I can plot and things\n",
    "\n",
    "#Allocate space for orbital elements\n",
    "\n",
    "orbElems = np.zeros((num,6))\n",
    "#Int flags to select orbital elements\n",
    "[e,a,inc,loan,w,nu] = [0,1,2,3,4,5]\n",
    "\n",
    "#Other variables of interest\n",
    "circFreq = np.zeros(num)\n",
    "comBinary = np.zeros((num,3))\n",
    "comSystem = np.zeros((num,3))\n",
    "comCut = np.zeros((num,3))\n",
    "mass = np.zeros((num,2))\n",
    "netTorque = np.zeros((num,3))\n",
    "tau = np.zeros((num,bins,3)) #snapshot, radius, 3 components of torque/mass\n",
    "zTorque = np.zeros(num)\n",
    "dedt = np.zeros((num,bins))\n",
    "eVsRadius = np.zeros((num,bins))\n",
    "ILR = np.zeros((num,m_max,l_max))\n",
    "OLR = np.zeros((num,m_max,l_max))\n",
    "CRR = np.zeros((num,l_max))\n",
    "omega_d = np.zeros((num,bins))\n",
    "kappa = np.zeros((num,bins))\n",
    "r = np.zeros((num,bins))\n",
    "time = np.linspace(0,dDelta/(2.0*np.pi)*nSteps,num)"
   ]
  },
  {
   "cell_type": "markdown",
   "metadata": {},
   "source": [
    "#Read snapshots\n",
    "Reads in all tipsy snapshots and from the data calculates the parameters of interest for later analysis."
   ]
  },
  {
   "cell_type": "code",
   "execution_count": null,
   "metadata": {
    "collapsed": false
   },
   "outputs": [],
   "source": [
    "%%capture\n",
    "#Read in files, if I can't open a file, tell user why/which one\n",
    "#Use capture to suppress stderr output\n",
    "#First, check to see if I have an archive file for this data set.\n",
    "#Look in the directory where data is!\n",
    "#Assume if one exists, they all do\n",
    "\n",
    "archiveName = name + \"_archive.npz\"\n",
    "\n",
    "if (not os.path.exists(archiveName)):\n",
    "    #No archive file in directory, so load data from snaps\n",
    "    #Read in initial conditions of the form name.std\n",
    "    \n",
    "    print \"Loading snapshots, storing in {0} archive.\".format(name)\n",
    "    \n",
    "    try:\n",
    "        snap = name + \".std\"\n",
    "        s = pynbody.load(snap)\n",
    "    except RuntimeError:\n",
    "        print \"No initial conditions found!  Was looking for {0}\".format(snap)\n",
    "    else:\n",
    "        #Get binary stellar parameters\n",
    "        x1 = s.stars[0]['pos']\n",
    "        x2 = s.stars[1]['pos']\n",
    "        v1 = s.stars[0]['vel']\n",
    "        v2 = s.stars[1]['vel']\n",
    "        m1 = s.stars[0]['mass']\n",
    "        m1i = m1\n",
    "        m2 = s.stars[1]['mass']\n",
    "        m2i= m2\n",
    "        mass[0,:] = [m1,m2]\n",
    "\n",
    "        #Calculate disk mass\n",
    "        m_disk = np.sum(s.gas['mass'])\n",
    "\n",
    "        #Orbital Elements Calculations\n",
    "        orbElems[0,:] = AddBinary.calcOrbitalElements(x1, x2, v1, v2, m1, m2)\n",
    "        circFreq[0] = AddBinary.calcCircularFrequency(x1,x2,v1,v2,m1,m2)\n",
    "        \n",
    "        #Compute inner, outer radii and radius+bins for future torque/mass calculations\n",
    "        r_in = 1.0*orbElems[0,a]\n",
    "        r_out = 4.0*orbElems[0,a]\n",
    "        r[0,:], rBinEdges = binaryUtils.calcDiskRadialBins(s,r_in,r_out,bins)\n",
    "        eVsRadius[0,:] = binaryUtils.calcEccVsRadius(s,rBinEdges)\n",
    "        \n",
    "        #Center of Mass calculations\n",
    "        cut = 0.4 #0.4 au cutoff as per Tom's suggestion\n",
    "        comBinary[0] = AddBinary.calcCOM(m1,m2,x1,x2)\n",
    "        comSystem[0] = binaryUtils.computeCOM(s.stars,s.gas)\n",
    "        comCut[0] = binaryUtils.computeCOM(s.stars,s.gas,cutoff=cut,starFlag=False)\n",
    "        \n",
    "        #Torque calculations\n",
    "        if torqueFlag:\n",
    "            netTorque[0,:] = binaryUtils.calcNetTorque(s.stars,s.gas)\n",
    "            zTorque[0] = netTorque[0,2]\n",
    "\n",
    "        #Resonance calculations\n",
    "        if resFlag:\n",
    "            tau[0,:,:] = binaryUtils.torqueVsRadius(s,rBinEdges)\n",
    "            dedt[0,:] = binaryUtils.calcDeDt(s.stars,tau[0,:,:]) #Send in all the torque\n",
    "            ILR[0,:,:],OLR[0,:,:],CRR[0,:],omega_d[0,:],kappa[0,:]=binaryUtils.findCBResonances(s,r[0],r_in,r_out,m_max,l_max,bins)\n",
    "\n",
    "    #end reading in ICs\n",
    "\n",
    "    #Start counting other snapshots    \n",
    "    i = 1\n",
    "\n",
    "    while i < num:\n",
    "        t = str(i*steps)\n",
    "        pad = t.rjust(6, '0')\n",
    "        snap = name + \".\" + pad\n",
    "        try:\n",
    "            s = pynbody.load(snap)\n",
    "        except RuntimeError:\n",
    "            print \"No file found!  Was looking for {0}\".format(snap)\n",
    "            break\n",
    "        else:\n",
    "            #Get binary stellar parameters\n",
    "            x1 = s.stars[0]['pos']\n",
    "            x2 = s.stars[1]['pos']\n",
    "            v1 = s.stars[0]['vel']\n",
    "            v2 = s.stars[1]['vel']\n",
    "            m1 = s.stars[0]['mass']\n",
    "            m2 = s.stars[1]['mass']\n",
    "            mass[i,:] = [m1,m2]\n",
    "\n",
    "            #Orbital Element Calculations\n",
    "            orbElems[i,:] = AddBinary.calcOrbitalElements(x1, x2, v1, v2, m1, m2)\n",
    "            circFreq[i] = AddBinary.calcCircularFrequency(x1,x2,v1,v2,m1,m2)\n",
    "            \n",
    "            #Center of Mass calculations\n",
    "            comBinary[i] = AddBinary.calcCOM(m1,m2,x1,x2)\n",
    "            comSystem[i] = binaryUtils.computeCOM(s.stars,s.gas)\n",
    "            comCut[i] = binaryUtils.computeCOM(s.stars,s.gas,cutoff=cut,starFlag=False)\n",
    "            r[i,:], rBinEdges = binaryUtils.calcDiskRadialBins(s,r_in,r_out,bins)\n",
    "            eVsRadius[i,:] = binaryUtils.calcEccVsRadius(s,rBinEdges)\n",
    "            \n",
    "            #Torque calculations\n",
    "            if torqueFlag:\n",
    "                netTorque[i,:] = binaryUtils.calcNetTorque(s.stars,s.gas)\n",
    "                zTorque[i] = netTorque[i,2]\n",
    "\n",
    "            #Resonance calculations\n",
    "            if resFlag:\n",
    "                tau[i,:,:] = binaryUtils.torqueVsRadius(s,rBinEdges)\n",
    "                dedt[i,:] = binaryUtils.calcDeDt(s.stars,tau[i,:,:]) #send in all the torque\n",
    "                ILR[i,:,:],OLR[i,:,:],CRR[i,:],omega_d[i,:],kappa[i,:]=binaryUtils.findCBResonances(s,r[i],r_in,r_out,m_max,l_max,bins)\n",
    "            print ILR\n",
    "                \n",
    "            i += 1\n",
    "\n",
    "    #end loop, save data in respective archives\n",
    "    np.savez(archiveName,orbElems=orbElems,mass=mass,time=time,\n",
    "             tau=tau,dedt=dedt,ILR=ILR,OLR=OLR,CRR=CRR,circFreq=circFreq,\n",
    "             omega_d=omega_d,kappa=kappa,r=r,eVsRadius=eVsRadius,netTorque=netTorque,\n",
    "            comBinary=comBinary,comSystem=comSystem,comCut=comCut)\n",
    "    \n",
    "#If there is an archive, load data from past archive\n",
    "else:\n",
    "    print \"Loading from {0} archive.\".format(name)\n",
    "    \n",
    "    archiveName = name + '_archive.npz'\n",
    "\n",
    "    #Load from archive\n",
    "    archive = np.load(archiveName)\n",
    "    orbElems = archive['orbElems']\n",
    "    circFreq = archive['circFreq']\n",
    "    eVsRadius = archive['eVsRadius']\n",
    "    netTorque = archive['netTorque']\n",
    "    time = archive['time']\n",
    "    mass = archive['mass']\n",
    "    tau = archive['tau']\n",
    "    dedt = archive['dedt']\n",
    "    IRL = archive['ILR']\n",
    "    OLR = archive['OLR']\n",
    "    CRR = archive['CRR']\n",
    "    omega_d = archive['omega_d']\n",
    "    kappa = archive['kappa']\n",
    "    r = archive['r']\n",
    "    comBinary = archive['comBinary']\n",
    "    comSystem = archive['comSystem']\n",
    "    comCut = archive['comCut']"
   ]
  },
  {
   "cell_type": "markdown",
   "metadata": {},
   "source": [
    "#House Keeping:\n",
    "Combine some data arrays for easy axis for later plotting functions."
   ]
  },
  {
   "cell_type": "code",
   "execution_count": null,
   "metadata": {
    "collapsed": false
   },
   "outputs": [],
   "source": [
    "#Combine radius, omega_disk, and kappa_disk arrays for later\n",
    "resArr = np.zeros((num,4,bins)) #res(onant)Arr(ay)\n",
    "for i in range(0,num):\n",
    "    resArr[i] = (r[i],omega_d[i],kappa[i],dedt[i])\n",
    "\n",
    "#Define indices for easy axis\n",
    "indexR = 0\n",
    "indexO = 1\n",
    "indexK = 2\n",
    "indexE = 3\n",
    "\n",
    "semi = orbElems[0,a]\n",
    "\n",
    "#Define binary period\n",
    "ob = 2.0*np.pi/AddBinary.aToP(semi,mass[0,0]+mass[0,1])"
   ]
  },
  {
   "cell_type": "markdown",
   "metadata": {},
   "source": [
    "#Eccentricity Analysis"
   ]
  },
  {
   "cell_type": "code",
   "execution_count": null,
   "metadata": {
    "collapsed": false
   },
   "outputs": [],
   "source": [
    "#Produce plot of e vs time\n",
    "plt.plot(time,orbElems[:,e],label=\"Simulation\")\n",
    "plt.ylabel(\"Eccentricity\")\n",
    "plt.xlabel(\"Time [yr]\")\n",
    "plt.title(\"Eccentricity vs. Time\",y=1.04)"
   ]
  },
  {
   "cell_type": "markdown",
   "metadata": {},
   "source": [
    "#Semimajor Axis Analysis"
   ]
  },
  {
   "cell_type": "code",
   "execution_count": null,
   "metadata": {
    "collapsed": false
   },
   "outputs": [],
   "source": [
    "#Produce plot of a vs time\n",
    "plt.plot(time,orbElems[:,a])\n",
    "plt.ylabel(\"Semimajor Axis [AU]\")\n",
    "plt.xlabel(\"Time [yr]\")\n",
    "plt.title(\"Semimajor Axis vs. Time\",y=1.06)"
   ]
  },
  {
   "cell_type": "markdown",
   "metadata": {},
   "source": [
    "#Center of Mass\n",
    "Plot the center of mass location for the binary system and the entire system (binary + system) in order to track how it changes over time.  Ideally, the CoM would remain at the origin (0,0,0) but in practice this doesn't happen.  The below plots help gauge the deviation."
   ]
  },
  {
   "cell_type": "code",
   "execution_count": null,
   "metadata": {
    "collapsed": false
   },
   "outputs": [],
   "source": [
    "#Produce plot of CoM vs time and other diagnostics\n",
    "if comFlag:\n",
    "    #Compute distance between Binary, System CoM and origin\n",
    "    comBin = np.asarray(comBinary)\n",
    "    comBin_dist = np.linalg.norm(comBinary,axis=1)\n",
    "    comSys = np.asarray(comSystem)\n",
    "    comSys_dist = np.linalg.norm(comSystem,axis=1)\n",
    "    \n",
    "    #Compute % diff\n",
    "    diff = np.fabs(100.0*(comBin_dist - comSys_dist)/comBin_dist)\n",
    "\n",
    "    #Produce plots\n",
    "    fig = plt.figure()\n",
    "    fig.subplots_adjust(left=-0.3, right=1.3,\n",
    "                        bottom=0.0, top=1.0,\n",
    "                        hspace=0.0, wspace=0.4)\n",
    "\n",
    "    #Plot CoM vs time\n",
    "    ax1 = fig.add_subplot(1, 2, 1)\n",
    "    ax1.plot(time,comBin_dist,color='blue',label='Binary')\n",
    "    ax1.plot(time,comSys_dist,color='red',label='System')\n",
    "    ax1.set_ylabel(\"Center of Mass Distance [AU]\")\n",
    "    ax1.set_xlabel(\"Time [yr]\")\n",
    "    ax1.set_title(\"Distance between CoM and Origin vs. Year for {0}\".format(name),y=1.06)\n",
    "    plt.legend(loc='upper left')\n",
    "    \n",
    "    #Plot % diff.  Ignore 1st timestep since it blows up (starts at origin)\n",
    "    ax2 = fig.add_subplot(1,2,2)\n",
    "    ax2.plot(time[1:],diff[1:],color='red')\n",
    "    ax2.set_ylabel(\"Percent Difference\")\n",
    "    ax2.set_xlabel(\"Time [yr]\")\n",
    "    ax2.set_title(\"Percent Difference between Binary and System CoM\",y=1.06)\n",
    "\n",
    "else:\n",
    "    print \"Skipping center of mass plots.\"\n",
    "    print"
   ]
  },
  {
   "cell_type": "code",
   "execution_count": null,
   "metadata": {
    "collapsed": false
   },
   "outputs": [],
   "source": [
    "if comFlag:\n",
    "    plt.plot(time,comCut[:,0])\n",
    "    plt.xlabel(\"Time [yr]\")\n",
    "    plt.ylabel(\"Center of Mass X Coordinate [AU]\")\n",
    "    \n",
    "    print repr(comCut[:,0])\n",
    "    \n",
    "else:\n",
    "    print \"Skipping center of mass plots.\"\n",
    "    print"
   ]
  },
  {
   "cell_type": "markdown",
   "metadata": {},
   "source": [
    "#Accretion\n",
    "Plot the change in stellar mass vs. time and estimate the mean accretion rate $\\dot{M}$ in $M_{\\odot}/yr$.  For disks with surface densities that go as $r^{-1/2}$, you expect something in around $10^{-8}$ to $10^{-7}$."
   ]
  },
  {
   "cell_type": "code",
   "execution_count": null,
   "metadata": {
    "collapsed": false
   },
   "outputs": [],
   "source": [
    "if massFlag:\n",
    "    #Create figure, make it look nice\n",
    "    fig = plt.figure()\n",
    "    fig.subplots_adjust(left=0, right=1,\n",
    "                        bottom=0.0, top=1.0,\n",
    "                        hspace=0.0, wspace=0.4)\n",
    "\n",
    "    #Primary\n",
    "    ax1 = fig.add_subplot(1, 2, 1)\n",
    "    ax1.plot(time,mass[:,0]/mass[0,0],'o',color='blue',label=\"Primary\")\n",
    "    ax1.set_ylabel(r\"$M/M_0$\")\n",
    "    ax1.set_xlabel(\"Time [yr]\")\n",
    "    ax1.set_title(\"Primary Normalized Mass vs. Time\",y=1.06)\n",
    "\n",
    "    #Secondary\n",
    "    ax2 = fig.add_subplot(1,2,2)\n",
    "    ax2.plot(time,mass[:,1]/mass[0,1],'o',color='red',label=\"Secondary\")\n",
    "    ax2.set_ylabel(r\"$M/M_0$\")\n",
    "    ax2.set_xlabel(\"Time [yr]\")\n",
    "    ax2.set_title(\"Secondary Normalized Mass vs. Time\",y=1.06)\n",
    "\n",
    "    plt.show()\n",
    "    \n",
    "    #Now calculate mean accretion rate\n",
    "    deltaM = (mass[-1,0] - mass[0,0]) + (mass[-1,1] - mass[0,1])\n",
    "    mDot = deltaM/(time[-1])\n",
    "    print \"Mean accretion rate =\",mDot, \"solar masses per year.\"\n",
    "    \n",
    "else:\n",
    "    print \"Skipping Mass plots.\"\n",
    "    print"
   ]
  },
  {
   "cell_type": "markdown",
   "metadata": {},
   "source": [
    "#Torque as a function of radius\n",
    "Plot the torque per unit mass on binary system due to the CB disk as a function of disk radius.  \n",
    "\n",
    "First compute the next force on each star due to every single gas particle in the given radial bin.  For torque, $\\tau = \\vec{r} \\times \\vec{F}$, take the moment arm to be the distance from the center of mass of the entire system to the given star.  The force vector points from the given star to the collection of gas particles considered. I'll normalize the torque on each star by that star's mass.  Sum up the torque on each star to get the result.\n",
    "\n",
    "Procedure:\n",
    ">Calculate the time-averaged net torque on the binary due to the disk at a given radius.  For time-average, simply take mean of torque/mass vs. radius calculations at each radius over range of snapshots.  Note: Must ensure that snapshots are a few binary orbits apart for this to make sense.  The main effects are expected to happen at the apastron when the interaction is strongest due to those parts of the disk rotating more slowly than the binary itself (Artymowics+1991).\n",
    "\n",
    "Vectors:\n",
    ">$\\vec{r}$ points from the center of mass to the star while the force is due to the gas particles pulling on the star.  Reminder: the radius points from the axis of rotation (center of mass in this case) to the rotating object.  Also, $\\vec{F}$ points from the star to the gas.\n",
    "\n",
    "What I expect:\n",
    ">I expect to see a negative net torque.  Since the system rotates CCW, a torque < 0 would imply angular momentum is leaving the system and eccentricity increases corresponding to what is observed."
   ]
  },
  {
   "cell_type": "code",
   "execution_count": null,
   "metadata": {
    "collapsed": false
   },
   "outputs": [],
   "source": [
    "#Plot 3 components of normalize torque for ith snapshot\n",
    "if torqueFlag:\n",
    "    i = 76\n",
    "    \n",
    "    norm = np.max(tau)\n",
    "    plt.plot(r[i]/semi,tau[i,:,0]/norm,label=\"X Component\")\n",
    "    plt.plot(r[i]/semi,tau[i,:,1]/norm,label=\"Y Component\")\n",
    "    plt.plot(r[i]/semi,tau[i,:,2]/norm,label=\"Z Component\")\n",
    "\n",
    "    \n",
    "    #Make plot look nice\n",
    "    plt.title(\"Normalize Torque vs. Radius for Snapshot {0}\".format(i),y=1.06)\n",
    "    plt.xlabel(\"r/$a_{binary}$\")\n",
    "    plt.ylabel(\"Normalized Torque\")\n",
    "    plt.legend(bbox_to_anchor=(1.05, 1), loc=2, borderaxespad=0.)\n",
    "    \n",
    "else:\n",
    "    print \"Skipping torque calculations.\""
   ]
  },
  {
   "cell_type": "markdown",
   "metadata": {},
   "source": [
    "#Torque Notes:\n",
    "\n",
    "The z component of the torque dominates as expected for a thin, (initially) axisymmetric disk.  The z component torques on the binary causing the system's eccentricity to slowly increase over time.  Since torques can't occur for a perfectly axisymmetric system, some sort of resonance must be at work.  Given the predictions of Artymowicz+1991, we'd expect the Outer Lindblad Resonances (OLR) to provide most of the torque."
   ]
  },
  {
   "cell_type": "markdown",
   "metadata": {},
   "source": [
    "#Resonance Calculations\n",
    "\n",
    "Plot the change in eccentricity over time (de/dt) vs. the disk orbital frequency $\\Omega_{disk}$ to see at which location in the disk the majority of the torque comes from.  From these locations, we can see if they correspond to a resonance as theoretically expected.\n",
    "\n",
    "Theory:\n",
    "\n",
    "First, we must compute de/dt as a function of radius.  To do this, I took the time derivative of the equation for the eccentricity of a binary system\n",
    ">$de/dt = d/dt\\left( \\sqrt{1 + \\frac{2 \\epsilon h^2}{\\mu^2}} \\right) =  \\left( 1 + \\frac{2 \\epsilon h^2}{\\mu^2} \\right)^{-1/2} \\left( \\frac{2 \\epsilon h}{\\mu^2} \\right) dh/dt $ \n",
    "    \n",
    "where dh/dt is the torque per unit mass at a given disk radius, $\\mu = G(m_1+m_2)$  and the specific energy $\\epsilon$ is assumed roughly constant since the semimajor axis of the orbit does not change much.  Note, only the z component of dh/dt is used since as shown in the plot above, it dominates.\n",
    "\n",
    "\n",
    "In order to calculate the location of the resonances in the circumbinary disk, the following formulas are used:\n",
    ">Lindblad Resonance: $m(\\Omega_{disk} - \\Omega_{binary}) = \\pm l \\kappa$\n",
    "\n",
    "for integer m, l.  $\\Omega_{disk}$ is the angular frequency of a annulus of gas in the disk, $\\Omega_{binary}$ is the mean angular frequency of the binary system and defines the angular pattern speed of the binary potential that perturbs the disk.  $\\kappa$ is the radial epicycle frequency of the same annulus of gas considered earlier.\n",
    "\n",
    ">Corotation Resonance: $\\Omega_{disk} = \\Omega_{binary}/l$\n",
    "\n",
    "for integer l.\n",
    "\n",
    "Procedure:\n",
    ">After calculating de/dt, I can plot this as a function of disk radius to see which locations in the disk cause the most torque on the binary.  Next given the resonance formulas, I compute the theoretical locations of the resonances for each snapshot and return the $\\Omega$ in the disk where they exist.  I can then plot these against the de/dt curves to verify that de/dt is in fact due to resonances and to see which resonances contribute most strongly.\n",
    "\n",
    "What I expect:\n",
    ">In accordance with Artymowics+1991, I expect to see the Outer Lindblad Resonances (OLR) contribute to de/dt and dominate over the Inner (OLR) and Corotation (CRR).  Also since the inner disk is truncated via gap formation and has much less mass then the middle portions of the disk (i.e. where the power law component begins), I expect higher order l modes of the (m,l) OLR to contribute strongly."
   ]
  },
  {
   "cell_type": "code",
   "execution_count": null,
   "metadata": {
    "collapsed": false
   },
   "outputs": [],
   "source": [
    "if resFlag:\n",
    "    i=10\n",
    "                    \n",
    "    norm = np.max(dedt)\n",
    "        \n",
    "    #Conver x axis from r(au) -> omega normalize by binary omega\n",
    "    ob = 2.0*np.pi/AddBinary.aToP(semi,mass[0,0]+mass[0,1])\n",
    "                \n",
    "    #Plot\n",
    "    plt.plot(omega_d[i]/ob,dedt[i]/norm)#,drawstyle='steps')\n",
    "    plt.xlabel(\"$\\Omega / \\Omega_{bin}$\")\n",
    "    plt.ylabel(r\"Normalized Mean $de/dt$\")\n",
    "    plt.title(r\"Normalized Mean $de/dt$ vs. $\\Omega / \\Omega_{bin}$\",y=1.04)\n",
    "    \n",
    "    #Plot y = 0 for reference\n",
    "    plt.axhline(y=0, xmin=-1,xmax=4.1,linewidth=1,color='red',linestyle='--')\n",
    "    \n",
    "    #Plot inner lindblad resonance\n",
    "    for m in range(1,m_max):\n",
    "        for l in range(0,l_max):\n",
    "            l = 3\n",
    "            val = ILR[i,m,l]\n",
    "            plt.axvline(x=val/ob,ymin=-1,ymax=1,linewidth=1,color='green',linestyle='--')\n",
    "        \n",
    "    #Plot corotation resonance\n",
    "    for l in range(0,l_max):\n",
    "        plt.axvline(x=CRR[i,l]/ob,ymin=-1,ymax=1,linewidth=1,color='orange',linestyle='--',label=\"CRR\")\n",
    "        \n",
    "    #Style plot\n",
    "    plt.xlim([np.min(omega_d[i])/ob,np.max(omega_d[i])/ob])\n",
    "    inner = mlines.Line2D([], [], color='green', marker='|',markersize=15, label='ILR')\n",
    "    crr = mlines.Line2D([], [], color='orange', marker='|', markersize=15, label='CRR')\n",
    "    \n",
    "    plt.legend(handles=[inner,crr],bbox_to_anchor=(1.05, 1), loc=2, borderaxespad=0.)\n",
    "    \n",
    "else:\n",
    "    print \"Skipping de/dt calculation.\"\n",
    "    print"
   ]
  },
  {
   "cell_type": "markdown",
   "metadata": {},
   "source": [
    "Notes:\n",
    "\n",
    "ILRs don't really contribute at all to any de/dt.  CRRs also seem to not do much except sometimes they do contribute to -dt/dt, but not on the same order of magnitude as OLRs contribute to +de/dt."
   ]
  },
  {
   "cell_type": "code",
   "execution_count": null,
   "metadata": {
    "collapsed": false
   },
   "outputs": [],
   "source": [
    "#Plot\n",
    "if resFlag:\n",
    "    i = 7\n",
    "\n",
    "    #Conver radius array to omega and normalize by binary frequency\n",
    "    ob = 2.0*np.pi/AddBinary.aToP(semi,mass[0,0]+mass[0,1]) #binary frequency\n",
    "\n",
    "    norm = np.max(dedt)\n",
    "\n",
    "    #Plot de/dt with arbitrary normalization\n",
    "    plt.plot(omega_d[i]/ob,dedt[i]/norm)\n",
    "    plt.xlabel(\"$\\Omega / \\Omega_{bin}$\")\n",
    "    plt.ylabel(r\"Normalized $de/dt$\")\n",
    "    plt.title(r\"Normalized $de/dt$ vs. $\\Omega / \\Omega_{bin}$\",y=1.04)\n",
    "\n",
    "    #Plot y = 0 for reference\n",
    "    plt.axhline(y=0, xmin=-1,xmax=4.1,linewidth=1,color='red',linestyle='--')\n",
    "\n",
    "        #Plot LRs\n",
    "    for m in range(0,m_max):\n",
    "        for l in range(0,l_max):\n",
    "            val = OLR[i,m,l]\n",
    "            plt.axvline(x=val/ob,ymin=-1,ymax=1,linewidth=1,color='black',linestyle='--')\n",
    "            val = ILR[i,m,l]\n",
    "            plt.axvline(x=val/ob,ymin=-1,ymax=1,linewidth=1,color='cyan',linestyle='--')\n",
    "\n",
    "    #Plot corotation resonance\n",
    "    for l in range(0,l_max):\n",
    "        plt.axvline(x=CRR[i,l]/ob,ymin=-1,ymax=1,linewidth=1,color='orange',linestyle='--',label=\"CRR\")\n",
    "        pass\n",
    "\n",
    "    #Style plot\n",
    "    plt.xlim([np.min(omega_d[i])/ob,np.max(omega_d[i])/ob])\n",
    "    outer = mlines.Line2D([], [], color='black', marker='|',markersize=15, label='OLR')\n",
    "    inner = mlines.Line2D([], [], color='cyan', marker='|',markersize=15, label='ILR')\n",
    "    crr = mlines.Line2D([], [], color='orange', marker='|', markersize=15, label='CRR')\n",
    "\n",
    "    plt.legend(handles=[inner,outer,crr],bbox_to_anchor=(1.05, 1), loc=2, borderaxespad=0.)\n",
    "\n",
    "else:\n",
    "    print \"Skipping resonances calculation.\""
   ]
  },
  {
   "cell_type": "markdown",
   "metadata": {},
   "source": [
    "#Plotting Function\n",
    "Define plotting function to plot LRs given snapshot number, dedt array, $\\Omega_{disk}$ array, and $\\kappa$ array.\n",
    "\n",
    "TODO: Alter so it can accept/plot/discriminate between OLR,ILR,CRR or any combination"
   ]
  },
  {
   "cell_type": "code",
   "execution_count": null,
   "metadata": {
    "collapsed": false
   },
   "outputs": [],
   "source": [
    "def plotLR(snap,ob,resArr,OLR,m,l):\n",
    "    \"\"\"\n",
    "    Given the snapshot number and appropriate data arrays, plot the OLR as a function of binary\n",
    "    disk angular frequency.  Also plot the location in frequency-frequency space where the given\n",
    "    resonance occurs.  \n",
    "    Note: -all angular frequencies MUST be in the same units for this to work.\n",
    "           Should all be precomputed above in 1/day\n",
    "          -All arrays are numpy arrays unless otherwise specified\n",
    "    \n",
    "    Inputs\n",
    "    snap: snapshot num (integer)\n",
    "    ob: angular frequency of binary\n",
    "    dedt: Array of change in e vs time of the shape (number of snaps, radial bins)\n",
    "          Need the entire array for proper normalization\n",
    "    resArr: array of the form (r,omega_disk,kappa_disk,dedt)\n",
    "    OLR: array of outer Lindblad resonances.  Could replace this with ILR if you want.\n",
    "         array of the form (snapshot number, m, l)\n",
    "    m,l: arrays of m, l values to plot.  Don't use too many or the plots become unreadable.\n",
    "    \n",
    "    Outputs\n",
    "    2 plots showing correspondence between LRs.  Note, any plotted value of de/dt isn't really\n",
    "    significant unless it's > ~0.1.\n",
    "    \"\"\"\n",
    "    #Select snapshot\n",
    "    i = snap\n",
    "    omega_d = resArr[i,1]\n",
    "    r = resArr[i,0]\n",
    "    kappa = resArr[i,2]\n",
    "    dedt = resArr[:,3]\n",
    "\n",
    "    #Select resonances\n",
    "    m_min = m.min()\n",
    "    m_max = m.max()\n",
    "    l_min = l.min()\n",
    "    l_max = l.max()\n",
    "\n",
    "    #Estimate location of strongest resonance (e.g. max(de/dt)) as a function of omega_disk\n",
    "    o_max = omega_d[np.argmax(dedt[i])]/ob\n",
    "    \n",
    "    #Create Figure\n",
    "    plt.rcParams['font.size'] = 15\n",
    "    fig = plt.figure()\n",
    "    \n",
    "    #Left Plot\n",
    "\n",
    "    #Conver radius array to omega and normalize by binary frequency\n",
    "    norm = np.max(dedt)\n",
    "\n",
    "    #Plot de/dt with arbitrary normalization\n",
    "    ax1 = plt.subplot(121)\n",
    "    ax1.plot(omega_d/ob,dedt[i]/norm)\n",
    "    ax1.set_xlabel(\"$\\Omega / \\Omega_{bin}$\")\n",
    "    ax1.set_ylabel(r\"Normalized de/dt\")\n",
    "    ax1.set_title(r\"Normalized de/dt vs. $\\Omega / \\Omega_{bin}$\",y=1.06)\n",
    "\n",
    "    #Plot y = 0 for reference\n",
    "    ax1.axhline(y=0, xmin=-1,xmax=4.1,linewidth=1,color='red',linestyle='--')\n",
    "\n",
    "    #Overplot location of maximum de/dt to see if it aligns with a resonance\n",
    "    ax1.axvline(x=o_max, ymin=-1,ymax=1,linewidth=1,color='red',linestyle='-')\n",
    "    \n",
    "    #Plot LRs\n",
    "    for m in range(m_min,m_max+1):\n",
    "        for l in range(l_min,l_max+1):\n",
    "            val = OLR[i,m,l]\n",
    "            ax1.axvline(x=val/ob,ymin=-1,ymax=1,linewidth=1,color='black',linestyle='--')\n",
    "\n",
    "    #Style plot\n",
    "    ax1.set_xlim([np.min(omega_d)/ob,np.max(omega_d)/ob+0.02])\n",
    "    outer = mlines.Line2D([], [], color='black', marker='|',markersize=15, label='OLR')\n",
    "    plt.legend(handles=[outer],bbox_to_anchor=(-.15, 1), loc=1, borderaxespad=0.)\n",
    "\n",
    "    #Right Plot\n",
    "    ax2 = plt.subplot(122)\n",
    "\n",
    "    #Plot binary omega reference line\n",
    "    ax2.axhline(y=ob/ob,xmin=-1,xmax=1,linewidth=1,color='black',linestyle='--',label=r\"$\\Omega_{bin}$\")\n",
    "\n",
    "    #Attempt to find resonance\n",
    "    #ax2.axvline(x=0.43,ymin=-1,ymax=1,linewidth=1,color='black',linestyle='-')\n",
    "\n",
    "    #Plot LR curves\n",
    "    for m in range(m_min,m_max+1):\n",
    "        for l in range(l_min,l_max+1):\n",
    "            ax2.plot(omega_d/ob,(omega_d+((float(l+1)/(m+1))*kappa))/ob,label=\"({0},{1})\".format(m+1,l+1))\n",
    "\n",
    "    #Overplot location of maximum de/dt to see if it aligns with a resonance\n",
    "    ax2.axvline(x=o_max, ymin=-1,ymax=1,linewidth=1,color='red',linestyle='--')\n",
    "    \n",
    "    #Style plot\n",
    "    ax2.set_title(\"(m,l) Order OLR for Snapshot {0}\".format(i+1),y=1.06)\n",
    "    ax2.set_ylim(0,1.3)\n",
    "    #ax2.set_xlim([np.min(omega_d)/ob,np.max(omega_d)/ob])\n",
    "    ax2.set_xlabel(r\"$\\Omega/\\Omega_{bin}$\")\n",
    "    ax2.set_ylabel(r\"(Resonance Frequency)/$\\Omega_{bin}$\")\n",
    "    leg = plt.legend(bbox_to_anchor=(1.05, 1), loc=2, borderaxespad=0.)\n",
    "\n",
    "    for legobj in leg.legendHandles:\n",
    "        legobj.set_linewidth(2.0)\n",
    "    \n",
    "    #Display figure\n",
    "    fig.tight_layout() \n",
    "    \n",
    "#end function"
   ]
  },
  {
   "cell_type": "code",
   "execution_count": null,
   "metadata": {
    "collapsed": false,
    "scrolled": true
   },
   "outputs": [],
   "source": [
    "#Try plotting some OLRs\n",
    "m = np.asarray([0,1,2,3,4])\n",
    "l = np.asarray([0,1,2,3,4])\n",
    "\n",
    "plotLR(50,ob,resArr,OLR,m,l)"
   ]
  },
  {
   "cell_type": "code",
   "execution_count": null,
   "metadata": {
    "collapsed": false
   },
   "outputs": [],
   "source": [
    "m = np.asarray([0,1,2,3,4])\n",
    "l = np.asarray([0,1,2,3,4])\n",
    "\n",
    "plotLR(2,ob,resArr,OLR,m,l)"
   ]
  },
  {
   "cell_type": "markdown",
   "metadata": {},
   "source": [
    "#de/dt vs True Anomaly ($\\nu$).\n",
    "Since $\\nu$ = 0 at the argument of pericenter, would expect the largest torque and hence de/dt to occur at the apocenter, or at $\\nu$ = 180 degrees.  This is because at the apocenter ($\\nu$ = 180 degrees), the disk has the largest moment arm on the binary and hence the largest torque.  Here, I find that the peak lags 180 degrees implying that perhaps the primary causes a wake in the disk that then tugs on the secondary."
   ]
  },
  {
   "cell_type": "code",
   "execution_count": null,
   "metadata": {
    "collapsed": false
   },
   "outputs": [],
   "source": [
    "plt.scatter(orbElems[:,nu],np.sum(dedt,axis=1)/np.sum(np.fabs(dedt)))\n",
    "\n",
    "plt.xlabel(\"True Anomaly [$^{\\circ}$]\")\n",
    "plt.xlim(0,360)\n",
    "plt.ylabel(\"Normalized de/dt\")\n",
    "plt.title(\"Normalized de/dt vs. True Anomaly\",y=1.06)\n",
    "plt.axvline(x=180, ymin=-1, ymax = 1, linewidth=2, color='k') #line at 180 degrees to see if max is there\n"
   ]
  },
  {
   "cell_type": "code",
   "execution_count": null,
   "metadata": {
    "collapsed": false,
    "scrolled": true
   },
   "outputs": [],
   "source": [
    "plt.scatter(orbElems[:,nu],np.sum(netTorque,axis=1)/np.sum(np.fabs(netTorque)))\n",
    "\n",
    "plt.xlabel(\"True Anomaly [$^{\\circ}$]\")\n",
    "plt.xlim(0,360)\n",
    "plt.ylabel(\"Normalized Net Torque\")\n",
    "#plt.title(\"High Ecc\",y=1.06)\n",
    "plt.axvline(x=180, ymin=-1, ymax = 1, linewidth=2, color='k', linestyle='--') #line at 180 degrees to see if max is there\n",
    "\n",
    "#plt.savefig(\"bigGap.pdf\",bbox_inches='tight')"
   ]
  },
  {
   "cell_type": "markdown",
   "metadata": {},
   "source": [
    "#Orbital Elements Vs. Time\n",
    "Plot the orbital elements (except e,a plotted above) vs time and select Poincare elements to examine the evolution of the binary system."
   ]
  },
  {
   "cell_type": "code",
   "execution_count": null,
   "metadata": {
    "collapsed": false,
    "scrolled": true
   },
   "outputs": [],
   "source": [
    "plt.scatter(time,orbElems[:,nu])\n",
    "\n",
    "plt.xlabel(\"Time [yr]\")\n",
    "plt.ylim(np.min(orbElems[:,nu]),np.max(orbElems[:,nu]))\n",
    "plt.ylabel(\"True Anomaly [$^\\circ$]\")\n",
    "plt.title(\"True Anomaly vs Time\",y=1.06)"
   ]
  },
  {
   "cell_type": "code",
   "execution_count": null,
   "metadata": {
    "collapsed": false
   },
   "outputs": [],
   "source": [
    "plt.scatter(time[1:],orbElems[1:,w])\n",
    "\n",
    "plt.xlabel(\"Time [yr]\")\n",
    "plt.ylim(np.min(orbElems[1:,w]-5),np.max(orbElems[1:,w])+5)\n",
    "plt.ylabel(r\"$\\omega$ [$^\\circ$]\")\n",
    "plt.title(\"Argument of Periapsis vs Time\",y=1.06)"
   ]
  },
  {
   "cell_type": "code",
   "execution_count": null,
   "metadata": {
    "collapsed": false
   },
   "outputs": [],
   "source": [
    "plt.scatter(time,orbElems[:,loan])\n",
    "\n",
    "plt.xlabel(\"Time [yr]\")\n",
    "plt.ylim(np.min(orbElems[:,loan]),np.max(orbElems[:,loan]))\n",
    "plt.ylabel(r\"$\\Omega$ [$^\\circ$]\")\n",
    "plt.title(\"Longitude of Ascending Node vs Time\",y=1.06)"
   ]
  },
  {
   "cell_type": "code",
   "execution_count": null,
   "metadata": {
    "collapsed": false
   },
   "outputs": [],
   "source": [
    "plt.scatter(time,orbElems[:,inc])\n",
    "\n",
    "plt.xlabel(\"Time [yr]\")\n",
    "plt.ylim(0,np.max(orbElems[:,inc]))\n",
    "plt.ylabel(r\"i [$^\\circ$]\")\n",
    "plt.title(\"Inclination vs Time\",y=1.06)"
   ]
  },
  {
   "cell_type": "code",
   "execution_count": null,
   "metadata": {
    "collapsed": false
   },
   "outputs": [],
   "source": [
    "plt.scatter(time,circFreq)\n",
    "\n",
    "plt.xlabel(\"Time [yr]\")\n",
    "plt.ylabel(r\"$\\Omega$ [day$^{-1}]$\")\n",
    "plt.title(\"Circular Orbital Frequency vs Time\",y=1.06)\n",
    "\n",
    "print np.mean(circFreq)"
   ]
  },
  {
   "cell_type": "markdown",
   "metadata": {},
   "source": [
    "#Plot Some Poincare Elements\n",
    "Note: Ignore the first timestep as w=0 throws the range of everything off."
   ]
  },
  {
   "cell_type": "code",
   "execution_count": null,
   "metadata": {
    "collapsed": false
   },
   "outputs": [],
   "source": [
    "#Plot ecosw, esinw Poincare Elements (convert from degrees to radians!)\n",
    "conv = np.pi/180.0\n",
    "scat = plt.scatter(orbElems[1:,e]*np.cos(conv*orbElems[1:,w]),orbElems[1:,e]*np.sin(conv*orbElems[1:,w]),c=time[1:],cmap='jet')\n",
    "cbar = plt.colorbar(scat)\n",
    "cbar.set_label(\"Time (yrs)\", labelpad=30, rotation=270)\n",
    "\n",
    "#Make plot look nice\n",
    "plt.xlim(min(orbElems[1:,e]*np.cos(conv*orbElems[1:,w])),max(orbElems[1:,e]*np.cos(conv*orbElems[1:,w])))\n",
    "plt.ylim(min(orbElems[1:,e]*np.sin(conv*orbElems[1:,w])),max(orbElems[1:,e]*np.sin(conv*orbElems[1:,w])))\n",
    "#plt.title(r\"Poincare Elements: ecos($\\omega$) vs esin($\\omega$)\",y=1.06)\n",
    "plt.xlabel(r\"ecos($\\omega$)\")\n",
    "plt.ylabel(r\"esin($\\omega$)\")"
   ]
  },
  {
   "cell_type": "code",
   "execution_count": null,
   "metadata": {
    "collapsed": false
   },
   "outputs": [],
   "source": [
    "#Plot time averaged eccentricity as a function of disk radius\n",
    "plt.scatter(r[0,:]/orbElems[0,a],np.sum(eVsRadius,axis=0)/len(eVsRadius))\n",
    "\n",
    "plt.title(\"Time-Averaged Disk Eccentricity vs. Radius\",y=1.06)\n",
    "plt.xlabel(\"$r/a_{bin}$\")\n",
    "plt.ylabel(\"Eccentricity\")"
   ]
  },
  {
   "cell_type": "code",
   "execution_count": null,
   "metadata": {
    "collapsed": false
   },
   "outputs": [],
   "source": [
    "vals = [50,100,125,150,198]\n",
    "labels = [round(time[val],2) for val in vals]\n",
    "\n",
    "plt.scatter(r[vals[0],:]/orbElems[vals[0],a],eVsRadius[vals[0],:],color='orange',label=labels[0])\n",
    "plt.scatter(r[vals[1],:]/orbElems[vals[1],a],eVsRadius[vals[1],:],color='red',label=labels[1])\n",
    "plt.scatter(r[vals[2],:]/orbElems[vals[2],a],eVsRadius[vals[2],:],color='blue',label=labels[2])\n",
    "plt.scatter(r[vals[3],:]/orbElems[vals[3],a],eVsRadius[vals[3],:],color='green',label=labels[3])\n",
    "plt.scatter(r[vals[4],:]/orbElems[vals[4],a],eVsRadius[vals[4],:],color='cyan',label=labels[4])\n",
    "\n",
    "plt.title(\"Disk Eccentricity vs. Radius Over Time\")\n",
    "plt.xlabel(\"$r/a_{bin}$\")\n",
    "plt.ylabel(\"Eccentricity\")\n",
    "plt.ylim(0,1)\n",
    "plt.legend()"
   ]
  },
  {
   "cell_type": "code",
   "execution_count": null,
   "metadata": {
    "collapsed": false
   },
   "outputs": [],
   "source": [
    "dt = AddBinary.YEARSEC*(time[1]-time[0])\n",
    "print np.sum(dedt)*dt"
   ]
  },
  {
   "cell_type": "code",
   "execution_count": null,
   "metadata": {
    "collapsed": false
   },
   "outputs": [],
   "source": [
    "de = orbElems[-1,e] - orbElems[0,e]\n",
    "print de"
   ]
  },
  {
   "cell_type": "code",
   "execution_count": null,
   "metadata": {
    "collapsed": false
   },
   "outputs": [],
   "source": [
    "fitVals = np.polyfit(time,orbElems[:,e],1) #returns highest value first\n",
    "print fitVals[0]*(time[-1])"
   ]
  },
  {
   "cell_type": "code",
   "execution_count": null,
   "metadata": {
    "collapsed": false,
    "scrolled": true
   },
   "outputs": [],
   "source": [
    "tmpX = np.linspace(0,60,100)\n",
    "tmpY = fitVals[1] + tmpX*fitVals[0]\n",
    "\n",
    "plt.plot(tmpX,tmpY)\n",
    "plt.plot(time,orbElems[:,e])"
   ]
  },
  {
   "cell_type": "code",
   "execution_count": null,
   "metadata": {
    "collapsed": false
   },
   "outputs": [],
   "source": [
    "s = pynbody.load(\"twostar.std\")"
   ]
  },
  {
   "cell_type": "code",
   "execution_count": null,
   "metadata": {
    "collapsed": false
   },
   "outputs": [],
   "source": [
    "tmp = binary.Binary(s,mass[0,0],mass[0,1],'snapshot')\n",
    "Mdot = 1.51870796254e-06\n",
    "edot = AddBinary.accretionEDot(tmp,Mdot,time[-1])"
   ]
  },
  {
   "cell_type": "code",
   "execution_count": null,
   "metadata": {
    "collapsed": false
   },
   "outputs": [],
   "source": [
    "print edot*time[-1]"
   ]
  },
  {
   "cell_type": "code",
   "execution_count": null,
   "metadata": {
    "collapsed": true
   },
   "outputs": [],
   "source": []
  }
 ],
 "metadata": {
  "kernelspec": {
   "display_name": "Python 2",
   "language": "python",
   "name": "python2"
  },
  "language_info": {
   "codemirror_mode": {
    "name": "ipython",
    "version": 2
   },
   "file_extension": ".py",
   "mimetype": "text/x-python",
   "name": "python",
   "nbconvert_exporter": "python",
   "pygments_lexer": "ipython2",
   "version": "2.7.10"
  }
 },
 "nbformat": 4,
 "nbformat_minor": 0
}
